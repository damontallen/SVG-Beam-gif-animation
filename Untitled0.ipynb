{
 "metadata": {
  "name": "",
  "signature": "sha256:c7cfe941580ee8de4d3ae9102e8a705bf576ee3381afd4ab7e1f946ebf2f0479"
 },
 "nbformat": 3,
 "nbformat_minor": 0,
 "worksheets": [
  {
   "cells": [
    {
     "cell_type": "code",
     "collapsed": false,
     "input": [],
     "language": "python",
     "metadata": {},
     "outputs": []
    }
   ],
   "metadata": {}
  }
 ]
}