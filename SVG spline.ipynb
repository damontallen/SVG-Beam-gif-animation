{
 "metadata": {
  "name": "",
  "signature": "sha256:62d5c28ab41d89372681879e4aef9e2e54ce329133b283282dc306818d547386"
 },
 "nbformat": 3,
 "nbformat_minor": 0,
 "worksheets": [
  {
   "cells": [
    {
     "cell_type": "code",
     "collapsed": false,
     "input": [
      "from IPython.display import SVG\n",
      "from numpy import matrix\n",
      "from numpy.linalg import inv\n",
      "from numpy import transpose as T\n",
      "from collections import namedtuple"
     ],
     "language": "python",
     "metadata": {},
     "outputs": [],
     "prompt_number": 1
    },
    {
     "cell_type": "markdown",
     "metadata": {},
     "source": [
      "<img src=\"http://upload.wikimedia.org/math/7/5/2/752fd6396a9c9d026f10eccb39ddca15.png\"/>"
     ]
    },
    {
     "cell_type": "code",
     "collapsed": false,
     "input": [
      "from numpy import sin, cos, tan, array, pi, abs, arctan, sign\n",
      "\n",
      "def rotate(point, base, angle, DEBUG = False):\n",
      "#     print('angle = {}'.format(angle))\n",
      "    R = matrix(((cos(angle),-sin(angle)),(sin(angle),cos(angle))))\n",
      "#     print('R = {}'.format(R))\n",
      "#     print('point = {}'.format(point))\n",
      "#     print('base = {}'.format(base))\n",
      "    point = array(point)\n",
      "    base = array(base)\n",
      "    tmp = point - base\n",
      "#     print('tmp = {}'.format(tmp))\n",
      "    R_tmp = array(T(R*T(matrix(tmp)))).reshape((1,2))\n",
      "#     print('R_tmp.size = {}'.format(R_tmp.size))\n",
      "#     print('R_tmp = {}'.format(R_tmp))\n",
      "#     print('base = {}'.format(base))\n",
      "    R_point = array(R_tmp[0]+T(base))#.reshape((1,2))\n",
      "#     print('R_point = {}'.format(R_point))\n",
      "    if DEBUG:\n",
      "        Debug_rotate = namedtuple('Debug_rotate','point angle_deg tmp R_tmp_size R_tmp base R_point')\n",
      "        debug = Debug_rotate(point, angle/pi*180, tmp, R_tmp.size, R_tmp, base, R_point)\n",
      "        print(debug)\n",
      "        print()\n",
      "    return R_point"
     ],
     "language": "python",
     "metadata": {},
     "outputs": [],
     "prompt_number": 33
    },
    {
     "cell_type": "code",
     "collapsed": false,
     "input": [
      "apple = rotate([10,0],[0,0],pi/4,DEBUG=True)\n",
      "apple"
     ],
     "language": "python",
     "metadata": {},
     "outputs": [
      {
       "output_type": "stream",
       "stream": "stdout",
       "text": [
        "Debug_rotate(point=array([10,  0]), angle_deg=45.0, tmp=array([10,  0]), R_tmp_size=2, R_tmp=array([[ 7.07106781,  7.07106781]]), base=array([0, 0]), R_point=array([ 7.07106781,  7.07106781]))\n",
        "\n"
       ]
      },
      {
       "metadata": {},
       "output_type": "pyout",
       "prompt_number": 3,
       "text": [
        "array([ 7.07106781,  7.07106781])"
       ]
      }
     ],
     "prompt_number": 3
    },
    {
     "cell_type": "code",
     "collapsed": false,
     "input": [
      "def points(sag, angle=0, DEBUG=False):\n",
      "    y0 = 5\n",
      "    p0_i = array([0, y0])\n",
      "    p1_i = array([100, sag+y0])\n",
      "    p2_i = array([200, y0])\n",
      "    rad = angle/180 * pi\n",
      "#     print(\"Making point 1\")\n",
      "    p1 = rotate(p1_i, p0_i, rad, DEBUG=DEBUG)\n",
      "#     print(\"Making point 2\")\n",
      "    p2 = rotate(p2_i, p0_i, rad)\n",
      "    p0 = [float(p0_i[0]),float(p0_i[1])]\n",
      "    p1 = [float(p1[0]),float(p1[1])]\n",
      "    p2 = [float(p2[0]),float(p2[1])]\n",
      "    if DEBUG:\n",
      "        Debug_point = namedtuple('Debug_point','p0_i p1_i p2_i angle rad p0 p1 p2')\n",
      "        debug = Debug_point(p0_i, p1_i, p2_i, angle, rad, p0, p1, p2)\n",
      "        print(debug)\n",
      "        print()\n",
      "    return (p0,p1,p2)\n",
      "    \n",
      "def unrotate(p0,p1,p2, DEBUG=False):\n",
      "    x0,y0 = p0\n",
      "    x1,y1 = p1\n",
      "    x2,y2 = p2\n",
      "    if x2-x1!=0:\n",
      "        angle = arctan((float(y2)-float(y0))/(float(x2)-float(x0)))\n",
      "    else:\n",
      "        angle = pi/2 if y2>y1 else -pi/2\n",
      "#     print('angle = {}'.format(angle))\n",
      "#     print(\"Unrotating point 1\")\n",
      "    p1_o = rotate(p1,p0,-angle)\n",
      "#     print(\"Unrotating point 2\")\n",
      "    p2_o = rotate(p2,p0,-angle)\n",
      "    if DEBUG:\n",
      "        Debug_unrotate = namedtuple('Debug_unrotate','p0 p1 p2 rad angle p1_o p2_o')\n",
      "        debug = Debug_unrotate(p0, p1, p2, angle, angle/pi*180, p1_o, p2_o)\n",
      "        print(debug)\n",
      "        print()\n",
      "    return(p0,p1_o,p2_o,float(angle))"
     ],
     "language": "python",
     "metadata": {},
     "outputs": [],
     "prompt_number": 4
    },
    {
     "cell_type": "markdown",
     "metadata": {},
     "source": [
      "$$y - y_0 = m(x-x_0)$$\n",
      "\n",
      "$$sag = \\sqrt{\\left(x-x_0\\right)^2+\\left(y-y_0\\right)^2}$$\n",
      "\n",
      "$$sag = \\sqrt{\\left(x-x_0\\right)^2+\\left(m\\left(x-x_0\\right)\\right)^2}$$\n",
      "\n",
      "$$sag = \\sqrt{\\left(1+m^2\\right)\\left(x-x_0\\right)^2}$$\n",
      "\n",
      "$$sag^2 = \\left(1+m^2\\right)\\left(x-x_0\\right)^2$$\n",
      "\n",
      "$$\\frac{sag^2}{1+m^2} = \\left(x-x_0\\right)^2$$"
     ]
    },
    {
     "cell_type": "markdown",
     "metadata": {},
     "source": [
      "$$\\sqrt{\\frac{sag^2}{1+m^2}} = x-x_0$$\n",
      "$$x =  \\sqrt{\\left(\\frac{sag^2}{1+m^2}\\right)} + x_0 $$"
     ]
    },
    {
     "cell_type": "markdown",
     "metadata": {},
     "source": [
      "$$sag = \\sqrt{\\left(x-x_0\\right)^2+\\left(y-y_0\\right)^2}$$\n",
      "\n",
      "$$sag^2 = \\left(x-x_0\\right)^2+\\left(y-y_0\\right)^2$$\n",
      "\n",
      "$$\\left(y-y_0\\right)^2= sag^2 -\\left(x-x_0\\right)^2$$\n",
      "\n",
      "$$y-y_0= \\sqrt{sag^2 -\\left(x-x_0\\right)^2}$$\n",
      "\n",
      "$$y= \\sqrt{sag^2 -\\left(x-x_0\\right)^2} + y_0$$"
     ]
    },
    {
     "cell_type": "code",
     "collapsed": false,
     "input": [
      "class Spline(object):\n",
      "    def __init__(self,p0=[0,10],p2=[100,10], sag = 10):\n",
      "        self.origin = p0\n",
      "        self.end = p2\n",
      "        self.DEBUG = False\n",
      "        self.fill = 'none'\n",
      "        self.color = 'black'\n",
      "        self.width = '2'\n",
      "        self.sag = sag\n",
      "        self.circles = True\n",
      "        \n",
      "    @property\n",
      "    def angle(self):\n",
      "        p0 = self.origin\n",
      "        p2 = self.end\n",
      "        x0,y0 = p0\n",
      "        x2,y2 = p2\n",
      "        return arctan((y2-y0)/(x2-x0))/pi*180\n",
      "        \n",
      "    def rotate(self,angle):\n",
      "#         angle = self.angle + angle\n",
      "        rad = angle/180*pi\n",
      "        self.end = rotate(self.end,self.origin,rad)\n",
      "        #self._angle = angle\n",
      "\n",
      "    def _center(self):\n",
      "        p0 = self.origin\n",
      "        p2 = self.end\n",
      "        return list((array(p2)-array(p0))/2+array(p0))\n",
      "    \n",
      "    @property\n",
      "    def middle(self):\n",
      "        return self._middle\n",
      "    @middle.setter\n",
      "    def middle(self,p1):\n",
      "        x0, y0 = self._center\n",
      "        x1, y1 = p1\n",
      "        sag = ((x1-x0)^2 + (y1-y0)^2)*sign(y1-y0)*-1\n",
      "        self.sag = sag\n",
      "        \n",
      "    @property\n",
      "    def sag(self):\n",
      "        return self._sag\n",
      "    @sag.setter\n",
      "    def sag(self,value):\n",
      "        sag = value\n",
      "        direct = sign(value)*-1\n",
      "        angle = self.angle #+self._angle_default\n",
      "#         print('angle = {}'.format(angle))\n",
      "        perp = angle-90\n",
      "#         print('perp_angle = {}'.format(perp))\n",
      "        perp_rad = perp/180*pi\n",
      "        m = tan(perp_rad)\n",
      "#         print('m = {}'.format(m))\n",
      "        x0, y0 = self._center()\n",
      "        x = (sag**2/(1+m**2))**0.5*direct + x0\n",
      "#         print('sag = {}'.format(sag))\n",
      "#         print('x0, y0 = {}, {}'.format(x0,y0))\n",
      "#         print('x = {}'.format(x))\n",
      "        y= (sag**2 -(x-x0)**2)**0.5 + y0\n",
      "#         y = m*(x-x0) + y0\n",
      "        self._middle = [x,y]\n",
      "        self._sag = sag\n",
      "\n",
      "    def _spline(self):\n",
      "        \"Returns the values for a SVG cubic spline that passes through the three points.\"\n",
      "        \n",
      "        DEBUG = self.DEBUG\n",
      "        p0 = self.origin\n",
      "        p1 = self.middle\n",
      "        p2 = self.end\n",
      "        x0,y0 = p0\n",
      "        x2,y2 = p2\n",
      "        \n",
      "        if y2-y0 !=0:\n",
      "            p0,p1,p2,angle = unrotate(p0,p1,p2,DEBUG=DEBUG)\n",
      "        else:\n",
      "            angle = 0\n",
      "        if DEBUG:\n",
      "            print('(p0,p1,p2,angle) = {}'.format((p0,p1,p2,angle)))\n",
      "        x0,y0 = p0\n",
      "        x1,y1 = tuple(p1)\n",
      "        x1,y1 = float(x1),float(y1)\n",
      "        x2,y2 = p2\n",
      "        x2,y2 = float(x2),float(y2)\n",
      "    #     print('x0,y0 = {},{}'.format(x0,y0))\n",
      "        A = 1/(x1-x0)\n",
      "        B = 1/(x2-x1)\n",
      "        A_ = y1-y0\n",
      "        B_ = y2-y1\n",
      "        a = matrix(([2*A, A , 0], [A, 2*(A+B), B], [0, B, 2*B]))\n",
      "        b_ = matrix(((3*A_*A**2), (3*(A_*A**2 + B_*B**2)), (3*(B_*B**2))))\n",
      "        b = T(b_)\n",
      "    #     print('a = {}'.format(a))\n",
      "        a_inv = inv(a)\n",
      "    #     print(b)\n",
      "    #     print('x0,y0 = {},{}'.format(x0,y0))\n",
      "    #     print('x1,y1 = {},{}'.format(x1,y1))\n",
      "        k = a_inv * b\n",
      "        k0, k1, k2 = k\n",
      "    #     print((float(k0),float(k2)))\n",
      "        cx0 = x0 + x1/2\n",
      "        cy0 = (x2-x0)*float(k0)/2.25\n",
      "        cx2 = x2 - x1/2\n",
      "        cy2 = (x0-x2)*float(k2)/2.25\n",
      "    #     print(\"HERE!!!\")\n",
      "        if angle !=0:\n",
      "    #         print('p1 = {}'.format(p1))\n",
      "            p1 = rotate(p1,p0,angle,DEBUG=DEBUG)\n",
      "    #         print('p1 = {}'.format(p1))\n",
      "            p2 = rotate(p2,p0,angle,DEBUG=DEBUG)\n",
      "            if DEBUG:\n",
      "                print('\\ncx2,cy2 = {},{}'.format(cx2,cy2))\n",
      "            cx0,cy0 = rotate([cx0,cy0],p0,angle,DEBUG=DEBUG)\n",
      "            cx0,cy0 = float(cx0),float(cy0)\n",
      "            cx2,cy2 = rotate([cx2,cy2],p0,angle,DEBUG=DEBUG)\n",
      "            cx2,cy2 = float(cx2),float(cy2)\n",
      "        if DEBUG:\n",
      "            print('cx2,cy2 = {},{}\\n'.format(cx2,cy2))\n",
      "        x0,y0 = p0\n",
      "        x1,y1 = p1\n",
      "    #     print('x1,y1 = {},{}'.format(x1,y1))\n",
      "        x1,y1 = float(x1),float(y1)\n",
      "        x2,y2 = p2\n",
      "        x2,y2 = float(x2),float(y2)\n",
      "\n",
      "        dx = x2-x0\n",
      "        dy = y2-y0\n",
      "\n",
      "        Coords = namedtuple(\"Coords\", \"x0 y0 x1 y1 x2 y2\")\n",
      "        SVG_values = namedtuple(\"SVG_values\",\"x0 y0 cx0 cy0 cx2 cy2 dx dy\")\n",
      "        #Results = namedtuple(\"Results\",\"coords svg_values svg_txt\")\n",
      "        self.coords = Coords(x0,y0,x1,y1,x2,y2)\n",
      "        self.svg_values = SVG_values(x0, y0, cx0, cy0, cx2, cy2, dx, dy)\n",
      "        #results = Results(coords, svg_values, svg_txt)\n",
      "        #return results\n",
      "    \n",
      "    def _repr_svg_(self):\n",
      "        self._spline()\n",
      "        x0,y0,x1,y1,x2,y2 = self.coords\n",
      "        x0, y0, cx0, cy0, cx2, cy2, dx, dy = self.svg_values\n",
      "        top = min(y0,y1,y2,cy0,cy2)-10\n",
      "        height = abs(max(y0,y1,y2,cy0,cy2) - top +10)\n",
      "        left = min(x0,x1,x2,cx0,cx2)-10\n",
      "        width = abs(max(x0,x1,x2,cx0,cx2) - left +10)\n",
      "        br = max(height, width)\n",
      "    #     print((left, top,  width,height))\n",
      "    \n",
      "        style = 'fill:%s;stroke:%s;stroke-width:%spx;'%(self.fill,self.color,self.width)\n",
      "\n",
      "        a = ['<svg  viewBox = \"%f %f %f %f\">'%( left,top,width,height),\n",
      "             '<path style=\"%s\" d=\"m %f,%f c %f,%f %f,%f %f,%f\"/>'%(style,x0,y0,cx0,cy0,cx2,cy2,dx,dy)]\n",
      "        cir = ['<circle cx=\"%f\" cy=\"%f\" r=\"2\" stroke=\"red\" />'%(x0,y0),\n",
      "               '<circle cx=\"%f\" cy=\"%f\" r=\"2\" stroke=\"red\" />'%(x1,y1),\n",
      "               '<circle cx=\"%f\" cy=\"%f\" r=\"2\" stroke=\"red\" />'%(x2,y2)]\n",
      "        b = ['</svg>']\n",
      "        if self.circles:\n",
      "            a += cir+b\n",
      "        else:\n",
      "            a += b\n",
      "        svg_txt = '\\n'.join(a)\n",
      "        return svg_txt\n",
      "    \n",
      "    def __repr__(self):\n",
      "        x0, y0 = self.origin\n",
      "        x1, y1 = self.middle\n",
      "        x2, y2 = self.end\n",
      "        sag = self.sag\n",
      "        center = self._center()\n",
      "        txt = ['Origin = {}, {}'.format(x0,y0),\n",
      "               'Middle = {}, {}'.format(x1,y1),\n",
      "               'End = {}, {}'.format(x2,y2),\n",
      "               'Center = {}'.format(center),\n",
      "               'Sag = {}'.format(sag),\n",
      "               'Angle = {}'.format(self.angle),\n",
      "               'Circles = {}'.format(self.circles)]\n",
      "        return '\\n'.join(txt)"
     ],
     "language": "python",
     "metadata": {},
     "outputs": [],
     "prompt_number": 90
    },
    {
     "cell_type": "code",
     "collapsed": false,
     "input": [
      "DEBUG=False\n",
      "angle = 15\n",
      "sag = 10\n",
      "p0, p1, p2 = points(sag = sag, angle = angle,DEBUG=DEBUG)\n",
      "s = Spline(p0,p2, sag=sag)"
     ],
     "language": "python",
     "metadata": {},
     "outputs": [],
     "prompt_number": 91
    },
    {
     "cell_type": "code",
     "collapsed": false,
     "input": [
      "print(s)"
     ],
     "language": "python",
     "metadata": {},
     "outputs": [
      {
       "output_type": "stream",
       "stream": "stdout",
       "text": [
        "Origin = 0.0, 5.0\n",
        "Middle = 94.00439217788161, 40.54116277314276\n",
        "End = 193.18516525781365, 56.76380902050415\n",
        "Center = [96.592582628906825, 30.881904510252074]\n",
        "Sag = 10\n",
        "Angle = 15.0\n",
        "Circles = True\n"
       ]
      }
     ],
     "prompt_number": 92
    },
    {
     "cell_type": "code",
     "collapsed": false,
     "input": [
      "s.rotate(-15)\n",
      "s.sag = 30\n",
      "print(s)\n"
     ],
     "language": "python",
     "metadata": {},
     "outputs": [
      {
       "output_type": "stream",
       "stream": "stdout",
       "text": [
        "Origin = 0.0, 5.0\n",
        "Middle = 100.0, 35.0\n",
        "End = 200.0, 5.000000000000007\n",
        "Center = [100.0, 5.0000000000000036]\n",
        "Sag = 30\n",
        "Angle = 2.0355549961366507e-15\n",
        "Circles = True\n"
       ]
      }
     ],
     "prompt_number": 93
    },
    {
     "cell_type": "code",
     "collapsed": false,
     "input": [
      "s.sag =30\n",
      "print(s)\n",
      "s.width = 1\n",
      "s.circles = False\n",
      "s"
     ],
     "language": "python",
     "metadata": {},
     "outputs": [
      {
       "output_type": "stream",
       "stream": "stdout",
       "text": [
        "Origin = 0.0, 5.0\n",
        "Middle = 100.0, 35.0\n",
        "End = 200.0, 5.000000000000007\n",
        "Center = [100.0, 5.0000000000000036]\n",
        "Sag = 30\n",
        "Angle = 2.0355549961366507e-15\n",
        "Circles = True\n"
       ]
      },
      {
       "metadata": {},
       "output_type": "pyout",
       "prompt_number": 95,
       "svg": [
        "<svg  viewBox = \"-10.000000 -5.000000 220.000000 55.000000\">\n",
        "<path style=\"fill:none;stroke:black;stroke-width:1px;\" d=\"m 0.000000,5.000000 c 50.000000,40.000000 150.000000,40.000000 200.000000,0.000000\"/>\n",
        "</svg>"
       ],
       "text": [
        "Origin = 0.0, 5.0\n",
        "Middle = 100.0, 35.0\n",
        "End = 200.0, 5.000000000000007\n",
        "Center = [100.0, 5.0000000000000036]\n",
        "Sag = 30\n",
        "Angle = 2.0355549961366507e-15\n",
        "Circles = False"
       ]
      }
     ],
     "prompt_number": 95
    },
    {
     "cell_type": "code",
     "collapsed": false,
     "input": [],
     "language": "python",
     "metadata": {},
     "outputs": []
    }
   ],
   "metadata": {}
  }
 ]
}