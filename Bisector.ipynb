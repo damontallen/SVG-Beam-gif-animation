{
 "cells": [
  {
   "cell_type": "markdown",
   "metadata": {},
   "source": [
    "$$y-y_0 = m_0(x-x_0)$$\n",
    "$$y-y_1 = m_1(x-x_1)$$\n",
    "$$y = m_0(x-x_0)+y_0$$\n",
    "$$y = m_1(x-x_1)+y_1$$\n",
    "$$y = m_0 x - m_0 x_0 + y_0$$\n",
    "$$y = m_1 x - m_1 x_1 + y_1$$\n",
    "$$y = m_0 x  + y_0- m_0 x_0$$\n",
    "$$y = m_1 x  + y_1- m_1 x_1$$\n",
    "$$y = m_0 x  + b_0$$\n",
    "$$y = m_1 x  + b_1$$\n",
    "$$0 = (m_0 - m_1)x +(b_0-b_1)$$\n",
    "$$-(b_0-b_1) = (m_0 - m_1)x $$\n",
    "\n",
    "$$\\frac{-(b_0-b_1)}{(m_0 - m_1)}=x $$\n",
    "\n",
    "$$x=\\frac{y_1 - y_0 + m_0 x_0 - m_1 x_1}{m_0-m_1} $$\n",
    "\n",
    "$$y = m_0(x-x_0) +y_0$$"
   ]
  },
  {
   "cell_type": "code",
   "execution_count": 34,
   "metadata": {
    "collapsed": false
   },
   "outputs": [
    {
     "data": {
      "text/plain": [
       "90.0"
      ]
     },
     "execution_count": 34,
     "metadata": {},
     "output_type": "execute_result"
    }
   ],
   "source": [
    "np.degrees(np.arctan2(2,0))"
   ]
  },
  {
   "cell_type": "code",
   "execution_count": 89,
   "metadata": {
    "collapsed": false
   },
   "outputs": [],
   "source": [
    "import numpy as np\n",
    "from collections import namedtuple\n",
    "\n",
    "def bisector(P,color, r=6):\n",
    "    Point = namedtuple('Point','x y')\n",
    "    p = [Point(*p) for p in P]\n",
    "    θ0 = np.arctan2((p[0].y-p[1].y),(p[0].x-p[1].x))\n",
    "    θ1 = np.arctan2((p[3].y-p[2].y),(p[3].x-p[2].x))\n",
    "    ϕ = (θ1+θ0)/2+np.pi\n",
    "#     print('angles',np.degrees(θ0),np.degrees(θ1),np.degrees(ϕ))\n",
    "    m0 = np.tan(θ0)\n",
    "    m1 = np.tan(θ1)\n",
    "    x = round((p[3].y-p[1].y+m0*p[1].x-m1*p[3].x)/(m0-m1)*1E6)/1E6\n",
    "    y = round((m0*(x-p[0].x)+p[0].y)*1E6)/1E6\n",
    "#     print('x,y',x,y)\n",
    "    mb = np.tan(ϕ)\n",
    "#     print('slopes',m0,m1,mb)\n",
    "    yb = p[0].y\n",
    "    xb = (yb-y)/mb+x if mb!=0 else x\n",
    "    line = '<line x1=\"{}\" y1=\"{}\" x2=\"{}\" y2=\"{}\" style=\"stroke:#{};stroke-width:1\" />'\n",
    "    print(line.format(p[0].x,p[0].y,p[1].x,p[1].y,color))\n",
    "    print(line.format(p[1].x,p[1].y,p[2].x,p[2].y,color))\n",
    "    print(line.format(p[2].x,p[2].y,p[3].x,p[3].y,color))\n",
    "#     print(line.format(x,y,xb,yb,color))\n",
    "    circle = '<circle cx=\"{}\" cy=\"{}\" r=\"{}\" stroke=\"#{}\" stroke-width=\"3\" fill=\"none\" />'\n",
    "#     print(circle.format(x,y,r,color))\n",
    "    for P in p:\n",
    "        print(circle.format(P.x,P.y,r,color))\n",
    "    path = '''<path\n",
    "    style=\"fill:none;fill-rule:evenodd;stroke:#{};stroke-width:1px;stroke-linecap:butt;stroke-linejoin:miter;stroke-opacity:1\"\n",
    "d=\"M [{}, {}] C [{}, {}] [{}, {}] [{}, {}]\"\n",
    "inkscape:connector-curvature=\"0\" />'''\n",
    "    print(path.format(color,p[0].x,p[0].y,p[1].x,p[1].y,p[2].x,p[2].y,p[3].x,p[3].y))\n",
    "    X0 = (p[0].x + p[3].x)/2\n",
    "    Y0 = (p[0].y + p[3].y)/2\n",
    "    X1 = (p[1].x + p[2].x)/2\n",
    "    Y1 = (p[1].y + p[2].y)/2\n",
    "    X = 0.75*X1+0.25*X0\n",
    "    Y = 0.75*Y1+0.25*Y0\n",
    "    print(circle.format(X,Y,r,color))\n",
    "    print(circle.format(X0,Y0,r/2,color))\n",
    "    print(circle.format(X1,Y1,r/2,color))\n",
    "    print(line.format(X0,Y0,X1,Y1,color))\n",
    "          "
   ]
  },
  {
   "cell_type": "code",
   "execution_count": 94,
   "metadata": {
    "collapsed": false
   },
   "outputs": [
    {
     "name": "stdout",
     "output_type": "stream",
     "text": [
      "<line x1=\"150\" y1=\"450\" x2=\"300\" y2=\"40\" style=\"stroke:#FFFF00;stroke-width:1\" />\n",
      "<line x1=\"300\" y1=\"40\" x2=\"400\" y2=\"60\" style=\"stroke:#FFFF00;stroke-width:1\" />\n",
      "<line x1=\"400\" y1=\"60\" x2=\"550\" y2=\"450\" style=\"stroke:#FFFF00;stroke-width:1\" />\n",
      "<circle cx=\"150\" cy=\"450\" r=\"6\" stroke=\"#FFFF00\" stroke-width=\"3\" fill=\"none\" />\n",
      "<circle cx=\"300\" cy=\"40\" r=\"6\" stroke=\"#FFFF00\" stroke-width=\"3\" fill=\"none\" />\n",
      "<circle cx=\"400\" cy=\"60\" r=\"6\" stroke=\"#FFFF00\" stroke-width=\"3\" fill=\"none\" />\n",
      "<circle cx=\"550\" cy=\"450\" r=\"6\" stroke=\"#FFFF00\" stroke-width=\"3\" fill=\"none\" />\n",
      "<path\n",
      "    style=\"fill:none;fill-rule:evenodd;stroke:#FFFF00;stroke-width:1px;stroke-linecap:butt;stroke-linejoin:miter;stroke-opacity:1\"\n",
      "d=\"M [150, 450] C [300, 40] [400, 60] [550, 450]\"\n",
      "inkscape:connector-curvature=\"0\" />\n",
      "<circle cx=\"350.0\" cy=\"150.0\" r=\"6\" stroke=\"#FFFF00\" stroke-width=\"3\" fill=\"none\" />\n",
      "<circle cx=\"350.0\" cy=\"450.0\" r=\"3.0\" stroke=\"#FFFF00\" stroke-width=\"3\" fill=\"none\" />\n",
      "<circle cx=\"350.0\" cy=\"50.0\" r=\"3.0\" stroke=\"#FFFF00\" stroke-width=\"3\" fill=\"none\" />\n",
      "<line x1=\"350.0\" y1=\"450.0\" x2=\"350.0\" y2=\"50.0\" style=\"stroke:#FFFF00;stroke-width:1\" />\n"
     ]
    }
   ],
   "source": [
    "P0 = [150,450]\n",
    "P1 = [300,40]\n",
    "# P1 = [250,100]\n",
    "P2 = [400,60]\n",
    "# P2 = [350,100]\n",
    "P3 = [550,450]\n",
    "P = [P0,P1,P2,P3]\n",
    "bisector(P,'FFFF00')"
   ]
  },
  {
   "cell_type": "code",
   "execution_count": 20,
   "metadata": {
    "collapsed": true
   },
   "outputs": [],
   "source": [
    "np.arctan2?"
   ]
  },
  {
   "cell_type": "markdown",
   "metadata": {},
   "source": [
    "$$P_0 = (x_0,y_0)\\text{, known}$$\n",
    "$$P_1 = (x_1,y_1)\\text{, known}$$\n",
    "$$C_0 = (x_2,y_2)$$\n",
    "$$C_1 = (x_3,y_3)$$\n",
    "\n",
    "$$P_I = (x_m,y_m)\\text{, known}$$\n",
    "\n",
    "$$y - y_m = \\frac{\\frac{y_0+y_3}{2}-y_m}{\\frac{x_0+x_3}{2}-x_m}(x-x_m)\\text{, known}$$\n",
    "\n",
    "$$\\frac{\\frac{y_0+y_3}{2}-y_m}{\\frac{x_0+x_3}{2}-x_m} = -\\frac{x_3-x_0}{y_3-y_0}\\text{, known}$$"
   ]
  },
  {
   "cell_type": "code",
   "execution_count": 3,
   "metadata": {
    "collapsed": false
   },
   "outputs": [],
   "source": [
    "import numpy.polynomial.polynomial as poly\n",
    "poly.polyfromroots((-1,0,1))\n",
    "poly.polyfromroots?"
   ]
  },
  {
   "cell_type": "markdown",
   "metadata": {},
   "source": [
    "$$\\frac{y_0-y_1}{x_0-x_1} = \\tan(\\theta_0)$$\n",
    "\n",
    "$$m_0 = \\tan(\\theta_0)$$\n",
    "\n",
    "$$y_0-y_1 = m_0(x_0-x_1)$$\n",
    "\n",
    "$$y_0-y_1 = m_0 x_0- m_0 x_1$$\n",
    "\n",
    "$$y_0  - m_0 x_0 = y_1- m_0 x_1 \\tag{1}$$\n",
    "\n",
    "$$\\frac{y_3-y_2}{x_3-x_2} = \\tan(\\theta_1)$$\n",
    "\n",
    "$$m_1 = \\tan(\\theta_1)$$\n",
    "\n",
    "$$y_3-y_2 = m_1 (x_3-x_2)$$\n",
    "\n",
    "$$y_3-y_2 = m_1 x_3-m_1 x_2$$\n",
    "\n",
    "$$y_3-m_1 x_3 = y_2-m_1 x_2\\tag{2}$$\n",
    "\n",
    "$$x_m = \\frac{1}{4}\\frac{x_0+x_3}{2}+\\frac{3}{4}\\frac{x_1+x_2}{2}$$\n",
    "\n",
    "$$x_m -\\frac{x_0+x_3}{8}= \\frac{3(x_1+x_2)}{8}$$\n",
    "\n",
    "$$x_m -\\frac{x_0+x_3}{8}= \\frac{3}{8}x_1+\\frac{3}{8}x_2 \\tag{3}$$\n",
    "\n",
    "$$y_m = \\frac{1}{4}\\frac{y_0+y_3}{2}+\\frac{3}{4}\\frac{y_1+y_2}{2}$$\n",
    "\n",
    "$$y_m - \\frac{y_0+y_3}{8}=\\frac{3(y_1+y_2)}{8}$$\n",
    "\n",
    "$$y_m - \\frac{y_0+y_3}{8}=\\frac{3}{8}y_1+\\frac{3}{8}y_2 \\tag{4}$$\n",
    "\n"
   ]
  },
  {
   "cell_type": "markdown",
   "metadata": {},
   "source": [
    "$$y_0  - m_0 x_0 = - m_0 x_1 +y_1 \\tag{1}$$\n",
    "\n",
    "$$y_3-m_1 x_3 = -m_1 x_2+y_2\\tag{2}$$\n",
    "\n",
    "$$x_m -\\frac{x_0+x_3}{8}= \\frac{3}{8}x_1+\\frac{3}{8}x_2 \\tag{3}$$\n",
    "\n",
    "$$y_m - \\frac{y_0+y_3}{8}=\\frac{3}{8}y_1+\\frac{3}{8}y_2 \\tag{4}$$\n",
    "\n",
    "$$Y = \\begin{bmatrix}y_0  - m_0 x_0\\\\y_3-m_1 x_3\\\\x_m -\\frac{x_0+x_3}{8}\\\\y_m - \\frac{y_0+y_3}{8}\\end{bmatrix}\\qquad E = \\begin{bmatrix}-m_0&0&1&0\\\\0&-m_1&0&1\\\\3/8&3/8&0&0\\\\0&0&3/8&3/8\\end{bmatrix}\\qquad C = \\begin{bmatrix}x_1\\\\x_2\\\\y_1\\\\y_2\\end{bmatrix}$$\n",
    "\n",
    "$$[Y]=[E][C]$$\n",
    "$$[C]=[E]^{-1}[Y]$$"
   ]
  },
  {
   "cell_type": "code",
   "execution_count": 96,
   "metadata": {
    "collapsed": false
   },
   "outputs": [
    {
     "name": "stdout",
     "output_type": "stream",
     "text": [
      "71.5650511771\n",
      "-18.4349488229\n",
      "90.0\n"
     ]
    }
   ],
   "source": [
    "print(np.degrees(np.arctan2(3,1)))\n",
    "print(np.degrees(np.arctan2(-1,3)))\n",
    "print(np.degrees(np.arctan2(3,1))-np.degrees(np.arctan2(-1,3)))"
   ]
  },
  {
   "cell_type": "code",
   "execution_count": 8,
   "metadata": {
    "collapsed": false
   },
   "outputs": [
    {
     "data": {
      "text/plain": [
       "Control(P0=(100, 450), P1=(250.0, 100.0), P2=(350.0, 100.0), P3=(500, 450))"
      ]
     },
     "execution_count": 8,
     "metadata": {},
     "output_type": "execute_result"
    }
   ],
   "source": [
    "import numpy as np\n",
    "from numpy.linalg import inv, pinv\n",
    "from collections import namedtuple\n",
    "from numpy import transpose as T\n",
    "\n",
    "def control_points(P0,P3,Intercept,m0,m1):\n",
    "    xm,ym = Intercept\n",
    "    x0,y0 = P0\n",
    "    x3,y3 = P3\n",
    "    Y = T(np.matrix(((y0-m0*x0),(y3-m1*x3),(xm-(x0+x3)/8),(ym-(y0+y3)/8))))\n",
    "    E = np.matrix(((-m0,0,1,0),(0,-m1,0,1),(3/8,3/8,0,0),(0,0,3/8,3/8)))\n",
    "    C = pinv(E)*Y\n",
    "    x1 = round(float(C[0])*1E11)/1E11\n",
    "    x2 = round(float(C[1])*1E11)/1E11\n",
    "    y1 = round(float(C[2])*1E11)/1E11\n",
    "    y2 = round(float(C[3])*1E11)/1E11\n",
    "    Control = namedtuple('Control','P0,P1,P2,P3')\n",
    "    control = Control((x0,y0),(x1,y1),(x2,y2),(x3,y3))\n",
    "    return control\n",
    "\n",
    "P0 = [100,450]\n",
    "P3 = [500,450]\n",
    "m0 = (100-450)/(250-100)\n",
    "m1 = (450-100)/(500-350)\n",
    "inter = [300,187.5]\n",
    "control_points(P0,P3,inter,m0,m1)"
   ]
  },
  {
   "cell_type": "code",
   "execution_count": null,
   "metadata": {
    "collapsed": true
   },
   "outputs": [],
   "source": []
  }
 ],
 "metadata": {
  "kernelspec": {
   "display_name": "Python 3",
   "language": "python",
   "name": "python3"
  },
  "language_info": {
   "codemirror_mode": {
    "name": "ipython",
    "version": 3
   },
   "file_extension": ".py",
   "mimetype": "text/x-python",
   "name": "python",
   "nbconvert_exporter": "python",
   "pygments_lexer": "ipython3",
   "version": "3.4.0"
  }
 },
 "nbformat": 4,
 "nbformat_minor": 0
}
