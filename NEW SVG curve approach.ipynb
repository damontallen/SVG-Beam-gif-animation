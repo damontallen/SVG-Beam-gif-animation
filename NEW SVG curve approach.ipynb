{
 "cells": [
  {
   "cell_type": "markdown",
   "metadata": {},
   "source": [
    "* [New hope](http://schepers.cc/getting-to-the-point) - Catmull-Rom curves \n",
    "* [Wikipedia - Catmull-Rom curves](http://en.wikipedia.org/wiki/Cubic_Hermite_spline#Catmull.E2.80.93Rom_spline)\n",
    "* [Catmull-Rom to Bezier curves (matrix)](http://www.almightybuserror.com/2009/12/04/drawing-splines-in-opengl.html)\n",
    "* [C code conversion example](http://www.antigrain.com/__code/include/agg_curves.h.html)\n",
    "* [Bezier curve math](http://www.tinaja.com/glib/cubemath.pdf)\n",
    "\n",
    "Additional information:\n",
    "\n",
    "* [stackoverflow (look at 2nd answer too)](http://stackoverflow.com/questions/27578524/svg-curve-through-predetermined-points)\n",
    "* [Other C# code example](http://stackoverflow.com/questions/2315432/how-to-find-control-points-for-a-beziersegment-given-start-end-and-2-intersect/2316440#2316440)\n",
    "\n",
    "Weeds...\n",
    "\n",
    "* [Wikipedia - Centripetal Catmull–Rom spline](http://en.wikipedia.org/wiki/Centripetal_Catmull%E2%80%93Rom_spline)\n",
    "* [codeproject.com - Draw a Smooth Curve through a Set of 2D Points with Bezier Primitives](http://www.codeproject.com/Articles/31859/Draw-a-Smooth-Curve-through-a-Set-of-2D-Points-wit)\n",
    "* [Smooth Bézier Spline Through Prescribed Points](https://www.particleincell.com/2012/bezier-splines/#demo)\n"
   ]
  },
  {
   "cell_type": "markdown",
   "metadata": {},
   "source": [
    "[OLD Source (1)](http://en.wikipedia.org/wiki/Spline_interpolation#Algorithm_to_find_the_interpolating_cubic_spline)"
   ]
  },
  {
   "cell_type": "markdown",
   "metadata": {},
   "source": [
    "$$q_i = (1-t) \\cdot y_{i-1} + t \\cdot  y_i + t\\cdot (1-t)\\cdot (a_i\\cdot (1-t)+b_i\\cdot  t)$$"
   ]
  },
  {
   "cell_type": "markdown",
   "metadata": {},
   "source": [
    "$$t = \\frac{x-x_1}{x_2-x_1}$$"
   ]
  },
  {
   "cell_type": "markdown",
   "metadata": {},
   "source": [
    "$$a_i = k_{i-1}\\cdot (x_i - x_{i-1})-(y_i - y_{i-1})$$"
   ]
  },
  {
   "cell_type": "markdown",
   "metadata": {},
   "source": [
    "$$b_i = -k_i\\cdot(x_i - x_{i-1}) + (y_i - y_{i-1})$$"
   ]
  },
  {
   "cell_type": "markdown",
   "metadata": {},
   "source": [
    "$$q_i'=\\frac{y_i - y_{i-1}}{x_i-x_{i-1}}+(1+2\\cdot t)\\cdot \\frac{a_i \\cdot (1-t) +b_i\\cdot t}{x_i - x_{i-1}}+t\\cdot (1-t)\\cdot \\frac{b_i - a_i}{x_i - x_{i-1}}$$"
   ]
  },
  {
   "cell_type": "markdown",
   "metadata": {},
   "source": [
    "[Source (2)](https://www.particleincell.com/2012/bezier-splines/)"
   ]
  },
  {
   "cell_type": "markdown",
   "metadata": {},
   "source": [
    "$$\\mathbf{B}(t)=(1-t)^3\\mathbf{P}_0 + 3(1-t)^2t\\mathbf{P}_1 + 3(1-t)t^2\\mathbf{P}_2 + t^3\\mathbf{P}_3, \\quad t\\in [0,1]$$"
   ]
  },
  {
   "cell_type": "markdown",
   "metadata": {},
   "source": [
    "$$\\mathbf{B}'(t) = -3(1-t)^2 \\mathbf{P}_0 + 3(1-4t+3t^2)\\mathbf{P}_1 + 3(2t-3t^2)\\mathbf{P}_2 +3t^2\\mathbf{P}_3$$"
   ]
  },
  {
   "cell_type": "markdown",
   "metadata": {},
   "source": [
    "Where:\n",
    "\n",
    "$$\\mathbf{B} \\equiv (q,x)$$\n",
    "\n",
    "Note $t$ (from source 1) $\\neq t$ from source 2"
   ]
  },
  {
   "cell_type": "markdown",
   "metadata": {},
   "source": [
    "# Verify Assertion"
   ]
  },
  {
   "cell_type": "code",
   "execution_count": 15,
   "metadata": {
    "collapsed": false
   },
   "outputs": [
    {
     "name": "stdout",
     "output_type": "stream",
     "text": [
      "<circle cx=\"175\" cy=\"375\" r=\"4\" stroke=\"black\" stroke-width=\"3\" fill=\"none\" />\n",
      "<circle cx=\"325\" cy=\"225\" r=\"4\" stroke=\"black\" stroke-width=\"3\" fill=\"none\" />\n"
     ]
    }
   ],
   "source": [
    "def mid(x0,y0,x1,y1):\n",
    "    x = (x0+x1)/2\n",
    "    y = (y0+y1)/2\n",
    "    print('<circle cx=\"%g\" cy=\"%g\" r=\"4\" stroke=\"black\" stroke-width=\"3\" fill=\"none\" />'%(x,y))\n",
    "    return(x,y)\n",
    "s = mid(100,500,250,250)\n",
    "t = mid(250,250,400,200)"
   ]
  },
  {
   "cell_type": "code",
   "execution_count": 56,
   "metadata": {
    "collapsed": false
   },
   "outputs": [
    {
     "name": "stdout",
     "output_type": "stream",
     "text": [
      "<line x1=\"100.000000\" y1=\"500.000000\" x2=\"250.000000\" y2=\"250.000000\" style=\"stroke:rgb(255,0,0);stroke-width:1\" />\n",
      "<line x1=\"250.000000\" y1=\"250.000000\" x2=\"450.000000\" y2=\"200.000000\" style=\"stroke:rgb(255,0,0);stroke-width:1\" />\n",
      "<line x1=\"450.000000\" y1=\"200.000000\" x2=\"500.000000\" y2=\"500.000000\" style=\"stroke:rgb(255,0,0);stroke-width:1\" />\n",
      "<line x1=\"100.000000\" y1=\"500.000000\" x2=\"500.000000\" y2=\"500.000000\" style=\"stroke:rgb(255,0,0);stroke-width:1\" />\n",
      "<circle cx=\"300\" cy=\"500\" r=\"4\" stroke=\"black\" stroke-width=\"3\" fill=\"none\" />\n",
      "<circle cx=\"175\" cy=\"375\" r=\"4\" stroke=\"black\" stroke-width=\"3\" fill=\"none\" />\n",
      "<circle cx=\"350\" cy=\"225\" r=\"4\" stroke=\"black\" stroke-width=\"3\" fill=\"none\" />\n",
      "<circle cx=\"475\" cy=\"350\" r=\"4\" stroke=\"black\" stroke-width=\"3\" fill=\"none\" />\n",
      "<line x1=\"175.000000\" y1=\"375.000000\" x2=\"350.000000\" y2=\"225.000000\" style=\"stroke:rgb(255,0,0);stroke-width:1\" />\n",
      "<line x1=\"350.000000\" y1=\"225.000000\" x2=\"475.000000\" y2=\"350.000000\" style=\"stroke:rgb(255,0,0);stroke-width:1\" />\n",
      "<circle cx=\"262.5\" cy=\"300\" r=\"4\" stroke=\"black\" stroke-width=\"3\" fill=\"none\" />\n",
      "<circle cx=\"412.5\" cy=\"287.5\" r=\"4\" stroke=\"black\" stroke-width=\"3\" fill=\"none\" />\n",
      "<line x1=\"262.500000\" y1=\"300.000000\" x2=\"412.500000\" y2=\"287.500000\" style=\"stroke:rgb(255,0,0);stroke-width:1\" />\n",
      "<circle cx=\"337.5\" cy=\"293.75\" r=\"4\" stroke=\"black\" stroke-width=\"3\" fill=\"none\" />\n",
      "<line x1=\"300.000000\" y1=\"500.000000\" x2=\"350.000000\" y2=\"225.000000\" style=\"stroke:rgb(255,0,0);stroke-width:1\" />\n",
      "\n",
      "k0 = -1.6666666666666667\n",
      "k1 = -0.08333333333333333\n",
      "\n",
      "<line x1=\"300.000000\" y1=\"500.000000\" x2=\"300.000000\" y2=\"301.457938\" style=\"stroke:rgb(255,0,0);stroke-width:1\" />\n",
      "-5.5\n",
      "<circle cx=\"300.000000\" cy=\"301.457938\" r=\"4\" stroke=\"black\" stroke-width=\"3\" fill=\"none\" />\n",
      "<circle cx=\"200.000000\" cy=\"367.264421\" r=\"4\" stroke=\"black\" stroke-width=\"3\" fill=\"none\" />\n",
      "m1, m2 = [-1.6666666666666667, 6.0]\n",
      "(413.0434782608695, -21.73913043478251)\n",
      "<line x1=\"100.000000\" y1=\"500.000000\" x2=\"413.043478\" y2=\"-21.739130\" style=\"stroke:rgb(255,0,0);stroke-width:1\" />\n",
      "<line x1=\"500.000000\" y1=\"500.000000\" x2=\"413.043478\" y2=\"-21.739130\" style=\"stroke:rgb(255,0,0);stroke-width:1\" />\n",
      "120.963756532 80.537677792\n",
      "Bisector slope m_b = -5.266791977072035\n",
      "<line x1=\"413.043478\" y1=\"-21.739130\" x2=\"313.981443\" y2=\"500.000000\" style=\"stroke:rgb(255,0,0);stroke-width:1\" />\n"
     ]
    }
   ],
   "source": [
    "def line(p0,p1):\n",
    "    x0,y0 = p0\n",
    "    x1,y1 = p1\n",
    "    print('<line x1=\"%f\" y1=\"%f\" x2=\"%f\" y2=\"%f\" style=\"stroke:rgb(255,0,0);stroke-width:1\" />'%(x0,y0,x1,y1))\n",
    "\n",
    "def points(p0,p1,p2,p3):\n",
    "    line(p0,p1)\n",
    "    line(p1,p2)\n",
    "    line(p2,p3)\n",
    "    line(p0,p3)\n",
    "    x0,y0 = p0\n",
    "    x1,y1 = p1\n",
    "    x2,y2 = p2\n",
    "    x3,y3 = p3\n",
    "    M = mid(x0,y0,x3,y3)\n",
    "    #print('a')\n",
    "    a = mid(x0,y0,x1,y1)\n",
    "#     print('b')\n",
    "    b = mid(x1,y1,x2,y2)\n",
    "#     print('c')\n",
    "    c = mid(x2,y2,x3,y3)\n",
    "    line(a,b)\n",
    "    line(b,c)\n",
    "#     print('e')\n",
    "    e = mid(a[0],a[1],b[0],b[1])\n",
    "#     print('f')\n",
    "    f = mid(c[0],c[1],b[0],b[1])\n",
    "    line(e,f)\n",
    "#     print('g')\n",
    "    g = mid(e[0],e[1],f[0],f[1])\n",
    "    line(M,b)\n",
    "    k0 = m(p0,p1)\n",
    "    k1 = m(e,f)\n",
    "    print('\\nk0 = {}'.format(k0))\n",
    "    print('k1 = {}\\n'.format(k1))\n",
    "    yM = q(M[0],x0,g[0],y0,g[1],k0,k1)\n",
    "    qM = [M[0],yM]\n",
    "    line(M,qM)\n",
    "    print(m(M,g))\n",
    "    print('<circle cx=\"%f\" cy=\"%f\" r=\"4\" stroke=\"black\" stroke-width=\"3\" fill=\"none\" />'%(qM[0],qM[1]))\n",
    "    x_L = (M[0]+x0)/2\n",
    "    yL = q(x_L,x0,g[0],y0,g[1],k0,k1)\n",
    "    qL = [x_L,yL]\n",
    "    print('<circle cx=\"%f\" cy=\"%f\" r=\"4\" stroke=\"black\" stroke-width=\"3\" fill=\"none\" />'%(qL[0],qL[1]))\n",
    "    inter(p0,p1,p2,p3)\n",
    "\n",
    "points([100,500],[250,250],[450,200],[500,500])"
   ]
  },
  {
   "cell_type": "code",
   "execution_count": null,
   "metadata": {
    "collapsed": true
   },
   "outputs": [],
   "source": [
    "X = [100,300,337.5,500]\n",
    "Y = [500,301.458,293.75,500]"
   ]
  },
  {
   "cell_type": "code",
   "execution_count": 31,
   "metadata": {
    "collapsed": false
   },
   "outputs": [
    {
     "data": {
      "text/plain": [
       "75.25996611745185"
      ]
     },
     "execution_count": 31,
     "metadata": {},
     "output_type": "execute_result"
    }
   ],
   "source": [
    "def dist(x0,y0,x1,y1):\n",
    "    return ((x1-x0)**2+(y1-y0)**2)**0.5\n",
    "dist(337.5,293.75,262.5,300)\n",
    "# cx=\"350\" cy=\"225\""
   ]
  },
  {
   "cell_type": "code",
   "execution_count": 16,
   "metadata": {
    "collapsed": false
   },
   "outputs": [
    {
     "name": "stdout",
     "output_type": "stream",
     "text": [
      "(450.0, 350.0)\n",
      "(250.0, 300.0)\n",
      "(387.5, 287.5)\n"
     ]
    }
   ],
   "source": [
    "e = mid(400,200,500,500)\n",
    "p_ = mid(s[0],s[1],t[0],t[1])\n",
    "q_ = mid(e[0],e[1],t[0],t[1])"
   ]
  },
  {
   "cell_type": "code",
   "execution_count": 7,
   "metadata": {
    "collapsed": false
   },
   "outputs": [
    {
     "name": "stdout",
     "output_type": "stream",
     "text": [
      "(318.75, 293.75)\n"
     ]
    }
   ],
   "source": [
    "M = mid(q_[0],q_[1],p_[0],p_[1])"
   ]
  },
  {
   "cell_type": "code",
   "execution_count": 51,
   "metadata": {
    "collapsed": false
   },
   "outputs": [
    {
     "name": "stdout",
     "output_type": "stream",
     "text": [
      "m1, m2 = [-1.6666666666666667, 3.0]\n",
      "(357.1428571428571, 71.42857142857144)\n",
      "<line x1=\"100.000000\" y1=\"500.000000\" x2=\"357.142857\" y2=\"71.428571\" style=\"stroke:rgb(255,0,0);stroke-width:1\" />\n",
      "<line x1=\"400.000000\" y1=\"200.000000\" x2=\"357.142857\" y2=\"71.428571\" style=\"stroke:rgb(255,0,0);stroke-width:1\" />\n",
      "120.963756532 71.5650511771\n",
      "Bisector slope m_b = -9.10977222864645\n",
      "<line x1=\"357.142857\" y1=\"71.428571\" x2=\"310.097616\" y2=\"500.000000\" style=\"stroke:rgb(255,0,0);stroke-width:1\" />\n"
     ]
    }
   ],
   "source": [
    "import numpy as np\n",
    "\n",
    "def inter(P0,P1,P2,P3):\n",
    "    m1 = (P1[1]-P0[1])/(P1[0]-P0[0])\n",
    "    m2 = (P3[1]-P2[1])/(P3[0]-P2[0])\n",
    "    x = (P2[1]-P0[1] + P0[0]*m1 - P2[0]*m2)/(m1-m2)\n",
    "    y = m1*(x-P0[0])+P0[1]\n",
    "    print(\"m1, m2 = {}\".format([m1,m2]))\n",
    "    print((x,y))\n",
    "    I = [x,y]\n",
    "    line(P0,I)\n",
    "    line(P3,I)\n",
    "    t_1 = np.arctan2(m1,1)+np.pi\n",
    "    t_2 = np.arctan2(m2,1)\n",
    "    print(np.degrees(t_1),np.degrees(t_2))\n",
    "    t_b = (t_2-t_1)/2+t_1\n",
    "    m_b = np.tan(t_b)\n",
    "    print(\"Bisector slope m_b = {}\".format(m_b))\n",
    "    x_b = (P0[1]-y)*1/m_b+x\n",
    "    B = [x_b,P0[1]]\n",
    "    line(I,B)\n",
    "    \n",
    "inter([100,500],[250,250],[500,500],[400,200])"
   ]
  },
  {
   "cell_type": "code",
   "execution_count": 34,
   "metadata": {
    "collapsed": true
   },
   "outputs": [],
   "source": [
    "np.arctan2?"
   ]
  },
  {
   "cell_type": "code",
   "execution_count": 21,
   "metadata": {
    "collapsed": false
   },
   "outputs": [],
   "source": [
    "def m(P0,P1):\n",
    "    return (P1[1]-P0[1])/(P1[0]-P0[0])\n",
    "p0=(325.0, 225.0)\n",
    "p1=(450.0, 350.0)\n",
    "#print(m(p_,q_))\n",
    "#q(300,100,318.75,500, 293.75,-1.6666666666667,m(p_,q_))"
   ]
  },
  {
   "cell_type": "code",
   "execution_count": 19,
   "metadata": {
    "collapsed": true
   },
   "outputs": [],
   "source": [
    "def B_x(t):\n",
    "    pass\n",
    "\n",
    "def q_(x,x0,x1,y0,y1, k0, k1):\n",
    "    \"Returns the slope on a cubic spline at x\"\n",
    "    t = (x-x0)/(x1-x0)\n",
    "    a = k0*(x1-x0)-(y1-y0)\n",
    "    b = -k1*(x1-x0)+(y1-y0)\n",
    "    q__val = (y1-y0)/(x1-x0)+(1-2*t)*(a*(1-t)+b*t)/(x1-x0)+t*(1-t)*((b-a)/(x1-x0))\n",
    "    return q__val\n",
    "\n",
    "def q(x,x0,x1,y0,y1, k0, k1):\n",
    "    \"Returns y coordinate at x between two points on a cubic spline\"\n",
    "    t = (x-x0)/(x1-x0)\n",
    "    a = k0*(x1-x0)-(y1-y0)\n",
    "    b = -k1*(x1-x0)+(y1-y0)\n",
    "    q_val = (1-t)*y0+t*y1+t*(1-t)*(a*(1-t)+b*t)\n",
    "    return q_val\n",
    "\n"
   ]
  },
  {
   "cell_type": "markdown",
   "metadata": {},
   "source": [
    "\n",
    "\n",
    "$$ x= A\\cdot t^3 + B\\cdot t^2 + C\\cdot t +D$$\n",
    "\n",
    "$$ y= E\\cdot t^3 + F\\cdot t^2 + G\\cdot t +H$$\n",
    "\n",
    "$$\\textbf{or}$$\n",
    "\n",
    "$$ x= (((A\\cdot t) + B)\\cdot t + C)\\cdot t +D$$\n",
    "\n",
    "$$ y= (((E\\cdot t) + F)\\cdot t + G)\\cdot t +H$$\n",
    "\n",
    "$$\\textbf{Control Coordinates}$$\n",
    "\n",
    "$$x_0 = D \\qquad y_0 = H$$\n",
    "\n",
    "$$x_1 = D + \\frac{C}{3} \\qquad y_1 = H +\\frac{G}{3}$$\n",
    "\n",
    "$$x_2 = D + \\frac{2 \\cdot C}{3} +\\frac{B}{3}\\qquad y_1 = H +\\frac{2 \\cdot G}{3}+ \\frac{F}{3}$$\n",
    "\n",
    "$$x_3 = D +C +B +A \\qquad y_3 = H+G+F+E$$"
   ]
  },
  {
   "cell_type": "code",
   "execution_count": 25,
   "metadata": {
    "collapsed": false
   },
   "outputs": [],
   "source": [
    "from numpy import matrix, array\n",
    "from numpy.linalg import inv\n",
    "from numpy import transpose as T\n",
    "from collections import namedtuple\n",
    "\n",
    "def control_points(X,Y):\n",
    "    \"Returns the control points of a cubic cpline going through a set of 4 points\"\n",
    "    t = [(x-X[0])/(X[3]-X[0]) for x in X]\n",
    "    Time = matrix(((t[0]**3, t[0]**2, t[0],1),\n",
    "                   (t[1]**3, t[1]**2, t[1],1),\n",
    "                   (t[2]**3, t[2]**2, t[2],1),\n",
    "                   (t[3]**3, t[3]**2, t[3],1)))\n",
    "    x_M = matrix(array(X))\n",
    "    y_M = matrix(array(Y))\n",
    "    A_D = inv(Time)*T(x_M)\n",
    "    E_H = inv(Time)*T(y_M)\n",
    "    A,B,C,D = A_D\n",
    "    E,F,G,H = E_H\n",
    "    x_0 = float(D)\n",
    "    x_1 = float(D+C/3)\n",
    "    x_2 = float(D+2*C/3+B/3)\n",
    "    x_3 = float(D+C+B+A)\n",
    "    y_0 = float(H)\n",
    "    y_1 = float(H+G/3)\n",
    "    y_2 = float(H+2*G/3+F/3)\n",
    "    y_3 = float(H+G+F+E)\n",
    "    if abs(x_0 - X[0])>0.000001 or abs(x_3 - X[3])>0.000001:\n",
    "        print(\"X coordinates do not agree\")\n",
    "    if abs(y_0 - Y[0])>0.000001 or abs(y_3 - Y[3])>0.000001:\n",
    "        print(\"Y coordinates do not agree\")\n",
    "    Coord = namedtuple(\"Coord\", 'C0 C1 C2 C3')\n",
    "    coords = Coord((x_0,y_0),(x_1,y_1),(x_2,y_2),(x_3,y_3))\n",
    "    return coords\n",
    "    \n",
    "    "
   ]
  },
  {
   "cell_type": "code",
   "execution_count": null,
   "metadata": {
    "collapsed": true
   },
   "outputs": [],
   "source": [
    "points([100,500],[250,250],[450,200],[500,500])"
   ]
  },
  {
   "cell_type": "code",
   "execution_count": 26,
   "metadata": {
    "collapsed": false
   },
   "outputs": [
    {
     "data": {
      "text/plain": [
       "Coord(C0=(100.0, 500.0), C1=(179.16666666666657, 368.05424873737377), C2=(258.33333333333314, 300.3476504103539), C3=(337.5000000000007, 293.7500000000002))"
      ]
     },
     "execution_count": 26,
     "metadata": {},
     "output_type": "execute_result"
    }
   ],
   "source": [
    "X = [100,200,300,337.5]\n",
    "Y = [500,367.264,301.458,293.75]\n",
    "control_points(X,Y)"
   ]
  }
 ],
 "metadata": {
  "kernelspec": {
   "display_name": "Python 3",
   "language": "python",
   "name": "python3"
  },
  "language_info": {
   "codemirror_mode": {
    "name": "ipython",
    "version": 3
   },
   "file_extension": ".py",
   "mimetype": "text/x-python",
   "name": "python",
   "nbconvert_exporter": "python",
   "pygments_lexer": "ipython3",
   "version": "3.4.0"
  }
 },
 "nbformat": 4,
 "nbformat_minor": 0
}
