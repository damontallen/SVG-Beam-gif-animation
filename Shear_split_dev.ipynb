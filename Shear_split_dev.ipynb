{
 "cells": [
  {
   "cell_type": "markdown",
   "metadata": {},
   "source": [
    "# Determining the length change due to Shear Failure."
   ]
  },
  {
   "cell_type": "markdown",
   "metadata": {},
   "source": [
    "The premise is that once the shear failure has occurred then the upper and lower halves of the beam will have reduced stresses from bending due to the stress redistribution.  The top will have less compression and the bottom will have less tension.\n",
    "\n",
    "<img src=\"http://imgur.com/675xK19.png\" width=\"35%\" height=\"35%\"/>"
   ]
  },
  {
   "cell_type": "markdown",
   "metadata": {},
   "source": [
    "Assume uniformly distributed load.\n",
    "$$V(x) = \\frac{w L}{2} - w x$$\n",
    "$$M(x) = -\\frac{w x^2}{2} + \\frac{w L}{2} x$$"
   ]
  },
  {
   "cell_type": "markdown",
   "metadata": {},
   "source": [
    "Moment arm in beam is $\\frac{2}{3} d$\n"
   ]
  },
  {
   "cell_type": "markdown",
   "metadata": {},
   "source": [
    "$$T = \\frac{M(x)}{\\frac{2}{3} d} = \\frac{-\\frac{w x^2}{2} + \\frac{w L}{2} x}{\\frac{2}{3} d}$$"
   ]
  },
  {
   "cell_type": "markdown",
   "metadata": {},
   "source": [
    "$$T = \\frac{3}{2 d}\\left(-\\frac{w x^2}{2} + \\frac{w L}{2} x \\right)$$\n",
    "$$T =  \\frac{3}{4} \\frac{w}{d} \\left(-x^2 + L x \\right)$$"
   ]
  },
  {
   "cell_type": "markdown",
   "metadata": {},
   "source": [
    "To simplify the problem assume the stress is uniform over the top and bottom.  Also assume a rectangular section since we are dealing with timber."
   ]
  },
  {
   "cell_type": "markdown",
   "metadata": {},
   "source": [
    "$$\\sigma = \\frac{T}{A} = \\frac{T}{b \\frac{d}{2}}$$\n",
    "$$\\sigma = \\frac{\\frac{3}{4} \\frac{w}{d} \\left(-x^2 + L x \\right)}{b \\frac{d}{2}}$$"
   ]
  },
  {
   "cell_type": "markdown",
   "metadata": {},
   "source": [
    "$$\\sigma = \\frac{3}{2} \\frac{w}{b d^2} \\left(-x^2 + L x \\right)$$"
   ]
  },
  {
   "cell_type": "markdown",
   "metadata": {},
   "source": [
    "$$\\Delta L = \\frac{1}{E}\\int^x_0 \\sigma(x) dx$$\n",
    "For a shear split that extends for a distance of $L/4$\n",
    "$$\\Delta L = \\frac{1}{E}\\int^{L/4}_0 \\frac{3}{2} \\frac{w}{b d^2} \\left(-x^2 + L x \\right) dx$$"
   ]
  },
  {
   "cell_type": "markdown",
   "metadata": {},
   "source": [
    "$$\\Delta L = \\frac{3}{2E} \\frac{w}{ b d^2} \\int^{L/4}_0 -x^2 + L x dx$$"
   ]
  },
  {
   "cell_type": "markdown",
   "metadata": {},
   "source": [
    "$$\\Delta L = \\frac{3}{2E} \\frac{w}{ b d^2} \\left| -\\frac{x^3}{3} + L \\frac{x^2}{2} \\right|_0^{L/4}$$"
   ]
  },
  {
   "cell_type": "markdown",
   "metadata": {},
   "source": [
    "$$\\Delta L = \\frac{3}{2E} \\frac{w}{ b d^2} \\left( -\\frac{L^3}{3\\times 4^3} + L \\frac{L^2}{2\\times 16} \\right)$$"
   ]
  },
  {
   "cell_type": "markdown",
   "metadata": {},
   "source": [
    "$$\\Delta L = \\frac{1}{2E} \\frac{w}{b d^2} \\left( -\\frac{L^3}{64} + \\frac{3 L^3}{32} \\right)$$"
   ]
  },
  {
   "cell_type": "markdown",
   "metadata": {},
   "source": [
    "$$\\Delta L = \\frac{1}{2E} \\frac{w}{b d^2} \\left( -\\frac{L^3}{64} + \\frac{6 L^3}{64} \\right)$$\n",
    "$$\\Delta L = \\frac{5 w L^3}{128 E b d^2}$$"
   ]
  },
  {
   "cell_type": "markdown",
   "metadata": {},
   "source": [
    "Deflection due to bending is,\n",
    "$$\\Delta = \\frac{5 w L^4}{384 E I}$$\n",
    "and the ratio of $\\Delta L$ to $\\Delta$ is,\n",
    "$$\\frac{\\Delta L}{\\Delta} = \\frac{\\frac{5 w L^3}{128 E b d^2}}{\\frac{5 w L^4}{384 E I}}$$"
   ]
  },
  {
   "cell_type": "markdown",
   "metadata": {},
   "source": [
    "$$\\frac{\\Delta L}{\\Delta} = \\frac{\\frac{1}{128 b d^2}}{\\frac{L}{384  I}}$$"
   ]
  },
  {
   "cell_type": "markdown",
   "metadata": {},
   "source": [
    "$$\\frac{\\Delta L}{\\Delta} = \\frac{384  I}{128 L b d^2}$$\n",
    "\n",
    "$$\\frac{\\Delta L}{\\Delta} = \\frac{3  I}{ L b d^2}$$"
   ]
  },
  {
   "cell_type": "markdown",
   "metadata": {},
   "source": [
    "Since this is a rectangular section,\n",
    "$$\\frac{\\Delta L}{\\Delta} = \\frac{3 \\frac{1}{12} b d^3}{ L b d^2}$$"
   ]
  },
  {
   "cell_type": "markdown",
   "metadata": {},
   "source": [
    "$$\\frac{\\Delta L}{\\Delta} = \\frac{d}{4 L}$$"
   ]
  },
  {
   "cell_type": "markdown",
   "metadata": {},
   "source": [
    "Therefore $\\Delta L$ as a function of $\\Delta$ is,\n",
    "\n",
    "$$\\Delta L = \\Delta \\times \\frac{d}{4 L}$$\n",
    "\n",
    "$\\Delta L$ is a first order function of all the factors in the equation, so it is reasonably safe to assume that it would just be proportional to the length of the split, $L/4$ in this case.  Based on that assumption we can rewrite $\\Delta L$ as a function of the length of the split.\n",
    "\n",
    "$$\\Delta L\\left(L_{split}\\right) = \\Delta \\times \\frac{\\frac{d}{4 L}}{L/4} \\times L_{split} = \\Delta \\times \\frac{d}{4 L}\\times \\frac{4}{L} \\times L_{split}$$\n",
    "\n",
    "or"
   ]
  },
  {
   "cell_type": "markdown",
   "metadata": {},
   "source": [
    "$$\\Delta L\\left(L_{split}\\right) = \\Delta \\times  L_{split} \\times \\frac{d}{ L^2} $$"
   ]
  },
  {
   "cell_type": "markdown",
   "metadata": {},
   "source": [
    "To determine the new origin of the beam top or bottom we must use a line intergral.\n",
    "\n",
    "$$\\oint_{x_0}^{x} f(x) dx = \\Delta L$$\n",
    "\n",
    "Assuming the deflected shape can be modeled by a second order curve,\n",
    "\n",
    "$$\\oint_{x_0}^{x} \\left(a x^2 +b x+c \\right) dx = \\Delta L$$"
   ]
  },
  {
   "cell_type": "markdown",
   "metadata": {},
   "source": [
    "$$\\frac{d f(x)}{dx} = \\frac{dy}{dx} = 2 a x + b$$\n",
    "\n",
    "$$dy = \\left(2 a x + b\\right)dx$$\n",
    "\n",
    "$$dL = \\sqrt{dx^2 + dy^2}$$\n",
    "\n",
    "$$dL = \\sqrt{dx^2 + \\left(2 a x + b\\right)^2 dx^2}$$\n",
    "\n",
    "$$dL = dx \\sqrt{1 + \\left(2 a x + b\\right)^2}$$\n",
    "\n",
    "$$dL = dx \\sqrt{1 + 4 a^2 x^2 + 4 a x b+b^2}$$"
   ]
  },
  {
   "cell_type": "markdown",
   "metadata": {},
   "source": [
    "$$\\int_{x_0}^{x} \\sqrt{1 + 4 a^2 x^2 + 4 a x b+b^2} dx = \\Delta L$$\n",
    "\n"
   ]
  },
  {
   "cell_type": "markdown",
   "metadata": {},
   "source": [
    "This is not a simple solution and we are only drawing a picture not making precise calculations.  To simplify the problem assume that the function $dy/dx$ is a constant over the short distance $\\Delta L$.  \n",
    "\n",
    "$$\\Delta L = \\sqrt{\\Delta_x^2 + \\Delta_y^2}$$\n",
    "\n",
    "$$\\Delta L = \\sqrt{\\Delta_x^2 + (2ax_0+b)^2 \\Delta_x^2}$$\n",
    "\n",
    "$$\\Delta L = \\Delta_x \\sqrt{1 + 4a^2 x_0^2+4 a x_0 b+b^2}$$"
   ]
  },
  {
   "cell_type": "markdown",
   "metadata": {},
   "source": [
    "$$ \\Delta_x =\\frac{ \\Delta L }{\\sqrt{1 + 4a^2 x_0^2+4 a x_0 b+b^2}}$$"
   ]
  },
  {
   "cell_type": "markdown",
   "metadata": {},
   "source": [
    "$$ x - x_0 =\\frac{ \\Delta L }{\\sqrt{1 + 4a^2 x_0^2+4 a x_0 b+b^2}}$$"
   ]
  },
  {
   "cell_type": "code",
   "execution_count": 1,
   "metadata": {
    "collapsed": false
   },
   "outputs": [],
   "source": [
    "from SVG_beam import beam\n",
    "from SVG_lib import point, Line\n",
    "from CurveManip import Spline, rotate, mirror, arb_spline\n",
    "from numpy import sqrt"
   ]
  },
  {
   "cell_type": "code",
   "execution_count": 2,
   "metadata": {
    "collapsed": false
   },
   "outputs": [],
   "source": [
    "# aS = arb_spline(X=[0,50,100],Y=[0,10,0],k0=0.5,k1=0,k2=-0.1)\n",
    "# aS"
   ]
  },
  {
   "cell_type": "code",
   "execution_count": 3,
   "metadata": {
    "collapsed": false
   },
   "outputs": [],
   "source": [
    "# XX = lambda : \"text\"\n",
    "# XX()"
   ]
  },
  {
   "cell_type": "code",
   "execution_count": 4,
   "metadata": {
    "collapsed": false
   },
   "outputs": [],
   "source": [
    "# from IPython.display import SVG\n",
    "# txt=\"\"\"<svg viewBox = \"-10 -10 120 30\">\n",
    "# {}\n",
    "# </svg>\"\"\".format(aS.svg_path_txt)\n",
    "# SVG(txt)"
   ]
  },
  {
   "cell_type": "markdown",
   "metadata": {},
   "source": [
    "$$ x  =\\frac{ \\Delta L }{\\sqrt{1 + 4a^2 x_0^2+4 a x_0 b+b^2}} + x_0$$\n",
    "\n",
    "$$ y = a x^2 +b x+c$$\n",
    "\n",
    "or since $x_0$ isn't changing,\n",
    "\n",
    "$$ x  = x_0 + \\frac{ \\Delta L }{\\sqrt{1 + 4a^2 x_0^2+4 a x_0 b+b^2}}$$ \n",
    "\n",
    "substituting for $\\Delta L$,\n",
    "\n",
    "$$ x  = x_0 +\\frac{ \\Delta \\times  L_{split} \\times \\frac{d}{ L^2} }{\\sqrt{1 + 4a^2 x_0^2+4 a x_0 b+b^2}} $$ "
   ]
  },
  {
   "cell_type": "markdown",
   "metadata": {},
   "source": [
    "<img src=\"http://upload.wikimedia.org/math/0/3/1/0311663d2a54f6844a1d6ac5823abc94.png\"/>"
   ]
  },
  {
   "cell_type": "code",
   "execution_count": 5,
   "metadata": {
    "collapsed": false
   },
   "outputs": [],
   "source": [
    "def q_(x,x0,x1,y0,y1, k0, k1):\n",
    "    \"Returns the slope on a cubic spline at x\"\n",
    "    t = (x-x0)/(x1-x0)\n",
    "    a = k0*(x1-x0)-(y1-y0)\n",
    "    b = -k1*(x1-x0)+(y1-y0)\n",
    "    q__val = (y1-y0)/(x1-x0)+(1-2*t)*(a*(1-t)+b*t)/(x1-x0)+t*(1-t)*((b-a)/(x1-x0))\n",
    "    return q__val\n",
    "\n",
    "def q(x,x0,x1,y0,y1, k0, k1):\n",
    "    \"Returns y coordinate at x between two points on a cubic spline\"\n",
    "    t = (x-x0)/(x1-x0)\n",
    "    a = k0*(x1-x0)-(y1-y0)\n",
    "    b = -k1*(x1-x0)+(y1-y0)\n",
    "    q_val = (1-t)*y0+t*y1+t*(1-t)*(a*(1-t)+b*t)\n",
    "    return q_val\n",
    "\n",
    "class shear_failure(beam):\n",
    "    def __init__(self):\n",
    "        super(shear_failure,self).__init__()\n",
    "        self.L_split = 0.02\n",
    "    \n",
    "    def split(self):\n",
    "        \"\"\"Takes the beam in its current configuration and adds a shear failure\n",
    "        \n",
    "        Based on the assumption that the compression and tension at the top \n",
    "        and bottom of the beam is uniformly distributed over the upper and\n",
    "        lower half of the beam, the change in length of the top and bottom due\n",
    "        to a shear crack extending over 1/4 the length of the beam (at each end)\n",
    "        is only Delta times d/4L.  Where Delta is the deflection due to bending\n",
    "        at the center of the beam, d is the depth of the beam, and L is the beam \n",
    "        length.  For a beam that has a length of 300, a depth of 30 and a \n",
    "        deflection of 30 that change is only 0.75.  \n",
    "        \"\"\"\n",
    "        curve_info = self.centerline.end_angles(suppress=True)\n",
    "        angle = curve_info.angle\n",
    "        coeff = curve_info.coefficents\n",
    "        a,b,c = coeff\n",
    "        print(\"a,b,c = {}\".format([a,b,c]))\n",
    "        # Slopes of the three control points\n",
    "        self.centerline._spline()\n",
    "        k0, k1, k2 = self.centerline.slopes\n",
    "        print(\"k0,k1,k2 = {}\".format([k0,k1,k2]))\n",
    "        d = self.thickness\n",
    "        D = self.sag\n",
    "        x0, y0, x1, y1, x2, y2 = self.centerline.coords\n",
    "        L = self.L \n",
    "        L_split = self.L_split * L\n",
    "        print(\"L_split = {}\".format(L_split))\n",
    "        D_x0 = (D*d/(L**2)*L_split)/sqrt(1+4*a**2*x0**2+4*a*x0*b+b**2)\n",
    "        D_x2 = (D*d/(L**2)*L_split)/sqrt(1+4*a**2*x2**2+4*a*x2*b+b**2)\n",
    "        # The end slopes are from the spline itself\n",
    "        D_y0 = D_x0*k0\n",
    "        D_y2 = D_x2*k2\n",
    "        print(\"D_x0, D_x2, D_y0, D_y2 = {}\".format([D_x0, D_x2, D_y0, D_y2]))\n",
    "        # Bottom of top gets longer and the ends shifts up\n",
    "        x0_t = x0-D_x0\n",
    "        x2_t = x2+D_x2\n",
    "        y0_t = y0-D_y0\n",
    "        y2_t = y2-D_y2\n",
    "        \n",
    "        # Top of Bottom gets shorter and shifts down\n",
    "        x0_b = x0+D_x0\n",
    "        x2_b = x2-D_x2\n",
    "        y0_b = y0+D_y0\n",
    "        y2_b = y2+D_y2\n",
    "                \n",
    "        bot_of_top_L = point(x0_t,y0_t) \n",
    "        bot_of_top_R = point(x2_t,y2_t)\n",
    "        \n",
    "        top_of_bot_L = point(x0_b,y0_b) \n",
    "        top_of_bot_R = point(x2_b,y2_b)\n",
    "        \n",
    "        dY_t = -(D_y0+D_y2)/2 # This averaging is unnecessary but not time consuming\n",
    "        dY_b = +(D_y0+D_y2)/2 # This averaging is unnecessary but not time consuming\n",
    "        print(\"self.sag = {}\".format(self.sag))\n",
    "        # Bottom of top and top of bottom are both located at the original centerline\n",
    "        self.bottom_of_top = Spline(bot_of_top_L.List(),bot_of_top_R.List(),self.sag+dY_t)\n",
    "        # self.bottom_of_top.rotate(angle) # Rotate at the end!\n",
    "        self.top_of_bottom = Spline(top_of_bot_L.List(),top_of_bot_R.List(),self.sag+dY_b)\n",
    "        # self.top_of_bottom.rotate(angle) # Rotate at the end!\n",
    "        \n",
    "        if x0_t>x0_b: # Deflecting upward and top got longer\n",
    "            control = self.bottom_of_top\n",
    "            print(\"Top got longer.\")\n",
    "        elif x0_t<x0_b: # Deflecting downward and bottom got longer\n",
    "            control = self.bottom_of_top\n",
    "            print(\"Bottom got longer.\")\n",
    "        else: # There was no deflection (not shear failure possible...)\n",
    "            control = self.bottom_of_top\n",
    "            print(\"No change!\")\n",
    "        \n",
    "        # Force the calculation of all the points and values of intrest\n",
    "        control._spline()\n",
    "        k0, k1, k2 = control.slopes\n",
    "        x0, y0, x1, y1, x2, y2 = control.coords\n",
    "        print(\"Control Information:\")\n",
    "        print(control.slopes)\n",
    "        print(control.coords)\n",
    "        print(\"Control sag = {}\".format(control.sag))\n",
    "        # Determine The points on the left and right shear split splines\n",
    "        x2_L = x0 + L_split\n",
    "        x1_L = (x0 + x2_L)/2\n",
    "        x0_R = x2 - L_split\n",
    "        x1_R = (x0_R + x2)/2\n",
    "        X_L = [x0, x1_L, x2_L]\n",
    "        X_R = [x0_R, x1_R, x2]\n",
    "        Y_L = [q(x,x0,x1,y0,y1,k0,k1) for x in X_L]\n",
    "        Y_R = [q(x,x1,x2,y1,y2,k1,k2) for x in X_R]\n",
    "        K_L = [q_(x,x0,x1,y0,y1,k0,k1) for x in X_L]\n",
    "        K_R = [q_(x,x1,x2,y1,y2,k1,k2) for x in X_R]\n",
    "        k0_L, k1_L, k2_L = K_L\n",
    "        k0_R, k1_R, k2_R = K_R\n",
    "        print(\"Left values:\")\n",
    "        print(\"X_L = {}\".format(X_L))\n",
    "        print(\"K_L = {}\".format(K_L))\n",
    "        print(\"Right values:\")\n",
    "        print(\"X_R = {}\".format(X_R))\n",
    "        print(\"K_R = {}\".format(K_R))\n",
    "        Left = arb_spline(X=X_L,Y=Y_L,k0=k0_L,k1=k1_L,k2=k2_L,rot_angle=0,\n",
    "               fill='none', stroke='black', stroke_width=self.line_width)\n",
    "        Right = arb_spline(X=X_R,Y=Y_R,k0=k0_R,k1=k1_R,k2=k2_R,rot_angle=0,\n",
    "               fill='none', stroke='black', stroke_width=self.line_width)\n",
    "        self.splits = [Left,Right]\n",
    "        \n",
    "        # Ends...\n",
    "        top = self.top[0]\n",
    "        bottom = self.bottom[0]\n",
    "        \n",
    "        Left_T = Line(bot_of_top_L,top.origin)\n",
    "        Left_T.width = 1\n",
    "        Left_B = Line(top_of_bot_L,bottom.origin)\n",
    "        Left_B.width = 1\n",
    "        Right_T = Line(bot_of_top_R,top.end)\n",
    "        Right_T.width = 1\n",
    "        Right_B = Line(top_of_bot_R,bottom.end)\n",
    "        Right_B.width = 1\n",
    "        self.L_end = [Left_T, Left_B]\n",
    "        self.R_end = [Right_T, Right_B]\n",
    "        self.manual_ends = True\n",
    "\n",
    "    @property\n",
    "    def L(self):\n",
    "        x2,y2 = self.R_CL.List()\n",
    "        x0,y0 = self.L_CL.List()\n",
    "        L = sqrt((x2-x0)**2+(y2-y0)**2)\n",
    "        return L\n",
    "        \n",
    "    @property\n",
    "    def L_split(self):\n",
    "        return self._L_split\n",
    "    @L_split.setter\n",
    "    def L_split(self, val):\n",
    "        if val > 0.5 or val <0:\n",
    "            er = (\"L_split is a fractional amount of the beam length up to 0.5 \"\n",
    "                  \"and it should be limited to 0.167.\")\n",
    "            raise(ValueError(er))\n",
    "        self._L_split = val"
   ]
  },
  {
   "cell_type": "code",
   "execution_count": 6,
   "metadata": {
    "collapsed": false
   },
   "outputs": [],
   "source": [
    "tt = shear_failure()"
   ]
  },
  {
   "cell_type": "markdown",
   "metadata": {},
   "source": [
    "Spline Interpolation:\n",
    "\n",
    "$$q_i = (1-t)\\cdot y_{i-1} +t \\cdot y_i +t\\cdot (1-t)\\cdot (a_i\\cdot (1-t) +b_i \\cdot t)$$\n",
    "\n",
    "Where:\n",
    "\n",
    "$$ t = \\frac{x-x_{i-1}}{x_i-x_{i-1}}$$\n",
    "\n",
    "$$ a_i = k_{i-1}\\cdot (x_i - x_{i-1})-(y_i-y_{i-1})$$\n",
    "\n",
    "$$ b_i = -k_{i}\\cdot (x_i - x_{i-1})+(y_i-y_{i-1})$$"
   ]
  },
  {
   "cell_type": "code",
   "execution_count": 7,
   "metadata": {
    "collapsed": false
   },
   "outputs": [],
   "source": [
    "# tt._repr_svg_()"
   ]
  },
  {
   "cell_type": "code",
   "execution_count": 8,
   "metadata": {
    "collapsed": false
   },
   "outputs": [
    {
     "data": {
      "text/plain": [
       "30"
      ]
     },
     "execution_count": 8,
     "metadata": {},
     "output_type": "execute_result"
    }
   ],
   "source": [
    "tt.sag=30\n",
    "tt.sag"
   ]
  },
  {
   "cell_type": "code",
   "execution_count": 9,
   "metadata": {
    "collapsed": false
   },
   "outputs": [
    {
     "name": "stdout",
     "output_type": "stream",
     "text": [
      "a,b,c = [-0.0013333333333333337, 0.42666666666666675, 5.866666666666666]\n",
      "k0,k1,k2 = [0.3000000000000001, -2.7755575615628914e-17, -0.3]\n",
      "L_split = 6.0\n",
      "D_x0, D_x2, D_y0, D_y2 = [0.055708601453115549, 0.055708601453115549, 0.016712580435934671, -0.016712580435934665]\n",
      "self.sag = 30\n",
      "Bottom got longer.\n",
      "Control Information:\n",
      "Slopes(k0=0.2998886223010462, k1=5.551115123125783e-17, k2=-0.29988862230104624)\n",
      "Coords(x0=9.9442913985468842, y0=9.983287419564066, x1=159.99665872485195, y1=39.999999813931346, x2=310.0557086014531, y2=10.016712580435934)\n",
      "Control sag = 30.0\n",
      "Left values:\n",
      "X_L = [9.9442913985468842, 12.944291398546884, 15.944291398546884]\n",
      "K_L = [0.29988862230104618, 0.29978236753300047, 0.29943581369597244]\n",
      "Right values:\n",
      "X_R = [304.05570860145309, 307.05570860145309, 310.0557086014531]\n",
      "K_R = [-0.29938250204838729, -0.29975514547341797, -0.29988862230104624]\n"
     ]
    }
   ],
   "source": [
    "tt.split()"
   ]
  },
  {
   "cell_type": "code",
   "execution_count": 20,
   "metadata": {
    "collapsed": false
   },
   "outputs": [
    {
     "name": "stdout",
     "output_type": "stream",
     "text": [
      "Coords(x0=304.05570860145309, y0=11.81500428667904, x1=307.0557086014531, y1=10.916238023746981, x2=310.0557086014531, y2=10.016712580435934)\n",
      "\n",
      "SVG_values(x0=304.05570860145309, y0=11.81500428667904, cx0=457.58356290217966, cy0=-0.79835333879569936, cx2=156.52785430072655, cy2=0.79970299280279, dx=6.0, dy=-1.7982917062431056)\n",
      "\n",
      "<path style=\"fill:none;stroke:black;stroke-width:1px\" d=\"m 304.055709,11.815004 c 457.583563,-0.798353 156.527854,0.799703 6.000000,-1.798292\"/>\n"
     ]
    }
   ],
   "source": [
    "end = 1\n",
    "print(tt.splits[end].coords)\n",
    "print()\n",
    "print(tt.splits[end].svg_values)\n",
    "print()\n",
    "print(tt.splits[end].svg_path_txt)"
   ]
  },
  {
   "cell_type": "code",
   "execution_count": 14,
   "metadata": {
    "collapsed": false
   },
   "outputs": [],
   "source": [
    "txt = \"\"\"<svg  viewBox = \"-5.570860 -13.927150 430.000000 88.927150\">\n",
    "<path style=\"fill:none;stroke:black;stroke-width:1px;\" d=\"m 15.570860,-3.927150 c 95.570860,38.569534 224.429140,38.569534 288.858280,0.000000\"/>\n",
    "<path style=\"fill:none;stroke:black;stroke-width:1px;\" d=\"m 4.429140,23.927150 c 84.429140,41.430466 235.570860,41.430466 311.141720,0.000000\"/>\n",
    "<path style=\"fill:none;stroke:black;stroke-width:1px\" d=\"m 9.944291,9.983287 c 16.416437,0.799703 9.472146,-0.798496 6.000000,1.798454\"/>\n",
    "<path style=\"fill:none;stroke:black;stroke-width:1px\" d=\"m 304.055709,11.815004 c 457.583563,-0.798353 156.527854,0.799703 6.000000,-1.798292\"/>\n",
    "<line x1=\"9.94429\" y1=\"9.98329\" x2=\"15.5709\" y2=\"-3.92715\" style=\"stroke:black;stroke-width:1\" />\n",
    "<line x1=\"10.0557\" y1=\"10.0167\" x2=\"4.42914\" y2=\"23.9272\" style=\"stroke:black;stroke-width:1\" />\n",
    "<line x1=\"310.056\" y1=\"10.0167\" x2=\"304.429\" y2=\"-3.92715\" style=\"stroke:black;stroke-width:1\" />\n",
    "<line x1=\"309.944\" y1=\"9.98329\" x2=\"315.571\" y2=\"23.9272\" style=\"stroke:black;stroke-width:1\" />\n",
    "</svg>\"\"\""
   ]
  },
  {
   "cell_type": "code",
   "execution_count": 13,
   "metadata": {
    "collapsed": false
   },
   "outputs": [
    {
     "name": "stdout",
     "output_type": "stream",
     "text": [
      "<svg  viewBox = \"-5.570860 -13.927150 330.000000 88.927150\">\n",
      "<path style=\"fill:none;stroke:black;stroke-width:1px;\" d=\"m 15.570860,-3.927150 c 95.570860,38.569534 224.429140,38.569534 288.858280,0.000000\"/>\n",
      "<path style=\"fill:none;stroke:black;stroke-width:1px;\" d=\"m 4.429140,23.927150 c 84.429140,41.430466 235.570860,41.430466 311.141720,0.000000\"/>\n",
      "<path style=\"fill:none;stroke:black;stroke-width:1px\" d=\"m 9.944291,9.983287 c 16.416437,0.799703 9.472146,-0.798496 6.000000,1.798454\"/>\n",
      "<path style=\"fill:none;stroke:black;stroke-width:1px\" d=\"m 304.055709,11.815004 c 457.583563,-0.798353 156.527854,0.799703 6.000000,-1.798292\"/>\n",
      "<line x1=\"9.94429\" y1=\"9.98329\" x2=\"15.5709\" y2=\"-3.92715\" style=\"stroke:black;stroke-width:1\" />\n",
      "<line x1=\"10.0557\" y1=\"10.0167\" x2=\"4.42914\" y2=\"23.9272\" style=\"stroke:black;stroke-width:1\" />\n",
      "<line x1=\"310.056\" y1=\"10.0167\" x2=\"304.429\" y2=\"-3.92715\" style=\"stroke:black;stroke-width:1\" />\n",
      "<line x1=\"309.944\" y1=\"9.98329\" x2=\"315.571\" y2=\"23.9272\" style=\"stroke:black;stroke-width:1\" />\n",
      "</svg>\n"
     ]
    }
   ],
   "source": [
    "txt = tt._repr_svg_()\n",
    "print(txt)"
   ]
  },
  {
   "cell_type": "code",
   "execution_count": 15,
   "metadata": {
    "collapsed": false
   },
   "outputs": [
    {
     "data": {
      "image/svg+xml": [
       "<svg viewBox=\"-5.570860 -13.927150 430.000000 88.927150\">\n",
       "<path d=\"m 15.570860,-3.927150 c 95.570860,38.569534 224.429140,38.569534 288.858280,0.000000\" style=\"fill:none;stroke:black;stroke-width:1px;\"/>\n",
       "<path d=\"m 4.429140,23.927150 c 84.429140,41.430466 235.570860,41.430466 311.141720,0.000000\" style=\"fill:none;stroke:black;stroke-width:1px;\"/>\n",
       "<path d=\"m 9.944291,9.983287 c 16.416437,0.799703 9.472146,-0.798496 6.000000,1.798454\" style=\"fill:none;stroke:black;stroke-width:1px\"/>\n",
       "<path d=\"m 304.055709,11.815004 c 457.583563,-0.798353 156.527854,0.799703 6.000000,-1.798292\" style=\"fill:none;stroke:black;stroke-width:1px\"/>\n",
       "<line style=\"stroke:black;stroke-width:1\" x1=\"9.94429\" x2=\"15.5709\" y1=\"9.98329\" y2=\"-3.92715\"/>\n",
       "<line style=\"stroke:black;stroke-width:1\" x1=\"10.0557\" x2=\"4.42914\" y1=\"10.0167\" y2=\"23.9272\"/>\n",
       "<line style=\"stroke:black;stroke-width:1\" x1=\"310.056\" x2=\"304.429\" y1=\"10.0167\" y2=\"-3.92715\"/>\n",
       "<line style=\"stroke:black;stroke-width:1\" x1=\"309.944\" x2=\"315.571\" y1=\"9.98329\" y2=\"23.9272\"/>\n",
       "</svg>"
      ],
      "text/plain": [
       "<IPython.core.display.SVG at 0x7f75e4dc7e10>"
      ]
     },
     "execution_count": 15,
     "metadata": {},
     "output_type": "execute_result"
    }
   ],
   "source": [
    "from IPython.display import SVG\n",
    "SVG(txt)"
   ]
  },
  {
   "cell_type": "markdown",
   "metadata": {},
   "source": [
    "coefficents"
   ]
  },
  {
   "cell_type": "code",
   "execution_count": 12,
   "metadata": {
    "collapsed": false
   },
   "outputs": [
    {
     "data": {
      "image/svg+xml": [
       "<svg  viewBox = \"-5.570860 -13.927150 330.000000 88.927150\">\n",
       "<path style=\"fill:none;stroke:black;stroke-width:1px;\" d=\"m 15.570860,-3.927150 c 95.570860,38.569534 224.429140,38.569534 288.858280,0.000000\"/>\n",
       "<path style=\"fill:none;stroke:black;stroke-width:1px;\" d=\"m 4.429140,23.927150 c 84.429140,41.430466 235.570860,41.430466 311.141720,0.000000\"/>\n",
       "<path style=\"fill:none;stroke:black;stroke-width:1px\" d=\"m 9.944291,9.983287 c 16.416437,0.799703 9.472146,-0.798496 6.000000,1.798454\"/>\n",
       "<path style=\"fill:none;stroke:black;stroke-width:1px\" d=\"m 304.055709,11.815004 c 457.583563,-0.798353 156.527854,0.799703 6.000000,-1.798292\"/>\n",
       "<line x1=\"9.94429\" y1=\"9.98329\" x2=\"15.5709\" y2=\"-3.92715\" style=\"stroke:black;stroke-width:1\" />\n",
       "<line x1=\"10.0557\" y1=\"10.0167\" x2=\"4.42914\" y2=\"23.9272\" style=\"stroke:black;stroke-width:1\" />\n",
       "<line x1=\"310.056\" y1=\"10.0167\" x2=\"304.429\" y2=\"-3.92715\" style=\"stroke:black;stroke-width:1\" />\n",
       "<line x1=\"309.944\" y1=\"9.98329\" x2=\"315.571\" y2=\"23.9272\" style=\"stroke:black;stroke-width:1\" />\n",
       "</svg>"
      ],
      "text/plain": [
       "<repr(<__main__.shear_failure at 0x7f75e4e59128>) failed: TypeError: __repr__ returned non-string (type NoneType)>"
      ]
     },
     "execution_count": 12,
     "metadata": {},
     "output_type": "execute_result"
    }
   ],
   "source": [
    "tt"
   ]
  },
  {
   "cell_type": "code",
   "execution_count": 26,
   "metadata": {
    "collapsed": false
   },
   "outputs": [
    {
     "name": "stdout",
     "output_type": "stream",
     "text": [
      "<path style=\"fill:none;stroke:black;stroke-width:1px\" d=\"m 10.000000,10.000000 c 16.500000,0.000000 9.500000,-0.000000 6.000000,0.000000\"/>\n",
      "<path style=\"fill:none;stroke:black;stroke-width:1px\" d=\"m 304.000000,10.000000 c 457.500000,0.000000 156.500000,-0.000000 6.000000,0.000000\"/>\n"
     ]
    }
   ],
   "source": [
    "for top in tt.splits:\n",
    "    print(top.svg_path_txt)"
   ]
  },
  {
   "cell_type": "code",
   "execution_count": 15,
   "metadata": {
    "collapsed": false
   },
   "outputs": [
    {
     "data": {
      "text/plain": [
       "SVG_values(x0=15.570860145311556, y0=-3.927150363278889, cx0=95.57086014531156, cy0=38.569533817705185, cx2=224.42913985468846, cy2=38.56953381770519, dx=288.8582797093769, dy=0.0)"
      ]
     },
     "execution_count": 15,
     "metadata": {},
     "output_type": "execute_result"
    }
   ],
   "source": [
    "t=tt.top[0]\n",
    "t.svg_values"
   ]
  }
 ],
 "metadata": {
  "kernelspec": {
   "display_name": "Python 3",
   "language": "python",
   "name": "python3"
  },
  "language_info": {
   "codemirror_mode": {
    "name": "ipython",
    "version": 3
   },
   "file_extension": ".py",
   "mimetype": "text/x-python",
   "name": "python",
   "nbconvert_exporter": "python",
   "pygments_lexer": "ipython3",
   "version": "3.4.0"
  }
 },
 "nbformat": 4,
 "nbformat_minor": 0
}
