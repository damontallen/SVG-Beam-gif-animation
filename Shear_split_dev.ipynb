{
 "cells": [
  {
   "cell_type": "markdown",
   "metadata": {},
   "source": [
    "# Determining the length change due to Shear Failure."
   ]
  },
  {
   "cell_type": "markdown",
   "metadata": {},
   "source": [
    "The premise is that once the shear failure has occurred then the upper and lower halves of the beam will have reduced stresses from bending due to the stress redistribution.  The top will have less compression and the bottom will have less tension.\n",
    "\n",
    "<img src=\"http://imgur.com/675xK19.png\" width=\"35%\" height=\"35%\"/>"
   ]
  },
  {
   "cell_type": "markdown",
   "metadata": {},
   "source": [
    "Assume uniformly distributed load.\n",
    "$$V(x) = \\frac{w L}{2} - w x$$\n",
    "$$M(x) = -\\frac{w x^2}{2} + \\frac{w L}{2} x$$"
   ]
  },
  {
   "cell_type": "markdown",
   "metadata": {},
   "source": [
    "Moment arm in beam is $\\frac{2}{3} d$\n"
   ]
  },
  {
   "cell_type": "markdown",
   "metadata": {},
   "source": [
    "$$T = \\frac{M(x)}{\\frac{2}{3} d} = \\frac{-\\frac{w x^2}{2} + \\frac{w L}{2} x}{\\frac{2}{3} d}$$"
   ]
  },
  {
   "cell_type": "markdown",
   "metadata": {},
   "source": [
    "$$T = \\frac{3}{2 d}\\left(-\\frac{w x^2}{2} + \\frac{w L}{2} x \\right)$$\n",
    "$$T =  \\frac{3}{4} \\frac{w}{d} \\left(-x^2 + L x \\right)$$"
   ]
  },
  {
   "cell_type": "markdown",
   "metadata": {},
   "source": [
    "To simplify the problem assume the stress is uniform over the top and bottom.  Also assume a rectangular section since we are dealing with timber."
   ]
  },
  {
   "cell_type": "markdown",
   "metadata": {},
   "source": [
    "$$\\sigma = \\frac{T}{A} = \\frac{T}{b \\frac{d}{2}}$$\n",
    "$$\\sigma = \\frac{\\frac{3}{4} \\frac{w}{d} \\left(-x^2 + L x \\right)}{b \\frac{d}{2}}$$"
   ]
  },
  {
   "cell_type": "markdown",
   "metadata": {},
   "source": [
    "$$\\sigma = \\frac{3}{2} \\frac{w}{b d^2} \\left(-x^2 + L x \\right)$$"
   ]
  },
  {
   "cell_type": "markdown",
   "metadata": {},
   "source": [
    "$$\\Delta L = \\frac{1}{E}\\int^x_0 \\sigma(x) dx$$\n",
    "For a shear split that extends for a distance of $L/4$\n",
    "$$\\Delta L = \\frac{1}{E}\\int^{L/4}_0 \\frac{3}{2} \\frac{w}{b d^2} \\left(-x^2 + L x \\right) dx$$"
   ]
  },
  {
   "cell_type": "markdown",
   "metadata": {},
   "source": [
    "$$\\Delta L = \\frac{3}{2E} \\frac{w}{ b d^2} \\int^{L/4}_0 -x^2 + L x dx$$"
   ]
  },
  {
   "cell_type": "markdown",
   "metadata": {},
   "source": [
    "$$\\Delta L = \\frac{3}{2E} \\frac{w}{ b d^2} \\left| -\\frac{x^3}{3} + L \\frac{x^2}{2} \\right|_0^{L/4}$$"
   ]
  },
  {
   "cell_type": "markdown",
   "metadata": {},
   "source": [
    "$$\\Delta L = \\frac{3}{2E} \\frac{w}{ b d^2} \\left( -\\frac{L^3}{3\\times 4^3} + L \\frac{L^2}{2\\times 16} \\right)$$"
   ]
  },
  {
   "cell_type": "markdown",
   "metadata": {},
   "source": [
    "$$\\Delta L = \\frac{1}{2E} \\frac{w}{b d^2} \\left( -\\frac{L^3}{64} + \\frac{3 L^3}{32} \\right)$$"
   ]
  },
  {
   "cell_type": "markdown",
   "metadata": {},
   "source": [
    "$$\\Delta L = \\frac{1}{2E} \\frac{w}{b d^2} \\left( -\\frac{L^3}{64} + \\frac{6 L^3}{64} \\right)$$\n",
    "$$\\Delta L = \\frac{5 w L^3}{128 E b d^2}$$"
   ]
  },
  {
   "cell_type": "markdown",
   "metadata": {},
   "source": [
    "Deflection due to bending is,\n",
    "$$\\Delta = \\frac{5 w L^4}{384 E I}$$\n",
    "and the ratio of $\\Delta L$ to $\\Delta$ is,\n",
    "$$\\frac{\\Delta L}{\\Delta} = \\frac{\\frac{5 w L^3}{128 E b d^2}}{\\frac{5 w L^4}{384 E I}}$$"
   ]
  },
  {
   "cell_type": "markdown",
   "metadata": {},
   "source": [
    "$$\\frac{\\Delta L}{\\Delta} = \\frac{\\frac{1}{128 b d^2}}{\\frac{L}{384  I}}$$"
   ]
  },
  {
   "cell_type": "markdown",
   "metadata": {},
   "source": [
    "$$\\frac{\\Delta L}{\\Delta} = \\frac{384  I}{128 L b d^2}$$\n",
    "\n",
    "$$\\frac{\\Delta L}{\\Delta} = \\frac{3  I}{ L b d^2}$$"
   ]
  },
  {
   "cell_type": "markdown",
   "metadata": {},
   "source": [
    "Since this is a rectangular section,\n",
    "$$\\frac{\\Delta L}{\\Delta} = \\frac{3 \\frac{1}{12} b d^3}{ L b d^2}$$"
   ]
  },
  {
   "cell_type": "markdown",
   "metadata": {},
   "source": [
    "$$\\frac{\\Delta L}{\\Delta} = \\frac{d}{4 L}$$"
   ]
  },
  {
   "cell_type": "markdown",
   "metadata": {},
   "source": [
    "Therefore $\\Delta L$ as a function of $\\Delta$ is,\n",
    "\n",
    "$$\\Delta L = \\Delta \\times \\frac{d}{4 L}$$\n",
    "\n",
    "$\\Delta L$ is a first order function of all the factors in the equation, so it is reasonably safe to assume that it would just be proportional to the length of the split, $L/4$ in this case.  Based on that assumption we can rewrite $\\Delta L$ as a function of the length of the split.\n",
    "\n",
    "$$\\Delta L\\left(L_{split}\\right) = \\Delta \\times \\frac{\\frac{d}{4 L}}{L/4} \\times L_{split} = \\Delta \\times \\frac{d}{4 L}\\times \\frac{4}{L} \\times L_{split}$$\n",
    "\n",
    "or"
   ]
  },
  {
   "cell_type": "markdown",
   "metadata": {},
   "source": [
    "$$\\Delta L\\left(L_{split}\\right) = \\Delta \\times  L_{split} \\times \\frac{d}{ L^2} $$"
   ]
  },
  {
   "cell_type": "markdown",
   "metadata": {},
   "source": [
    "To determine the new origin of the beam top or bottom we must use a line intergral.\n",
    "\n",
    "$$\\oint_{x_0}^{x} f(x) dx = \\Delta L$$\n",
    "\n",
    "Assuming the deflected shape can be modeled by a second order curve,\n",
    "\n",
    "$$\\oint_{x_0}^{x} \\left(a x^2 +b x+c \\right) dx = \\Delta L$$"
   ]
  },
  {
   "cell_type": "markdown",
   "metadata": {},
   "source": [
    "$$\\frac{d f(x)}{dx} = \\frac{dy}{dx} = 2 a x + b$$\n",
    "\n",
    "$$dy = \\left(2 a x + b\\right)dx$$\n",
    "\n",
    "$$dL = \\sqrt{dx^2 + dy^2}$$\n",
    "\n",
    "$$dL = \\sqrt{dx^2 + \\left(2 a x + b\\right)^2 dx^2}$$\n",
    "\n",
    "$$dL = dx \\sqrt{1 + \\left(2 a x + b\\right)^2}$$\n",
    "\n",
    "$$dL = dx \\sqrt{1 + 4 a^2 x^2 + 4 a x b+b^2}$$"
   ]
  },
  {
   "cell_type": "markdown",
   "metadata": {},
   "source": [
    "$$\\int_{x_0}^{x} \\sqrt{1 + 4 a^2 x^2 + 4 a x b+b^2} dx = \\Delta L$$\n",
    "\n"
   ]
  },
  {
   "cell_type": "markdown",
   "metadata": {},
   "source": [
    "This is not a simple solution and we are only drawing a picture not making precise calculations.  To simplify the problem assume that the function $dy/dx$ is a constant over the short distance $\\Delta L$.  \n",
    "\n",
    "$$\\Delta L = \\sqrt{\\Delta_x^2 + \\Delta_y^2}$$\n",
    "\n",
    "$$\\Delta L = \\sqrt{\\Delta_x^2 + (2ax_0+b)^2 \\Delta_x^2}$$\n",
    "\n",
    "$$\\Delta L = \\Delta_x \\sqrt{1 + 4a^2 x_0^2+4 a x_0 b+b^2}$$"
   ]
  },
  {
   "cell_type": "markdown",
   "metadata": {},
   "source": [
    "$$ \\Delta_x =\\frac{ \\Delta L }{\\sqrt{1 + 4a^2 x_0^2+4 a x_0 b+b^2}}$$\n",
    "\n",
    "$$ \\Delta_x =\\frac{ \\Delta L }{m}$$"
   ]
  },
  {
   "cell_type": "markdown",
   "metadata": {},
   "source": [
    "$$ x - x_0 =\\frac{ \\Delta L }{\\sqrt{1 + 4a^2 x_0^2+4 a x_0 b+b^2}}$$"
   ]
  },
  {
   "cell_type": "code",
   "execution_count": 1,
   "metadata": {
    "collapsed": false
   },
   "outputs": [],
   "source": [
    "# aS = arb_spline(X=[0,50,100],Y=[0,10,0],k0=0.5,k1=0,k2=-0.1)\n",
    "# aS"
   ]
  },
  {
   "cell_type": "code",
   "execution_count": 2,
   "metadata": {
    "collapsed": false
   },
   "outputs": [],
   "source": [
    "# XX = lambda : \"text\"\n",
    "# XX()"
   ]
  },
  {
   "cell_type": "code",
   "execution_count": 3,
   "metadata": {
    "collapsed": false
   },
   "outputs": [],
   "source": [
    "# from IPython.display import SVG\n",
    "# txt=\"\"\"<svg viewBox = \"-10 -10 120 30\">\n",
    "# {}\n",
    "# </svg>\"\"\".format(aS.svg_path_txt)\n",
    "# SVG(txt)"
   ]
  },
  {
   "cell_type": "markdown",
   "metadata": {},
   "source": [
    "$$ x  =\\frac{ \\Delta L }{\\sqrt{1 + 4a^2 x_0^2+4 a x_0 b+b^2}} + x_0$$\n",
    "\n",
    "$$ y = a x^2 +b x+c$$\n",
    "\n",
    "or since $x_0$ isn't changing,\n",
    "\n",
    "$$ x  = x_0 + \\frac{ \\Delta L }{\\sqrt{1 + 4a^2 x_0^2+4 a x_0 b+b^2}}$$ \n",
    "\n",
    "substituting for $\\Delta L$,\n",
    "\n",
    "$$ x  = x_0 +\\frac{ \\Delta \\times  L_{split} \\times \\frac{d}{ L^2} }{\\sqrt{1 + 4a^2 x_0^2+4 a x_0 b+b^2}} $$ "
   ]
  },
  {
   "cell_type": "markdown",
   "metadata": {},
   "source": [
    "<img src=\"http://upload.wikimedia.org/math/0/3/1/0311663d2a54f6844a1d6ac5823abc94.png\"/>"
   ]
  },
  {
   "cell_type": "code",
   "execution_count": 15,
   "metadata": {
    "collapsed": false
   },
   "outputs": [],
   "source": [
    "from SVG_beam import beam\n",
    "from SVG_lib import point, Line\n",
    "from New_Spline import Spline\n",
    "from CurveManip import rotate, mirror\n",
    "from numpy import sqrt\n",
    "from collections import namedtuple\n",
    "\n",
    "class shear_failure(beam):\n",
    "    def __init__(self):\n",
    "        super(shear_failure,self).__init__()\n",
    "        self.L_split = 0.02\n",
    "    \n",
    "    def split(self):\n",
    "        \"\"\"Takes the beam in its current configuration and adds a shear failure\n",
    "        \n",
    "        Based on the assumption that the compression and tension at the top \n",
    "        and bottom of the beam is uniformly distributed over the upper and\n",
    "        lower half of the beam, the change in length of the top and bottom due\n",
    "        to a shear crack extending over 1/4 the length of the beam (at each end)\n",
    "        is only Delta times d/4L.  Where Delta is the deflection due to bending\n",
    "        at the center of the beam, d is the depth of the beam, and L is the beam \n",
    "        length.  For a beam that has a length of 300, a depth of 30 and a \n",
    "        deflection of 30 that change is only 0.75.  \n",
    "        \"\"\"\n",
    "        cL = self.centerline\n",
    "        L = self.L \n",
    "        L_split = self.L_split * L\n",
    "        D = self.sag\n",
    "#         print(\"L_split = {}\".format(L_split))\n",
    "        D_x0 = (D*self.thickness/(L**2)*L_split)/cL.instant_slope(cL.P0)\n",
    "        D_x3 = (D*self.thickness/(L**2)*L_split)/cL.instant_slope(cL.P3)\n",
    "#         print(\"D_x0,D_x3 = {}\".format((D_x0,D_x3)))\n",
    "        Top_n_Bottom = namedtuple('Top_n_Bottom','top bot')\n",
    "        x0 = Top_n_Bottom(cL.P0[0]-D_x0,cL.P0[0]+D_x0)\n",
    "        x3 = Top_n_Bottom(cL.P3[0]-D_x3,cL.P3[0]+D_x3)\n",
    "#         print(cL)\n",
    "#         a,b,c,d,e = cL.Coefficients()\n",
    "#         Y = lambda x:a*(x-cL.P0[0])**4+b*(x-cL.P0[0])**3+c*(x-cL.P0[0])**2+d*(x-cL.P0[0])+e\n",
    "        \n",
    "        y0 = Top_n_Bottom(*[cL.Y_(x) for x in x0])\n",
    "        y3 = Top_n_Bottom(*[cL.Y_(x) for x in x3])\n",
    "#         for item, loc in {'x0':x0,'y0':y0,'x3':x3,'y3':y3}.items():\n",
    "#             print('{} = {}'.format(item,loc))\n",
    "        # Bottom of top and top of bottom are both located at the original centerline\n",
    "        self.bottom_of_top = Spline([x0.top,y0.top],[x3.top,y3.top],cL.Coefficients())\n",
    "        self.top_of_bottom = Spline([x0.bot,y0.bot],[x3.bot,y3.bot],cL.Coefficients())\n",
    "        \n",
    "        if x0.top<x0.bot: # Deflecting upward and top got longer\n",
    "            control = self.bottom_of_top\n",
    "#             print(\"Top got longer.\")\n",
    "        else: # Deflecting downward and bottom got longer\n",
    "            control = self.top_of_bottom\n",
    "#             print(\"No change!\")\n",
    "        \n",
    "        xL = min(x0) + L_split\n",
    "        xR = max(x3) - L_split\n",
    "        yL = cL.Y_(xL)\n",
    "        yR = cL.Y_(xR)\n",
    "        \n",
    "        Left = Spline(control.P0,[xL,yL],cL.Coefficients())\n",
    "        Right = Spline([xR,yR],control.P3,cL.Coefficients())\n",
    "        Left.points = False\n",
    "        Right.points = False\n",
    "        self.splits = [Left,Right]\n",
    "        \n",
    "        angles = cL.end_angles()\n",
    "        offset = self.thickness/2\n",
    "        \n",
    "#         print('offset = {}'.format(offset))\n",
    "#         a_ = self.bottom_of_top.P0\n",
    "#         print('self.bottom_of_top.P0 = {}'.format(a_))\n",
    "#         t_p0 = point(*a_)\n",
    "#         print('t_p0 = {}'.format(t_p0))\n",
    "#         t_p0 = t_p0.offset_y(-offset)\n",
    "#         print('offset t_p0 = {}'.format(t_p0))\n",
    "        \n",
    "        top_P0 = rotate(point(self.bottom_of_top.P0).offset_y(-offset).List(),\n",
    "                        self.bottom_of_top.P0, angles.θ_0)\n",
    "        bot_P0 = rotate(point(self.top_of_bottom.P0).offset_y(offset).List(),\n",
    "                        self.top_of_bottom.P0, angles.θ_0)\n",
    "        top_P3 = rotate(point(self.bottom_of_top.P3).offset_y(-offset).List(),\n",
    "                        self.bottom_of_top.P3, angles.θ_1)\n",
    "        bot_P3 = rotate(point(self.top_of_bottom.P3).offset_y(offset).List(),\n",
    "                        self.top_of_bottom.P3, angles.θ_1)\n",
    "        # Ends...\n",
    "        top = self.top[0]\n",
    "        bottom = self.bottom[0]\n",
    "        \n",
    "        top.P0 = [float(p) for p in top_P0]\n",
    "        top.P3 = [float(p) for p in top_P3]\n",
    "        bottom.P0 = [float(p) for p in bot_P0]\n",
    "        bottom.P3 = [float(p) for p in bot_P3]\n",
    "        \n",
    "        Left_T = Line(top.P0,self.bottom_of_top.P0)\n",
    "        Left_T.width = 1\n",
    "        Left_M = Line(self.bottom_of_top.P0,self.top_of_bottom.P0)\n",
    "        Left_M.width = 1\n",
    "        Left_B = Line(self.top_of_bottom.P0,bottom.P0)\n",
    "        Left_B.width = 1\n",
    "        Right_T = Line(top.P3,self.bottom_of_top.P3)\n",
    "        Right_T.width = 1\n",
    "        Right_M = Line(self.bottom_of_top.P3,self.top_of_bottom.P3)\n",
    "        Right_M.width = 1\n",
    "        Right_B = Line(self.top_of_bottom.P3,bottom.P3)\n",
    "        Right_B.width = 1\n",
    "        self.L_end = [Left_T, Left_M, Left_B]\n",
    "        self.R_end = [Right_T, Right_M, Right_B]\n",
    "        self.manual_ends = True\n",
    "\n",
    "    @property\n",
    "    def L(self):\n",
    "        x2,y2 = self.R_CL.List()\n",
    "        x0,y0 = self.L_CL.List()\n",
    "        L = sqrt((x2-x0)**2+(y2-y0)**2)\n",
    "        return L\n",
    "        \n",
    "    @property\n",
    "    def L_split(self):\n",
    "        return self._L_split\n",
    "    @L_split.setter\n",
    "    def L_split(self, val):\n",
    "        if val > 0.5 or val <0:\n",
    "            er = (\"L_split is a fractional amount of the beam length up to 0.5 \"\n",
    "                  \"and it should be limited to 0.167.\")\n",
    "            raise(ValueError(er))\n",
    "        self._L_split = val"
   ]
  },
  {
   "cell_type": "code",
   "execution_count": 16,
   "metadata": {
    "collapsed": false
   },
   "outputs": [],
   "source": [
    "tt = shear_failure()"
   ]
  },
  {
   "cell_type": "code",
   "execution_count": 18,
   "metadata": {
    "collapsed": false
   },
   "outputs": [
    {
     "data": {
      "image/svg+xml": [
       "<svg  viewBox = \"-14.571636 -24.286362 349.143272 88.572724\">\n",
       "<circle cx=\"14.571635906556757\" cy=\"-14.286362207989864\" r=\"2\" stroke=\"black\" stroke-width=\"1\" fill=\"none\" />\n",
       "<circle cx=\"305.42836409344324\" cy=\"-14.286362207989864\" r=\"2\" stroke=\"black\" stroke-width=\"1\" fill=\"none\" />\n",
       "<circle cx=\"160.0\" cy=\"15.713637792010132\" r=\"2\" stroke=\"black\" stroke-width=\"1\" fill=\"none\" />\n",
       "<path\n",
       "style=\"fill:none;fill-rule:evenodd;stroke:black;stroke-width:1px;stroke-linecap:square;stroke-linejoin:miter;stroke-opacity:1\"\n",
       "d=\"M 14.571635906556757,-14.286362207989864 C 135.76193931776,25.71363779201 184.23806068224,25.71363779201 305.42836409344324,-14.286362207989864\"\n",
       "inkscape:connector-curvature=\"0\" />\n",
       "\n",
       "<circle cx=\"5.4283640934432436\" cy=\"14.286362207989864\" r=\"2\" stroke=\"black\" stroke-width=\"1\" fill=\"none\" />\n",
       "<circle cx=\"314.57163590655676\" cy=\"14.286362207989864\" r=\"2\" stroke=\"black\" stroke-width=\"1\" fill=\"none\" />\n",
       "<circle cx=\"160.0\" cy=\"44.286362207989875\" r=\"2\" stroke=\"black\" stroke-width=\"1\" fill=\"none\" />\n",
       "<path\n",
       "style=\"fill:none;fill-rule:evenodd;stroke:black;stroke-width:1px;stroke-linecap:square;stroke-linejoin:miter;stroke-opacity:1\"\n",
       "d=\"M 5.4283640934432436,14.286362207989864 C 134.23806068224,54.28636220799 185.76193931776,54.28636220799 314.57163590655676,14.286362207989864\"\n",
       "inkscape:connector-curvature=\"0\" />\n",
       "\n",
       "<circle cx=\"10\" cy=\"0\" r=\"2\" stroke=\"black\" stroke-width=\"1\" fill=\"none\" />\n",
       "<circle cx=\"310\" cy=\"0\" r=\"2\" stroke=\"black\" stroke-width=\"1\" fill=\"none\" />\n",
       "<circle cx=\"160.0\" cy=\"30.0\" r=\"2\" stroke=\"black\" stroke-width=\"1\" fill=\"none\" />\n",
       "<path stroke-dasharray=\"20,5,5,5\" \n",
       "style=\"fill:none;fill-rule:evenodd;stroke:black;stroke-width:1px;stroke-linecap:square;stroke-linejoin:miter;stroke-opacity:1\"\n",
       "d=\"M 10,0 C 135.0,40.0 185.0,40.0 310,0\"\n",
       "inkscape:connector-curvature=\"0\" />\n",
       "<line x1=\"14.5716\" y1=\"-14.2864\" x2=\"5.42836\" y2=\"14.2864\" style=\"stroke:black;stroke-width:1\" />\n",
       "<line x1=\"305.428\" y1=\"-14.2864\" x2=\"314.572\" y2=\"14.2864\" style=\"stroke:black;stroke-width:1\" />\n",
       "<path d = \"M 314.57163590655676,14.286362207989864 L 324.57163590655676,31.60687028367864 304.57163590655676,31.60687028367864\"/>\n",
       "    <circle cx=\"308.57163590655676\" cy=\"35.60687028367864\" r=\"4\" stroke=\"black\" stroke-width=\"1\" fill=\"none\" />\n",
       "    <circle cx=\"320.57163590655676\" cy=\"35.60687028367864\" r=\"4\" stroke=\"black\" stroke-width=\"1\" fill=\"none\" />\n",
       "    <line x1=\"304.57163590655676\" y1=\"39.60687028367864\" x2=\"324.57163590655676\" y2=\"39.60687028367864\" style=\"stroke:black;stroke-width:1\" />\n",
       "    <line x1=\"304.57163590655676\" y1=\"39.60687028367864\" x2=\"294.57163590655676\" y2=\"49.60687028367864\" style=\"stroke:black;stroke-width:1\" />\n",
       "    <line x1=\"308.57163590655676\" y1=\"39.60687028367864\" x2=\"298.57163590655676\" y2=\"49.60687028367864\" style=\"stroke:black;stroke-width:1\" />\n",
       "    <line x1=\"312.57163590655676\" y1=\"39.60687028367864\" x2=\"302.57163590655676\" y2=\"49.60687028367864\" style=\"stroke:black;stroke-width:1\" />\n",
       "    <line x1=\"316.57163590655676\" y1=\"39.60687028367864\" x2=\"306.57163590655676\" y2=\"49.60687028367864\" style=\"stroke:black;stroke-width:1\" />\n",
       "    <line x1=\"320.57163590655676\" y1=\"39.60687028367864\" x2=\"310.57163590655676\" y2=\"49.60687028367864\" style=\"stroke:black;stroke-width:1\" />\n",
       "    <line x1=\"324.57163590655676\" y1=\"39.60687028367864\" x2=\"314.57163590655676\" y2=\"49.60687028367864\" style=\"stroke:black;stroke-width:1\" />\n",
       "    <path d = \"M 5.4283640934432436,14.286362207989864 L 15.428364093443243,31.60687028367864 -4.571635906556757,31.60687028367864\"/>\n",
       "    <line x1=\"-4.571635906556757\" y1=\"31.60687028367864\" x2=\"-14.571635906556757\" y2=\"41.60687028367864\" style=\"stroke:black;stroke-width:1\" />\n",
       "    <line x1=\"-0.5716359065567573\" y1=\"31.60687028367864\" x2=\"-10.571635906556757\" y2=\"41.60687028367864\" style=\"stroke:black;stroke-width:1\" />\n",
       "    <line x1=\"3.4283640934432427\" y1=\"31.60687028367864\" x2=\"-6.571635906556757\" y2=\"41.60687028367864\" style=\"stroke:black;stroke-width:1\" />\n",
       "    <line x1=\"7.428364093443243\" y1=\"31.60687028367864\" x2=\"-2.5716359065567573\" y2=\"41.60687028367864\" style=\"stroke:black;stroke-width:1\" />\n",
       "    <line x1=\"11.428364093443243\" y1=\"31.60687028367864\" x2=\"1.4283640934432427\" y2=\"41.60687028367864\" style=\"stroke:black;stroke-width:1\" />\n",
       "    <line x1=\"15.428364093443243\" y1=\"31.60687028367864\" x2=\"5.428364093443243\" y2=\"41.60687028367864\" style=\"stroke:black;stroke-width:1\" />\n",
       "    </svg>"
      ],
      "text/plain": [
       "sag = 30\n",
       "Origin = class: point(x = 10, y = 0)\n",
       "End = class: point(x = 310, y = 0)\n",
       "d = 30"
      ]
     },
     "execution_count": 18,
     "metadata": {},
     "output_type": "execute_result"
    }
   ],
   "source": [
    "tt.sag=30\n",
    "tt"
   ]
  },
  {
   "cell_type": "code",
   "execution_count": 21,
   "metadata": {
    "collapsed": true
   },
   "outputs": [],
   "source": [
    "tt.show_center_line = False\n",
    "tt.display_points = False"
   ]
  },
  {
   "cell_type": "code",
   "execution_count": 23,
   "metadata": {
    "collapsed": false
   },
   "outputs": [
    {
     "data": {
      "image/svg+xml": [
       "<svg  viewBox = \"-13.821636 -24.526359 347.643272 89.052718\">\n",
       "<path\n",
       "style=\"fill:none;fill-rule:evenodd;stroke:black;stroke-width:1px;stroke-linecap:square;stroke-linejoin:miter;stroke-opacity:1\"\n",
       "d=\"M 13.821635906556757,-14.526359204239863 C 135.63693931776,25.47364079576 184.36306068224,25.47364079576 306.17836409344324,-14.526359204239865\"\n",
       "inkscape:connector-curvature=\"0\" />\n",
       "\n",
       "<path\n",
       "style=\"fill:none;fill-rule:evenodd;stroke:black;stroke-width:1px;stroke-linecap:square;stroke-linejoin:miter;stroke-opacity:1\"\n",
       "d=\"M 6.1783640934432436,14.526359211739864 C 134.36306068224,54.52635921174 185.63693931776,54.52635921174 313.82163590655676,14.526359211739868\"\n",
       "inkscape:connector-curvature=\"0\" />\n",
       "\n",
       "<path\n",
       "style=\"fill:none;fill-rule:evenodd;stroke:black;stroke-width:1px;stroke-linecap:square;stroke-linejoin:miter;stroke-opacity:1\"\n",
       "d=\"M 9.25,-0.23999699625000037 C 17.29074205866,2.3329438128 25.18394004359,4.86116290127 33.25,7.354090203749999\"\n",
       "inkscape:connector-curvature=\"0\" />\n",
       "\n",
       "<path\n",
       "style=\"fill:none;fill-rule:evenodd;stroke:black;stroke-width:1px;stroke-linecap:square;stroke-linejoin:miter;stroke-opacity:1\"\n",
       "d=\"M 286.75,7.354090203749989 C 294.81605995643,4.86116290127 302.70925794133,2.33294381281 310.75,-0.23999699625000126\"\n",
       "inkscape:connector-curvature=\"0\" />\n",
       "\n",
       "<line x1=\"13.8216\" y1=\"-14.5264\" x2=\"9.25\" y2=\"-0.239997\" style=\"stroke:black;stroke-width:1\" />\n",
       "<line x1=\"9.25\" y1=\"-0.239997\" x2=\"10.75\" y2=\"0.239997\" style=\"stroke:black;stroke-width:1\" />\n",
       "<line x1=\"10.75\" y1=\"0.239997\" x2=\"6.17836\" y2=\"14.5264\" style=\"stroke:black;stroke-width:1\" />\n",
       "<line x1=\"306.178\" y1=\"-14.5264\" x2=\"310.75\" y2=\"-0.239997\" style=\"stroke:black;stroke-width:1\" />\n",
       "<line x1=\"310.75\" y1=\"-0.239997\" x2=\"309.25\" y2=\"0.239997\" style=\"stroke:black;stroke-width:1\" />\n",
       "<line x1=\"309.25\" y1=\"0.239997\" x2=\"313.822\" y2=\"14.5264\" style=\"stroke:black;stroke-width:1\" />\n",
       "<path d = \"M 313.82163590655676,14.526359211739868 L 323.82163590655676,31.846867287428644 303.82163590655676,31.846867287428644\"/>\n",
       "    <circle cx=\"307.82163590655676\" cy=\"35.846867287428644\" r=\"4\" stroke=\"black\" stroke-width=\"1\" fill=\"none\" />\n",
       "    <circle cx=\"319.82163590655676\" cy=\"35.846867287428644\" r=\"4\" stroke=\"black\" stroke-width=\"1\" fill=\"none\" />\n",
       "    <line x1=\"303.82163590655676\" y1=\"39.846867287428644\" x2=\"323.82163590655676\" y2=\"39.846867287428644\" style=\"stroke:black;stroke-width:1\" />\n",
       "    <line x1=\"303.82163590655676\" y1=\"39.846867287428644\" x2=\"293.82163590655676\" y2=\"49.846867287428644\" style=\"stroke:black;stroke-width:1\" />\n",
       "    <line x1=\"307.82163590655676\" y1=\"39.846867287428644\" x2=\"297.82163590655676\" y2=\"49.846867287428644\" style=\"stroke:black;stroke-width:1\" />\n",
       "    <line x1=\"311.82163590655676\" y1=\"39.846867287428644\" x2=\"301.82163590655676\" y2=\"49.846867287428644\" style=\"stroke:black;stroke-width:1\" />\n",
       "    <line x1=\"315.82163590655676\" y1=\"39.846867287428644\" x2=\"305.82163590655676\" y2=\"49.846867287428644\" style=\"stroke:black;stroke-width:1\" />\n",
       "    <line x1=\"319.82163590655676\" y1=\"39.846867287428644\" x2=\"309.82163590655676\" y2=\"49.846867287428644\" style=\"stroke:black;stroke-width:1\" />\n",
       "    <line x1=\"323.82163590655676\" y1=\"39.846867287428644\" x2=\"313.82163590655676\" y2=\"49.846867287428644\" style=\"stroke:black;stroke-width:1\" />\n",
       "    <path d = \"M 6.1783640934432436,14.526359211739864 L 16.178364093443243,31.846867287428637 -3.8216359065567573,31.846867287428637\"/>\n",
       "    <line x1=\"-3.8216359065567573\" y1=\"31.846867287428637\" x2=\"-13.821635906556757\" y2=\"41.84686728742864\" style=\"stroke:black;stroke-width:1\" />\n",
       "    <line x1=\"0.17836409344324267\" y1=\"31.846867287428637\" x2=\"-9.821635906556757\" y2=\"41.84686728742864\" style=\"stroke:black;stroke-width:1\" />\n",
       "    <line x1=\"4.178364093443243\" y1=\"31.846867287428637\" x2=\"-5.821635906556757\" y2=\"41.84686728742864\" style=\"stroke:black;stroke-width:1\" />\n",
       "    <line x1=\"8.178364093443243\" y1=\"31.846867287428637\" x2=\"-1.8216359065567573\" y2=\"41.84686728742864\" style=\"stroke:black;stroke-width:1\" />\n",
       "    <line x1=\"12.178364093443243\" y1=\"31.846867287428637\" x2=\"2.1783640934432427\" y2=\"41.84686728742864\" style=\"stroke:black;stroke-width:1\" />\n",
       "    <line x1=\"16.178364093443243\" y1=\"31.846867287428637\" x2=\"6.178364093443243\" y2=\"41.84686728742864\" style=\"stroke:black;stroke-width:1\" />\n",
       "    </svg>"
      ],
      "text/plain": [
       "sag = 30\n",
       "Origin = class: point(x = 10, y = 0)\n",
       "End = class: point(x = 310, y = 0)\n",
       "d = 30"
      ]
     },
     "execution_count": 23,
     "metadata": {},
     "output_type": "execute_result"
    }
   ],
   "source": [
    "tt.L_split=0.08\n",
    "tt.split()\n",
    "tt"
   ]
  },
  {
   "cell_type": "code",
   "execution_count": 27,
   "metadata": {
    "collapsed": false
   },
   "outputs": [],
   "source": [
    "# print(tt.svg_alt())"
   ]
  },
  {
   "cell_type": "code",
   "execution_count": 26,
   "metadata": {
    "collapsed": false
   },
   "outputs": [],
   "source": [
    "# from IPython.display import SVG\n",
    "# SVG(tt.svg_alt())"
   ]
  },
  {
   "cell_type": "code",
   "execution_count": 25,
   "metadata": {
    "collapsed": true
   },
   "outputs": [],
   "source": [
    "with open(\"split.svg\",'w') as f:\n",
    "    f.write(tt.svg_alt())"
   ]
  },
  {
   "cell_type": "code",
   "execution_count": null,
   "metadata": {
    "collapsed": true
   },
   "outputs": [],
   "source": []
  },
  {
   "cell_type": "code",
   "execution_count": null,
   "metadata": {
    "collapsed": true
   },
   "outputs": [],
   "source": []
  },
  {
   "cell_type": "code",
   "execution_count": null,
   "metadata": {
    "collapsed": true
   },
   "outputs": [],
   "source": []
  },
  {
   "cell_type": "code",
   "execution_count": null,
   "metadata": {
    "collapsed": true
   },
   "outputs": [],
   "source": []
  },
  {
   "cell_type": "code",
   "execution_count": null,
   "metadata": {
    "collapsed": true
   },
   "outputs": [],
   "source": []
  }
 ],
 "metadata": {
  "kernelspec": {
   "display_name": "Python 3",
   "language": "python",
   "name": "python3"
  },
  "language_info": {
   "codemirror_mode": {
    "name": "ipython",
    "version": 3
   },
   "file_extension": ".py",
   "mimetype": "text/x-python",
   "name": "python",
   "nbconvert_exporter": "python",
   "pygments_lexer": "ipython3",
   "version": "3.4.0"
  }
 },
 "nbformat": 4,
 "nbformat_minor": 0
}
