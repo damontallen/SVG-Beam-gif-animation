{
 "metadata": {
  "name": "",
  "signature": "sha256:56f17776593cc4e05c6a4f1dd2354673abb561f97c8cf7cd56e8a2fddc277566"
 },
 "nbformat": 3,
 "nbformat_minor": 0,
 "worksheets": [
  {
   "cells": [
    {
     "cell_type": "markdown",
     "metadata": {},
     "source": [
      "Assume uniformly distributed load.\n",
      "$$V(x) = \\frac{w L}{2} - w x$$\n",
      "$$M(x) = -\\frac{w x^2}{2} + \\frac{w L}{2} x$$"
     ]
    },
    {
     "cell_type": "markdown",
     "metadata": {},
     "source": [
      "Moment arm in beam is $\\frac{2}{3} d$\n"
     ]
    },
    {
     "cell_type": "markdown",
     "metadata": {},
     "source": [
      "$$T = \\frac{M(x)}{\\frac{2}{3} d} = \\frac{-\\frac{w x^2}{2} + \\frac{w L}{2} x}{\\frac{2}{3} d}$$"
     ]
    },
    {
     "cell_type": "markdown",
     "metadata": {},
     "source": [
      "$$T = \\frac{3}{2 d}\\left(-\\frac{w x^2}{2} + \\frac{w L}{2} x \\right)$$\n",
      "$$T =  \\frac{3}{4} \\frac{w}{d} \\left(-x^2 + L x \\right)$$"
     ]
    },
    {
     "cell_type": "markdown",
     "metadata": {},
     "source": [
      "To simplify the problem assume the stress is uniform over the top and bottom.  Also assume a rectangular section since we are dealing with timber."
     ]
    },
    {
     "cell_type": "markdown",
     "metadata": {},
     "source": [
      "$$\\sigma = \\frac{T}{A} = \\frac{T}{b \\frac{d}{2}}$$\n",
      "$$\\sigma = \\frac{\\frac{3}{4} \\frac{w}{d} \\left(-x^2 + L x \\right)}{b \\frac{d}{2}}$$"
     ]
    },
    {
     "cell_type": "markdown",
     "metadata": {},
     "source": [
      "$$\\sigma = \\frac{3}{2} \\frac{w}{b d^2} \\left(-x^2 + L x \\right)$$"
     ]
    },
    {
     "cell_type": "markdown",
     "metadata": {},
     "source": [
      "$$\\Delta L = \\frac{1}{E}\\int^x_0 \\sigma(x) dx$$\n",
      "For a shear split that extends for a distance of $L/4$\n",
      "$$\\Delta L = \\frac{1}{E}\\int^{L/4}_0 \\frac{3}{2} \\frac{w}{b d^2} \\left(-x^2 + L x \\right) dx$$"
     ]
    },
    {
     "cell_type": "markdown",
     "metadata": {},
     "source": [
      "$$\\Delta L = \\frac{3}{2E} \\frac{w}{ b d^2} \\int^{L/4}_0 -x^2 + L x dx$$"
     ]
    },
    {
     "cell_type": "markdown",
     "metadata": {},
     "source": [
      "$$\\Delta L = \\frac{3}{2E} \\frac{w}{ b d^2} \\left| -\\frac{x^3}{3} + L \\frac{x^2}{2} \\right|_0^{L/4}$$"
     ]
    },
    {
     "cell_type": "markdown",
     "metadata": {},
     "source": [
      "$$\\Delta L = \\frac{3}{2E} \\frac{w}{ b d^2} \\left( -\\frac{L^3}{3\\times 4^3} + L \\frac{L^2}{2\\times 16} \\right)$$"
     ]
    },
    {
     "cell_type": "markdown",
     "metadata": {},
     "source": [
      "$$\\Delta L = \\frac{1}{2E} \\frac{w}{b d^2} \\left( -\\frac{L^3}{64} + \\frac{3 L^3}{32} \\right)$$"
     ]
    },
    {
     "cell_type": "markdown",
     "metadata": {},
     "source": [
      "$$\\Delta L = \\frac{1}{2E} \\frac{w}{b d^2} \\left( -\\frac{L^3}{64} + \\frac{6 L^3}{64} \\right)$$\n",
      "$$\\Delta L = \\frac{5 w L^3}{128 E b d^2}$$"
     ]
    },
    {
     "cell_type": "markdown",
     "metadata": {},
     "source": [
      "Deflection due to bending is,\n",
      "$$\\Delta = \\frac{5 w L^4}{384 E I}$$\n",
      "and the ratio of $\\Delta L$ to $\\Delta$ is,\n",
      "$$\\frac{\\Delta L}{\\Delta} = \\frac{\\frac{5 w L^3}{128 E b d^2}}{\\frac{5 w L^4}{384 E I}}$$"
     ]
    },
    {
     "cell_type": "markdown",
     "metadata": {},
     "source": [
      "$$\\frac{\\Delta L}{\\Delta} = \\frac{\\frac{1}{128 b d^2}}{\\frac{L}{384  I}}$$"
     ]
    },
    {
     "cell_type": "markdown",
     "metadata": {},
     "source": [
      "$$\\frac{\\Delta L}{\\Delta} = \\frac{384  I}{128 L b d^2}$$\n",
      "\n",
      "$$\\frac{\\Delta L}{\\Delta} = \\frac{3  I}{ L b d^2}$$"
     ]
    },
    {
     "cell_type": "markdown",
     "metadata": {},
     "source": [
      "Since this is a rectangular section,\n",
      "$$\\frac{\\Delta L}{\\Delta} = \\frac{3 \\frac{1}{12} b d^3}{ L b d^2}$$"
     ]
    },
    {
     "cell_type": "markdown",
     "metadata": {},
     "source": [
      "$$\\frac{\\Delta L}{\\Delta} = \\frac{d}{4 L}$$"
     ]
    },
    {
     "cell_type": "markdown",
     "metadata": {},
     "source": [
      "Therefore $\\Delta L$ as a function of $\\Delta$ is,\n",
      "\n",
      "$$\\Delta L = \\Delta \\times \\frac{d}{4 L}$$"
     ]
    },
    {
     "cell_type": "markdown",
     "metadata": {},
     "source": [
      "To determine the new origin of the beam top or bottom we must use a line intergral.\n",
      "\n",
      "$$\\oint_{x_0}^{x} f(x) dx = \\Delta L$$\n",
      "\n",
      "Assuming the deflected shape can be modeled by a second order curve,\n",
      "\n",
      "$$\\oint_{x_0}^{x} \\left(a x^2 +b x+c \\right) dx = \\Delta L$$"
     ]
    },
    {
     "cell_type": "markdown",
     "metadata": {},
     "source": [
      "$$\\frac{d f(x)}{dx} = \\frac{dy}{dx} = 2 a x + b$$\n",
      "\n",
      "$$dy = \\left(2 a x + b\\right)dx$$\n",
      "\n",
      "$$dL = \\sqrt{dx^2 + dy^2}$$\n",
      "\n",
      "$$dL = \\sqrt{dx^2 + \\left(2 a x + b\\right)^2 dx^2}$$\n",
      "\n",
      "$$dL = dx \\sqrt{1 + \\left(2 a x + b\\right)^2}$$\n",
      "\n",
      "$$dL = dx \\sqrt{1 + 4 a^2 x^2 + 4 a x b+b^2}$$"
     ]
    },
    {
     "cell_type": "markdown",
     "metadata": {},
     "source": [
      "$$\\int_{x_0}^{x} \\sqrt{1 + 4 a^2 x^2 + 4 a x b+b^2} dx = \\Delta L$$\n",
      "\n"
     ]
    },
    {
     "cell_type": "markdown",
     "metadata": {},
     "source": [
      "This is not a simple solution and we are only drawing a picture not making precise calculations.  To simplify the problem assume that the function $dy/dx$ is a constant over the short distance $\\Delta L$.  \n",
      "\n",
      "$$\\Delta L = \\sqrt{\\Delta_x^2 + \\Delta_y^2}$$\n",
      "\n",
      "$$\\Delta L = \\sqrt{\\Delta_x^2 + (2ax_0+b)^2 \\Delta_x^2}$$\n",
      "\n",
      "$$\\Delta L = \\Delta_x \\sqrt{1 + 4a^2 x_0^2+4 a x_0 b+b^2}$$"
     ]
    },
    {
     "cell_type": "markdown",
     "metadata": {},
     "source": [
      "$$ \\Delta_x =\\frac{ \\Delta L }{\\sqrt{1 + 4a^2 x_0^2+4 a x_0 b+b^2}}$$"
     ]
    },
    {
     "cell_type": "markdown",
     "metadata": {},
     "source": [
      "$$ x - x_0 =\\frac{ \\Delta L }{\\sqrt{1 + 4a^2 x_0^2+4 a x_0 b+b^2}}$$"
     ]
    },
    {
     "cell_type": "code",
     "collapsed": false,
     "input": [
      "from SVG_beam import beam\n",
      "from SVG_lib import point, Line\n",
      "from CurveManip import Spline, rotate, mirror, arb_spline\n",
      "from numpy import sqrt"
     ],
     "language": "python",
     "metadata": {},
     "outputs": [],
     "prompt_number": 1
    },
    {
     "cell_type": "code",
     "collapsed": false,
     "input": [
      "aS = arb_spline(X=[0,50,100],Y=[0,10,0],k0=0.5,k1=0,k2=-0.1)"
     ],
     "language": "python",
     "metadata": {},
     "outputs": [],
     "prompt_number": 14
    },
    {
     "cell_type": "code",
     "collapsed": false,
     "input": [
      "from IPython.display import SVG\n",
      "txt=\"\"\"<svg viewBox = \"-10 -10 120 30\">\n",
      "{}\n",
      "</svg>\"\"\".format(aS.svg_txt)\n",
      "SVG(txt)"
     ],
     "language": "python",
     "metadata": {},
     "outputs": [
      {
       "metadata": {},
       "output_type": "pyout",
       "prompt_number": 15,
       "svg": [
        "<svg viewBox=\"-10 -10 120 30\">\n",
        "<path d=\"m 0.000000,0.000000 c 25.000000,22.222222 75.000000,4.444444 100.000000,0.000000\" style=\"fill:none;stroke:black;stroke-width:2px\"/>\n",
        "</svg>"
       ],
       "text": [
        "<IPython.core.display.SVG at 0x7fc5fbaf9f28>"
       ]
      }
     ],
     "prompt_number": 15
    },
    {
     "cell_type": "markdown",
     "metadata": {},
     "source": [
      "$$ x  =\\frac{ \\Delta L }{\\sqrt{1 + 4a^2 x_0^2+4 a x_0 b+b^2}} + x_0$$\n",
      "\n",
      "$$ y = a x^2 +b x+c$$\n",
      "\n",
      "or since $x_0$ isn't changing,\n",
      "\n",
      "$$ x  = x_0 + \\frac{ \\Delta L }{\\sqrt{1 + 4a^2 x_0^2+4 a x_0 b+b^2}}$$ \n",
      "\n",
      "substituting for $\\Delta L$,\n",
      "\n",
      "$$ x  = x_0 +\\frac{ \\Delta \\times \\frac{d}{4 L} }{\\sqrt{1 + 4a^2 x_0^2+4 a x_0 b+b^2}} $$ "
     ]
    },
    {
     "cell_type": "code",
     "collapsed": false,
     "input": [
      "def q(x,x0,x1,y0,y1,k0,k1):\n",
      "    \"Returns y coordinate at x between two points on a cubic spline\"\n",
      "    t = (x-x0)/(x1-x0)\n",
      "    a = k0*(x1-x0)-(y1-y0)\n",
      "    b = -k1*(x1-x0)+(y1-y0)\n",
      "    q_ = (1-t)*y0+t*y1+t*(1-t)*(a*(1-t)+b*t)\n",
      "    return q_\n",
      "\n",
      "class shear_failure(beam):\n",
      "    def __init__(self):\n",
      "        super(shear_failure,self).__init__()\n",
      "    \n",
      "    def split(self):\n",
      "        \"\"\"Takes the beam in its current configuration and adds a shear failure\n",
      "        \n",
      "        Based on the assumption that the compression and tension at the top \n",
      "        and bottom of the beam is uniformly distributed over the upper and\n",
      "        lower half of the beam, the change in length of the top and bottom due\n",
      "        to a shear crack extending over 1/4 the length of the beam (at each end)\n",
      "        is only Delta times d/4L.  Where Delta is the deflection due to bending\n",
      "        at the center of the beam, d is the depth of the beam, and L is the beam \n",
      "        length.  For a beam that has a length of 300, a depth of 30 and a \n",
      "        deflection of 30 that change is only 0.75.  \n",
      "        \"\"\"\n",
      "        curve_info = self.centerline.end_angles(suppress=True)\n",
      "        angle = curve_info.angle\n",
      "        coeff = curve_info.coefficients\n",
      "        a,b,c = coeff\n",
      "        \n",
      "        # Slopes of the three control points\n",
      "        k0, k1, k2 = self.slopes\n",
      "        \n",
      "        d = self.thickness\n",
      "        D = self.sag\n",
      "        x0, y0, x1, y1, x2, y2 = self.coords\n",
      "        L = sqrt((x2-x0)**2+(y2-y0)**2)\n",
      "        \n",
      "        D_x0 = (D*d/(4*L))/sqrt(1+4*a**2*x0**2+4*a*x0*b+b**2)\n",
      "        D_x2 = (D*d/(4*L))/sqrt(1+4*a**2*x2**2+4*a*x2*b+b**2)\n",
      "        # The end slopes are from the spline itself\n",
      "        D_y0 = D_x0*k0\n",
      "        D_y2 = D_x2*k2\n",
      "        \n",
      "        # Bottom of top gets longer and the ends shifts up\n",
      "        x0_t = x0-D_x0\n",
      "        x2_t = x2+D_x2\n",
      "        y0_t = y0-D_y0\n",
      "        y2_t = y2-D_y2\n",
      "        \n",
      "        # Top of Bottom gets shorter and shifts down\n",
      "        x0_b = x0+D_x0\n",
      "        x2_b = x2-D_x2\n",
      "        y0_b = y0+D_y0\n",
      "        y2_b = y2+D_y2\n",
      "                \n",
      "        bot_of_top_L = point(x0_t,y0_t) \n",
      "        bot_of_top_R = point(x2_t,y2_t)\n",
      "        \n",
      "        top_of_bot_L = point(x0_b,y0_b) \n",
      "        top_of_bot_R = point(x2_b,y2_b)\n",
      "        \n",
      "        dY_t = -(Dy_0+Dy_2)/2 # This averaging is unnecessary but not time consuming\n",
      "        dY_b = +(Dy_0+Dy_2)/2 # This averaging is unnecessary but not time consuming\n",
      "        \n",
      "        # Bottom of top and top of bottom are both located at the original centerline\n",
      "        self.bottom_of_top = Spline(bot_of_top_L.List(),bot_of_top_R.List(),self.sag+dY_t)\n",
      "        self.bottom_of_top.rotate(angle)\n",
      "        self.top_of_bottom = Spline(top_of_bot_L.List(),top_of_bot_R.List(),self.sag+dY_b)\n",
      "        self.top_of_bottom.rotate(angle)\n",
      "#         d = t/4\n",
      "#         self.Bottom_CL = Spline(self.L_CL.offset_y(d).List(),self.R_CL.offset_y(d).List(),self.sag))\n",
      "#         self.Top_CL = Spline(self.L_CL.offset_y(-d).List(),self.R_CL.offset_y(-d).List(),self.sag))\n",
      "#         L_angle=curve_info.theta_0\n",
      "#         R_angle=curve_info.theta_1\n",
      "#         bL_origin = rotate(point(self.Bottom_CL.origin).offset_y(d).List(),self.Bottom_CL.origin,L_angle)\n",
      "#         tL_origin = rotate(point(self.Top_CL.origin).offset_y(-d).List(),self.Top_CL.origin,L_angle)\n",
      "#         bR_origin = rotate(point(self.Bottom_CL.end).offset_y(d).List(),self.Bottom_CL.end,R_angle)\n",
      "#         tR_origin = rotate(point(self.Top_CL.end).offset_y(-d).List(),self.Top_CL.end,R_angle)\n",
      "        "
     ],
     "language": "python",
     "metadata": {},
     "outputs": [],
     "prompt_number": 2
    },
    {
     "cell_type": "markdown",
     "metadata": {},
     "source": [
      "Spline Interpolation:\n",
      "\n",
      "$$q_i = (1-t)\\cdot y_{i-1} +t \\cdot y_i +t\\cdot (1-t)\\cdot (a_i\\cdot (1-t) +b_i \\cdot t)$$\n",
      "\n",
      "Where:\n",
      "\n",
      "$$ t = \\frac{x-x_{i-1}}{x_i-x_{i-1}}$$\n",
      "\n",
      "$$ a_i = k_{i-1}\\cdot (x_i - x_{i-1})-(y_i-y_{i-1})$$\n",
      "\n",
      "$$ b_i = -k_{i}\\cdot (x_i - x_{i-1})+(y_i-y_{i-1})$$"
     ]
    },
    {
     "cell_type": "code",
     "collapsed": false,
     "input": [],
     "language": "python",
     "metadata": {},
     "outputs": []
    },
    {
     "cell_type": "code",
     "collapsed": false,
     "input": [
      "sf = shear_failure()"
     ],
     "language": "python",
     "metadata": {},
     "outputs": [],
     "prompt_number": 9
    },
    {
     "cell_type": "code",
     "collapsed": false,
     "input": [
      "rotate?"
     ],
     "language": "python",
     "metadata": {},
     "outputs": [],
     "prompt_number": 3
    }
   ],
   "metadata": {}
  }
 ]
}