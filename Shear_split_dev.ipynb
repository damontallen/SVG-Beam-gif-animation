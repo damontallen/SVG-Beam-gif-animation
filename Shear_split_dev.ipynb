{
 "metadata": {
  "name": "",
  "signature": "sha256:f661a2c7af0461b2eefd2863cb8888ed0a7dcaff727d374046742ad449e6478a"
 },
 "nbformat": 3,
 "nbformat_minor": 0,
 "worksheets": [
  {
   "cells": [
    {
     "cell_type": "markdown",
     "metadata": {},
     "source": [
      "Assume uniformly distributed load.\n",
      "$$V(x) = \\frac{w L}{2} - w x$$\n",
      "$$M(x) = -\\frac{w x^2}{2} + \\frac{w L}{2} x$$"
     ]
    },
    {
     "cell_type": "markdown",
     "metadata": {},
     "source": [
      "Moment arm in beam is $\\frac{2}{3} d$\n"
     ]
    },
    {
     "cell_type": "markdown",
     "metadata": {},
     "source": [
      "$$T = \\frac{M(x)}{\\frac{2}{3} d} = \\frac{-\\frac{w x^2}{2} + \\frac{w L}{2} x}{\\frac{2}{3} d}$$"
     ]
    },
    {
     "cell_type": "markdown",
     "metadata": {},
     "source": [
      "$$T = \\frac{3}{2 d}\\left(-\\frac{w x^2}{2} + \\frac{w L}{2} x \\right)$$\n",
      "$$T =  \\frac{3}{4} \\frac{w}{d} \\left(-x^2 + L x \\right)$$"
     ]
    },
    {
     "cell_type": "markdown",
     "metadata": {},
     "source": [
      "To simplify the problem assume the stress is uniform over the top and bottom.  Also assume a rectangular section since we are dealing with timber."
     ]
    },
    {
     "cell_type": "markdown",
     "metadata": {},
     "source": [
      "$$\\sigma = \\frac{T}{A} = \\frac{T}{b \\frac{d}{2}}$$\n",
      "$$\\sigma = \\frac{\\frac{3}{4} \\frac{w}{d} \\left(-x^2 + L x \\right)}{b \\frac{d}{2}}$$"
     ]
    },
    {
     "cell_type": "markdown",
     "metadata": {},
     "source": [
      "$$\\sigma = \\frac{3}{2} \\frac{w}{b d^2} \\left(-x^2 + L x \\right)$$"
     ]
    },
    {
     "cell_type": "markdown",
     "metadata": {},
     "source": [
      "$$\\Delta L = \\frac{1}{E}\\int^x_0 \\sigma(x) dx$$\n",
      "For a shear split that extends for a distance of $L/4$\n",
      "$$\\Delta L = \\frac{1}{E}\\int^{L/4}_0 \\frac{3}{2} \\frac{w}{b d^2} \\left(-x^2 + L x \\right) dx$$"
     ]
    },
    {
     "cell_type": "markdown",
     "metadata": {},
     "source": [
      "$$\\Delta L = \\frac{3}{2E} \\frac{w}{ b d^2} \\int^{L/4}_0 -x^2 + L x dx$$"
     ]
    },
    {
     "cell_type": "markdown",
     "metadata": {},
     "source": [
      "$$\\Delta L = \\frac{3}{2E} \\frac{w}{ b d^2} \\left| -\\frac{x^3}{3} + L \\frac{x^2}{2} \\right|_0^{L/4}$$"
     ]
    },
    {
     "cell_type": "markdown",
     "metadata": {},
     "source": [
      "$$\\Delta L = \\frac{3}{2E} \\frac{w}{ b d^2} \\left( -\\frac{L^3}{3\\times 4^3} + L \\frac{L^2}{2\\times 16} \\right)$$"
     ]
    },
    {
     "cell_type": "markdown",
     "metadata": {},
     "source": [
      "$$\\Delta L = \\frac{1}{2E} \\frac{w}{b d^2} \\left( -\\frac{L^3}{64} + \\frac{3 L^3}{32} \\right)$$"
     ]
    },
    {
     "cell_type": "markdown",
     "metadata": {},
     "source": [
      "$$\\Delta L = \\frac{1}{2E} \\frac{w}{b d^2} \\left( -\\frac{L^3}{64} + \\frac{6 L^3}{64} \\right)$$\n",
      "$$\\Delta L = \\frac{5 w L^3}{128 E b d^2}$$"
     ]
    },
    {
     "cell_type": "markdown",
     "metadata": {},
     "source": [
      "Deflection due to bending is,\n",
      "$$\\Delta = \\frac{5 w L^4}{384 E I}$$\n",
      "and the ratio of $\\Delta L$ to $\\Delta$ is,\n",
      "$$\\frac{\\Delta L}{\\Delta} = \\frac{\\frac{5 w L^3}{128 E b d^2}}{\\frac{5 w L^4}{384 E I}}$$"
     ]
    },
    {
     "cell_type": "markdown",
     "metadata": {},
     "source": [
      "$$\\frac{\\Delta L}{\\Delta} = \\frac{\\frac{1}{128 b d^2}}{\\frac{L}{384  I}}$$"
     ]
    },
    {
     "cell_type": "markdown",
     "metadata": {},
     "source": [
      "$$\\frac{\\Delta L}{\\Delta} = \\frac{384  I}{128 L b d^2}$$\n",
      "\n",
      "$$\\frac{\\Delta L}{\\Delta} = \\frac{3  I}{ L b d^2}$$"
     ]
    },
    {
     "cell_type": "markdown",
     "metadata": {},
     "source": [
      "Since this is a rectangular section,\n",
      "$$\\frac{\\Delta L}{\\Delta} = \\frac{3 \\frac{1}{12} b d^3}{ L b d^2}$$"
     ]
    },
    {
     "cell_type": "markdown",
     "metadata": {},
     "source": [
      "$$\\frac{\\Delta L}{\\Delta} = \\frac{d}{4 L}$$"
     ]
    },
    {
     "cell_type": "markdown",
     "metadata": {},
     "source": [
      "Therefore $\\Delta L$ as a function of $\\Delta$ is,\n",
      "\n",
      "$$\\Delta L = \\Delta \\times \\frac{d}{4 L}$$"
     ]
    },
    {
     "cell_type": "markdown",
     "metadata": {},
     "source": [
      "To determine the new origin of the beam top or bottom we must use a line intergral.\n",
      "\n",
      "$$\\oint_{x_0}^{x} f(x) dx = \\Delta L$$\n",
      "\n",
      "Assuming the deflected shape can be modeled by a second order curve,\n",
      "\n",
      "$$\\oint_{x_0}^{x} \\left(a x^2 +b x+c \\right) dx = \\Delta L$$"
     ]
    },
    {
     "cell_type": "markdown",
     "metadata": {},
     "source": [
      "$$\\frac{d f(x)}{dx} = \\frac{dy}{dx} = 2 a x + b$$\n",
      "\n",
      "$$dy = \\left(2 a x + b\\right)dx$$\n",
      "\n",
      "$$dL = \\sqrt{dx^2 + dy^2}$$\n",
      "\n",
      "$$dL = \\sqrt{dx^2 + \\left(2 a x + b\\right)^2 dx^2}$$\n",
      "\n",
      "$$dL = dx \\sqrt{1 + \\left(2 a x + b\\right)^2}$$\n",
      "\n",
      "$$dL = dx \\sqrt{1 + 4 a^2 x^2 + 4 a x b+b^2}$$"
     ]
    },
    {
     "cell_type": "markdown",
     "metadata": {},
     "source": [
      "$$\\int_{x_0}^{x} \\sqrt{1 + 4 a^2 x^2 + 4 a x b+b^2} dx = \\Delta L$$\n",
      "\n"
     ]
    },
    {
     "cell_type": "markdown",
     "metadata": {},
     "source": [
      "This is not a simple solution and we are only drawing a picture not making precise calculations.  To simplify the problem assume that the function $dy/dx$ is a constant over the short distance $\\Delta L$.  \n",
      "\n",
      "$$\\Delta L = \\sqrt{\\Delta_x^2 + \\Delta_y^2}$$\n",
      "\n",
      "$$\\Delta L = \\sqrt{\\Delta_x^2 + (2ax_0+b)^2 \\Delta_x^2}$$\n",
      "\n",
      "$$\\Delta L = \\Delta_x \\sqrt{1 + 4a^2 x_0^2+4 a x_0 b+b^2}$$"
     ]
    },
    {
     "cell_type": "markdown",
     "metadata": {},
     "source": [
      "$$ \\Delta_x =\\frac{ \\Delta L }{\\sqrt{1 + 4a^2 x_0^2+4 a x_0 b+b^2}}$$"
     ]
    },
    {
     "cell_type": "markdown",
     "metadata": {},
     "source": [
      "$$ x - x_0 =\\frac{ \\Delta L }{\\sqrt{1 + 4a^2 x_0^2+4 a x_0 b+b^2}}$$"
     ]
    },
    {
     "cell_type": "code",
     "collapsed": false,
     "input": [
      "from SVG_beam import beam\n",
      "from SVG_lib import point, Line\n",
      "from CurveManip import Spline, rotate, mirror\n",
      "from numpy import sqrt"
     ],
     "language": "python",
     "metadata": {},
     "outputs": [],
     "prompt_number": 1
    },
    {
     "cell_type": "markdown",
     "metadata": {},
     "source": [
      "$$ x  =\\frac{ \\Delta L }{\\sqrt{1 + 4a^2 x_0^2+4 a x_0 b+b^2}} + x_0$$\n",
      "\n",
      "$$ y = a x^2 +b x+c$$\n",
      "\n",
      "or since $x_0$ isn't changing,\n",
      "\n",
      "$$ x  = x_0 + \\frac{ \\Delta L }{\\sqrt{1 + 4a^2 x_0^2+4 a x_0 b+b^2}}$$ \n",
      "\n",
      "substituting for $\\Delta L$,\n",
      "\n",
      "$$ x  = x_0 +\\frac{ \\Delta \\times \\frac{d}{4 L} }{\\sqrt{1 + 4a^2 x_0^2+4 a x_0 b+b^2}} $$ "
     ]
    },
    {
     "cell_type": "code",
     "collapsed": false,
     "input": [
      "class shear_failure(beam):\n",
      "    def __init__(self):\n",
      "        super(shear_failure,self).__init__()\n",
      "    \n",
      "    def split(self):\n",
      "        \"\"\"Takes the beam in its current configuration and adds a shear failure\n",
      "        \n",
      "        Based on the assumption that the compression and tension at the top \n",
      "        and bottom of the beam is uniformly distributed over the upper and\n",
      "        lower half of the beam, the change in length of the top and bottom due\n",
      "        to a shear crack extending over 1/4 the length of the beam (at each end)\n",
      "        is only Delta times d/4L.  Where Delta is the deflection due to bending\n",
      "        at the center of the beam, d is the depth of the beam, and L is the beam \n",
      "        length.  For a beam that has a length of 300, a depth of 30 and a \n",
      "        deflection of 30 that change is only 0.75.  \n",
      "        \"\"\"\n",
      "        curve_info = self.centerline.end_angles(suppress=True)\n",
      "        coeff = curve_info.coefficients\n",
      "        a,b,c = coeff\n",
      "        d = self.thickness\n",
      "        D = self.sag\n",
      "        x0,y0 = self.L_CL.List()\n",
      "        x2,y2 = self.R_CL.List()\n",
      "        L = sqrt((x2-x0)**2+(y2-y0)**2)\n",
      "        D_x0 = (D*d/(4*L))/sqrt(1+4*a**2*x0**2+4*a*x0*b+b**2)\n",
      "        D_x1 = (D*d/(4*L))/sqrt(1+4*a**2*x1**2+4*a*x1*b+b**2)\n",
      "        # Bottom of top gets longer\n",
      "        bot_of_top_L = point(x0 - D_x0,y0) \n",
      "        bot_of_top_R = point(x1 + D_x1,y1)\n",
      "        # Top of Bottom gets shorter\n",
      "        top_of_bot_L = point(x0 + D_x0,y0)\n",
      "        top_of_bot_R = point(x1 - D_x1,y1)\n",
      "        \n",
      "        # Bottom of top and top of bottom are both located at the original centerline\n",
      "        self.bottom_of_top = Spline(bot_of_top_L.List(),bot_of_top_R.List(),self.sag)\n",
      "        self.bottom_of_top.rotate(angle)\n",
      "        self.top_of_bottom = Spline(top_of_bot_L.List(),top_of_bot_R.List(),self.sag)\n",
      "        self.top_of_bottom.rotate(angle)\n",
      "#         d = t/4\n",
      "#         self.Bottom_CL = Spline(self.L_CL.offset_y(d).List(),self.R_CL.offset_y(d).List(),self.sag))\n",
      "#         self.Top_CL = Spline(self.L_CL.offset_y(-d).List(),self.R_CL.offset_y(-d).List(),self.sag))\n",
      "#         L_angle=curve_info.theta_0\n",
      "#         R_angle=curve_info.theta_1\n",
      "#         bL_origin = rotate(point(self.Bottom_CL.origin).offset_y(d).List(),self.Bottom_CL.origin,L_angle)\n",
      "#         tL_origin = rotate(point(self.Top_CL.origin).offset_y(-d).List(),self.Top_CL.origin,L_angle)\n",
      "#         bR_origin = rotate(point(self.Bottom_CL.end).offset_y(d).List(),self.Bottom_CL.end,R_angle)\n",
      "#         tR_origin = rotate(point(self.Top_CL.end).offset_y(-d).List(),self.Top_CL.end,R_angle)\n",
      "        "
     ],
     "language": "python",
     "metadata": {},
     "outputs": [],
     "prompt_number": 2
    },
    {
     "cell_type": "code",
     "collapsed": false,
     "input": [],
     "language": "python",
     "metadata": {},
     "outputs": [
      {
       "metadata": {},
       "output_type": "pyout",
       "prompt_number": 5,
       "text": [
        "32.0"
       ]
      }
     ],
     "prompt_number": 5
    },
    {
     "cell_type": "code",
     "collapsed": false,
     "input": [
      "sf = shear_failure()"
     ],
     "language": "python",
     "metadata": {},
     "outputs": [],
     "prompt_number": 9
    },
    {
     "cell_type": "code",
     "collapsed": false,
     "input": [
      "rotate?"
     ],
     "language": "python",
     "metadata": {},
     "outputs": [],
     "prompt_number": 3
    }
   ],
   "metadata": {}
  }
 ]
}