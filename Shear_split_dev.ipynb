{
 "cells": [
  {
   "cell_type": "markdown",
   "metadata": {},
   "source": [
    "# Determining the length change due to Shear Failure."
   ]
  },
  {
   "cell_type": "markdown",
   "metadata": {},
   "source": [
    "The premise is that once the shear failure has occurred then the upper and lower halves of the beam will have reduced stresses from bending due to the stress redistribution.  The top will have less compression and the bottom will have less tension.\n",
    "\n",
    "<img src=\"http://imgur.com/675xK19.png\" width=\"35%\" height=\"35%\"/>"
   ]
  },
  {
   "cell_type": "markdown",
   "metadata": {},
   "source": [
    "Assume uniformly distributed load.\n",
    "$$V(x) = \\frac{w L}{2} - w x$$\n",
    "$$M(x) = -\\frac{w x^2}{2} + \\frac{w L}{2} x$$"
   ]
  },
  {
   "cell_type": "markdown",
   "metadata": {},
   "source": [
    "Moment arm in beam is $\\frac{2}{3} d$\n"
   ]
  },
  {
   "cell_type": "markdown",
   "metadata": {},
   "source": [
    "$$T = \\frac{M(x)}{\\frac{2}{3} d} = \\frac{-\\frac{w x^2}{2} + \\frac{w L}{2} x}{\\frac{2}{3} d}$$"
   ]
  },
  {
   "cell_type": "markdown",
   "metadata": {},
   "source": [
    "$$T = \\frac{3}{2 d}\\left(-\\frac{w x^2}{2} + \\frac{w L}{2} x \\right)$$\n",
    "$$T =  \\frac{3}{4} \\frac{w}{d} \\left(-x^2 + L x \\right)$$"
   ]
  },
  {
   "cell_type": "markdown",
   "metadata": {},
   "source": [
    "To simplify the problem assume the stress is uniform over the top and bottom.  Also assume a rectangular section since we are dealing with timber."
   ]
  },
  {
   "cell_type": "markdown",
   "metadata": {},
   "source": [
    "$$\\sigma = \\frac{T}{A} = \\frac{T}{b \\frac{d}{2}}$$\n",
    "$$\\sigma = \\frac{\\frac{3}{4} \\frac{w}{d} \\left(-x^2 + L x \\right)}{b \\frac{d}{2}}$$"
   ]
  },
  {
   "cell_type": "markdown",
   "metadata": {},
   "source": [
    "$$\\sigma = \\frac{3}{2} \\frac{w}{b d^2} \\left(-x^2 + L x \\right)$$"
   ]
  },
  {
   "cell_type": "markdown",
   "metadata": {},
   "source": [
    "$$\\Delta L = \\frac{1}{E}\\int^x_0 \\sigma(x) dx$$\n",
    "For a shear split that extends for a distance of $L/4$\n",
    "$$\\Delta L = \\frac{1}{E}\\int^{L/4}_0 \\frac{3}{2} \\frac{w}{b d^2} \\left(-x^2 + L x \\right) dx$$"
   ]
  },
  {
   "cell_type": "markdown",
   "metadata": {},
   "source": [
    "$$\\Delta L = \\frac{3}{2E} \\frac{w}{ b d^2} \\int^{L/4}_0 -x^2 + L x dx$$"
   ]
  },
  {
   "cell_type": "markdown",
   "metadata": {},
   "source": [
    "$$\\Delta L = \\frac{3}{2E} \\frac{w}{ b d^2} \\left| -\\frac{x^3}{3} + L \\frac{x^2}{2} \\right|_0^{L/4}$$"
   ]
  },
  {
   "cell_type": "markdown",
   "metadata": {},
   "source": [
    "$$\\Delta L = \\frac{3}{2E} \\frac{w}{ b d^2} \\left( -\\frac{L^3}{3\\times 4^3} + L \\frac{L^2}{2\\times 16} \\right)$$"
   ]
  },
  {
   "cell_type": "markdown",
   "metadata": {},
   "source": [
    "$$\\Delta L = \\frac{1}{2E} \\frac{w}{b d^2} \\left( -\\frac{L^3}{64} + \\frac{3 L^3}{32} \\right)$$"
   ]
  },
  {
   "cell_type": "markdown",
   "metadata": {},
   "source": [
    "$$\\Delta L = \\frac{1}{2E} \\frac{w}{b d^2} \\left( -\\frac{L^3}{64} + \\frac{6 L^3}{64} \\right)$$\n",
    "$$\\Delta L = \\frac{5 w L^3}{128 E b d^2}$$"
   ]
  },
  {
   "cell_type": "markdown",
   "metadata": {},
   "source": [
    "Deflection due to bending is,\n",
    "$$\\Delta = \\frac{5 w L^4}{384 E I}$$\n",
    "and the ratio of $\\Delta L$ to $\\Delta$ is,\n",
    "$$\\frac{\\Delta L}{\\Delta} = \\frac{\\frac{5 w L^3}{128 E b d^2}}{\\frac{5 w L^4}{384 E I}}$$"
   ]
  },
  {
   "cell_type": "markdown",
   "metadata": {},
   "source": [
    "$$\\frac{\\Delta L}{\\Delta} = \\frac{\\frac{1}{128 b d^2}}{\\frac{L}{384  I}}$$"
   ]
  },
  {
   "cell_type": "markdown",
   "metadata": {},
   "source": [
    "$$\\frac{\\Delta L}{\\Delta} = \\frac{384  I}{128 L b d^2}$$\n",
    "\n",
    "$$\\frac{\\Delta L}{\\Delta} = \\frac{3  I}{ L b d^2}$$"
   ]
  },
  {
   "cell_type": "markdown",
   "metadata": {},
   "source": [
    "Since this is a rectangular section,\n",
    "$$\\frac{\\Delta L}{\\Delta} = \\frac{3 \\frac{1}{12} b d^3}{ L b d^2}$$"
   ]
  },
  {
   "cell_type": "markdown",
   "metadata": {},
   "source": [
    "$$\\frac{\\Delta L}{\\Delta} = \\frac{d}{4 L}$$"
   ]
  },
  {
   "cell_type": "markdown",
   "metadata": {},
   "source": [
    "Therefore $\\Delta L$ as a function of $\\Delta$ is,\n",
    "\n",
    "$$\\Delta L = \\Delta \\times \\frac{d}{4 L}$$\n",
    "\n",
    "$\\Delta L$ is a first order function of all the factors in the equation, so it is reasonably safe to assume that it would just be proportional to the length of the split, $L/4$ in this case.  Based on that assumption we can rewrite $\\Delta L$ as a function of the length of the split.\n",
    "\n",
    "$$\\Delta L\\left(L_{split}\\right) = \\Delta \\times \\frac{\\frac{d}{4 L}}{L/4} \\times L_{split} = \\Delta \\times \\frac{d}{4 L}\\times \\frac{4}{L} \\times L_{split}$$\n",
    "\n",
    "or"
   ]
  },
  {
   "cell_type": "markdown",
   "metadata": {},
   "source": [
    "$$\\Delta L\\left(L_{split}\\right) = \\Delta \\times  L_{split} \\times \\frac{d}{ L^2} $$"
   ]
  },
  {
   "cell_type": "markdown",
   "metadata": {},
   "source": [
    "To determine the new origin of the beam top or bottom we must use a line intergral.\n",
    "\n",
    "$$\\oint_{x_0}^{x} f(x) dx = \\Delta L$$\n",
    "\n",
    "Assuming the deflected shape can be modeled by a second order curve,\n",
    "\n",
    "$$\\oint_{x_0}^{x} \\left(a x^2 +b x+c \\right) dx = \\Delta L$$"
   ]
  },
  {
   "cell_type": "markdown",
   "metadata": {},
   "source": [
    "$$\\frac{d f(x)}{dx} = \\frac{dy}{dx} = 2 a x + b$$\n",
    "\n",
    "$$dy = \\left(2 a x + b\\right)dx$$\n",
    "\n",
    "$$dL = \\sqrt{dx^2 + dy^2}$$\n",
    "\n",
    "$$dL = \\sqrt{dx^2 + \\left(2 a x + b\\right)^2 dx^2}$$\n",
    "\n",
    "$$dL = dx \\sqrt{1 + \\left(2 a x + b\\right)^2}$$\n",
    "\n",
    "$$dL = dx \\sqrt{1 + 4 a^2 x^2 + 4 a x b+b^2}$$"
   ]
  },
  {
   "cell_type": "markdown",
   "metadata": {},
   "source": [
    "$$\\int_{x_0}^{x} \\sqrt{1 + 4 a^2 x^2 + 4 a x b+b^2} dx = \\Delta L$$\n",
    "\n"
   ]
  },
  {
   "cell_type": "markdown",
   "metadata": {},
   "source": [
    "This is not a simple solution and we are only drawing a picture not making precise calculations.  To simplify the problem assume that the function $dy/dx$ is a constant over the short distance $\\Delta L$.  \n",
    "\n",
    "$$\\Delta L = \\sqrt{\\Delta_x^2 + \\Delta_y^2}$$\n",
    "\n",
    "$$\\Delta L = \\sqrt{\\Delta_x^2 + (2ax_0+b)^2 \\Delta_x^2}$$\n",
    "\n",
    "$$\\Delta L = \\Delta_x \\sqrt{1 + 4a^2 x_0^2+4 a x_0 b+b^2}$$"
   ]
  },
  {
   "cell_type": "markdown",
   "metadata": {},
   "source": [
    "$$ \\Delta_x =\\frac{ \\Delta L }{\\sqrt{1 + 4a^2 x_0^2+4 a x_0 b+b^2}}$$\n",
    "\n",
    "$$ \\Delta_x =\\frac{ \\Delta L }{m}$$"
   ]
  },
  {
   "cell_type": "markdown",
   "metadata": {},
   "source": [
    "$$ x - x_0 =\\frac{ \\Delta L }{\\sqrt{1 + 4a^2 x_0^2+4 a x_0 b+b^2}}$$"
   ]
  },
  {
   "cell_type": "code",
   "execution_count": 1,
   "metadata": {
    "collapsed": false
   },
   "outputs": [],
   "source": [
    "# aS = arb_spline(X=[0,50,100],Y=[0,10,0],k0=0.5,k1=0,k2=-0.1)\n",
    "# aS"
   ]
  },
  {
   "cell_type": "code",
   "execution_count": 2,
   "metadata": {
    "collapsed": false
   },
   "outputs": [],
   "source": [
    "# XX = lambda : \"text\"\n",
    "# XX()"
   ]
  },
  {
   "cell_type": "code",
   "execution_count": 3,
   "metadata": {
    "collapsed": false
   },
   "outputs": [],
   "source": [
    "# from IPython.display import SVG\n",
    "# txt=\"\"\"<svg viewBox = \"-10 -10 120 30\">\n",
    "# {}\n",
    "# </svg>\"\"\".format(aS.svg_path_txt)\n",
    "# SVG(txt)"
   ]
  },
  {
   "cell_type": "markdown",
   "metadata": {},
   "source": [
    "$$ x  =\\frac{ \\Delta L }{\\sqrt{1 + 4a^2 x_0^2+4 a x_0 b+b^2}} + x_0$$\n",
    "\n",
    "$$ y = a x^2 +b x+c$$\n",
    "\n",
    "or since $x_0$ isn't changing,\n",
    "\n",
    "$$ x  = x_0 + \\frac{ \\Delta L }{\\sqrt{1 + 4a^2 x_0^2+4 a x_0 b+b^2}}$$ \n",
    "\n",
    "substituting for $\\Delta L$,\n",
    "\n",
    "$$ x  = x_0 +\\frac{ \\Delta \\times  L_{split} \\times \\frac{d}{ L^2} }{\\sqrt{1 + 4a^2 x_0^2+4 a x_0 b+b^2}} $$ "
   ]
  },
  {
   "cell_type": "markdown",
   "metadata": {},
   "source": [
    "<img src=\"http://upload.wikimedia.org/math/0/3/1/0311663d2a54f6844a1d6ac5823abc94.png\"/>"
   ]
  },
  {
   "cell_type": "code",
   "execution_count": 71,
   "metadata": {
    "collapsed": false
   },
   "outputs": [],
   "source": [
    "from SVG_beam import beam, adjust_viewbox\n",
    "from SVG_lib import point, Line\n",
    "from New_Spline import Spline\n",
    "from CurveManip import rotate, mirror\n",
    "from numpy import sqrt\n",
    "from collections import namedtuple\n",
    "\n",
    "class shear_failure(beam):\n",
    "    def __init__(self):\n",
    "        super(shear_failure,self).__init__()\n",
    "        self.L_split = 0.02\n",
    "    \n",
    "    def split(self):\n",
    "        \"\"\"Takes the beam in its current configuration and adds a shear failure\n",
    "        \n",
    "        Based on the assumption that the compression and tension at the top \n",
    "        and bottom of the beam is uniformly distributed over the upper and\n",
    "        lower half of the beam, the change in length of the top and bottom due\n",
    "        to a shear crack extending over 1/4 the length of the beam (at each end)\n",
    "        is only Delta times d/4L.  Where Delta is the deflection due to bending\n",
    "        at the center of the beam, d is the depth of the beam, and L is the beam \n",
    "        length.  For a beam that has a length of 300, a depth of 30 and a \n",
    "        deflection of 30 that change is only 0.75.  \n",
    "        \"\"\"\n",
    "        cL = self.centerline\n",
    "        L = self.L \n",
    "        X_s = self.L_split\n",
    "        # This scale was added to account for moment distribution in a beam\n",
    "        # with a uniform distributed load.\n",
    "        scale = X_s*(1-X_s)\n",
    "        L_split =  self.L_split * L #* 2\n",
    "        D = self.sag\n",
    "        D_x0 = (D*self.thickness/(L**2)*L_split)/cL.instant_slope(cL.P0)*scale\n",
    "        D_x3 = (D*self.thickness/(L**2)*L_split)/cL.instant_slope(cL.P3)*scale\n",
    "        Top_n_Bottom = namedtuple('Top_n_Bottom','top bot')\n",
    "        x0 = Top_n_Bottom(cL.P0[0]-D_x0,cL.P0[0]+D_x0)\n",
    "        x3 = Top_n_Bottom(cL.P3[0]-D_x3,cL.P3[0]+D_x3)\n",
    "        \n",
    "        y0 = Top_n_Bottom(*[cL.Y_(x) for x in x0])\n",
    "        y3 = Top_n_Bottom(*[cL.Y_(x) for x in x3])\n",
    "\n",
    "        # Bottom of top and top of bottom are both located at the original centerline\n",
    "        self.bottom_of_top = Spline([x0.top,y0.top],[x3.top,y3.top],cL.Coefficients())\n",
    "        self.top_of_bottom = Spline([x0.bot,y0.bot],[x3.bot,y3.bot],cL.Coefficients())\n",
    "        \n",
    "        if x0.top<x0.bot: # Deflecting upward and top got longer\n",
    "            control = self.bottom_of_top\n",
    "        else: # Deflecting downward and bottom got longer\n",
    "            control = self.top_of_bottom\n",
    "        \n",
    "        xL = min(x0) + L_split\n",
    "        xR = max(x3) - L_split\n",
    "        yL = cL.Y_(xL)\n",
    "        yR = cL.Y_(xR)\n",
    "        \n",
    "        Left = Spline(control.P0,[xL,yL],cL.Coefficients())\n",
    "        Right = Spline([xR,yR],control.P3,cL.Coefficients())\n",
    "        Left.points = False\n",
    "        Right.points = False\n",
    "        self.splits = [Left,Right]\n",
    "        \n",
    "        angles = cL.end_angles()\n",
    "        offset = self.thickness/2\n",
    "        \n",
    "        top_P0 = rotate(point(self.bottom_of_top.P0).offset_y(-offset).List(),\n",
    "                        self.bottom_of_top.P0, angles.θ_0)\n",
    "        bot_P0 = rotate(point(self.top_of_bottom.P0).offset_y(offset).List(),\n",
    "                        self.top_of_bottom.P0, angles.θ_0)\n",
    "        top_P3 = rotate(point(self.bottom_of_top.P3).offset_y(-offset).List(),\n",
    "                        self.bottom_of_top.P3, angles.θ_1)\n",
    "        bot_P3 = rotate(point(self.top_of_bottom.P3).offset_y(offset).List(),\n",
    "                        self.top_of_bottom.P3, angles.θ_1)\n",
    "        # Ends...\n",
    "        top = self.top[0]\n",
    "        bottom = self.bottom[0]\n",
    "        \n",
    "        top.P0 = [float(p) for p in top_P0]\n",
    "        top.P3 = [float(p) for p in top_P3]\n",
    "        bottom.P0 = [float(p) for p in bot_P0]\n",
    "        bottom.P3 = [float(p) for p in bot_P3]\n",
    "        \n",
    "        Left_T = Line(top.P0,self.bottom_of_top.P0)\n",
    "        Left_T.width = 1\n",
    "        Left_M = Line(self.bottom_of_top.P0,self.top_of_bottom.P0)\n",
    "        Left_M.width = 1\n",
    "        Left_B = Line(self.top_of_bottom.P0,bottom.P0)\n",
    "        Left_B.width = 1\n",
    "        Right_T = Line(top.P3,self.bottom_of_top.P3)\n",
    "        Right_T.width = 1\n",
    "        Right_M = Line(self.bottom_of_top.P3,self.top_of_bottom.P3)\n",
    "        Right_M.width = 1\n",
    "        Right_B = Line(self.top_of_bottom.P3,bottom.P3)\n",
    "        Right_B.width = 1\n",
    "        self.L_end = [Left_T, Left_M, Left_B]\n",
    "        self.R_end = [Right_T, Right_M, Right_B]\n",
    "        self.manual_ends = True\n",
    "\n",
    "    @property\n",
    "    def L(self):\n",
    "        x2,y2 = self.R_CL.List()\n",
    "        x0,y0 = self.L_CL.List()\n",
    "        L = sqrt((x2-x0)**2+(y2-y0)**2)\n",
    "        return L\n",
    "        \n",
    "    @property\n",
    "    def L_split(self):\n",
    "        return self._L_split\n",
    "    @L_split.setter\n",
    "    def L_split(self, val):\n",
    "        if val > 0.5 or val <0:\n",
    "            er = (\"L_split is a fractional amount of the beam length up to 0.5 \"\n",
    "                  \"and it should be limited to 0.167 for realistic shear failure.\")\n",
    "            raise(ValueError(er))\n",
    "        self._L_split = val"
   ]
  },
  {
   "cell_type": "code",
   "execution_count": 80,
   "metadata": {
    "collapsed": false
   },
   "outputs": [],
   "source": [
    "tt = shear_failure()"
   ]
  },
  {
   "cell_type": "code",
   "execution_count": 81,
   "metadata": {
    "collapsed": false
   },
   "outputs": [
    {
     "data": {
      "image/svg+xml": [
       "<svg  viewBox = \"-34.739715 -39.623219 689.479430 149.246438\">\n",
       "<rect x=\"-34.739715\" y=\"-39.623219\" width=\"689.479430\" height=\"149.246438\" style=\"fill:#F2F2F2;fill-opacity:1;\"/>\n",
       "<circle cx=\"14.739715033200186\" cy=\"-29.623218957501162\" r=\"2\" stroke=\"black\" stroke-width=\"1\" fill=\"none\" />\n",
       "<circle cx=\"605.2602849667999\" cy=\"-29.623218957501162\" r=\"2\" stroke=\"black\" stroke-width=\"1\" fill=\"none\" />\n",
       "<circle cx=\"310.00000000000006\" cy=\"0.37678104249883404\" r=\"2\" stroke=\"black\" stroke-width=\"1\" fill=\"none\" />\n",
       "<path\n",
       "style=\"fill:none;fill-rule:evenodd;stroke:black;stroke-width:1px;stroke-linecap:square;stroke-linejoin:miter;stroke-opacity:1\"\n",
       "d=\"M 14.739715033200186,-29.623218957501162 C 260.78995250553,10.3767810425 359.21004749447,10.3767810425 605.2602849667999,-29.623218957501162\"\n",
       "inkscape:connector-curvature=\"0\" />\n",
       "\n",
       "<circle cx=\"5.260284966799814\" cy=\"29.623218957501162\" r=\"2\" stroke=\"black\" stroke-width=\"1\" fill=\"none\" />\n",
       "<circle cx=\"614.7397150332001\" cy=\"29.623218957501162\" r=\"2\" stroke=\"black\" stroke-width=\"1\" fill=\"none\" />\n",
       "<circle cx=\"309.99999999999994\" cy=\"59.623218957501166\" r=\"2\" stroke=\"black\" stroke-width=\"1\" fill=\"none\" />\n",
       "<path\n",
       "style=\"fill:none;fill-rule:evenodd;stroke:black;stroke-width:1px;stroke-linecap:square;stroke-linejoin:miter;stroke-opacity:1\"\n",
       "d=\"M 5.260284966799814,29.623218957501162 C 259.21004749447,69.6232189575 360.78995250553,69.6232189575 614.7397150332001,29.623218957501162\"\n",
       "inkscape:connector-curvature=\"0\" />\n",
       "\n",
       "<circle cx=\"10\" cy=\"0\" r=\"2\" stroke=\"black\" stroke-width=\"1\" fill=\"none\" />\n",
       "<circle cx=\"610\" cy=\"0\" r=\"2\" stroke=\"black\" stroke-width=\"1\" fill=\"none\" />\n",
       "<circle cx=\"310.0\" cy=\"30.000000000000004\" r=\"2\" stroke=\"black\" stroke-width=\"1\" fill=\"none\" />\n",
       "<path stroke-dasharray=\"20,5,5,5\" \n",
       "style=\"fill:none;fill-rule:evenodd;stroke:black;stroke-width:1px;stroke-linecap:square;stroke-linejoin:miter;stroke-opacity:1\"\n",
       "d=\"M 10,0 C 260.0,40.0 360.0,40.0 610,0\"\n",
       "inkscape:connector-curvature=\"0\" />\n",
       "<line x1=\"14.7397\" y1=\"-29.6232\" x2=\"5.26028\" y2=\"29.6232\" style=\"stroke:black;stroke-width:1\" />\n",
       "<line x1=\"605.26\" y1=\"-29.6232\" x2=\"614.74\" y2=\"29.6232\" style=\"stroke:black;stroke-width:1\" />\n",
       "<path d = \"M 614.7397150332001,29.623218957501162 L 634.7397150332001,64.26423510887871 594.7397150332001,64.26423510887871\"/>\n",
       "    <circle cx=\"602.7397150332001\" cy=\"72.26423510887871\" r=\"8\" stroke=\"black\" stroke-width=\"1\" fill=\"none\" />\n",
       "    <circle cx=\"626.7397150332001\" cy=\"72.26423510887871\" r=\"8\" stroke=\"black\" stroke-width=\"1\" fill=\"none\" />\n",
       "    <line x1=\"594.7397150332001\" y1=\"80.26423510887871\" x2=\"634.7397150332001\" y2=\"80.26423510887871\" style=\"stroke:black;stroke-width:1\" />\n",
       "    <line x1=\"594.7397150332001\" y1=\"80.26423510887871\" x2=\"574.7397150332001\" y2=\"100.26423510887871\" style=\"stroke:black;stroke-width:1\" />\n",
       "    <line x1=\"602.7397150332001\" y1=\"80.26423510887871\" x2=\"582.7397150332001\" y2=\"100.26423510887871\" style=\"stroke:black;stroke-width:1\" />\n",
       "    <line x1=\"610.7397150332001\" y1=\"80.26423510887871\" x2=\"590.7397150332001\" y2=\"100.26423510887871\" style=\"stroke:black;stroke-width:1\" />\n",
       "    <line x1=\"618.7397150332001\" y1=\"80.26423510887871\" x2=\"598.7397150332001\" y2=\"100.26423510887871\" style=\"stroke:black;stroke-width:1\" />\n",
       "    <line x1=\"626.7397150332001\" y1=\"80.26423510887871\" x2=\"606.7397150332001\" y2=\"100.26423510887871\" style=\"stroke:black;stroke-width:1\" />\n",
       "    <line x1=\"634.7397150332001\" y1=\"80.26423510887871\" x2=\"614.7397150332001\" y2=\"100.26423510887871\" style=\"stroke:black;stroke-width:1\" />\n",
       "    <path d = \"M 5.260284966799814,29.623218957501162 L 25.260284966799816,64.26423510887871 -14.739715033200184,64.26423510887871\"/>\n",
       "    <line x1=\"-14.739715033200184\" y1=\"64.26423510887871\" x2=\"-34.739715033200184\" y2=\"84.26423510887871\" style=\"stroke:black;stroke-width:1\" />\n",
       "    <line x1=\"-6.739715033200184\" y1=\"64.26423510887871\" x2=\"-26.739715033200184\" y2=\"84.26423510887871\" style=\"stroke:black;stroke-width:1\" />\n",
       "    <line x1=\"1.2602849667998157\" y1=\"64.26423510887871\" x2=\"-18.739715033200184\" y2=\"84.26423510887871\" style=\"stroke:black;stroke-width:1\" />\n",
       "    <line x1=\"9.260284966799816\" y1=\"64.26423510887871\" x2=\"-10.739715033200184\" y2=\"84.26423510887871\" style=\"stroke:black;stroke-width:1\" />\n",
       "    <line x1=\"17.260284966799816\" y1=\"64.26423510887871\" x2=\"-2.7397150332001843\" y2=\"84.26423510887871\" style=\"stroke:black;stroke-width:1\" />\n",
       "    <line x1=\"25.260284966799816\" y1=\"64.26423510887871\" x2=\"5.260284966799816\" y2=\"84.26423510887871\" style=\"stroke:black;stroke-width:1\" />\n",
       "    </svg>"
      ],
      "text/plain": [
       "sag = 30\n",
       "Origin = class: point(x = 10, y = 0)\n",
       "End = class: point(x = 610, y = 0)\n",
       "d = 60"
      ]
     },
     "execution_count": 81,
     "metadata": {},
     "output_type": "execute_result"
    }
   ],
   "source": [
    "tt.sag=30\n",
    "tt"
   ]
  },
  {
   "cell_type": "code",
   "execution_count": 82,
   "metadata": {
    "collapsed": true
   },
   "outputs": [],
   "source": [
    "tt.show_center_line = False\n",
    "tt.display_points = False"
   ]
  },
  {
   "cell_type": "code",
   "execution_count": 83,
   "metadata": {
    "collapsed": false
   },
   "outputs": [
    {
     "data": {
      "image/svg+xml": [
       "<svg  viewBox = \"-34.739715 -39.623219 689.479430 149.246438\">\n",
       "<rect x=\"-34.739715\" y=\"-39.623219\" width=\"689.479430\" height=\"149.246438\" style=\"fill:#F2F2F2;fill-opacity:1;\"/>\n",
       "<path\n",
       "style=\"fill:none;fill-rule:evenodd;stroke:black;stroke-width:1px;stroke-linecap:square;stroke-linejoin:miter;stroke-opacity:1\"\n",
       "d=\"M 14.739715033200186,-29.623218957501162 C 260.78995250553,10.3767810425 359.21004749447,10.3767810425 605.2602849667999,-29.623218957501162\"\n",
       "inkscape:connector-curvature=\"0\" />\n",
       "\n",
       "<path\n",
       "style=\"fill:none;fill-rule:evenodd;stroke:black;stroke-width:1px;stroke-linecap:square;stroke-linejoin:miter;stroke-opacity:1\"\n",
       "d=\"M 5.260284966799814,29.623218957501162 C 259.21004749447,69.6232189575 360.78995250553,69.6232189575 614.7397150332001,29.623218957501162\"\n",
       "inkscape:connector-curvature=\"0\" />\n",
       "\n",
       "<line x1=\"14.7397\" y1=\"-29.6232\" x2=\"5.26028\" y2=\"29.6232\" style=\"stroke:black;stroke-width:1\" />\n",
       "<line x1=\"605.26\" y1=\"-29.6232\" x2=\"614.74\" y2=\"29.6232\" style=\"stroke:black;stroke-width:1\" />\n",
       "<path d = \"M 614.7397150332001,29.623218957501162 L 634.7397150332001,64.26423510887871 594.7397150332001,64.26423510887871\"/>\n",
       "    <circle cx=\"602.7397150332001\" cy=\"72.26423510887871\" r=\"8\" stroke=\"black\" stroke-width=\"1\" fill=\"none\" />\n",
       "    <circle cx=\"626.7397150332001\" cy=\"72.26423510887871\" r=\"8\" stroke=\"black\" stroke-width=\"1\" fill=\"none\" />\n",
       "    <line x1=\"594.7397150332001\" y1=\"80.26423510887871\" x2=\"634.7397150332001\" y2=\"80.26423510887871\" style=\"stroke:black;stroke-width:1\" />\n",
       "    <line x1=\"594.7397150332001\" y1=\"80.26423510887871\" x2=\"574.7397150332001\" y2=\"100.26423510887871\" style=\"stroke:black;stroke-width:1\" />\n",
       "    <line x1=\"602.7397150332001\" y1=\"80.26423510887871\" x2=\"582.7397150332001\" y2=\"100.26423510887871\" style=\"stroke:black;stroke-width:1\" />\n",
       "    <line x1=\"610.7397150332001\" y1=\"80.26423510887871\" x2=\"590.7397150332001\" y2=\"100.26423510887871\" style=\"stroke:black;stroke-width:1\" />\n",
       "    <line x1=\"618.7397150332001\" y1=\"80.26423510887871\" x2=\"598.7397150332001\" y2=\"100.26423510887871\" style=\"stroke:black;stroke-width:1\" />\n",
       "    <line x1=\"626.7397150332001\" y1=\"80.26423510887871\" x2=\"606.7397150332001\" y2=\"100.26423510887871\" style=\"stroke:black;stroke-width:1\" />\n",
       "    <line x1=\"634.7397150332001\" y1=\"80.26423510887871\" x2=\"614.7397150332001\" y2=\"100.26423510887871\" style=\"stroke:black;stroke-width:1\" />\n",
       "    <path d = \"M 5.260284966799814,29.623218957501162 L 25.260284966799816,64.26423510887871 -14.739715033200184,64.26423510887871\"/>\n",
       "    <line x1=\"-14.739715033200184\" y1=\"64.26423510887871\" x2=\"-34.739715033200184\" y2=\"84.26423510887871\" style=\"stroke:black;stroke-width:1\" />\n",
       "    <line x1=\"-6.739715033200184\" y1=\"64.26423510887871\" x2=\"-26.739715033200184\" y2=\"84.26423510887871\" style=\"stroke:black;stroke-width:1\" />\n",
       "    <line x1=\"1.2602849667998157\" y1=\"64.26423510887871\" x2=\"-18.739715033200184\" y2=\"84.26423510887871\" style=\"stroke:black;stroke-width:1\" />\n",
       "    <line x1=\"9.260284966799816\" y1=\"64.26423510887871\" x2=\"-10.739715033200184\" y2=\"84.26423510887871\" style=\"stroke:black;stroke-width:1\" />\n",
       "    <line x1=\"17.260284966799816\" y1=\"64.26423510887871\" x2=\"-2.7397150332001843\" y2=\"84.26423510887871\" style=\"stroke:black;stroke-width:1\" />\n",
       "    <line x1=\"25.260284966799816\" y1=\"64.26423510887871\" x2=\"5.260284966799816\" y2=\"84.26423510887871\" style=\"stroke:black;stroke-width:1\" />\n",
       "    </svg>"
      ],
      "text/plain": [
       "sag = 30\n",
       "Origin = class: point(x = 10, y = 0)\n",
       "End = class: point(x = 610, y = 0)\n",
       "d = 60"
      ]
     },
     "execution_count": 83,
     "metadata": {},
     "output_type": "execute_result"
    }
   ],
   "source": [
    "tt.sag = 30\n",
    "corners = tt.get_corners()\n",
    "S = tt.support_points()\n",
    "tt"
   ]
  },
  {
   "cell_type": "code",
   "execution_count": 79,
   "metadata": {
    "collapsed": false
   },
   "outputs": [
    {
     "name": "stdout",
     "output_type": "stream",
     "text": [
      "X_s, scale = (0.25, 0.1875)\n"
     ]
    },
    {
     "data": {
      "image/svg+xml": [
       "<svg  viewBox = \"-33.860809 -39.763843 687.721618 149.527687\">\n",
       "<rect x=\"-33.860809\" y=\"-39.763843\" width=\"687.721618\" height=\"149.527687\" style=\"fill:#F2F2F2;fill-opacity:1;\"/>\n",
       "<path\n",
       "style=\"fill:none;fill-rule:evenodd;stroke:black;stroke-width:1px;stroke-linecap:square;stroke-linejoin:miter;stroke-opacity:1\"\n",
       "d=\"M 13.860808783200186,-29.76384335356212 C 260.64346813053,10.23615664644 359.35653186947,10.23615664644 606.1391912167999,-29.763843353562077\"\n",
       "inkscape:connector-curvature=\"0\" />\n",
       "\n",
       "<path\n",
       "style=\"fill:none;fill-rule:evenodd;stroke:black;stroke-width:1px;stroke-linecap:square;stroke-linejoin:miter;stroke-opacity:1\"\n",
       "d=\"M 6.139191216799814,29.76384335444615 C 259.35653186947,69.76384335445 360.64346813053,69.76384335445 613.8608087832001,29.763843354446177\"\n",
       "inkscape:connector-curvature=\"0\" />\n",
       "\n",
       "<path\n",
       "style=\"fill:none;fill-rule:evenodd;stroke:black;stroke-width:1px;stroke-linecap:square;stroke-linejoin:miter;stroke-opacity:1\"\n",
       "d=\"M 9.12109375,-0.14062439606095722 C 60.12594931064,8.02004732427 107.76153162567,15.6015058961 159.12109375,21.278088871831642\"\n",
       "inkscape:connector-curvature=\"0\" />\n",
       "\n",
       "<path\n",
       "style=\"fill:none;fill-rule:evenodd;stroke:black;stroke-width:1px;stroke-linecap:square;stroke-linejoin:miter;stroke-opacity:1\"\n",
       "d=\"M 460.87890625,21.278088871831642 C 512.23846837433,15.6015058961 559.87405068935,8.02004732427 610.87890625,-0.1406243960609137\"\n",
       "inkscape:connector-curvature=\"0\" />\n",
       "\n",
       "<line x1=\"13.8608\" y1=\"-29.7638\" x2=\"9.12109\" y2=\"-0.140624\" style=\"stroke:black;stroke-width:1\" />\n",
       "<line x1=\"9.12109\" y1=\"-0.140624\" x2=\"10.8789\" y2=\"0.140624\" style=\"stroke:black;stroke-width:1\" />\n",
       "<line x1=\"10.8789\" y1=\"0.140624\" x2=\"6.13919\" y2=\"29.7638\" style=\"stroke:black;stroke-width:1\" />\n",
       "<line x1=\"606.139\" y1=\"-29.7638\" x2=\"610.879\" y2=\"-0.140624\" style=\"stroke:black;stroke-width:1\" />\n",
       "<line x1=\"610.879\" y1=\"-0.140624\" x2=\"609.121\" y2=\"0.140624\" style=\"stroke:black;stroke-width:1\" />\n",
       "<line x1=\"609.121\" y1=\"0.140624\" x2=\"613.861\" y2=\"29.7638\" style=\"stroke:black;stroke-width:1\" />\n",
       "<path d = \"M 613.8608087832001,29.763843354446177 L 633.8608087832001,64.40485950582372 593.8608087832001,64.40485950582372\"/>\n",
       "    <circle cx=\"601.8608087832001\" cy=\"72.40485950582372\" r=\"8\" stroke=\"black\" stroke-width=\"1\" fill=\"none\" />\n",
       "    <circle cx=\"625.8608087832001\" cy=\"72.40485950582372\" r=\"8\" stroke=\"black\" stroke-width=\"1\" fill=\"none\" />\n",
       "    <line x1=\"593.8608087832001\" y1=\"80.40485950582372\" x2=\"633.8608087832001\" y2=\"80.40485950582372\" style=\"stroke:black;stroke-width:1\" />\n",
       "    <line x1=\"593.8608087832001\" y1=\"80.40485950582372\" x2=\"573.8608087832001\" y2=\"100.40485950582372\" style=\"stroke:black;stroke-width:1\" />\n",
       "    <line x1=\"601.8608087832001\" y1=\"80.40485950582372\" x2=\"581.8608087832001\" y2=\"100.40485950582372\" style=\"stroke:black;stroke-width:1\" />\n",
       "    <line x1=\"609.8608087832001\" y1=\"80.40485950582372\" x2=\"589.8608087832001\" y2=\"100.40485950582372\" style=\"stroke:black;stroke-width:1\" />\n",
       "    <line x1=\"617.8608087832001\" y1=\"80.40485950582372\" x2=\"597.8608087832001\" y2=\"100.40485950582372\" style=\"stroke:black;stroke-width:1\" />\n",
       "    <line x1=\"625.8608087832001\" y1=\"80.40485950582372\" x2=\"605.8608087832001\" y2=\"100.40485950582372\" style=\"stroke:black;stroke-width:1\" />\n",
       "    <line x1=\"633.8608087832001\" y1=\"80.40485950582372\" x2=\"613.8608087832001\" y2=\"100.40485950582372\" style=\"stroke:black;stroke-width:1\" />\n",
       "    <path d = \"M 6.139191216799814,29.76384335444615 L 26.139191216799816,64.4048595058237 -13.860808783200184,64.4048595058237\"/>\n",
       "    <line x1=\"-13.860808783200184\" y1=\"64.4048595058237\" x2=\"-33.860808783200184\" y2=\"84.4048595058237\" style=\"stroke:black;stroke-width:1\" />\n",
       "    <line x1=\"-5.860808783200184\" y1=\"64.4048595058237\" x2=\"-25.860808783200184\" y2=\"84.4048595058237\" style=\"stroke:black;stroke-width:1\" />\n",
       "    <line x1=\"2.1391912167998157\" y1=\"64.4048595058237\" x2=\"-17.860808783200184\" y2=\"84.4048595058237\" style=\"stroke:black;stroke-width:1\" />\n",
       "    <line x1=\"10.139191216799816\" y1=\"64.4048595058237\" x2=\"-9.860808783200184\" y2=\"84.4048595058237\" style=\"stroke:black;stroke-width:1\" />\n",
       "    <line x1=\"18.139191216799816\" y1=\"64.4048595058237\" x2=\"-1.8608087832001843\" y2=\"84.4048595058237\" style=\"stroke:black;stroke-width:1\" />\n",
       "    <line x1=\"26.139191216799816\" y1=\"64.4048595058237\" x2=\"6.139191216799816\" y2=\"84.4048595058237\" style=\"stroke:black;stroke-width:1\" />\n",
       "    </svg>"
      ],
      "text/plain": [
       "sag = 30\n",
       "Origin = class: point(x = 10, y = 0)\n",
       "End = class: point(x = 610, y = 0)\n",
       "d = 60"
      ]
     },
     "execution_count": 79,
     "metadata": {},
     "output_type": "execute_result"
    }
   ],
   "source": [
    "# tt.L_split = 0.25\n",
    "# tt.split()\n",
    "# tt"
   ]
  },
  {
   "cell_type": "code",
   "execution_count": 84,
   "metadata": {
    "collapsed": false
   },
   "outputs": [
    {
     "name": "stdout",
     "output_type": "stream",
     "text": [
      "What is the maximum number of versions of this beam do you want to save? [1000]\n",
      "Saving first svg drawing to: ./Shear_failure/beam-000.svg\n"
     ]
    },
    {
     "data": {
      "image/svg+xml": [
       "<svg  viewBox = \"-34.430867 -39.575452 689.479430 149.246438\">\n",
       "<rect x=\"-34.430867\" y=\"-39.575452\" width=\"689.479430\" height=\"149.246438\" style=\"fill:#F2F2F2;fill-opacity:1;\"/>\n",
       "<path\n",
       "style=\"fill:none;fill-rule:evenodd;stroke:black;stroke-width:1px;stroke-linecap:square;stroke-linejoin:miter;stroke-opacity:1\"\n",
       "d=\"M 14.430867255628597,-29.67098608679864 C 260.73847787594,7.66234724653 359.26152212406,7.66234724653 605.5691327443714,-29.67098608679864\"\n",
       "inkscape:connector-curvature=\"0\" />\n",
       "\n",
       "<path\n",
       "style=\"fill:none;fill-rule:evenodd;stroke:black;stroke-width:1px;stroke-linecap:square;stroke-linejoin:miter;stroke-opacity:1\"\n",
       "d=\"M 5.569132744371403,29.67098608679864 C 259.26152212406,67.00431942013 360.73847787594,67.00431942013 614.4308672556286,29.67098608679864\"\n",
       "inkscape:connector-curvature=\"0\" />\n",
       "\n",
       "<line x1=\"14.4309\" y1=\"-29.671\" x2=\"5.56913\" y2=\"29.671\" style=\"stroke:black;stroke-width:1\" />\n",
       "<line x1=\"605.569\" y1=\"-29.671\" x2=\"614.431\" y2=\"29.671\" style=\"stroke:black;stroke-width:1\" />\n",
       "<path d = \"M 614.4308672556286,29.67098608679864 L 634.4308672556286,64.31200223817619 594.4308672556286,64.31200223817619\"/>\n",
       "    <circle cx=\"602.4308672556286\" cy=\"72.31200223817619\" r=\"8\" stroke=\"black\" stroke-width=\"1\" fill=\"none\" />\n",
       "    <circle cx=\"626.4308672556286\" cy=\"72.31200223817619\" r=\"8\" stroke=\"black\" stroke-width=\"1\" fill=\"none\" />\n",
       "    <line x1=\"594.4308672556286\" y1=\"80.31200223817619\" x2=\"634.4308672556286\" y2=\"80.31200223817619\" style=\"stroke:black;stroke-width:1\" />\n",
       "    <line x1=\"594.4308672556286\" y1=\"80.31200223817619\" x2=\"574.4308672556286\" y2=\"100.31200223817619\" style=\"stroke:black;stroke-width:1\" />\n",
       "    <line x1=\"602.4308672556286\" y1=\"80.31200223817619\" x2=\"582.4308672556286\" y2=\"100.31200223817619\" style=\"stroke:black;stroke-width:1\" />\n",
       "    <line x1=\"610.4308672556286\" y1=\"80.31200223817619\" x2=\"590.4308672556286\" y2=\"100.31200223817619\" style=\"stroke:black;stroke-width:1\" />\n",
       "    <line x1=\"618.4308672556286\" y1=\"80.31200223817619\" x2=\"598.4308672556286\" y2=\"100.31200223817619\" style=\"stroke:black;stroke-width:1\" />\n",
       "    <line x1=\"626.4308672556286\" y1=\"80.31200223817619\" x2=\"606.4308672556286\" y2=\"100.31200223817619\" style=\"stroke:black;stroke-width:1\" />\n",
       "    <line x1=\"634.4308672556286\" y1=\"80.31200223817619\" x2=\"614.4308672556286\" y2=\"100.31200223817619\" style=\"stroke:black;stroke-width:1\" />\n",
       "    <path d = \"M 5.569132744371403,29.67098608679864 L 25.5691327443714,64.31200223817619 -14.430867255628598,64.31200223817619\"/>\n",
       "    <line x1=\"-14.430867255628598\" y1=\"64.31200223817619\" x2=\"-34.4308672556286\" y2=\"84.31200223817619\" style=\"stroke:black;stroke-width:1\" />\n",
       "    <line x1=\"-6.430867255628598\" y1=\"64.31200223817619\" x2=\"-26.4308672556286\" y2=\"84.31200223817619\" style=\"stroke:black;stroke-width:1\" />\n",
       "    <line x1=\"1.5691327443714016\" y1=\"64.31200223817619\" x2=\"-18.4308672556286\" y2=\"84.31200223817619\" style=\"stroke:black;stroke-width:1\" />\n",
       "    <line x1=\"9.569132744371402\" y1=\"64.31200223817619\" x2=\"-10.430867255628598\" y2=\"84.31200223817619\" style=\"stroke:black;stroke-width:1\" />\n",
       "    <line x1=\"17.5691327443714\" y1=\"64.31200223817619\" x2=\"-2.4308672556285984\" y2=\"84.31200223817619\" style=\"stroke:black;stroke-width:1\" />\n",
       "    <line x1=\"25.5691327443714\" y1=\"64.31200223817619\" x2=\"5.569132744371402\" y2=\"84.31200223817619\" style=\"stroke:black;stroke-width:1\" />\n",
       "    </svg>"
      ],
      "text/plain": [
       "sag = 28\n",
       "Origin = class: point(x = 10, y = 0)\n",
       "End = class: point(x = 610, y = 0)\n",
       "d = 60"
      ]
     },
     "execution_count": 84,
     "metadata": {},
     "output_type": "execute_result"
    }
   ],
   "source": [
    "tt.manual_viewbox=True\n",
    "for i in range(15):\n",
    "    tt.sag = i*2\n",
    "    adjust_viewbox(corners, S, tt)\n",
    "    tt.save('./Shear_failure/beam')\n",
    "tt"
   ]
  },
  {
   "cell_type": "code",
   "execution_count": 85,
   "metadata": {
    "collapsed": false
   },
   "outputs": [
    {
     "name": "stdout",
     "output_type": "stream",
     "text": [
      "X_s, scale = (0.0, 0.0)\n",
      "X_s, scale = (0.02, 0.0196)\n",
      "X_s, scale = (0.04, 0.0384)\n",
      "X_s, scale = (0.06, 0.05639999999999999)\n",
      "X_s, scale = (0.08, 0.0736)\n",
      "X_s, scale = (0.1, 0.09000000000000001)\n",
      "X_s, scale = (0.12, 0.1056)\n",
      "X_s, scale = (0.14, 0.12040000000000001)\n",
      "X_s, scale = (0.16, 0.1344)\n",
      "X_s, scale = (0.18, 0.1476)\n",
      "X_s, scale = (0.2, 0.16000000000000003)\n",
      "X_s, scale = (0.22, 0.1716)\n",
      "X_s, scale = (0.24, 0.1824)\n",
      "X_s, scale = (0.26, 0.19240000000000002)\n",
      "X_s, scale = (0.28, 0.2016)\n"
     ]
    },
    {
     "name": "stderr",
     "output_type": "stream",
     "text": [
      "/home/damon/Documents/CODE/Programing/Python/IPython Notebook Folders (links)/SVG/New_Spline.py:44: RuntimeWarning: invalid value encountered in double_scalars\n",
      "  m = (y3-y0)/(x3-x0)\n"
     ]
    },
    {
     "data": {
      "image/svg+xml": [
       "<svg  viewBox = \"-33.372467 -39.417398 689.479430 149.246438\">\n",
       "<rect x=\"-33.372467\" y=\"-39.417398\" width=\"689.479430\" height=\"149.246438\" style=\"fill:#F2F2F2;fill-opacity:1;\"/>\n",
       "<path\n",
       "style=\"fill:none;fill-rule:evenodd;stroke:black;stroke-width:1px;stroke-linecap:square;stroke-linejoin:miter;stroke-opacity:1\"\n",
       "d=\"M 13.372467255628596,-29.829039502296585 C 260.56207787594,7.50429383104 359.43792212406,7.50429383104 606.6275327443714,-29.829039502296588\"\n",
       "inkscape:connector-curvature=\"0\" />\n",
       "\n",
       "<path\n",
       "style=\"fill:none;fill-rule:evenodd;stroke:black;stroke-width:1px;stroke-linecap:square;stroke-linejoin:miter;stroke-opacity:1\"\n",
       "d=\"M 6.627532744371404,29.829039504031716 C 259.43792212406,67.16237283737 360.56207787594,67.16237283737 613.3724672556286,29.829039504031726\"\n",
       "inkscape:connector-curvature=\"0\" />\n",
       "\n",
       "<path\n",
       "style=\"fill:none;fill-rule:evenodd;stroke:black;stroke-width:1px;stroke-linecap:square;stroke-linejoin:miter;stroke-opacity:1\"\n",
       "d=\"M 8.9416,-0.15805341549794583 C 66.26559065403,8.40216917703 119.20303331868,16.24681572354 176.94160000000002,21.60701251256119\"\n",
       "inkscape:connector-curvature=\"0\" />\n",
       "\n",
       "<path\n",
       "style=\"fill:none;fill-rule:evenodd;stroke:black;stroke-width:1px;stroke-linecap:square;stroke-linejoin:miter;stroke-opacity:1\"\n",
       "d=\"M 443.0584,21.60701251256118 C 500.79696668132,16.24681572354 553.73440934597,8.40216917703 611.0584,-0.15805341549794893\"\n",
       "inkscape:connector-curvature=\"0\" />\n",
       "\n",
       "<line x1=\"13.3725\" y1=\"-29.829\" x2=\"8.9416\" y2=\"-0.158053\" style=\"stroke:black;stroke-width:1\" />\n",
       "<line x1=\"8.9416\" y1=\"-0.158053\" x2=\"11.0584\" y2=\"0.158053\" style=\"stroke:black;stroke-width:1\" />\n",
       "<line x1=\"11.0584\" y1=\"0.158053\" x2=\"6.62753\" y2=\"29.829\" style=\"stroke:black;stroke-width:1\" />\n",
       "<line x1=\"606.628\" y1=\"-29.829\" x2=\"611.058\" y2=\"-0.158053\" style=\"stroke:black;stroke-width:1\" />\n",
       "<line x1=\"611.058\" y1=\"-0.158053\" x2=\"608.942\" y2=\"0.158053\" style=\"stroke:black;stroke-width:1\" />\n",
       "<line x1=\"608.942\" y1=\"0.158053\" x2=\"613.372\" y2=\"29.829\" style=\"stroke:black;stroke-width:1\" />\n",
       "<path d = \"M 613.3724672556286,29.829039504031726 L 633.3724672556286,64.47005565540928 593.3724672556286,64.47005565540928\"/>\n",
       "    <circle cx=\"601.3724672556286\" cy=\"72.47005565540928\" r=\"8\" stroke=\"black\" stroke-width=\"1\" fill=\"none\" />\n",
       "    <circle cx=\"625.3724672556286\" cy=\"72.47005565540928\" r=\"8\" stroke=\"black\" stroke-width=\"1\" fill=\"none\" />\n",
       "    <line x1=\"593.3724672556286\" y1=\"80.47005565540928\" x2=\"633.3724672556286\" y2=\"80.47005565540928\" style=\"stroke:black;stroke-width:1\" />\n",
       "    <line x1=\"593.3724672556286\" y1=\"80.47005565540928\" x2=\"573.3724672556286\" y2=\"100.47005565540928\" style=\"stroke:black;stroke-width:1\" />\n",
       "    <line x1=\"601.3724672556286\" y1=\"80.47005565540928\" x2=\"581.3724672556286\" y2=\"100.47005565540928\" style=\"stroke:black;stroke-width:1\" />\n",
       "    <line x1=\"609.3724672556286\" y1=\"80.47005565540928\" x2=\"589.3724672556286\" y2=\"100.47005565540928\" style=\"stroke:black;stroke-width:1\" />\n",
       "    <line x1=\"617.3724672556286\" y1=\"80.47005565540928\" x2=\"597.3724672556286\" y2=\"100.47005565540928\" style=\"stroke:black;stroke-width:1\" />\n",
       "    <line x1=\"625.3724672556286\" y1=\"80.47005565540928\" x2=\"605.3724672556286\" y2=\"100.47005565540928\" style=\"stroke:black;stroke-width:1\" />\n",
       "    <line x1=\"633.3724672556286\" y1=\"80.47005565540928\" x2=\"613.3724672556286\" y2=\"100.47005565540928\" style=\"stroke:black;stroke-width:1\" />\n",
       "    <path d = \"M 6.627532744371404,29.829039504031716 L 26.627532744371404,64.47005565540927 -13.372467255628596,64.47005565540927\"/>\n",
       "    <line x1=\"-13.372467255628596\" y1=\"64.47005565540927\" x2=\"-33.37246725562859\" y2=\"84.47005565540927\" style=\"stroke:black;stroke-width:1\" />\n",
       "    <line x1=\"-5.372467255628596\" y1=\"64.47005565540927\" x2=\"-25.372467255628596\" y2=\"84.47005565540927\" style=\"stroke:black;stroke-width:1\" />\n",
       "    <line x1=\"2.627532744371404\" y1=\"64.47005565540927\" x2=\"-17.372467255628596\" y2=\"84.47005565540927\" style=\"stroke:black;stroke-width:1\" />\n",
       "    <line x1=\"10.627532744371404\" y1=\"64.47005565540927\" x2=\"-9.372467255628596\" y2=\"84.47005565540927\" style=\"stroke:black;stroke-width:1\" />\n",
       "    <line x1=\"18.627532744371404\" y1=\"64.47005565540927\" x2=\"-1.372467255628596\" y2=\"84.47005565540927\" style=\"stroke:black;stroke-width:1\" />\n",
       "    <line x1=\"26.627532744371404\" y1=\"64.47005565540927\" x2=\"6.627532744371404\" y2=\"84.47005565540927\" style=\"stroke:black;stroke-width:1\" />\n",
       "    </svg>"
      ],
      "text/plain": [
       "sag = 28\n",
       "Origin = class: point(x = 10, y = 0)\n",
       "End = class: point(x = 610, y = 0)\n",
       "d = 60"
      ]
     },
     "execution_count": 85,
     "metadata": {},
     "output_type": "execute_result"
    }
   ],
   "source": [
    "for i in range(15):\n",
    "    tt.L_split=i*2/100\n",
    "    tt.split()\n",
    "    adjust_viewbox(corners, S, tt)\n",
    "    tt.save('./Shear_failure/beam')\n",
    "tt"
   ]
  },
  {
   "cell_type": "code",
   "execution_count": 27,
   "metadata": {
    "collapsed": false
   },
   "outputs": [],
   "source": [
    "# print(tt.svg_alt())"
   ]
  },
  {
   "cell_type": "code",
   "execution_count": 26,
   "metadata": {
    "collapsed": false
   },
   "outputs": [],
   "source": [
    "# from IPython.display import SVG\n",
    "# SVG(tt.svg_alt())"
   ]
  },
  {
   "cell_type": "code",
   "execution_count": 25,
   "metadata": {
    "collapsed": true
   },
   "outputs": [],
   "source": [
    "with open(\"split.svg\",'w') as f:\n",
    "    f.write(tt.svg_alt())"
   ]
  },
  {
   "cell_type": "code",
   "execution_count": null,
   "metadata": {
    "collapsed": true
   },
   "outputs": [],
   "source": []
  },
  {
   "cell_type": "code",
   "execution_count": null,
   "metadata": {
    "collapsed": true
   },
   "outputs": [],
   "source": []
  },
  {
   "cell_type": "code",
   "execution_count": null,
   "metadata": {
    "collapsed": true
   },
   "outputs": [],
   "source": []
  },
  {
   "cell_type": "code",
   "execution_count": null,
   "metadata": {
    "collapsed": true
   },
   "outputs": [],
   "source": []
  },
  {
   "cell_type": "code",
   "execution_count": null,
   "metadata": {
    "collapsed": true
   },
   "outputs": [],
   "source": []
  }
 ],
 "metadata": {
  "kernelspec": {
   "display_name": "Python 3",
   "language": "python",
   "name": "python3"
  },
  "language_info": {
   "codemirror_mode": {
    "name": "ipython",
    "version": 3
   },
   "file_extension": ".py",
   "mimetype": "text/x-python",
   "name": "python",
   "nbconvert_exporter": "python",
   "pygments_lexer": "ipython3",
   "version": "3.4.0"
  }
 },
 "nbformat": 4,
 "nbformat_minor": 0
}
