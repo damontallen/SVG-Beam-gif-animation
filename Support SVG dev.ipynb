{
 "cells": [
  {
   "cell_type": "code",
   "execution_count": 5,
   "metadata": {
    "collapsed": true
   },
   "outputs": [],
   "source": [
    "from collections import namedtuple\n",
    "import numpy as np\n",
    "\n",
    "class Point(object):\n",
    "    def __init__(self, x=0, y=0):\n",
    "        iteribles = {type([]),type(())}\n",
    "        if type(x) in iteribles and y==0:\n",
    "            x, y = x\n",
    "        self.x = x\n",
    "        self.y = y\n",
    "    \n",
    "    def translate(self,dx=0,dy=0):\n",
    "        iteribles = {type([]),type(())}\n",
    "        if type(dx) in iteribles and dy==0:\n",
    "            dx, dy = dx\n",
    "        x = self.x + dx\n",
    "        y = self.y + dy\n",
    "        return Point(x,y)\n",
    "    \n",
    "def pinned(P):\n",
    "    base = \"\"\"<path d = \"M {},{} L {},{} {},{}\"/>\n",
    "    <line x1=\"{}\" y1=\"{}\" x2=\"{}\" y2=\"{}\" style=\"stroke:black;stroke-width:1\" />\n",
    "    <line x1=\"{}\" y1=\"{}\" x2=\"{}\" y2=\"{}\" style=\"stroke:black;stroke-width:1\" />\n",
    "    <line x1=\"{}\" y1=\"{}\" x2=\"{}\" y2=\"{}\" style=\"stroke:black;stroke-width:1\" />\n",
    "    <line x1=\"{}\" y1=\"{}\" x2=\"{}\" y2=\"{}\" style=\"stroke:black;stroke-width:1\" />\n",
    "    <line x1=\"{}\" y1=\"{}\" x2=\"{}\" y2=\"{}\" style=\"stroke:black;stroke-width:1\" />\n",
    "    <line x1=\"{}\" y1=\"{}\" x2=\"{}\" y2=\"{}\" style=\"stroke:black;stroke-width:1\" />\n",
    "    \"\"\"\n",
    "    peak = Point(P)\n",
    "    side = 20\n",
    "    dh = side * np.cos(np.deg2rad(30))\n",
    "    bR = peak.translate(side/2,dh)\n",
    "    bL = bR.translate(-side,0)\n",
    "    gT = []\n",
    "    gB = []\n",
    "    g = bL\n",
    "    step = side/5\n",
    "    for i in range(6):\n",
    "        gT.append(g)\n",
    "        gB.append(g.translate(-10,10))\n",
    "        g = g.translate(step,0)\n",
    "    gnd = []\n",
    "    for t,b in zip(gT,gB):\n",
    "        gnd+=[t.x,t.y,b.x,b.y]\n",
    "    sup = base.format(peak.x,peak.y,bR.x,bR.y,bL.x,bL.y,*gnd)\n",
    "    return sup\n",
    "\n",
    "def roller(P):\n",
    "    roller = \"\"\"<path d = \"M {},{} L {},{} {},{}\"/>\n",
    "    <circle cx=\"{}\" cy=\"{}\" r=\"4\" stroke=\"black\" stroke-width=\"1\" fill=\"none\" />\n",
    "    <circle cx=\"{}\" cy=\"{}\" r=\"4\" stroke=\"black\" stroke-width=\"1\" fill=\"none\" />\n",
    "    <line x1=\"{}\" y1=\"{}\" x2=\"{}\" y2=\"{}\" style=\"stroke:black;stroke-width:1\" />\n",
    "    <line x1=\"{}\" y1=\"{}\" x2=\"{}\" y2=\"{}\" style=\"stroke:black;stroke-width:1\" />\n",
    "    <line x1=\"{}\" y1=\"{}\" x2=\"{}\" y2=\"{}\" style=\"stroke:black;stroke-width:1\" />\n",
    "    <line x1=\"{}\" y1=\"{}\" x2=\"{}\" y2=\"{}\" style=\"stroke:black;stroke-width:1\" />\n",
    "    <line x1=\"{}\" y1=\"{}\" x2=\"{}\" y2=\"{}\" style=\"stroke:black;stroke-width:1\" />\n",
    "    <line x1=\"{}\" y1=\"{}\" x2=\"{}\" y2=\"{}\" style=\"stroke:black;stroke-width:1\" />\n",
    "    <line x1=\"{}\" y1=\"{}\" x2=\"{}\" y2=\"{}\" style=\"stroke:black;stroke-width:1\" />\n",
    "    \"\"\"\n",
    "\n",
    "    peak = Point(P)\n",
    "    side = 20\n",
    "    dh = side * np.cos(np.deg2rad(30))\n",
    "    bR = peak.translate(side/2,dh)\n",
    "    bL = bR.translate(-side,0)\n",
    "    gT = []\n",
    "    gB = []\n",
    "    cL = bL.translate(4,4)\n",
    "    cR = bR.translate(-4,4)\n",
    "    eL = cL.translate(-4,4)\n",
    "    eR = eL.translate(side,0)\n",
    "    g = eL\n",
    "    step = side/5\n",
    "    for i in range(6):\n",
    "        gT.append(g)\n",
    "        gB.append(g.translate(-10,10))\n",
    "        g = g.translate(step,0)\n",
    "    gnd = []\n",
    "    for t,b in zip(gT,gB):\n",
    "        gnd+=[t.x,t.y,b.x,b.y]\n",
    "\n",
    "    osup = roller.format(peak.x,peak.y,bR.x,bR.y,bL.x,bL.y,cL.x,cL.y,cR.x,cR.y,eL.x,eL.y,eR.x,eR.y,*gnd)\n",
    "    return osup\n",
    "\n",
    "\n",
    "P = [6.1783640934432436,14.526359211739864]    \n",
    "print(pinned(P))\n",
    "    \n",
    "P= [313.82163590655676,14.526359211739868]\n",
    "print(roller(P))"
   ]
  },
  {
   "cell_type": "code",
   "execution_count": 36,
   "metadata": {
    "collapsed": false
   },
   "outputs": [
    {
     "data": {
      "text/plain": [
       "[5, 4, 3, 2, 1]"
      ]
     },
     "execution_count": 36,
     "metadata": {},
     "output_type": "execute_result"
    }
   ],
   "source": [
    "a = [1,2,3,4,5]\n",
    "a[::-1]"
   ]
  },
  {
   "cell_type": "code",
   "execution_count": null,
   "metadata": {
    "collapsed": true
   },
   "outputs": [],
   "source": []
  }
 ],
 "metadata": {
  "kernelspec": {
   "display_name": "Python 3",
   "language": "python",
   "name": "python3"
  },
  "language_info": {
   "codemirror_mode": {
    "name": "ipython",
    "version": 3
   },
   "file_extension": ".py",
   "mimetype": "text/x-python",
   "name": "python",
   "nbconvert_exporter": "python",
   "pygments_lexer": "ipython3",
   "version": "3.4.0"
  }
 },
 "nbformat": 4,
 "nbformat_minor": 0
}
