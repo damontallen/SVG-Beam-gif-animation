{
 "cells": [
  {
   "cell_type": "markdown",
   "metadata": {},
   "source": [
    "$$y = a x^2 +b x +c$$\n",
    "$$\\frac{dy}{dx} = 2 a x +b $$\n",
    "$$\\theta = \\arctan \\left( \\frac{dy}{dx} \\right)$$\n",
    "\n",
    "$$y = a x^2 + b x +c $$\n",
    "$$\\begin{bmatrix} x_0^2 & x_0 & 1\\\\ x_1^2 & x_1 & 1\\\\ x_2^2 & x_2 & 1 \\end{bmatrix} \\begin{bmatrix} a\\\\b\\\\c\\end{bmatrix} = \\begin{bmatrix} y_0\\\\y_1\\\\y_2\\end{bmatrix}$$\n",
    "$$ \\begin{bmatrix} a\\\\b\\\\c\\end{bmatrix} = \\begin{bmatrix} x_0^2 & x_0 & 1\\\\ x_1^2 & x_1 & 1\\\\ x_2^2 & x_2 & 1 \\end{bmatrix}^{-1} \\begin{bmatrix} y_0\\\\y_1\\\\y_2\\end{bmatrix}$$"
   ]
  },
  {
   "cell_type": "code",
   "execution_count": 1,
   "metadata": {
    "collapsed": false
   },
   "outputs": [],
   "source": [
    "# name: SVG_beam.py\n",
    "# type: text/x-python\n",
    "# size: 4309 bytes \n",
    "# ---- \n",
    "from SVG_lib import point, Line\n",
    "from CurveManip import rotate, mirror\n",
    "from New_Spline import Spline\n",
    "import os\n",
    "from numpy import ceil, log10\n",
    "\n",
    "class beam(object):\n",
    "    \"For displaying a beam failure\"\n",
    "    def __init__(self):\n",
    "        self.L_CL = point(10,0)  # These should be renamed, (they are not center lines)\n",
    "        self.R_CL = point(310,0) # These should be renamed, (they are not center lines)\n",
    "        self._sag = 0\n",
    "        self.thickness = 30\n",
    "        off = self._t/2\n",
    "        self.centerline = Spline(self.L_CL.List(),self.R_CL.List())\n",
    "        self.centerline.centerline=True\n",
    "        top = Spline(self.L_CL.offset_y(-off).List(),self.R_CL.offset_y(-off).List())\n",
    "        # top.circles=False\n",
    "        self.top = [top]\n",
    "        bottom = Spline(self.L_CL.offset_y(off).List(),self.R_CL.offset_y(off).List())\n",
    "        # bottom.circles=False\n",
    "        self.bottom = [bottom]\n",
    "        self.line_width=1\n",
    "#         End = namedtuple(\"End\",\")\n",
    "        Left = Line(self.L_CL.offset_y(-off),self.L_CL.offset_y(off))\n",
    "        Left.width = 1\n",
    "        self.L_end_orig = [Left] # Need to make Line object\n",
    "        Right = Line(self.R_CL.offset_y(-off),self.R_CL.offset_y(off))\n",
    "        Right.width = 1\n",
    "        self.R_end_orig = [Right] # Need to make Line object\n",
    "        self.L_end = self.L_end_orig.copy()\n",
    "        self.R_end = self.R_end_orig.copy()\n",
    "        self._filename = None\n",
    "        self._path = None\n",
    "        self._extension = None\n",
    "#         self._filename = None\n",
    "        self._warned = False # for setting the maximum file number in save method\n",
    "        self.manual_ends = False\n",
    "        self.splits = []\n",
    "        self.show_center_line = True\n",
    "        \n",
    "    \n",
    "    @property\n",
    "    def line_width(self):\n",
    "        return self._line_width\n",
    "    @line_width.setter\n",
    "    def line_width(self, val):\n",
    "        for top in self.top:\n",
    "            top.width = str(val)\n",
    "        for bottom in self.bottom:\n",
    "            bottom.width = str(val)\n",
    "        self._line_width = val\n",
    "    \n",
    "    @property\n",
    "    def thickness(self):\n",
    "        return self._t\n",
    "    @thickness.setter\n",
    "    def thickness(self,val):\n",
    "        self._t = val\n",
    "    \n",
    "    @property\n",
    "    def display_points(self):\n",
    "        return self._display_points\n",
    "    @display_points.setter\n",
    "    def display_points(self,val):\n",
    "        if type(val)!=type(True):\n",
    "            raise(ValueError('Must be True or False only!'))\n",
    "        self._display_points = val\n",
    "        self.centerline.points = val\n",
    "        for top in self.top:\n",
    "            top.points = val\n",
    "        for bottom in self.bottom:\n",
    "            bottom.points = val\n",
    "        for split in self.splits:\n",
    "            split.points = val\n",
    "    \n",
    "    def _set_poly_origin(self,poly_list,end_point):\n",
    "        x, y = end_point\n",
    "        poly_list[0].P0 = [x,y]\n",
    "    \n",
    "    def _set_poly_end(self,poly_list,end_point):\n",
    "        x, y = end_point\n",
    "        poly_list[-1].P3 = [x,y]\n",
    "    \n",
    "    @property\n",
    "    def sag(self):\n",
    "        return self._sag\n",
    "    @sag.setter\n",
    "    def sag(self,val):\n",
    "        self._sag = val\n",
    "        self.centerline.sag = val\n",
    "        angs = self.centerline.end_angles()\n",
    "        x0_base,y0_base = self.centerline.P0\n",
    "\n",
    "        if not self.manual_ends:\n",
    "            L_end =[]\n",
    "            for line in self.L_end_orig:\n",
    "                x0, y0 = line.p0.List()\n",
    "                x0_, y0_ = rotate([x0,y0],base=[x0_base,y0_base],angle=angs.θ_0)\n",
    "                x0 = float(x0_)\n",
    "                y0 = float(y0_)\n",
    "                x1, y1 = line.p1.List()\n",
    "                x1_, y1_ = rotate([x1,y1],base=[x0_base,y0_base],angle=angs.θ_0)\n",
    "                x1 = float(x1_)\n",
    "                y1 = float(y1_)\n",
    "                new_Line = Line(point(x0,y0), point(x1,y1))\n",
    "                new_Line.width = self.line_width\n",
    "                L_end.append(new_Line)\n",
    "            self.L_end = L_end\n",
    "        self._set_poly_origin(self.bottom,self.L_end[-1].p1.List())\n",
    "        self._set_poly_origin(self.top,self.L_end[0].p0.List())\n",
    "        \n",
    "        x0_base,y0_base = self.R_CL.List()\n",
    "        if not self.manual_ends:\n",
    "            R_end =[]\n",
    "            for line in self.R_end_orig:\n",
    "                x0, y0 = line.p0.List()\n",
    "                x0_, y0_ = rotate([x0,y0],base=[x0_base,y0_base],angle=angs.θ_1)\n",
    "                x0 = float(x0_)\n",
    "                y0 = float(y0_)\n",
    "                x1, y1 = line.p1.List()\n",
    "                x1_, y1_ = rotate([x1,y1],base=[x0_base,y0_base],angle=angs.θ_1)\n",
    "                x1 = float(x1_)\n",
    "                y1 = float(y1_)\n",
    "                new_Line = Line(point(x0,y0), point(x1,y1))\n",
    "                new_Line.width = self.line_width\n",
    "                R_end.append(new_Line)\n",
    "            self.R_end = R_end\n",
    "        self._set_poly_end(self.bottom,self.R_end[-1].p1.List())\n",
    "        self._set_poly_end(self.top,self.R_end[0].p0.List())\n",
    "        \n",
    "        if len(self.top)==1:\n",
    "            self.top[0].sag = val\n",
    "        else:\n",
    "            er=\"not implemented!!!!!!\"\n",
    "            raise(RuntimeError(er))\n",
    "        if len(self.bottom)==1:\n",
    "            self.bottom[0].sag = val\n",
    "        else:\n",
    "            er=\"not implemented!!!!!!\"\n",
    "            raise(RuntimeError(er))\n",
    "        \n",
    "        \n",
    "    def mirror_end(self, source='left'):\n",
    "        source = source.lower().strip()\n",
    "        if len(self.top)==1:\n",
    "            a = [float(p) for p in np.array(self.top.P1)-np.array(self.top.P0)]\n",
    "        else:\n",
    "            er=\"not implemented!!!!!!\"\n",
    "            raise(RuntimeError(er))\n",
    "        if len(self.bottom)==1:\n",
    "            b = [float(p) for p in np.array(self.bottom.P1)-np.array(self.bottom.P0)]\n",
    "        else:\n",
    "            er=\"not implemented!!!!!!\"\n",
    "            raise(RuntimeError(er))\n",
    "        if source == 'left':\n",
    "            R_end=[]\n",
    "            for line in self.L_end:\n",
    "                p0 = line.p0.List()\n",
    "                p1 = line.p1.List()\n",
    "                p0 = mirror(p0,[a,b])\n",
    "                p1 = mirror(p1,[a,b])\n",
    "                R_end.append(Line(point(*p0),point(*p1)))\n",
    "            self.R_end = R_end\n",
    "        elif source == 'right':\n",
    "            L_end = []\n",
    "            for line in self.R_end:\n",
    "                p0 = line.p0.List()\n",
    "                p1 = line.p1.List()\n",
    "                p0 = mirror(p0,[a,b])\n",
    "                p1 = mirror(p1,[a,b])\n",
    "                L_end.append(Line(point(*p0),point(*p1)))\n",
    "            self.L_end = L_end\n",
    "        else:\n",
    "            er= \"The only sources that may be specified are left or right.\"\n",
    "            raise(ValueError(er))\n",
    "        \n",
    "    def __repr__(self):\n",
    "        txt =  'sag = {}\\n'.format(self.sag)\n",
    "        txt += 'Origin = {}\\n'.format(self.L_CL)\n",
    "        txt += 'End = {}\\n'.format(self.R_CL)\n",
    "        txt += 'd = {}\\n'.format(self.thickness)\n",
    "        return txt\n",
    "    \n",
    "    def _repr_svg_(self):\n",
    "        if len(self.top)==1:\n",
    "            Top = self.top[0].bounds()\n",
    "        else:\n",
    "            er=\"not implemented!!!!!!\"\n",
    "            raise(RuntimeError(er))\n",
    "        if len(self.bottom)==1:\n",
    "            Bot = self.bottom[0].bounds()\n",
    "        else:\n",
    "            er=\"not implemented!!!!!!\"\n",
    "            raise(RuntimeError(er))\n",
    "        left = min(Top.left, Bot.left)\n",
    "        top = min(Top.top, Bot.top)\n",
    "        right = max(Top.left+Top.width, Bot.left+Bot.width)\n",
    "        bottom = max(Top.top+Top.height, Bot.top+Bot.height)\n",
    "        width = abs(right-left)\n",
    "        height = abs(bottom-top)\n",
    "        txt = '<svg  viewBox = \"%f %f %f %f\">\\n'%(left,top,width,height)\n",
    "        for index,top_ in enumerate(self.top):\n",
    "            txt+= top_.svg_txt()+'\\n'\n",
    "        for index, bottom_ in enumerate(self.bottom):\n",
    "            txt+= bottom_.svg_txt()+'\\n'\n",
    "        if self.show_center_line:\n",
    "            txt += self.centerline.svg_txt()   \n",
    "        \n",
    "        for split in self.splits: # for displaying all cracks\n",
    "            txt+= split.svg_txt()+'\\n'\n",
    "        \n",
    "        for line in self.L_end:\n",
    "            txt+= line.svg_line_txt()+'\\n'\n",
    "        for line in self.R_end:\n",
    "            txt+= line.svg_line_txt()+'\\n'\n",
    "        txt +=\"</svg>\"\n",
    "        return txt\n",
    "    \n",
    "    def save(self, filename=\"\"):\n",
    "        if not self._warned:\n",
    "            max_file_num = input((\"What is the maximum number of versions \"\n",
    "                                  \"of this beam do you want to save? \"\n",
    "                                  \"[1000]\")) or '1000'\n",
    "            self.max_file_number = int(max_file_num)\n",
    "            self._warned = True\n",
    "            self._suffix_count = int(ceil(log10(self.max_file_number)))\n",
    "        if filename == \"\" and self._filename!=None:\n",
    "            filename = self._filename # reuse last filename\n",
    "            path = self._path\n",
    "            extension = self._extension\n",
    "            count = self._count\n",
    "        elif filename != \"\":\n",
    "            path = '/'.join(filename.split('/')[:-1])\n",
    "            path = '.' if path =='' else path\n",
    "            self._path = path\n",
    "            filename = filename.split('/')[-1]\n",
    "            extension = filename.split('.')[-1].lower()\n",
    "            filename = '.'.join(filename.split('.')[:-1]) if extension == 'svg' else filename\n",
    "            self._filename = filename\n",
    "            extension = '.svg'\n",
    "            self._extension = extension\n",
    "            count = 0\n",
    "            self._count = count\n",
    "        else:\n",
    "            er=\"A file name must be provided at least once.\"\n",
    "            raise(ValueError(er))\n",
    "            \n",
    "        def Filename(num):\n",
    "            sufix = '-{:{fill}>{width}}'.format(num,fill='0',width=self._suffix_count)\n",
    "            File = path+'/'+filename+sufix+extension\n",
    "            return File\n",
    "            \n",
    "        if os.path.exists(Filename(count)):\n",
    "            files_ = os.listdir(self._path)\n",
    "            numbers = []\n",
    "            for name in files_:\n",
    "                if filename in name:\n",
    "                    numbers.append(int(name.strip(extension).strip(filename).strip('-')))\n",
    "            count = max(numbers)+1\n",
    "            self._count=count\n",
    "        if count == 0:\n",
    "            print(\"Saving first svg drawing to: {}\".format(Filename(count)))\n",
    "        with open(Filename(count),'w') as f:\n",
    "            f.write(self._repr_svg_())\n"
   ]
  },
  {
   "cell_type": "code",
   "execution_count": 2,
   "metadata": {
    "collapsed": false
   },
   "outputs": [
    {
     "data": {
      "image/svg+xml": [
       "<svg  viewBox = \"0.000000 -25.000000 320.000000 50.000000\">\n",
       "<path\n",
       "style=\"fill:none;fill-rule:evenodd;stroke:black;stroke-width:1px;stroke-linecap:square;stroke-linejoin:miter;stroke-opacity:1\"\n",
       "d=\"M 10,-15.0 C 160.0,-15.0 160.0,-15.0 310,-15.0\"\n",
       "inkscape:connector-curvature=\"0\" />\n",
       "\n",
       "<path\n",
       "style=\"fill:none;fill-rule:evenodd;stroke:black;stroke-width:1px;stroke-linecap:square;stroke-linejoin:miter;stroke-opacity:1\"\n",
       "d=\"M 10,15.0 C 160.0,15.0 160.0,15.0 310,15.0\"\n",
       "inkscape:connector-curvature=\"0\" />\n",
       "\n",
       "<path stroke-dasharray=\"20,5,5,5\" \n",
       "style=\"fill:none;fill-rule:evenodd;stroke:black;stroke-width:1px;stroke-linecap:square;stroke-linejoin:miter;stroke-opacity:1\"\n",
       "d=\"M 10,0 C 160.0,0.0 160.0,0.0 310,0\"\n",
       "inkscape:connector-curvature=\"0\" />\n",
       "<line x1=\"10\" y1=\"-15\" x2=\"10\" y2=\"15\" style=\"stroke:black;stroke-width:1\" />\n",
       "<line x1=\"310\" y1=\"-15\" x2=\"310\" y2=\"15\" style=\"stroke:black;stroke-width:1\" />\n",
       "</svg>"
      ],
      "text/plain": [
       "sag = 0\n",
       "Origin = class: point(x = 10, y = 0)\n",
       "End = class: point(x = 310, y = 0)\n",
       "d = 30"
      ]
     },
     "execution_count": 2,
     "metadata": {},
     "output_type": "execute_result"
    }
   ],
   "source": [
    "bb = beam()\n",
    "bb.display_points=False\n",
    "#bb.show_center_line= False\n",
    "bb"
   ]
  },
  {
   "cell_type": "code",
   "execution_count": 3,
   "metadata": {
    "collapsed": false
   },
   "outputs": [
    {
     "data": {
      "image/svg+xml": [
       "<svg  viewBox = \"-1.580719 -24.916528 323.160973 63.118147\">\n",
       "<path\n",
       "style=\"fill:none;fill-rule:evenodd;stroke:black;stroke-width:1px;stroke-linecap:square;stroke-linejoin:miter;stroke-opacity:1\"\n",
       "d=\"M 11.580719466284808,-14.916478336688868 C 135.492556862,-1.67728457716 184.50790933931,-1.68367961315 308.41974673502665,-14.91652773330781\"\n",
       "inkscape:connector-curvature=\"0\" />\n",
       "\n",
       "<path\n",
       "style=\"fill:none;fill-rule:evenodd;stroke:black;stroke-width:1px;stroke-linecap:square;stroke-linejoin:miter;stroke-opacity:1\"\n",
       "d=\"M 8.419280533715192,14.916478336688868 C 134.85404624741,28.20161954471 185.14548755128,28.19938208834 311.58025326497335,14.91652773330781\"\n",
       "inkscape:connector-curvature=\"0\" />\n",
       "\n",
       "<path stroke-dasharray=\"20,5,5,5\" \n",
       "style=\"fill:none;fill-rule:evenodd;stroke:black;stroke-width:1px;stroke-linecap:square;stroke-linejoin:miter;stroke-opacity:1\"\n",
       "d=\"M 10,0 C 135.16828237634,13.26425286504 184.83171762366,13.2602969292 310,0\"\n",
       "inkscape:connector-curvature=\"0\" />\n",
       "<line x1=\"11.5807\" y1=\"-14.9165\" x2=\"8.41928\" y2=\"14.9165\" style=\"stroke:black;stroke-width:1\" />\n",
       "<line x1=\"308.42\" y1=\"-14.9165\" x2=\"311.58\" y2=\"14.9165\" style=\"stroke:black;stroke-width:1\" />\n",
       "</svg>"
      ],
      "text/plain": [
       "sag = 10\n",
       "Origin = class: point(x = 10, y = 0)\n",
       "End = class: point(x = 310, y = 0)\n",
       "d = 30"
      ]
     },
     "execution_count": 3,
     "metadata": {},
     "output_type": "execute_result"
    }
   ],
   "source": [
    "bb.sag = 10\n",
    "bb"
   ]
  },
  {
   "cell_type": "code",
   "execution_count": 4,
   "metadata": {
    "collapsed": false
   },
   "outputs": [
    {
     "data": {
      "image/svg+xml": [
       "<svg  viewBox = \"-4.544579 -24.295383 329.087927 88.531440\">\n",
       "<path\n",
       "style=\"fill:none;fill-rule:evenodd;stroke:black;stroke-width:1px;stroke-linecap:square;stroke-linejoin:miter;stroke-opacity:1\"\n",
       "d=\"M 14.544579187078696,-14.294992130545968 C 136.12957330277,25.24594698225 183.8717640291,25.20540698325 305.4566518277303,-14.295383429119115\"\n",
       "inkscape:connector-curvature=\"0\" />\n",
       "\n",
       "<path\n",
       "style=\"fill:none;fill-rule:evenodd;stroke:black;stroke-width:1px;stroke-linecap:square;stroke-linejoin:miter;stroke-opacity:1\"\n",
       "d=\"M 5.455420812921304,14.294992130545968 C 134.29028381424,54.23605705279 185.7083840441,54.23471954484 314.5433481722697,14.295383429119115\"\n",
       "inkscape:connector-curvature=\"0\" />\n",
       "\n",
       "<path stroke-dasharray=\"20,5,5,5\" \n",
       "style=\"fill:none;fill-rule:evenodd;stroke:black;stroke-width:1px;stroke-linecap:square;stroke-linejoin:miter;stroke-opacity:1\"\n",
       "d=\"M 10,0 C 135.16828237634,39.79275859512 184.83171762366,39.7808907876 310,0\"\n",
       "inkscape:connector-curvature=\"0\" />\n",
       "<line x1=\"14.5446\" y1=\"-14.295\" x2=\"5.45542\" y2=\"14.295\" style=\"stroke:black;stroke-width:1\" />\n",
       "<line x1=\"305.457\" y1=\"-14.2954\" x2=\"314.543\" y2=\"14.2954\" style=\"stroke:black;stroke-width:1\" />\n",
       "</svg>"
      ],
      "text/plain": [
       "sag = 30\n",
       "Origin = class: point(x = 10, y = 0)\n",
       "End = class: point(x = 310, y = 0)\n",
       "d = 30"
      ]
     },
     "execution_count": 4,
     "metadata": {},
     "output_type": "execute_result"
    }
   ],
   "source": [
    "bb.sag = 30\n",
    "bb"
   ]
  },
  {
   "cell_type": "code",
   "execution_count": 6,
   "metadata": {
    "collapsed": false
   },
   "outputs": [
    {
     "name": "stdout",
     "output_type": "stream",
     "text": [
      "<svg  viewBox = \"-4.544579 -24.295383 329.087927 88.531440\">\n",
      "<path\n",
      "style=\"fill:none;fill-rule:evenodd;stroke:black;stroke-width:1px;stroke-linecap:square;stroke-linejoin:miter;stroke-opacity:1\"\n",
      "d=\"M 14.544579187078696,-14.294992130545968 C 136.12957330277,25.24594698225 183.8717640291,25.20540698325 305.4566518277303,-14.295383429119115\"\n",
      "inkscape:connector-curvature=\"0\" />\n",
      "\n",
      "<path\n",
      "style=\"fill:none;fill-rule:evenodd;stroke:black;stroke-width:1px;stroke-linecap:square;stroke-linejoin:miter;stroke-opacity:1\"\n",
      "d=\"M 5.455420812921304,14.294992130545968 C 134.29028381424,54.23605705279 185.7083840441,54.23471954484 314.5433481722697,14.295383429119115\"\n",
      "inkscape:connector-curvature=\"0\" />\n",
      "\n",
      "<path stroke-dasharray=\"20,5,5,5\" \n",
      "style=\"fill:none;fill-rule:evenodd;stroke:black;stroke-width:1px;stroke-linecap:square;stroke-linejoin:miter;stroke-opacity:1\"\n",
      "d=\"M 10,0 C 135.16828237634,39.79275859512 184.83171762366,39.7808907876 310,0\"\n",
      "inkscape:connector-curvature=\"0\" />\n",
      "<line x1=\"14.5446\" y1=\"-14.295\" x2=\"5.45542\" y2=\"14.295\" style=\"stroke:black;stroke-width:1\" />\n",
      "<line x1=\"305.457\" y1=\"-14.2954\" x2=\"314.543\" y2=\"14.2954\" style=\"stroke:black;stroke-width:1\" />\n",
      "</svg>\n"
     ]
    }
   ],
   "source": [
    "print(bb._repr_svg_())"
   ]
  },
  {
   "cell_type": "markdown",
   "metadata": {
    "collapsed": false
   },
   "source": [
    "bb.save('straight_beam.svg')"
   ]
  },
  {
   "cell_type": "code",
   "execution_count": null,
   "metadata": {
    "collapsed": false
   },
   "outputs": [],
   "source": [
    "for i in range(29):\n",
    "    bb.sag = i+2\n",
    "    bb.save()"
   ]
  },
  {
   "cell_type": "code",
   "execution_count": null,
   "metadata": {
    "collapsed": false
   },
   "outputs": [],
   "source": [
    "bb.centerline"
   ]
  },
  {
   "cell_type": "code",
   "execution_count": null,
   "metadata": {
    "collapsed": false
   },
   "outputs": [],
   "source": [
    "bb.sag = 30\n",
    "bb"
   ]
  },
  {
   "cell_type": "code",
   "execution_count": null,
   "metadata": {
    "collapsed": false
   },
   "outputs": [],
   "source": []
  }
 ],
 "metadata": {
  "kernelspec": {
   "display_name": "Python 3",
   "language": "python",
   "name": "python3"
  },
  "language_info": {
   "codemirror_mode": {
    "name": "ipython",
    "version": 3
   },
   "file_extension": ".py",
   "mimetype": "text/x-python",
   "name": "python",
   "nbconvert_exporter": "python",
   "pygments_lexer": "ipython3",
   "version": "3.4.0"
  }
 },
 "nbformat": 4,
 "nbformat_minor": 0
}
