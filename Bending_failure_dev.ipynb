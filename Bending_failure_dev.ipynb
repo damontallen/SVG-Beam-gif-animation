{
 "cells": [
  {
   "cell_type": "code",
   "execution_count": 1,
   "metadata": {
    "collapsed": false
   },
   "outputs": [],
   "source": [
    "from SVG_beam import beam, adjust_viewbox\n",
    "from SVG_lib import point, Line\n",
    "from New_Spline import Spline, control_points, intercept\n",
    "from CurveManip import rotate, mirror\n",
    "from numpy import sqrt\n",
    "from collections import namedtuple\n",
    "from numpy import array\n",
    "\n"
   ]
  },
  {
   "cell_type": "code",
   "execution_count": 2,
   "metadata": {
    "collapsed": false
   },
   "outputs": [],
   "source": [
    "class bending_failure(beam):\n",
    "    def __init__(self):\n",
    "        super(bending_failure,self).__init__()\n",
    "        self.cracks = 0\n",
    "        \n",
    "    def crack(self):\n",
    "        cL = self.centerline\n",
    "        coef = cL.Coefficients()\n",
    "        PI = intercept(cL.P0,cL.P3,coef)\n",
    "        t = self.thickness\n",
    "        X = array([0,-12,10,-12,18,-20,6,-12,18,-20,0])\n",
    "        Y = array([0,-4,-8,-12,-16,-20,-24,-28,-32,-36,-40,-44])\n",
    "        self.max_cracks = len(X)\n",
    "        if self.cracks>self.max_cracks-1:\n",
    "            self.cracks = self.max_cracks-1\n",
    "        xi,yi=PI\n",
    "        yi += t/2\n",
    "        mC = list(zip(X+xi,Y+yi))\n",
    "        points = list(zip(mC[:-1],mC[1:]))\n",
    "        self.splits = []\n",
    "        for line in range(self.cracks):\n",
    "            P0,P1 = points[line]\n",
    "            self.splits.append(Line(list(P0),list(P1)))\n",
    "\n",
    "bb = bending_failure()\n",
    "    "
   ]
  },
  {
   "cell_type": "code",
   "execution_count": 3,
   "metadata": {
    "collapsed": false
   },
   "outputs": [
    {
     "data": {
      "image/svg+xml": [
       "<svg  viewBox = \"-30.000000 -40.000000 680.000000 140.000000\">\n",
       "<rect x=\"-30.000000\" y=\"-40.000000\" width=\"680.000000\" height=\"140.000000\" style=\"fill:#F2F2F2;fill-opacity:1;\"/>\n",
       "<circle cx=\"10\" cy=\"-30.0\" r=\"2\" stroke=\"black\" stroke-width=\"1\" fill=\"none\" />\n",
       "<circle cx=\"610\" cy=\"-30.0\" r=\"2\" stroke=\"black\" stroke-width=\"1\" fill=\"none\" />\n",
       "<circle cx=\"310.0\" cy=\"-30.0\" r=\"2\" stroke=\"black\" stroke-width=\"1\" fill=\"none\" />\n",
       "<path\n",
       "style=\"fill:none;fill-rule:evenodd;stroke:black;stroke-width:1px;stroke-linecap:square;stroke-linejoin:miter;stroke-opacity:1\"\n",
       "d=\"M 10,-30.0 C 310.0,-30.0 310.0,-30.0 610,-30.0\"\n",
       "inkscape:connector-curvature=\"0\" />\n",
       "\n",
       "<circle cx=\"10\" cy=\"30.0\" r=\"2\" stroke=\"black\" stroke-width=\"1\" fill=\"none\" />\n",
       "<circle cx=\"610\" cy=\"30.0\" r=\"2\" stroke=\"black\" stroke-width=\"1\" fill=\"none\" />\n",
       "<circle cx=\"310.0\" cy=\"30.0\" r=\"2\" stroke=\"black\" stroke-width=\"1\" fill=\"none\" />\n",
       "<path\n",
       "style=\"fill:none;fill-rule:evenodd;stroke:black;stroke-width:1px;stroke-linecap:square;stroke-linejoin:miter;stroke-opacity:1\"\n",
       "d=\"M 10,30.0 C 310.0,30.0 310.0,30.0 610,30.0\"\n",
       "inkscape:connector-curvature=\"0\" />\n",
       "\n",
       "<circle cx=\"10\" cy=\"0\" r=\"2\" stroke=\"black\" stroke-width=\"1\" fill=\"none\" />\n",
       "<circle cx=\"610\" cy=\"0\" r=\"2\" stroke=\"black\" stroke-width=\"1\" fill=\"none\" />\n",
       "<circle cx=\"310.0\" cy=\"0.0\" r=\"2\" stroke=\"black\" stroke-width=\"1\" fill=\"none\" />\n",
       "<path stroke-dasharray=\"20,5,5,5\" \n",
       "style=\"fill:none;fill-rule:evenodd;stroke:black;stroke-width:1px;stroke-linecap:square;stroke-linejoin:miter;stroke-opacity:1\"\n",
       "d=\"M 10,0 C 310.0,0.0 310.0,0.0 610,0\"\n",
       "inkscape:connector-curvature=\"0\" />\n",
       "<line x1=\"10\" y1=\"-30\" x2=\"10\" y2=\"30\" style=\"stroke:black;stroke-width:1\" />\n",
       "<line x1=\"610\" y1=\"-30\" x2=\"610\" y2=\"30\" style=\"stroke:black;stroke-width:1\" />\n",
       "<path d = \"M 610,30.0 L 630.0,64.64101615137756 590.0,64.64101615137756\"/>\n",
       "    <circle cx=\"598.0\" cy=\"72.64101615137756\" r=\"8\" stroke=\"black\" stroke-width=\"1\" fill=\"none\" />\n",
       "    <circle cx=\"622.0\" cy=\"72.64101615137756\" r=\"8\" stroke=\"black\" stroke-width=\"1\" fill=\"none\" />\n",
       "    <line x1=\"590.0\" y1=\"80.64101615137756\" x2=\"630.0\" y2=\"80.64101615137756\" style=\"stroke:black;stroke-width:1\" />\n",
       "    <line x1=\"590.0\" y1=\"80.64101615137756\" x2=\"570.0\" y2=\"100.64101615137756\" style=\"stroke:black;stroke-width:1\" />\n",
       "    <line x1=\"598.0\" y1=\"80.64101615137756\" x2=\"578.0\" y2=\"100.64101615137756\" style=\"stroke:black;stroke-width:1\" />\n",
       "    <line x1=\"606.0\" y1=\"80.64101615137756\" x2=\"586.0\" y2=\"100.64101615137756\" style=\"stroke:black;stroke-width:1\" />\n",
       "    <line x1=\"614.0\" y1=\"80.64101615137756\" x2=\"594.0\" y2=\"100.64101615137756\" style=\"stroke:black;stroke-width:1\" />\n",
       "    <line x1=\"622.0\" y1=\"80.64101615137756\" x2=\"602.0\" y2=\"100.64101615137756\" style=\"stroke:black;stroke-width:1\" />\n",
       "    <line x1=\"630.0\" y1=\"80.64101615137756\" x2=\"610.0\" y2=\"100.64101615137756\" style=\"stroke:black;stroke-width:1\" />\n",
       "    <path d = \"M 10,30.0 L 30.0,64.64101615137756 -10.0,64.64101615137756\"/>\n",
       "    <line x1=\"-10.0\" y1=\"64.64101615137756\" x2=\"-30.0\" y2=\"84.64101615137756\" style=\"stroke:black;stroke-width:1\" />\n",
       "    <line x1=\"-2.0\" y1=\"64.64101615137756\" x2=\"-22.0\" y2=\"84.64101615137756\" style=\"stroke:black;stroke-width:1\" />\n",
       "    <line x1=\"6.0\" y1=\"64.64101615137756\" x2=\"-14.0\" y2=\"84.64101615137756\" style=\"stroke:black;stroke-width:1\" />\n",
       "    <line x1=\"14.0\" y1=\"64.64101615137756\" x2=\"-6.0\" y2=\"84.64101615137756\" style=\"stroke:black;stroke-width:1\" />\n",
       "    <line x1=\"22.0\" y1=\"64.64101615137756\" x2=\"2.0\" y2=\"84.64101615137756\" style=\"stroke:black;stroke-width:1\" />\n",
       "    <line x1=\"30.0\" y1=\"64.64101615137756\" x2=\"10.0\" y2=\"84.64101615137756\" style=\"stroke:black;stroke-width:1\" />\n",
       "    </svg>"
      ],
      "text/plain": [
       "sag = 0\n",
       "Origin = class: point(x = 10, y = 0)\n",
       "End = class: point(x = 610, y = 0)\n",
       "d = 60"
      ]
     },
     "execution_count": 3,
     "metadata": {},
     "output_type": "execute_result"
    }
   ],
   "source": [
    "bb"
   ]
  },
  {
   "cell_type": "code",
   "execution_count": 4,
   "metadata": {
    "collapsed": false
   },
   "outputs": [
    {
     "data": {
      "image/svg+xml": [
       "<svg  viewBox = \"-34.739715 -39.623219 689.479430 149.246438\">\n",
       "<rect x=\"-34.739715\" y=\"-39.623219\" width=\"689.479430\" height=\"149.246438\" style=\"fill:#F2F2F2;fill-opacity:1;\"/>\n",
       "<path\n",
       "style=\"fill:none;fill-rule:evenodd;stroke:black;stroke-width:1px;stroke-linecap:square;stroke-linejoin:miter;stroke-opacity:1\"\n",
       "d=\"M 14.739715033200186,-29.623218957501162 C 260.78995250553,10.3767810425 359.21004749447,10.3767810425 605.2602849667999,-29.623218957501162\"\n",
       "inkscape:connector-curvature=\"0\" />\n",
       "\n",
       "<path\n",
       "style=\"fill:none;fill-rule:evenodd;stroke:black;stroke-width:1px;stroke-linecap:square;stroke-linejoin:miter;stroke-opacity:1\"\n",
       "d=\"M 5.260284966799814,29.623218957501162 C 259.21004749447,69.6232189575 360.78995250553,69.6232189575 614.7397150332001,29.623218957501162\"\n",
       "inkscape:connector-curvature=\"0\" />\n",
       "\n",
       "<line x1=\"310\" y1=\"60\" x2=\"298\" y2=\"56\" style=\"stroke:black;stroke-width:1\" />\n",
       "<line x1=\"298\" y1=\"56\" x2=\"320\" y2=\"52\" style=\"stroke:black;stroke-width:1\" />\n",
       "<line x1=\"320\" y1=\"52\" x2=\"298\" y2=\"48\" style=\"stroke:black;stroke-width:1\" />\n",
       "<line x1=\"298\" y1=\"48\" x2=\"328\" y2=\"44\" style=\"stroke:black;stroke-width:1\" />\n",
       "<line x1=\"328\" y1=\"44\" x2=\"290\" y2=\"40\" style=\"stroke:black;stroke-width:1\" />\n",
       "<line x1=\"290\" y1=\"40\" x2=\"316\" y2=\"36\" style=\"stroke:black;stroke-width:1\" />\n",
       "<line x1=\"316\" y1=\"36\" x2=\"298\" y2=\"32\" style=\"stroke:black;stroke-width:1\" />\n",
       "<line x1=\"298\" y1=\"32\" x2=\"328\" y2=\"28\" style=\"stroke:black;stroke-width:1\" />\n",
       "<line x1=\"328\" y1=\"28\" x2=\"290\" y2=\"24\" style=\"stroke:black;stroke-width:1\" />\n",
       "<line x1=\"290\" y1=\"24\" x2=\"310\" y2=\"20\" style=\"stroke:black;stroke-width:1\" />\n",
       "<line x1=\"14.7397\" y1=\"-29.6232\" x2=\"5.26028\" y2=\"29.6232\" style=\"stroke:black;stroke-width:1\" />\n",
       "<line x1=\"605.26\" y1=\"-29.6232\" x2=\"614.74\" y2=\"29.6232\" style=\"stroke:black;stroke-width:1\" />\n",
       "<path d = \"M 614.7397150332001,29.623218957501162 L 634.7397150332001,64.26423510887871 594.7397150332001,64.26423510887871\"/>\n",
       "    <circle cx=\"602.7397150332001\" cy=\"72.26423510887871\" r=\"8\" stroke=\"black\" stroke-width=\"1\" fill=\"none\" />\n",
       "    <circle cx=\"626.7397150332001\" cy=\"72.26423510887871\" r=\"8\" stroke=\"black\" stroke-width=\"1\" fill=\"none\" />\n",
       "    <line x1=\"594.7397150332001\" y1=\"80.26423510887871\" x2=\"634.7397150332001\" y2=\"80.26423510887871\" style=\"stroke:black;stroke-width:1\" />\n",
       "    <line x1=\"594.7397150332001\" y1=\"80.26423510887871\" x2=\"574.7397150332001\" y2=\"100.26423510887871\" style=\"stroke:black;stroke-width:1\" />\n",
       "    <line x1=\"602.7397150332001\" y1=\"80.26423510887871\" x2=\"582.7397150332001\" y2=\"100.26423510887871\" style=\"stroke:black;stroke-width:1\" />\n",
       "    <line x1=\"610.7397150332001\" y1=\"80.26423510887871\" x2=\"590.7397150332001\" y2=\"100.26423510887871\" style=\"stroke:black;stroke-width:1\" />\n",
       "    <line x1=\"618.7397150332001\" y1=\"80.26423510887871\" x2=\"598.7397150332001\" y2=\"100.26423510887871\" style=\"stroke:black;stroke-width:1\" />\n",
       "    <line x1=\"626.7397150332001\" y1=\"80.26423510887871\" x2=\"606.7397150332001\" y2=\"100.26423510887871\" style=\"stroke:black;stroke-width:1\" />\n",
       "    <line x1=\"634.7397150332001\" y1=\"80.26423510887871\" x2=\"614.7397150332001\" y2=\"100.26423510887871\" style=\"stroke:black;stroke-width:1\" />\n",
       "    <path d = \"M 5.260284966799814,29.623218957501162 L 25.260284966799816,64.26423510887871 -14.739715033200184,64.26423510887871\"/>\n",
       "    <line x1=\"-14.739715033200184\" y1=\"64.26423510887871\" x2=\"-34.739715033200184\" y2=\"84.26423510887871\" style=\"stroke:black;stroke-width:1\" />\n",
       "    <line x1=\"-6.739715033200184\" y1=\"64.26423510887871\" x2=\"-26.739715033200184\" y2=\"84.26423510887871\" style=\"stroke:black;stroke-width:1\" />\n",
       "    <line x1=\"1.2602849667998157\" y1=\"64.26423510887871\" x2=\"-18.739715033200184\" y2=\"84.26423510887871\" style=\"stroke:black;stroke-width:1\" />\n",
       "    <line x1=\"9.260284966799816\" y1=\"64.26423510887871\" x2=\"-10.739715033200184\" y2=\"84.26423510887871\" style=\"stroke:black;stroke-width:1\" />\n",
       "    <line x1=\"17.260284966799816\" y1=\"64.26423510887871\" x2=\"-2.7397150332001843\" y2=\"84.26423510887871\" style=\"stroke:black;stroke-width:1\" />\n",
       "    <line x1=\"25.260284966799816\" y1=\"64.26423510887871\" x2=\"5.260284966799816\" y2=\"84.26423510887871\" style=\"stroke:black;stroke-width:1\" />\n",
       "    </svg>"
      ],
      "text/plain": [
       "sag = 30\n",
       "Origin = class: point(x = 10, y = 0)\n",
       "End = class: point(x = 610, y = 0)\n",
       "d = 60"
      ]
     },
     "execution_count": 4,
     "metadata": {},
     "output_type": "execute_result"
    }
   ],
   "source": [
    "bb.sag = 30\n",
    "bb.show_center_line=False\n",
    "bb.display_points=False\n",
    "bb.cracks=12\n",
    "bb.crack()\n",
    "bb"
   ]
  },
  {
   "cell_type": "code",
   "execution_count": 5,
   "metadata": {
    "collapsed": false
   },
   "outputs": [
    {
     "data": {
      "image/svg+xml": [
       "<svg  viewBox = \"-34.739715 -39.623219 689.479430 149.246438\">\n",
       "<rect x=\"-34.739715\" y=\"-39.623219\" width=\"689.479430\" height=\"149.246438\" style=\"fill:#F2F2F2;fill-opacity:1;\"/>\n",
       "<path\n",
       "style=\"fill:none;fill-rule:evenodd;stroke:black;stroke-width:1px;stroke-linecap:square;stroke-linejoin:miter;stroke-opacity:1\"\n",
       "d=\"M 14.739715033200186,-29.623218957501162 C 260.78995250553,10.3767810425 359.21004749447,10.3767810425 605.2602849667999,-29.623218957501162\"\n",
       "inkscape:connector-curvature=\"0\" />\n",
       "\n",
       "<path\n",
       "style=\"fill:none;fill-rule:evenodd;stroke:black;stroke-width:1px;stroke-linecap:square;stroke-linejoin:miter;stroke-opacity:1\"\n",
       "d=\"M 5.260284966799814,29.623218957501162 C 259.21004749447,69.6232189575 360.78995250553,69.6232189575 614.7397150332001,29.623218957501162\"\n",
       "inkscape:connector-curvature=\"0\" />\n",
       "\n",
       "<line x1=\"14.7397\" y1=\"-29.6232\" x2=\"5.26028\" y2=\"29.6232\" style=\"stroke:black;stroke-width:1\" />\n",
       "<line x1=\"605.26\" y1=\"-29.6232\" x2=\"614.74\" y2=\"29.6232\" style=\"stroke:black;stroke-width:1\" />\n",
       "<path d = \"M 614.7397150332001,29.623218957501162 L 634.7397150332001,64.26423510887871 594.7397150332001,64.26423510887871\"/>\n",
       "    <circle cx=\"602.7397150332001\" cy=\"72.26423510887871\" r=\"8\" stroke=\"black\" stroke-width=\"1\" fill=\"none\" />\n",
       "    <circle cx=\"626.7397150332001\" cy=\"72.26423510887871\" r=\"8\" stroke=\"black\" stroke-width=\"1\" fill=\"none\" />\n",
       "    <line x1=\"594.7397150332001\" y1=\"80.26423510887871\" x2=\"634.7397150332001\" y2=\"80.26423510887871\" style=\"stroke:black;stroke-width:1\" />\n",
       "    <line x1=\"594.7397150332001\" y1=\"80.26423510887871\" x2=\"574.7397150332001\" y2=\"100.26423510887871\" style=\"stroke:black;stroke-width:1\" />\n",
       "    <line x1=\"602.7397150332001\" y1=\"80.26423510887871\" x2=\"582.7397150332001\" y2=\"100.26423510887871\" style=\"stroke:black;stroke-width:1\" />\n",
       "    <line x1=\"610.7397150332001\" y1=\"80.26423510887871\" x2=\"590.7397150332001\" y2=\"100.26423510887871\" style=\"stroke:black;stroke-width:1\" />\n",
       "    <line x1=\"618.7397150332001\" y1=\"80.26423510887871\" x2=\"598.7397150332001\" y2=\"100.26423510887871\" style=\"stroke:black;stroke-width:1\" />\n",
       "    <line x1=\"626.7397150332001\" y1=\"80.26423510887871\" x2=\"606.7397150332001\" y2=\"100.26423510887871\" style=\"stroke:black;stroke-width:1\" />\n",
       "    <line x1=\"634.7397150332001\" y1=\"80.26423510887871\" x2=\"614.7397150332001\" y2=\"100.26423510887871\" style=\"stroke:black;stroke-width:1\" />\n",
       "    <path d = \"M 5.260284966799814,29.623218957501162 L 25.260284966799816,64.26423510887871 -14.739715033200184,64.26423510887871\"/>\n",
       "    <line x1=\"-14.739715033200184\" y1=\"64.26423510887871\" x2=\"-34.739715033200184\" y2=\"84.26423510887871\" style=\"stroke:black;stroke-width:1\" />\n",
       "    <line x1=\"-6.739715033200184\" y1=\"64.26423510887871\" x2=\"-26.739715033200184\" y2=\"84.26423510887871\" style=\"stroke:black;stroke-width:1\" />\n",
       "    <line x1=\"1.2602849667998157\" y1=\"64.26423510887871\" x2=\"-18.739715033200184\" y2=\"84.26423510887871\" style=\"stroke:black;stroke-width:1\" />\n",
       "    <line x1=\"9.260284966799816\" y1=\"64.26423510887871\" x2=\"-10.739715033200184\" y2=\"84.26423510887871\" style=\"stroke:black;stroke-width:1\" />\n",
       "    <line x1=\"17.260284966799816\" y1=\"64.26423510887871\" x2=\"-2.7397150332001843\" y2=\"84.26423510887871\" style=\"stroke:black;stroke-width:1\" />\n",
       "    <line x1=\"25.260284966799816\" y1=\"64.26423510887871\" x2=\"5.260284966799816\" y2=\"84.26423510887871\" style=\"stroke:black;stroke-width:1\" />\n",
       "    </svg>"
      ],
      "text/plain": [
       "sag = 30\n",
       "Origin = class: point(x = 10, y = 0)\n",
       "End = class: point(x = 610, y = 0)\n",
       "d = 60"
      ]
     },
     "execution_count": 5,
     "metadata": {},
     "output_type": "execute_result"
    }
   ],
   "source": [
    "bb.sag = 30\n",
    "bb.cracks=0\n",
    "bb.crack()\n",
    "corners = bb.get_corners()\n",
    "S = bb.support_points()\n",
    "bb"
   ]
  },
  {
   "cell_type": "code",
   "execution_count": 6,
   "metadata": {
    "collapsed": false
   },
   "outputs": [
    {
     "name": "stdout",
     "output_type": "stream",
     "text": [
      "What is the maximum number of versions of this beam do you want to save? [1000]\n",
      "Saving first svg drawing to: ./Bending_failure/beam-000.svg\n"
     ]
    },
    {
     "data": {
      "image/svg+xml": [
       "<svg  viewBox = \"-34.430867 -39.575452 689.479430 149.246438\">\n",
       "<rect x=\"-34.430867\" y=\"-39.575452\" width=\"689.479430\" height=\"149.246438\" style=\"fill:#F2F2F2;fill-opacity:1;\"/>\n",
       "<path\n",
       "style=\"fill:none;fill-rule:evenodd;stroke:black;stroke-width:1px;stroke-linecap:square;stroke-linejoin:miter;stroke-opacity:1\"\n",
       "d=\"M 14.430867255628597,-29.67098608679864 C 260.73847787594,7.66234724653 359.26152212406,7.66234724653 605.5691327443714,-29.67098608679864\"\n",
       "inkscape:connector-curvature=\"0\" />\n",
       "\n",
       "<path\n",
       "style=\"fill:none;fill-rule:evenodd;stroke:black;stroke-width:1px;stroke-linecap:square;stroke-linejoin:miter;stroke-opacity:1\"\n",
       "d=\"M 5.569132744371403,29.67098608679864 C 259.26152212406,67.00431942013 360.73847787594,67.00431942013 614.4308672556286,29.67098608679864\"\n",
       "inkscape:connector-curvature=\"0\" />\n",
       "\n",
       "<line x1=\"14.4309\" y1=\"-29.671\" x2=\"5.56913\" y2=\"29.671\" style=\"stroke:black;stroke-width:1\" />\n",
       "<line x1=\"605.569\" y1=\"-29.671\" x2=\"614.431\" y2=\"29.671\" style=\"stroke:black;stroke-width:1\" />\n",
       "<path d = \"M 614.4308672556286,29.67098608679864 L 634.4308672556286,64.31200223817619 594.4308672556286,64.31200223817619\"/>\n",
       "    <circle cx=\"602.4308672556286\" cy=\"72.31200223817619\" r=\"8\" stroke=\"black\" stroke-width=\"1\" fill=\"none\" />\n",
       "    <circle cx=\"626.4308672556286\" cy=\"72.31200223817619\" r=\"8\" stroke=\"black\" stroke-width=\"1\" fill=\"none\" />\n",
       "    <line x1=\"594.4308672556286\" y1=\"80.31200223817619\" x2=\"634.4308672556286\" y2=\"80.31200223817619\" style=\"stroke:black;stroke-width:1\" />\n",
       "    <line x1=\"594.4308672556286\" y1=\"80.31200223817619\" x2=\"574.4308672556286\" y2=\"100.31200223817619\" style=\"stroke:black;stroke-width:1\" />\n",
       "    <line x1=\"602.4308672556286\" y1=\"80.31200223817619\" x2=\"582.4308672556286\" y2=\"100.31200223817619\" style=\"stroke:black;stroke-width:1\" />\n",
       "    <line x1=\"610.4308672556286\" y1=\"80.31200223817619\" x2=\"590.4308672556286\" y2=\"100.31200223817619\" style=\"stroke:black;stroke-width:1\" />\n",
       "    <line x1=\"618.4308672556286\" y1=\"80.31200223817619\" x2=\"598.4308672556286\" y2=\"100.31200223817619\" style=\"stroke:black;stroke-width:1\" />\n",
       "    <line x1=\"626.4308672556286\" y1=\"80.31200223817619\" x2=\"606.4308672556286\" y2=\"100.31200223817619\" style=\"stroke:black;stroke-width:1\" />\n",
       "    <line x1=\"634.4308672556286\" y1=\"80.31200223817619\" x2=\"614.4308672556286\" y2=\"100.31200223817619\" style=\"stroke:black;stroke-width:1\" />\n",
       "    <path d = \"M 5.569132744371403,29.67098608679864 L 25.5691327443714,64.31200223817619 -14.430867255628598,64.31200223817619\"/>\n",
       "    <line x1=\"-14.430867255628598\" y1=\"64.31200223817619\" x2=\"-34.4308672556286\" y2=\"84.31200223817619\" style=\"stroke:black;stroke-width:1\" />\n",
       "    <line x1=\"-6.430867255628598\" y1=\"64.31200223817619\" x2=\"-26.4308672556286\" y2=\"84.31200223817619\" style=\"stroke:black;stroke-width:1\" />\n",
       "    <line x1=\"1.5691327443714016\" y1=\"64.31200223817619\" x2=\"-18.4308672556286\" y2=\"84.31200223817619\" style=\"stroke:black;stroke-width:1\" />\n",
       "    <line x1=\"9.569132744371402\" y1=\"64.31200223817619\" x2=\"-10.430867255628598\" y2=\"84.31200223817619\" style=\"stroke:black;stroke-width:1\" />\n",
       "    <line x1=\"17.5691327443714\" y1=\"64.31200223817619\" x2=\"-2.4308672556285984\" y2=\"84.31200223817619\" style=\"stroke:black;stroke-width:1\" />\n",
       "    <line x1=\"25.5691327443714\" y1=\"64.31200223817619\" x2=\"5.569132744371402\" y2=\"84.31200223817619\" style=\"stroke:black;stroke-width:1\" />\n",
       "    </svg>"
      ],
      "text/plain": [
       "sag = 28\n",
       "Origin = class: point(x = 10, y = 0)\n",
       "End = class: point(x = 610, y = 0)\n",
       "d = 60"
      ]
     },
     "execution_count": 6,
     "metadata": {},
     "output_type": "execute_result"
    }
   ],
   "source": [
    "bb.manual_viewbox=True\n",
    "for i in range(15):\n",
    "    bb.sag = i*2\n",
    "    adjust_viewbox(corners, S, bb)\n",
    "    bb.save('./Bending_failure/beam')\n",
    "bb"
   ]
  },
  {
   "cell_type": "code",
   "execution_count": 7,
   "metadata": {
    "collapsed": false
   },
   "outputs": [
    {
     "data": {
      "image/svg+xml": [
       "<svg  viewBox = \"-34.430867 -39.575452 689.479430 149.246438\">\n",
       "<rect x=\"-34.430867\" y=\"-39.575452\" width=\"689.479430\" height=\"149.246438\" style=\"fill:#F2F2F2;fill-opacity:1;\"/>\n",
       "<path\n",
       "style=\"fill:none;fill-rule:evenodd;stroke:black;stroke-width:1px;stroke-linecap:square;stroke-linejoin:miter;stroke-opacity:1\"\n",
       "d=\"M 14.430867255628597,-29.67098608679864 C 260.73847787594,7.66234724653 359.26152212406,7.66234724653 605.5691327443714,-29.67098608679864\"\n",
       "inkscape:connector-curvature=\"0\" />\n",
       "\n",
       "<path\n",
       "style=\"fill:none;fill-rule:evenodd;stroke:black;stroke-width:1px;stroke-linecap:square;stroke-linejoin:miter;stroke-opacity:1\"\n",
       "d=\"M 5.569132744371403,29.67098608679864 C 259.26152212406,67.00431942013 360.73847787594,67.00431942013 614.4308672556286,29.67098608679864\"\n",
       "inkscape:connector-curvature=\"0\" />\n",
       "\n",
       "<line x1=\"310\" y1=\"58\" x2=\"298\" y2=\"54\" style=\"stroke:black;stroke-width:1\" />\n",
       "<line x1=\"298\" y1=\"54\" x2=\"320\" y2=\"50\" style=\"stroke:black;stroke-width:1\" />\n",
       "<line x1=\"320\" y1=\"50\" x2=\"298\" y2=\"46\" style=\"stroke:black;stroke-width:1\" />\n",
       "<line x1=\"298\" y1=\"46\" x2=\"328\" y2=\"42\" style=\"stroke:black;stroke-width:1\" />\n",
       "<line x1=\"328\" y1=\"42\" x2=\"290\" y2=\"38\" style=\"stroke:black;stroke-width:1\" />\n",
       "<line x1=\"290\" y1=\"38\" x2=\"316\" y2=\"34\" style=\"stroke:black;stroke-width:1\" />\n",
       "<line x1=\"316\" y1=\"34\" x2=\"298\" y2=\"30\" style=\"stroke:black;stroke-width:1\" />\n",
       "<line x1=\"298\" y1=\"30\" x2=\"328\" y2=\"26\" style=\"stroke:black;stroke-width:1\" />\n",
       "<line x1=\"328\" y1=\"26\" x2=\"290\" y2=\"22\" style=\"stroke:black;stroke-width:1\" />\n",
       "<line x1=\"290\" y1=\"22\" x2=\"310\" y2=\"18\" style=\"stroke:black;stroke-width:1\" />\n",
       "<line x1=\"14.4309\" y1=\"-29.671\" x2=\"5.56913\" y2=\"29.671\" style=\"stroke:black;stroke-width:1\" />\n",
       "<line x1=\"605.569\" y1=\"-29.671\" x2=\"614.431\" y2=\"29.671\" style=\"stroke:black;stroke-width:1\" />\n",
       "<path d = \"M 614.4308672556286,29.67098608679864 L 634.4308672556286,64.31200223817619 594.4308672556286,64.31200223817619\"/>\n",
       "    <circle cx=\"602.4308672556286\" cy=\"72.31200223817619\" r=\"8\" stroke=\"black\" stroke-width=\"1\" fill=\"none\" />\n",
       "    <circle cx=\"626.4308672556286\" cy=\"72.31200223817619\" r=\"8\" stroke=\"black\" stroke-width=\"1\" fill=\"none\" />\n",
       "    <line x1=\"594.4308672556286\" y1=\"80.31200223817619\" x2=\"634.4308672556286\" y2=\"80.31200223817619\" style=\"stroke:black;stroke-width:1\" />\n",
       "    <line x1=\"594.4308672556286\" y1=\"80.31200223817619\" x2=\"574.4308672556286\" y2=\"100.31200223817619\" style=\"stroke:black;stroke-width:1\" />\n",
       "    <line x1=\"602.4308672556286\" y1=\"80.31200223817619\" x2=\"582.4308672556286\" y2=\"100.31200223817619\" style=\"stroke:black;stroke-width:1\" />\n",
       "    <line x1=\"610.4308672556286\" y1=\"80.31200223817619\" x2=\"590.4308672556286\" y2=\"100.31200223817619\" style=\"stroke:black;stroke-width:1\" />\n",
       "    <line x1=\"618.4308672556286\" y1=\"80.31200223817619\" x2=\"598.4308672556286\" y2=\"100.31200223817619\" style=\"stroke:black;stroke-width:1\" />\n",
       "    <line x1=\"626.4308672556286\" y1=\"80.31200223817619\" x2=\"606.4308672556286\" y2=\"100.31200223817619\" style=\"stroke:black;stroke-width:1\" />\n",
       "    <line x1=\"634.4308672556286\" y1=\"80.31200223817619\" x2=\"614.4308672556286\" y2=\"100.31200223817619\" style=\"stroke:black;stroke-width:1\" />\n",
       "    <path d = \"M 5.569132744371403,29.67098608679864 L 25.5691327443714,64.31200223817619 -14.430867255628598,64.31200223817619\"/>\n",
       "    <line x1=\"-14.430867255628598\" y1=\"64.31200223817619\" x2=\"-34.4308672556286\" y2=\"84.31200223817619\" style=\"stroke:black;stroke-width:1\" />\n",
       "    <line x1=\"-6.430867255628598\" y1=\"64.31200223817619\" x2=\"-26.4308672556286\" y2=\"84.31200223817619\" style=\"stroke:black;stroke-width:1\" />\n",
       "    <line x1=\"1.5691327443714016\" y1=\"64.31200223817619\" x2=\"-18.4308672556286\" y2=\"84.31200223817619\" style=\"stroke:black;stroke-width:1\" />\n",
       "    <line x1=\"9.569132744371402\" y1=\"64.31200223817619\" x2=\"-10.430867255628598\" y2=\"84.31200223817619\" style=\"stroke:black;stroke-width:1\" />\n",
       "    <line x1=\"17.5691327443714\" y1=\"64.31200223817619\" x2=\"-2.4308672556285984\" y2=\"84.31200223817619\" style=\"stroke:black;stroke-width:1\" />\n",
       "    <line x1=\"25.5691327443714\" y1=\"64.31200223817619\" x2=\"5.569132744371402\" y2=\"84.31200223817619\" style=\"stroke:black;stroke-width:1\" />\n",
       "    </svg>"
      ],
      "text/plain": [
       "sag = 28\n",
       "Origin = class: point(x = 10, y = 0)\n",
       "End = class: point(x = 610, y = 0)\n",
       "d = 60"
      ]
     },
     "execution_count": 7,
     "metadata": {},
     "output_type": "execute_result"
    }
   ],
   "source": [
    "from numpy import floor\n",
    "for i in range(22):\n",
    "    bb.cracks = int(floor((i+1)/2))\n",
    "    bb.crack()\n",
    "    adjust_viewbox(corners, S, bb)\n",
    "    bb.save('./Bending_failure/beam')\n",
    "bb"
   ]
  },
  {
   "cell_type": "code",
   "execution_count": 8,
   "metadata": {
    "collapsed": false
   },
   "outputs": [
    {
     "data": {
      "text/plain": [
       "10"
      ]
     },
     "execution_count": 8,
     "metadata": {},
     "output_type": "execute_result"
    }
   ],
   "source": [
    "bb.cracks"
   ]
  },
  {
   "cell_type": "code",
   "execution_count": 9,
   "metadata": {
    "collapsed": false
   },
   "outputs": [
    {
     "data": {
      "text/plain": [
       "11"
      ]
     },
     "execution_count": 9,
     "metadata": {},
     "output_type": "execute_result"
    }
   ],
   "source": [
    "bb.max_cracks"
   ]
  },
  {
   "cell_type": "code",
   "execution_count": null,
   "metadata": {
    "collapsed": true
   },
   "outputs": [],
   "source": []
  }
 ],
 "metadata": {
  "kernelspec": {
   "display_name": "Python 3",
   "language": "python",
   "name": "python3"
  },
  "language_info": {
   "codemirror_mode": {
    "name": "ipython",
    "version": 3
   },
   "file_extension": ".py",
   "mimetype": "text/x-python",
   "name": "python",
   "nbconvert_exporter": "python",
   "pygments_lexer": "ipython3",
   "version": "3.4.0"
  }
 },
 "nbformat": 4,
 "nbformat_minor": 0
}
