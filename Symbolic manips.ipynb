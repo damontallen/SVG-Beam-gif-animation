{
 "metadata": {
  "name": "",
  "signature": "sha256:c8ff37f33b3aafdf0146481ee1dcbad3643f2e648714ec09f4416fdc08ab6e8f"
 },
 "nbformat": 3,
 "nbformat_minor": 0,
 "worksheets": [
  {
   "cells": [
    {
     "cell_type": "code",
     "collapsed": false,
     "input": [
      "from sympy import symbols, integrate, sqrt\n",
      "from sympy import init_printing\n",
      "init_printing(use_unicode=True)"
     ],
     "language": "python",
     "metadata": {},
     "outputs": [],
     "prompt_number": 1
    },
    {
     "cell_type": "code",
     "collapsed": false,
     "input": [
      "a, b, c, Dx, A, B, x_0 = symbols('a b c \\Delta_x A B x_0')"
     ],
     "language": "python",
     "metadata": {},
     "outputs": [],
     "prompt_number": 8
    },
    {
     "cell_type": "code",
     "collapsed": false,
     "input": [
      "f = Dx*sqrt(4*a*x_0**2+4*a*x_0*b+b**2+1)"
     ],
     "language": "python",
     "metadata": {},
     "outputs": [],
     "prompt_number": 12
    },
    {
     "cell_type": "code",
     "collapsed": false,
     "input": [
      "e=f.expand()\n",
      "e"
     ],
     "language": "python",
     "metadata": {},
     "outputs": [
      {
       "latex": [
        "$$\\Delta_{x} \\sqrt{4 a b x_{0} + 4 a x_{0}^{2} + b^{2} + 1}$$"
       ],
       "metadata": {},
       "output_type": "pyout",
       "png": "[encoded data removed]",
       "prompt_number": 13,
       "text": [
        "           _____________________________\n",
        "          \u2571                  2    2     \n",
        "\\Delta\u2093\u22c5\u2572\u2571  4\u22c5a\u22c5b\u22c5x\u2080 + 4\u22c5a\u22c5x\u2080  + b  + 1 "
       ]
      }
     ],
     "prompt_number": 13
    },
    {
     "cell_type": "code",
     "collapsed": false,
     "input": [
      "f"
     ],
     "language": "python",
     "metadata": {},
     "outputs": [
      {
       "latex": [
        "$$\\Delta_{x} \\sqrt{4 a b x_{0} + 4 a x_{0}^{2} + b^{2} + 1}$$"
       ],
       "metadata": {},
       "output_type": "pyout",
       "png": "[encoded data removed]",
       "prompt_number": 14,
       "text": [
        "           _____________________________\n",
        "          \u2571                  2    2     \n",
        "\\Delta\u2093\u22c5\u2572\u2571  4\u22c5a\u22c5b\u22c5x\u2080 + 4\u22c5a\u22c5x\u2080  + b  + 1 "
       ]
      }
     ],
     "prompt_number": 14
    }
   ],
   "metadata": {}
  }
 ]
}