{
 "cells": [
  {
   "cell_type": "markdown",
   "metadata": {},
   "source": [
    "<img src=\"http://upload.wikimedia.org/math/7/5/2/752fd6396a9c9d026f10eccb39ddca15.png\"/>"
   ]
  },
  {
   "cell_type": "markdown",
   "metadata": {},
   "source": [
    "$$V(x) = w\\left(\\frac{L}{2} - x\\right)$$\n",
    "\n",
    "$$M(x) = \\frac{w}{2}\\left(L x - x^2\\right)$$\n",
    "\n",
    "$$\\theta(x) = \\frac{- w}{2 EI}\\left(\\frac{L x^2}{2} - \\frac{x^3}{3} +C\\right)$$\n",
    "\n",
    "$$\\Delta(x) = \\frac{- w}{2 EI}\\left(\\frac{L x^3}{6} - \\frac{x^4}{12} +Cx + D \\right)$$"
   ]
  },
  {
   "cell_type": "markdown",
   "metadata": {},
   "source": [
    "$$\\Delta(0) = \\frac{-w}{2 EI}\\left(\\frac{L\\cdot 0^3}{6} - \\frac{0^4}{12} +C\\cdot 0 + D \\right) = 0 \\therefore D = 0$$\n",
    "\n",
    "$$\\Delta(L) = \\frac{-w}{2 EI}\\left(\\frac{L^4}{6} - \\frac{L^4}{12} +CL \\right) = 0 $$\n",
    "\n",
    "$$\\frac{L^4}{6} - \\frac{L^4}{12} +CL  = 0 $$\n",
    "\n",
    "$$ CL  = \\frac{L^4}{12} - \\frac{L^4}{6} $$\n",
    "\n",
    "$$ CL  = \\frac{L^4}{12} - \\frac{2 L^4}{12} $$\n",
    "\n",
    "$$ CL  = - \\frac{L^4}{12} $$\n",
    "\n",
    "$$ C = -\\frac{L^3}{12}$$\n",
    "\n",
    "$$\\Delta(x) = \\frac{- w}{2 EI}\\left(\\frac{L x^3}{6} - \\frac{x^4}{12} -\\frac{L^3}{12}x  \\right)$$"
   ]
  },
  {
   "cell_type": "markdown",
   "metadata": {},
   "source": [
    "$$\\theta(x) = \\frac{-w}{2 EI}\\left(\\frac{L x^2}{2} - \\frac{x^3}{3} - \\frac{L^3}{12}\\right)$$\n",
    "\n",
    "$$\\theta(0) = \\frac{-w}{2 EI}\\left(\\frac{L \\cdot 0^2}{2} - \\frac{0^3}{3} - \\frac{L^3}{12}\\right)$$\n",
    "\n",
    "$$\\theta(0) = \\frac{-w}{2 EI}\\left(- \\frac{L^3}{12}\\right)$$\n",
    "\n",
    "$$\\theta(0) = \\frac{w L^3}{24 EI}$$"
   ]
  },
  {
   "cell_type": "markdown",
   "metadata": {},
   "source": [
    "$$\\frac{\\theta(0)}{\\Delta(L/2)} = \\frac{\\frac{w L^3}{24 EI}}{\\frac{5 w L^4}{384 E I}}$$"
   ]
  },
  {
   "cell_type": "markdown",
   "metadata": {},
   "source": [
    "$$\\frac{\\theta(0)}{\\Delta(L/2)} = \\frac{384}{5\\cdot 24\\cdot L}$$"
   ]
  },
  {
   "cell_type": "markdown",
   "metadata": {},
   "source": [
    "$$\\frac{\\theta(0)}{\\Delta(L/2)} = \\frac{16}{5 L}$$\n",
    "\n",
    "$$\\theta(0) = \\frac{16}{5 L}\\Delta(L/2)$$"
   ]
  },
  {
   "cell_type": "markdown",
   "metadata": {},
   "source": [
    "$$P_0 = (x_0,y_0)\\text{, known}$$\n",
    "$$P_1 = (x_1,y_1)\\text{, known}$$\n",
    "$$C_0 = (x_2,y_2)$$\n",
    "$$C_1 = (x_3,y_3)$$\n",
    "\n",
    "$$P_I = (x_m,y_m)\\text{, known}$$\n",
    "\n",
    "$$y - y_m = \\frac{\\frac{y_0+y_3}{2}-y_m}{\\frac{x_0+x_3}{2}-x_m}(x-x_m)\\text{, known}$$\n",
    "\n",
    "$$\\frac{\\frac{y_0+y_3}{2}-y_m}{\\frac{x_0+x_3}{2}-x_m} = -\\frac{x_3-x_0}{y_3-y_0}\\text{, known}$$"
   ]
  },
  {
   "cell_type": "markdown",
   "metadata": {},
   "source": [
    "$$y - y_c= m_{perp} (x-x_c)$$\n",
    "$$y - y_c= m_{perp} x-m_{perp} x_c$$\n",
    "$$y = m_{perp} x-m_{perp} x_c + y_c$$\n",
    "$$y = m_{perp} x + (-m_{perp} x_c + y_c)$$\n",
    "$$y = m_{perp} x + b_{perp}$$\n",
    "$$y=a x^4 + b x^3 +c x^2 +d x + e$$\n",
    "$$ 0 = a x^4 + b x^3 +c x^2 +(d-m_{perp}) x + (e-b_{perp})$$"
   ]
  },
  {
   "cell_type": "markdown",
   "metadata": {},
   "source": [
    "$$\\Delta(x) = \\frac{- w}{2 EI}\\left(- \\frac{x^4}{12}+\\frac{L x^3}{6}  -\\frac{L^3}{12}x  \\right)$$\n",
    "\n",
    "$$\\Delta(x) = \\frac{w}{2 EI}\\left(\\frac{x^4}{12} - \\frac{L x^3}{6}  +\\frac{L^3}{12}x  \\right)$$"
   ]
  },
  {
   "cell_type": "markdown",
   "metadata": {},
   "source": [
    "$$y_0  - m_0 x_0 = - m_0 x_1 +y_1 \\tag{1}$$\n",
    "\n",
    "$$y_3-m_1 x_3 = -m_1 x_2+y_2\\tag{2}$$\n",
    "\n",
    "$$x_m -\\frac{x_0+x_3}{8}= \\frac{3}{8}x_1+\\frac{3}{8}x_2 \\tag{3}$$\n",
    "\n",
    "$$y_m - \\frac{y_0+y_3}{8}=\\frac{3}{8}y_1+\\frac{3}{8}y_2 \\tag{4}$$\n",
    "\n",
    "$$Y = \\begin{bmatrix}y_0  - m_0 x_0\\\\y_3-m_1 x_3\\\\x_m -\\frac{x_0+x_3}{8}\\\\y_m - \\frac{y_0+y_3}{8}\\end{bmatrix}\\qquad E = \\begin{bmatrix}-m_0&0&1&0\\\\0&-m_1&0&1\\\\3/8&3/8&0&0\\\\0&0&3/8&3/8\\end{bmatrix}\\qquad C = \\begin{bmatrix}x_1\\\\x_2\\\\y_1\\\\y_2\\end{bmatrix}$$\n",
    "\n",
    "$$[Y]=[E][C]$$\n",
    "$$[C]=[E]^{-1}[Y]$$"
   ]
  },
  {
   "cell_type": "code",
   "execution_count": 1,
   "metadata": {
    "collapsed": false
   },
   "outputs": [],
   "source": [
    "# Path CurveManip.py\n",
    "\n",
    "\n",
    "\n",
    "from IPython.display import SVG\n",
    "from numpy import matrix\n",
    "from numpy.linalg import inv, pinv\n",
    "from numpy import transpose as T\n",
    "from collections import namedtuple\n",
    "from numpy import sin, cos, tan, array, pi\n",
    "import numpy as np\n",
    "# from SVG_lib import point\n",
    "\n",
    "def rotate(point, base, angle, DEBUG = False):\n",
    "    \"Rotates the point about the bas by the angle\"\n",
    "    R = matrix(((cos(angle),-sin(angle)),(sin(angle),cos(angle))))\n",
    "    point = array(point)\n",
    "    base = array(base)\n",
    "    tmp = point - base\n",
    "    R_tmp = array(T(R*T(matrix(tmp)))).reshape((1,2))\n",
    "    R_point = array(R_tmp[0]+T(base))#.reshape((1,2))\n",
    "    if DEBUG:\n",
    "        Debug_rotate = namedtuple('Debug_rotate','point angle_deg tmp R_tmp_size R_tmp base R_point')\n",
    "        debug = Debug_rotate(point, angle/pi*180, tmp, R_tmp.size, R_tmp, base, R_point)\n",
    "        print(debug)\n",
    "        print()\n",
    "    return R_point\n",
    "\n",
    "def translate(point, vector):\n",
    "    \"Returns a point (list) that is displaced from the original point be the vector (list)\"\n",
    "    new_point = [x0+dx for x0,dx in zip(point, vector)]\n",
    "    return new_point\n",
    "\n",
    "def reflect_y_axis(point):\n",
    "    \"returns a point mirrored about the y axis\"\n",
    "    px, py = point\n",
    "    return [-px, py]\n",
    "\n",
    "def reflect_x_axis(point):\n",
    "    \"returns a point mirrored about the x axis\"\n",
    "    px, py = point\n",
    "    return [px, -py]\n",
    "\n",
    "def mirror(point, mirror_line = [(0,0),(0,-1)]):\n",
    "    \"Mirror a point about a line defined by two points\"\n",
    "    p0, p1 = mirror_line\n",
    "    # Find angle of mirror line\n",
    "    angle = np.arctan2((p1[1]-p0[1]),(p1[0]-p0[0]))\n",
    "    # Rotate all points to make mirror line parallel to y-axis\n",
    "    flip_angles = [-angle,-pi/2]\n",
    "    for flip_angle in flip_angles:\n",
    "        p0 = rotate(p0,[0,0],flip_angle)\n",
    "        p1 = rotate(p1,[0,0],flip_angle)\n",
    "        point = rotate(point,[0,0],flip_angle) \n",
    "    if round((p0[0]-p1[0])*10000)!=0: #check for errors\n",
    "        er = \"problem with fil_angle.  post rotate x0, x1 = {}, {}\".format(p0[0],p1[0])\n",
    "        raise(RuntimeError(er))\n",
    "    # translaste points so mirror line is on y-axis\n",
    "    point = translate(point,[-p0[0],0])\n",
    "    point = reflect_y_axis(point)\n",
    "    # translate back to original location\n",
    "    point = translate(point,[p0[0],0])\n",
    "    # rotate to original angle\n",
    "    flip_angles = [pi/2,angle]\n",
    "    for flip_angle in flip_angles:\n",
    "        point = rotate(point,[0,0],flip_angle)\n",
    "    p_x, p_y = float(point[0]), float(point[1])\n",
    "    return [p_x, p_y]"
   ]
  }
 ],
 "metadata": {
  "kernelspec": {
   "display_name": "Python 3",
   "language": "python",
   "name": "python3"
  },
  "language_info": {
   "codemirror_mode": {
    "name": "ipython",
    "version": 3
   },
   "file_extension": ".py",
   "mimetype": "text/x-python",
   "name": "python",
   "nbconvert_exporter": "python",
   "pygments_lexer": "ipython3",
   "version": "3.4.0"
  }
 },
 "nbformat": 4,
 "nbformat_minor": 0
}
