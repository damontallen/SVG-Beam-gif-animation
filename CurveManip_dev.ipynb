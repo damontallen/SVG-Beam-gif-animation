{
 "metadata": {
  "name": "",
  "signature": "sha256:f914a1df7089361e73e9bd56a72ced5d989adbcd1aeba6cecbb4f67653c0c021"
 },
 "nbformat": 3,
 "nbformat_minor": 0,
 "worksheets": [
  {
   "cells": [
    {
     "cell_type": "markdown",
     "metadata": {},
     "source": [
      "<img src=\"http://upload.wikimedia.org/math/7/5/2/752fd6396a9c9d026f10eccb39ddca15.png\"/>"
     ]
    },
    {
     "cell_type": "code",
     "collapsed": false,
     "input": [
      "# apple = rotate([10,0],[0,0],pi/4,DEBUG=True)\n",
      "# apple"
     ],
     "language": "python",
     "metadata": {},
     "outputs": [
      {
       "output_type": "stream",
       "stream": "stdout",
       "text": [
        "Debug_rotate(point=array([10,  0]), angle_deg=45.0, tmp=array([10,  0]), R_tmp_size=2, R_tmp=array([[ 7.07106781,  7.07106781]]), base=array([0, 0]), R_point=array([ 7.07106781,  7.07106781]))\n",
        "\n"
       ]
      },
      {
       "metadata": {},
       "output_type": "pyout",
       "prompt_number": 3,
       "text": [
        "array([ 7.07106781,  7.07106781])"
       ]
      }
     ],
     "prompt_number": 3
    },
    {
     "cell_type": "markdown",
     "metadata": {},
     "source": [
      "$$y - y_0 = m(x-x_0)$$\n",
      "\n",
      "$$sag = \\sqrt{\\left(x-x_0\\right)^2+\\left(y-y_0\\right)^2}$$\n",
      "\n",
      "$$sag = \\sqrt{\\left(x-x_0\\right)^2+\\left(m\\left(x-x_0\\right)\\right)^2}$$\n",
      "\n",
      "$$sag = \\sqrt{\\left(1+m^2\\right)\\left(x-x_0\\right)^2}$$\n",
      "\n",
      "$$sag^2 = \\left(1+m^2\\right)\\left(x-x_0\\right)^2$$\n",
      "\n",
      "$$\\frac{sag^2}{1+m^2} = \\left(x-x_0\\right)^2$$"
     ]
    },
    {
     "cell_type": "markdown",
     "metadata": {},
     "source": [
      "$$\\sqrt{\\frac{sag^2}{1+m^2}} = x-x_0$$\n",
      "$$x =  \\sqrt{\\left(\\frac{sag^2}{1+m^2}\\right)} + x_0 $$"
     ]
    },
    {
     "cell_type": "markdown",
     "metadata": {},
     "source": [
      "$$sag = \\sqrt{\\left(x-x_0\\right)^2+\\left(y-y_0\\right)^2}$$\n",
      "\n",
      "$$sag^2 = \\left(x-x_0\\right)^2+\\left(y-y_0\\right)^2$$\n",
      "\n",
      "$$\\left(y-y_0\\right)^2= sag^2 -\\left(x-x_0\\right)^2$$\n",
      "\n",
      "$$y-y_0= \\sqrt{sag^2 -\\left(x-x_0\\right)^2}$$\n",
      "\n",
      "$$y= \\sqrt{sag^2 -\\left(x-x_0\\right)^2} + y_0$$"
     ]
    },
    {
     "cell_type": "code",
     "collapsed": false,
     "input": [
      "np.arctan2(1,0)"
     ],
     "language": "python",
     "metadata": {},
     "outputs": [
      {
       "metadata": {},
       "output_type": "pyout",
       "prompt_number": 5,
       "text": [
        "1.5707963267948966"
       ]
      }
     ],
     "prompt_number": 5
    },
    {
     "cell_type": "code",
     "collapsed": false,
     "input": [
      "# Path CurveManip.py\n",
      "\n",
      "\n",
      "\n",
      "from IPython.display import SVG\n",
      "from numpy import matrix\n",
      "from numpy.linalg import inv\n",
      "from numpy import transpose as T\n",
      "from collections import namedtuple\n",
      "# from collections import OrderedDict as Dict # Not used yet, intended for beam end lines.\n",
      "from numpy import sin, cos, tan, array, pi, abs, arctan, sign\n",
      "import numpy as np\n",
      "\n",
      "def rotate(point, base, angle, DEBUG = False):\n",
      "    R = matrix(((cos(angle),-sin(angle)),(sin(angle),cos(angle))))\n",
      "    point = array(point)\n",
      "    base = array(base)\n",
      "    tmp = point - base\n",
      "    R_tmp = array(T(R*T(matrix(tmp)))).reshape((1,2))\n",
      "    R_point = array(R_tmp[0]+T(base))#.reshape((1,2))\n",
      "    if DEBUG:\n",
      "        Debug_rotate = namedtuple('Debug_rotate','point angle_deg tmp R_tmp_size R_tmp base R_point')\n",
      "        debug = Debug_rotate(point, angle/pi*180, tmp, R_tmp.size, R_tmp, base, R_point)\n",
      "        print(debug)\n",
      "        print()\n",
      "    return R_point\n",
      "\n",
      "def translate(point, vector):\n",
      "    \"Returns a point (list) that is displaced from the original point be the vector (list)\"\n",
      "    new_point = [x0+dx for x0,dx in zip(point, vector)]\n",
      "    return new_point\n",
      "\n",
      "def reflect_y_axis(point):\n",
      "    \"returns a point mirrored about the y axis\"\n",
      "    px, py = point\n",
      "    return [-px, py]\n",
      "\n",
      "def reflect_x_axis(point):\n",
      "    \"returns a point mirrored about the x axis\"\n",
      "    px, py = point\n",
      "    return [px, -py]\n",
      "\n",
      "def mirror(point, mirror_line = [(0,0),(0,-1)]):\n",
      "    \"Mirror a point about a line defined by two points\"\n",
      "    p0, p1 = mirror_line\n",
      "    #(p0_x, p0_y), (p1_x, p1_y) = mirror_line\n",
      "    # Find angle of mirror line\n",
      "    angle = np.arctan2((p1[1]-p0[1]),(p1[0]-p0[0]))\n",
      "    # Rotate all points to make mirror line parallel to y-axis\n",
      "    flip_angles = [-angle,-pi/2]\n",
      "    for flip_angle in flip_angles:\n",
      "        p0 = rotate(p0,[0,0],flip_angle)\n",
      "        p1 = rotate(p1,[0,0],flip_angle)\n",
      "        point = rotate(point,[0,0],flip_angle) \n",
      "    if round((p0[0]-p1[0])*10000)!=0: #check for errors\n",
      "        er = \"problem with fil_angle.  post rotate x0, x1 = {}, {}\".format(p0[0],p1[0])\n",
      "        raise(RuntimeError(er))\n",
      "    # translaste points so mirror line is on y-axis\n",
      "    point = translate(point,[-p0[0],0])\n",
      "    point = reflect_y_axis(point)\n",
      "    # translate back to original location\n",
      "    point = translate(point,[p0[0],0])\n",
      "    # rotate to original angle\n",
      "    flip_angles = [pi/2,angle]\n",
      "    for flip_angle in flip_angles:\n",
      "        point = rotate(point,[0,0],flip_angle)\n",
      "    p_x, p_y = float(point[0]), float(point[1])\n",
      "    return [p_x, p_y]\n",
      "\n",
      "def points(sag, angle=0, DEBUG=False):\n",
      "    y0 = 5\n",
      "    p0_i = array([0, y0])\n",
      "    p1_i = array([100, sag+y0])\n",
      "    p2_i = array([200, y0])\n",
      "    rad = angle/180 * pi\n",
      "    p1 = rotate(p1_i, p0_i, rad, DEBUG=DEBUG)\n",
      "    p2 = rotate(p2_i, p0_i, rad)\n",
      "    p0 = [float(p0_i[0]),float(p0_i[1])]\n",
      "    p1 = [float(p1[0]),float(p1[1])]\n",
      "    p2 = [float(p2[0]),float(p2[1])]\n",
      "    if DEBUG:\n",
      "        Debug_point = namedtuple('Debug_point','p0_i p1_i p2_i angle rad p0 p1 p2')\n",
      "        debug = Debug_point(p0_i, p1_i, p2_i, angle, rad, p0, p1, p2)\n",
      "        print(debug)\n",
      "        print()\n",
      "    return (p0,p1,p2)\n",
      "    \n",
      "def unrotate(p0,p1,p2, DEBUG=False):\n",
      "    x0,y0 = p0\n",
      "    x1,y1 = p1\n",
      "    x2,y2 = p2\n",
      "    if x2-x1!=0:\n",
      "        angle = arctan((float(y2)-float(y0))/(float(x2)-float(x0)))\n",
      "    else:\n",
      "        angle = pi/2 if y2>y1 else -pi/2\n",
      "    p1_o = rotate(p1,p0,-angle)\n",
      "    p2_o = rotate(p2,p0,-angle)\n",
      "    if DEBUG:\n",
      "        Debug_unrotate = namedtuple('Debug_unrotate','p0 p1 p2 rad angle p1_o p2_o')\n",
      "        debug = Debug_unrotate(p0, p1, p2, angle, angle/pi*180, p1_o, p2_o)\n",
      "        print(debug)\n",
      "        print()\n",
      "    return(p0,p1_o,p2_o,float(angle))\n",
      "\n",
      "### *** Spline Class *** ###\n",
      "\n",
      "class Spline(object):\n",
      "    def __init__(self,p0=[0,10],p2=[100,10], sag = 10):\n",
      "        self.origin = p0\n",
      "        self.end = p2\n",
      "        self.DEBUG = False\n",
      "        self.fill = 'none'\n",
      "        self.color = 'black'\n",
      "        self.width = '2'\n",
      "        self.sag = sag\n",
      "        self.circles = True\n",
      "        \n",
      "    @property\n",
      "    def angle(self):\n",
      "        \"Slope from one end to the ofther as a straight line\"\n",
      "        p0 = self.origin\n",
      "        p2 = self.end\n",
      "        x0,y0 = p0\n",
      "        x2,y2 = p2\n",
      "        return arctan((y2-y0)/(x2-x0))/pi*180\n",
      "        \n",
      "    def rotate(self,angle):\n",
      "        \"Rotates the end point about the origin.  The middle is recalculated.\"\n",
      "#         angle = self.angle + angle\n",
      "        rad = angle/180*pi\n",
      "        self.end = rotate(self.end,self.origin,rad)\n",
      "        self.sag = self.sag #for a recalculation of the middle point\n",
      "        #self._angle = angle\n",
      "\n",
      "    def _center(self):\n",
      "        \"Returns the coordinates exactly in between origin and end.\"\n",
      "        p0 = self.origin\n",
      "        p2 = self.end\n",
      "        return list((array(p2)-array(p0))/2+array(p0))\n",
      "    \n",
      "    @property\n",
      "    def middle(self):\n",
      "        return self._middle\n",
      "    @middle.setter\n",
      "    def middle(self,p1):\n",
      "        x0, y0 = self._center\n",
      "        x1, y1 = p1\n",
      "        sag = ((x1-x0)^2 + (y1-y0)^2)*sign(y1-y0)*-1\n",
      "        self.sag = sag\n",
      "        \n",
      "    @property\n",
      "    def sag(self):\n",
      "        return self._sag\n",
      "    @sag.setter\n",
      "    def sag(self,value):\n",
      "        sag = value\n",
      "        direct = sign(value)*-1\n",
      "        angle = self.angle \n",
      "        perp = angle-90\n",
      "        perp_rad = perp/180*pi\n",
      "        m = tan(perp_rad)\n",
      "        x0, y0 = self._center()\n",
      "        x = (sag**2/(1+m**2))**0.5*direct + x0\n",
      "        y= (sag**2 -(x-x0)**2)**0.5 + y0\n",
      "        self._middle = [x,y]\n",
      "        self._sag = sag\n",
      "        \n",
      "    def end_angles(self, suppress=False):\n",
      "        \"Returns the angles at both ends of the beam\"\n",
      "        p0, p1, p2, x0, x1, x2, y0, y1, y2, angle = self._points_of_intrest()\n",
      "        # Calculate angles at ends\n",
      "        X_1 = inv(matrix(([x0**2,x0,1],[x1**2,x1,1],[x2**2,x2,1])))\n",
      "        Y = matrix(([y0],[y1],[y2]))\n",
      "        abc = X_1 * Y\n",
      "        a, b, c = abc\n",
      "        a = float(a)\n",
      "        b = float(b)\n",
      "        c = float(c)\n",
      "        # $$\\frac{dy}{dx} = 2 a x +b $$\n",
      "        # $$\\theta = \\arctan \\left( \\frac{dy}{dx} \\right)$$\n",
      "        dy_dx = lambda x: 2 *a * x + b\n",
      "        t0 = np.arctan2(dy_dx(x0),1)+angle\n",
      "        t2 = np.arctan2(dy_dx(x2),1)+angle\n",
      "        if not suppress:\n",
      "            print('abc = {}'.format(abc))\n",
      "            print(a,b,c)\n",
      "            print(\"t0 = {}, t2 = {}, angle = {}\".format(np.degrees(t0),\n",
      "                                                        np.degrees(t2),\n",
      "                                                        angle))\n",
      "        Coefficents = namedtuple(\"Coefficents\",\"a b c\")\n",
      "        coefficents = Coefficents(a,b,c)\n",
      "        Angles = namedtuple(\"Angles\",\"theta_0 theta_2 angle coefficents\")\n",
      "        angles = Angles(t0,t2,angle,coefficents)\n",
      "        return angles\n",
      "        \n",
      "    def _points_of_intrest(self):\n",
      "        DEBUG = self.DEBUG\n",
      "        p0 = self.origin\n",
      "        p1 = self.middle\n",
      "        p2 = self.end\n",
      "        x0,y0 = p0\n",
      "        x2,y2 = p2\n",
      "        \n",
      "        if y2-y0 !=0:\n",
      "            p0,p1,p2,angle = unrotate(p0,p1,p2,DEBUG=DEBUG)\n",
      "        else:\n",
      "            angle = 0\n",
      "        if DEBUG:\n",
      "            print('(p0,p1,p2,angle) = {}'.format((p0,p1,p2,angle)))\n",
      "        x0,y0 = p0\n",
      "        x1,y1 = tuple(p1)\n",
      "        x1,y1 = float(x1),float(y1)\n",
      "        x2,y2 = p2\n",
      "        x2,y2 = float(x2),float(y2)\n",
      "        Points = namedtuple(\"Points\", 'p0 p1 p2 x0 x1 x2 y0 y1 y2, angle')\n",
      "        points = Points(p0, p1, p2, x0, x1, x2, y0, y1, y2, angle)\n",
      "        return points\n",
      "\n",
      "    def _spline(self):\n",
      "        \"Returns the values for a SVG cubic spline that passes through the three points.\"\n",
      "        p0, p1, p2, x0, x1, x2, y0, y1, y2, angle = self._points_of_intrest()\n",
      "        DEBUG = self.DEBUG\n",
      "        A = 1/(x1-x0)\n",
      "        B = 1/(x2-x1)\n",
      "        A_ = y1-y0\n",
      "        B_ = y2-y1\n",
      "        a = matrix(([2*A, A , 0], [A, 2*(A+B), B], [0, B, 2*B]))\n",
      "        b_ = matrix(((3*A_*A**2), (3*(A_*A**2 + B_*B**2)), (3*(B_*B**2))))\n",
      "        b = T(b_)\n",
      "        a_inv = inv(a)\n",
      "        k = a_inv * b\n",
      "        k0, k1, k2 = k\n",
      "        cx0 = x0 + x1/2\n",
      "        cy0 = (x2-x0)*float(k0)/2.25\n",
      "        cx2 = x2 - x1/2\n",
      "        cy2 = (x0-x2)*float(k2)/2.25\n",
      "        \n",
      "        if angle !=0:\n",
      "            p1 = rotate(p1,p0,angle,DEBUG=DEBUG)\n",
      "            p2 = rotate(p2,p0,angle,DEBUG=DEBUG)\n",
      "            if DEBUG:\n",
      "                print('\\ncx2,cy2 = {},{}'.format(cx2,cy2))\n",
      "            cx0,cy0 = rotate([cx0,cy0],p0,angle,DEBUG=DEBUG)\n",
      "            cx0,cy0 = float(cx0),float(cy0)\n",
      "            cx2,cy2 = rotate([cx2,cy2],p0,angle,DEBUG=DEBUG)\n",
      "            cx2,cy2 = float(cx2),float(cy2)\n",
      "        if DEBUG:\n",
      "            print('cx2,cy2 = {},{}\\n'.format(cx2,cy2))\n",
      "        x0,y0 = p0\n",
      "        x1,y1 = p1\n",
      "        x1,y1 = float(x1),float(y1)\n",
      "        x2,y2 = p2\n",
      "        x2,y2 = float(x2),float(y2)\n",
      "\n",
      "        dx = x2-x0\n",
      "        dy = y2-y0\n",
      "\n",
      "        Coords = namedtuple(\"Coords\", \"x0 y0 x1 y1 x2 y2\")\n",
      "        SVG_values = namedtuple(\"SVG_values\",\"x0 y0 cx0 cy0 cx2 cy2 dx dy\")\n",
      "        self.coords = Coords(x0,y0,x1,y1,x2,y2)\n",
      "        self.svg_values = SVG_values(x0, y0, cx0, cy0, cx2, cy2, dx, dy)\n",
      "    \n",
      "    def _repr_svg_(self):\n",
      "        self._spline()\n",
      "        path = self._svg_path_()\n",
      "        x0,y0,x1,y1,x2,y2 = self.coords\n",
      "        x0, y0, cx0, cy0, cx2, cy2, dx, dy = self.svg_values\n",
      "        top = min(y0,y1,y2,cy0,cy2)-10\n",
      "        height = abs(max(y0,y1,y2,cy0,cy2) - top +10)\n",
      "        left = min(x0,x1,x2,cx0,cx2)-10\n",
      "        width = abs(max(x0,x1,x2,cx0,cx2) - left +10)\n",
      "#         br = max(height, width)\n",
      "    \n",
      "        style = 'fill:%s;stroke:%s;stroke-width:%spx;'%(self.fill,self.color,self.width)\n",
      "\n",
      "        a = ['<svg  viewBox = \"%f %f %f %f\">'%(left,top,width,height),\n",
      "             path]\n",
      "        cir = ['<circle cx=\"%f\" cy=\"%f\" r=\"2\" stroke=\"red\" />'%(x0,y0),\n",
      "               '<circle cx=\"%f\" cy=\"%f\" r=\"2\" stroke=\"red\" />'%(x1,y1),\n",
      "               '<circle cx=\"%f\" cy=\"%f\" r=\"2\" stroke=\"red\" />'%(x2,y2)]\n",
      "        b = ['</svg>']\n",
      "        if self.circles:\n",
      "            a += cir+b\n",
      "        else:\n",
      "            a += b\n",
      "        svg_txt = '\\n'.join(a)\n",
      "        return svg_txt\n",
      "    \n",
      "    def _svg_bounds(self):\n",
      "        self._spline()\n",
      "        #p0, p1, p2, x0, x1, x2, y0, y1, y2, angle =self._points_of_intrest()\n",
      "        x0,y0,x1,y1,x2,y2 = self.coords\n",
      "        x0, y0, cx0, cy0, cx2, cy2, dx, dy = self.svg_values\n",
      "        top = min(y0,y1,y2,cy0,cy2)-10\n",
      "        print(\"y0,y1,y2,cy0,cy2 = {}\".format((y0,y1,y2,cy0,cy2)))\n",
      "        print(\"top = {}\".format(top))\n",
      "        height = abs(max(y0,y1,y2,cy0,cy2) - top +10)\n",
      "        left = min(x0,x1,x2,cx0,cx2)-10\n",
      "        width = abs(max(x0,x1,x2,cx0,cx2) - left +10)\n",
      "        Bounds = namedtuple(\"Bounds\",\"left top width height\")\n",
      "        bounds = Bounds(left,top,width,height)\n",
      "        return bounds\n",
      "    \n",
      "    def _svg_path_(self):\n",
      "        self._spline()\n",
      "        x0,y0,x1,y1,x2,y2 = self.coords\n",
      "        x0, y0, cx0, cy0, cx2, cy2, dx, dy = self.svg_values\n",
      "    \n",
      "        style = 'fill:%s;stroke:%s;stroke-width:%spx;'%(self.fill,self.color,self.width)\n",
      "        path = '<path style=\"%s\" d=\"m %f,%f c %f,%f %f,%f %f,%f\"/>'%(style,x0,y0,cx0,cy0,cx2,cy2,dx,dy)\n",
      "        return path\n",
      "    \n",
      "    def __repr__(self):\n",
      "        x0, y0 = self.origin\n",
      "        x1, y1 = self.middle\n",
      "        x2, y2 = self.end\n",
      "        sag = self.sag\n",
      "        center = self._center()\n",
      "        txt = ['Origin = {}, {}'.format(x0,y0),\n",
      "               'Middle = {}, {}'.format(x1,y1),\n",
      "               'End = {}, {}'.format(x2,y2),\n",
      "               'Center = {}'.format(center),\n",
      "               'Sag = {}'.format(sag),\n",
      "               'Angle = {}'.format(self.angle),\n",
      "               'Circles = {}'.format(self.circles)]\n",
      "        return '\\n'.join(txt)"
     ],
     "language": "python",
     "metadata": {},
     "outputs": [],
     "prompt_number": 24
    },
    {
     "cell_type": "code",
     "collapsed": false,
     "input": [
      "mirror([1,0])"
     ],
     "language": "python",
     "metadata": {},
     "outputs": [
      {
       "metadata": {},
       "output_type": "pyout",
       "prompt_number": 27,
       "text": [
        "[-1.0, 2.4492935982947064e-16]"
       ]
      }
     ],
     "prompt_number": 27
    },
    {
     "cell_type": "code",
     "collapsed": false,
     "input": [
      "DEBUG=False\n",
      "angle = 15\n",
      "sag = 10\n",
      "p0, p1, p2 = points(sag = sag, angle = angle,DEBUG=DEBUG)\n",
      "s = Spline(p0,p2, sag=sag)"
     ],
     "language": "python",
     "metadata": {},
     "outputs": [],
     "prompt_number": 17
    },
    {
     "cell_type": "code",
     "collapsed": false,
     "input": [
      "s"
     ],
     "language": "python",
     "metadata": {},
     "outputs": [
      {
       "metadata": {},
       "output_type": "pyout",
       "prompt_number": 18,
       "svg": [
        "<svg  viewBox = \"-10.000000 -5.000000 213.185165 71.763809\">\n",
        "<path style=\"fill:none;stroke:black;stroke-width:2px;\" d=\"m 0.000000,5.000000 c 46.139466,25.990334 142.732049,51.872239 193.185165,51.763809\"/>\n",
        "<circle cx=\"0.000000\" cy=\"5.000000\" r=\"2\" stroke=\"red\" />\n",
        "<circle cx=\"94.004392\" cy=\"40.541163\" r=\"2\" stroke=\"red\" />\n",
        "<circle cx=\"193.185165\" cy=\"56.763809\" r=\"2\" stroke=\"red\" />\n",
        "</svg>"
       ],
       "text": [
        "Origin = 0.0, 5.0\n",
        "Middle = 94.00439217788161, 40.54116277314276\n",
        "End = 193.18516525781365, 56.76380902050415\n",
        "Center = [96.592582628906825, 30.881904510252074]\n",
        "Sag = 10\n",
        "Angle = 15.0\n",
        "Circles = True"
       ]
      }
     ],
     "prompt_number": 18
    },
    {
     "cell_type": "code",
     "collapsed": false,
     "input": [
      "print(s)"
     ],
     "language": "python",
     "metadata": {},
     "outputs": [
      {
       "output_type": "stream",
       "stream": "stdout",
       "text": [
        "Origin = 0.0, 5.0\n",
        "Middle = 94.00439217788161, 40.54116277314276\n",
        "End = 193.18516525781365, 56.76380902050415\n",
        "Center = [96.592582628906825, 30.881904510252074]\n",
        "Sag = 10\n",
        "Angle = 15.0\n",
        "Circles = True\n"
       ]
      }
     ],
     "prompt_number": 19
    },
    {
     "cell_type": "code",
     "collapsed": false,
     "input": [
      "s.rotate(-15)\n",
      "s.sag = 30\n",
      "print(s)\n"
     ],
     "language": "python",
     "metadata": {},
     "outputs": [
      {
       "output_type": "stream",
       "stream": "stdout",
       "text": [
        "Origin = 0.0, 5.0\n",
        "Middle = 100.0, 35.0\n",
        "End = 200.0, 5.000000000000007\n",
        "Center = [100.0, 5.0000000000000036]\n",
        "Sag = 30\n",
        "Angle = 2.0355549961366507e-15\n",
        "Circles = True\n"
       ]
      }
     ],
     "prompt_number": 20
    },
    {
     "cell_type": "code",
     "collapsed": false,
     "input": [
      "s"
     ],
     "language": "python",
     "metadata": {},
     "outputs": [
      {
       "metadata": {},
       "output_type": "pyout",
       "prompt_number": 21,
       "svg": [
        "<svg  viewBox = \"-10.000000 -5.000000 220.000000 55.000000\">\n",
        "<path style=\"fill:none;stroke:black;stroke-width:2px;\" d=\"m 0.000000,5.000000 c 50.000000,40.000000 150.000000,40.000000 200.000000,0.000000\"/>\n",
        "<circle cx=\"0.000000\" cy=\"5.000000\" r=\"2\" stroke=\"red\" />\n",
        "<circle cx=\"100.000000\" cy=\"35.000000\" r=\"2\" stroke=\"red\" />\n",
        "<circle cx=\"200.000000\" cy=\"5.000000\" r=\"2\" stroke=\"red\" />\n",
        "</svg>"
       ],
       "text": [
        "Origin = 0.0, 5.0\n",
        "Middle = 100.0, 35.0\n",
        "End = 200.0, 5.000000000000007\n",
        "Center = [100.0, 5.0000000000000036]\n",
        "Sag = 30\n",
        "Angle = 2.0355549961366507e-15\n",
        "Circles = True"
       ]
      }
     ],
     "prompt_number": 21
    },
    {
     "cell_type": "code",
     "collapsed": false,
     "input": [
      "s.sag =10\n",
      "print(s)\n",
      "s.width = 1\n",
      "s.circles = False\n",
      "s"
     ],
     "language": "python",
     "metadata": {},
     "outputs": [
      {
       "output_type": "stream",
       "stream": "stdout",
       "text": [
        "Origin = 0.0, 5.0\n",
        "Middle = 100.0, 15.000000000000004\n",
        "End = 200.0, 5.000000000000007\n",
        "Center = [100.0, 5.0000000000000036]\n",
        "Sag = 10\n",
        "Angle = 2.0355549961366507e-15\n",
        "Circles = True\n"
       ]
      },
      {
       "metadata": {},
       "output_type": "pyout",
       "prompt_number": 22,
       "svg": [
        "<svg  viewBox = \"-10.000000 -5.000000 220.000000 30.000000\">\n",
        "<path style=\"fill:none;stroke:black;stroke-width:1px;\" d=\"m 0.000000,5.000000 c 50.000000,13.333333 150.000000,13.333333 200.000000,0.000000\"/>\n",
        "</svg>"
       ],
       "text": [
        "Origin = 0.0, 5.0\n",
        "Middle = 100.0, 15.000000000000004\n",
        "End = 200.0, 5.000000000000007\n",
        "Center = [100.0, 5.0000000000000036]\n",
        "Sag = 10\n",
        "Angle = 2.0355549961366507e-15\n",
        "Circles = False"
       ]
      }
     ],
     "prompt_number": 22
    },
    {
     "cell_type": "code",
     "collapsed": false,
     "input": [
      "s.end_angles()"
     ],
     "language": "python",
     "metadata": {},
     "outputs": [
      {
       "output_type": "stream",
       "stream": "stdout",
       "text": [
        "abc = [[ -1.00000000e-03]\n",
        " [  2.00000000e-01]\n",
        " [  5.00000000e+00]]\n",
        "-0.001 0.19999999999999998 5.0\n",
        "t0 = 11.309932474020215, t2 = -11.309932474020215, angle = 3.552713678800501e-17\n"
       ]
      },
      {
       "metadata": {},
       "output_type": "pyout",
       "prompt_number": 23,
       "text": [
        "Angles(theta_0=0.19739555984988078, theta_2=-0.19739555984988078, angle=3.552713678800501e-17)"
       ]
      }
     ],
     "prompt_number": 23
    },
    {
     "cell_type": "code",
     "collapsed": false,
     "input": [
      "s.rotate(10)\n",
      "s.circles = True\n",
      "s.end_angles()"
     ],
     "language": "python",
     "metadata": {},
     "outputs": [
      {
       "output_type": "stream",
       "stream": "stdout",
       "text": [
        "abc = [[ -1.00000000e-03]\n",
        " [  2.00000000e-01]\n",
        " [  5.00000000e+00]]\n",
        "-0.0010000000000000009 0.20000000000000015 5.0\n",
        "t0 = 21.309932474020222, t2 = -1.309932474020221, angle = 0.17453292519943298\n"
       ]
      },
      {
       "metadata": {},
       "output_type": "pyout",
       "prompt_number": 24,
       "text": [
        "Angles(theta_0=0.37192848504931386, theta_2=-0.022862634650447938, angle=0.17453292519943298)"
       ]
      }
     ],
     "prompt_number": 24
    },
    {
     "cell_type": "code",
     "collapsed": false,
     "input": [
      "s"
     ],
     "language": "python",
     "metadata": {},
     "outputs": [
      {
       "metadata": {},
       "output_type": "pyout",
       "prompt_number": 25,
       "svg": [
        "<svg  viewBox = \"-10.000000 -5.000000 216.961551 54.729636\">\n",
        "<path style=\"fill:none;stroke:black;stroke-width:1px;\" d=\"m 0.000000,5.000000 c 47.793320,21.889140 146.274095,39.253958 196.961551,34.729636\"/>\n",
        "<circle cx=\"0.000000\" cy=\"5.000000\" r=\"2\" stroke=\"red\" />\n",
        "<circle cx=\"96.744294\" cy=\"32.212895\" r=\"2\" stroke=\"red\" />\n",
        "<circle cx=\"196.961551\" cy=\"39.729636\" r=\"2\" stroke=\"red\" />\n",
        "</svg>"
       ],
       "text": [
        "Origin = 0.0, 5.0\n",
        "Middle = 96.7442935245515, 32.21289529681512\n",
        "End = 196.9615506024416, 39.72963553338607\n",
        "Center = [98.480775301220802, 22.364817766693037]\n",
        "Sag = 10\n",
        "Angle = 10.000000000000002\n",
        "Circles = True"
       ]
      }
     ],
     "prompt_number": 25
    },
    {
     "cell_type": "code",
     "collapsed": false,
     "input": [
      "print(s)"
     ],
     "language": "python",
     "metadata": {},
     "outputs": [
      {
       "output_type": "stream",
       "stream": "stdout",
       "text": [
        "Origin = 0.0, 5.0\n",
        "Middle = 96.7442935245515, 32.21289529681512\n",
        "End = 196.9615506024416, 39.72963553338607\n",
        "Center = [98.480775301220802, 22.364817766693037]\n",
        "Sag = 10\n",
        "Angle = 10.000000000000002\n",
        "Circles = True\n"
       ]
      }
     ],
     "prompt_number": 26
    },
    {
     "cell_type": "code",
     "collapsed": false,
     "input": [
      "print(s._repr_svg_())"
     ],
     "language": "python",
     "metadata": {},
     "outputs": [
      {
       "output_type": "stream",
       "stream": "stdout",
       "text": [
        "<svg  viewBox = \"-10.000000 -5.000000 216.961551 54.729636\">\n",
        "<path style=\"fill:none;stroke:black;stroke-width:1px;\" d=\"m 0.000000,5.000000 c 47.793320,21.889140 146.274095,39.253958 196.961551,34.729636\"/>\n",
        "<circle cx=\"0.000000\" cy=\"5.000000\" r=\"2\" stroke=\"red\" />\n",
        "<circle cx=\"96.744294\" cy=\"32.212895\" r=\"2\" stroke=\"red\" />\n",
        "<circle cx=\"196.961551\" cy=\"39.729636\" r=\"2\" stroke=\"red\" />\n",
        "</svg>\n"
       ]
      }
     ],
     "prompt_number": 27
    }
   ],
   "metadata": {}
  }
 ]
}