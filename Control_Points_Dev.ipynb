{
 "cells": [
  {
   "cell_type": "markdown",
   "metadata": {},
   "source": [
    "# Given"
   ]
  },
  {
   "cell_type": "markdown",
   "metadata": {},
   "source": [
    "The following information comes or was deriven from:\n",
    "\n",
    "* [Bezier curve math](http://www.tinaja.com/glib/cubemath.pdf)\n",
    "* [Wikipedia - Bézier curve](http://en.wikipedia.org/wiki/B%C3%A9zier_curve)\n",
    "\n",
    "This work was done to match up with equations from the following source:\n",
    "\n",
    "* [Wikipedia - Spline interpolation](http://en.wikipedia.org/wiki/Spline_interpolation#Algorithm_to_find_the_interpolating_cubic_spline)\n"
   ]
  },
  {
   "cell_type": "markdown",
   "metadata": {
    "collapsed": false
   },
   "source": [
    "$$ x= A\\cdot t^3 + B\\cdot t^2 + C\\cdot t +D$$\n",
    "\n",
    "$$ y= E\\cdot t^3 + F\\cdot t^2 + G\\cdot t +H$$\n",
    "\n",
    "$$\\textbf{or}$$\n",
    "\n",
    "$$ x= (((A\\cdot t) + B)\\cdot t + C)\\cdot t +D$$\n",
    "\n",
    "$$ y= (((E\\cdot t) + F)\\cdot t + G)\\cdot t +H$$\n",
    "\n",
    "$$\\textbf{Control Coordinates}$$\n",
    "\n",
    "$$c_{x0} = D \\qquad c_{y0} = H$$\n",
    "\n",
    "$$c_{x1} = D + \\frac{C}{3} \\qquad c_{y1} = H +\\frac{G}{3}$$\n",
    "\n",
    "$$c_{x2} = D + \\frac{2 \\cdot C}{3} +\\frac{B}{3}\\qquad c_{y2} = H +\\frac{2 \\cdot G}{3}+ \\frac{F}{3}$$\n",
    "\n",
    "$$c_{x3} = D +C +B +A \\qquad c_{y3} = H+G+F+E$$"
   ]
  },
  {
   "cell_type": "markdown",
   "metadata": {},
   "source": [
    "$$x_0 = D \\qquad y_0 = H$$\n",
    "\n",
    "$$x_1 = \\frac{A}{8} +\\frac{B}{4} +\\frac{C}{2}+D \\qquad y_1 = \\frac{E}{8} +\\frac{F}{4} +\\frac{G}{2}+H$$\n",
    "\n",
    "$$x_2 = A+B+C+D \\qquad y_2 = E+F+G+H$$"
   ]
  },
  {
   "cell_type": "markdown",
   "metadata": {},
   "source": [
    "## Slopes"
   ]
  },
  {
   "cell_type": "markdown",
   "metadata": {},
   "source": [
    "$$\\frac{dy}{dx}\\left(t = 0\\right) = \\frac{c_{y3}-c_{y2}}{c_{x3}-c_{x2}}$$\n",
    "\n",
    "$$\\frac{dy}{dx}\\left(t = 1\\right) = \\frac{c_{y1}-c_{y0}}{c_{x1}-c_{x0}}$$"
   ]
  },
  {
   "cell_type": "markdown",
   "metadata": {},
   "source": [
    "$$c_{wx} = \\frac{\\frac{c_{x1}+c_{x0}}{2}+\\frac{c_{x2}+c_{x1}}{2}}{2} \\qquad c_{wy} = \\frac{\\frac{c_{y1}+c_{y0}}{2}+\\frac{c_{y2}+c_{y1}}{2}}{2}$$\n",
    "\n",
    "$$c_{zx} = \\frac{\\frac{c_{x2}+c_{x3}}{2}+\\frac{c_{x2}+c_{x1}}{2}}{2} \\qquad c_{zy} = \\frac{\\frac{c_{y2}+c_{y3}}{2}+\\frac{c_{y2}+c_{y1}}{2}}{2}$$\n",
    "\n",
    "$$\\frac{dy}{dx}\\left(t = 0.5\\right) = \\frac{c_{zy}-c_{wy}}{c_{zx}-c_{wx}}$$"
   ]
  },
  {
   "cell_type": "markdown",
   "metadata": {},
   "source": [
    "## Simplifying Slope at $t=0.5$"
   ]
  },
  {
   "cell_type": "markdown",
   "metadata": {},
   "source": [
    "$$c_{wx} = \\frac{c_{x1}+c_{x0}}{4}+\\frac{c_{x2}+c_{x1}}{4} \\qquad c_{wy} = \\frac{c_{y1}+c_{y0}}{4}+\\frac{c_{y2}+c_{y1}}{4}$$\n",
    "\n",
    "$$c_{zx} = \\frac{c_{x2}+c_{x3}}{4}+\\frac{c_{x2}+c_{x1}}{4} \\qquad c_{zy} = \\frac{c_{y2}+c_{y3}}{4}+\\frac{c_{y2}+c_{y1}}{4}$$\n",
    "\n",
    "or\n",
    "\n",
    "$$c_{wx} = \\frac{c_{x1}+c_{x0}+c_{x2}+c_{x1}}{4} \\qquad c_{wy} = \\frac{c_{y1}+c_{y0}+c_{y2}+c_{y1}}{4}$$\n",
    "\n",
    "$$c_{zx} = \\frac{c_{x2}+c_{x3}+c_{x2}+c_{x1}}{4} \\qquad c_{zy} = \\frac{c_{y2}+c_{y3}+c_{y2}+c_{y1}}{4}$$\n",
    "\n",
    "or\n",
    "\n",
    "$$c_{wx} = \\frac{c_{x1}}{2}+\\frac{c_{x0}+c_{x2}}{4} \\qquad c_{wy} = \\frac{c_{y1}}{2}+\\frac{c_{y0}+c_{y2}}{4}$$\n",
    "\n",
    "$$c_{zx} = \\frac{c_{x2}}{2}+\\frac{c_{x1}+c_{x3}}{4} \\qquad c_{zy} = \\frac{c_{y2}}{2}+\\frac{c_{y1}+c_{y3}}{4}$$\n",
    "\n",
    "$$\\frac{dy}{dx}\\left(t = 0.5\\right) = \\frac{c_{zy}-c_{wy}}{c_{zx}-c_{wx}}$$"
   ]
  },
  {
   "cell_type": "markdown",
   "metadata": {},
   "source": [
    "$$\\frac{dy}{dx}\\left(t = 0.5\\right) = \\frac{\\frac{c_{y2}}{2}+\\frac{c_{y1}+c_{y3}}{4}-\\left(\\frac{c_{y1}}{2}+\\frac{c_{y0}+c_{y2}}{4}\\right)}{\\frac{c_{x2}}{2}+\\frac{c_{x1}+c_{x3}}{4}-\\left(\\frac{c_{x1}}{2}+\\frac{c_{x0}+c_{x2}}{4}\\right)}$$"
   ]
  },
  {
   "cell_type": "markdown",
   "metadata": {},
   "source": [
    "$$\\frac{dy}{dx}\\left(t = 0.5\\right) = \\frac{\\frac{c_{y2}}{2}+\\frac{c_{y1}+c_{y3}}{4}-\\frac{c_{y1}}{2}-\\frac{c_{y0}+c_{y2}}{4}}{\\frac{c_{x2}}{2}+\\frac{c_{x1}+c_{x3}}{4}-\\frac{c_{x1}}{2}-\\frac{c_{x0}+c_{x2}}{4}}$$"
   ]
  },
  {
   "cell_type": "markdown",
   "metadata": {},
   "source": [
    "$$\\frac{dy}{dx}\\left(t = 0.5\\right) = \\frac{2 c_{y2}+c_{y1}+c_{y3}-2 c_{y1}-c_{y0}-c_{y2}}{2 c_{x2}+c_{x1}+c_{x3}-2 c_{x1}-c_{x0}-c_{x2}}$$"
   ]
  },
  {
   "cell_type": "markdown",
   "metadata": {},
   "source": [
    "$$\\frac{dy}{dx}\\left(t = 0.5\\right) = \\frac{c_{y2}-c_{y1}+c_{y3}-c_{y0}}{c_{x2}-c_{x1}+c_{x3}-c_{x0}}$$"
   ]
  },
  {
   "cell_type": "markdown",
   "metadata": {},
   "source": [
    "$$\\frac{dy}{dx}\\left(t = 0.5\\right) = \\frac{c_{y3}+c_{y2}-c_{y1}-c_{y0}}{c_{x3}+c_{x2}-c_{x1}-c_{x0}}$$"
   ]
  },
  {
   "cell_type": "markdown",
   "metadata": {},
   "source": [
    "##Repeating From Above"
   ]
  },
  {
   "cell_type": "markdown",
   "metadata": {},
   "source": [
    "$$\\textbf{Control Coordinates}$$\n",
    "\n",
    "$$c_{x0} = D \\qquad c_{y0} = H$$\n",
    "\n",
    "$$c_{x1} = D + \\frac{C}{3} \\qquad c_{y1} = H +\\frac{G}{3}$$\n",
    "\n",
    "$$c_{x2} = D + \\frac{2 \\cdot C}{3} +\\frac{B}{3}\\qquad c_{y2} = H +\\frac{2 \\cdot G}{3}+ \\frac{F}{3}$$\n",
    "\n",
    "$$c_{x3} = D +C +B +A \\qquad c_{y3} = H+G+F+E$$\n",
    "\n",
    "$$ A = c_{x3} -3c_{x2}+3c_{x1}-c_{x0} \\qquad E = c_{y3} -3c_{y2}+3c_{y1}-c_{y0} $$\n",
    "\n",
    "$$ B = 3c_{x2} -6c_{x1} + 3c_{x0} \\qquad F = 3c_{y2} -6c_{y1}+3c_{y0}$$\n",
    "\n",
    "$$ C = 3c_{x1}-3c_{x0} \\qquad G = 3c_{y1}-3c_{y0} $$\n",
    "\n",
    "$$ D = c_{x0} \\qquad H = c_{y0}$$\n",
    "\n",
    "\n",
    "$$x_0 = D \\qquad y_0 = H$$\n",
    "\n",
    "$$x_1 = \\frac{A}{8} +\\frac{B}{4} +\\frac{C}{2}+D \\qquad y_1 = \\frac{E}{8} +\\frac{F}{4} +\\frac{G}{2}+H$$\n",
    "\n",
    "$$x_2 = A+B+C+D \\qquad y_2 = E+F+G+H$$\n",
    "\n",
    "$$\\frac{dy}{dx}\\left(t = 0\\right) = \\frac{c_{y3}-c_{y2}}{c_{x3}-c_{x2}} = k_0$$\n",
    "\n",
    "$$\\frac{dy}{dx}\\left(t = 0.5\\right) = \\frac{c_{y3}+c_{y2}-c_{y1}-c_{y0}}{c_{x3}+c_{x2}-c_{x1}-c_{x0}} = k_1$$\n",
    "\n",
    "$$\\frac{dy}{dx}\\left(t = 1\\right) = \\frac{c_{y1}-c_{y0}}{c_{x1}-c_{x0}} = k_2$$\n",
    "\n"
   ]
  },
  {
   "cell_type": "markdown",
   "metadata": {},
   "source": [
    "$$x_0 = c_{x0} \\qquad y_0 = c_{y0}$$\n",
    "\n",
    "$$x_1 = \\frac{c_{x3} -3c_{x2}+3c_{x1}-c_{x0}}{8} +\\frac{3c_{x2} -6c_{x1} + 3c_{x0}}{4} +\\frac{3c_{x1}-3c_{x0}}{2}+c_{x0} $$\n",
    "\n",
    "$$y_1 = \\frac{c_{y3} -3c_{y2}+3c_{y1}-c_{y0}}{8} +\\frac{3c_{y2} -6c_{y1}+3c_{y0}}{4} +\\frac{3c_{y1}-3c_{y0}}{2}+c_{y0}$$\n",
    "\n",
    "$$x_2 = c_{x3} -3c_{x2}+3c_{x1}-c_{x0}+3c_{x2} -6c_{x1} + 3c_{x0}+3c_{x1}-3c_{x0}+c_{x0} $$\n",
    "\n",
    "$$y_2 = c_{y3} -3c_{y2}+3c_{y1}-c_{y0}+3c_{y2} -6c_{y1}+3c_{y0}+3c_{y1}-3c_{y0}+c_{y0}$$\n"
   ]
  },
  {
   "cell_type": "markdown",
   "metadata": {},
   "source": [
    "### Simplfying $x_1$"
   ]
  },
  {
   "cell_type": "markdown",
   "metadata": {},
   "source": [
    "$$x_1 = \\frac{c_{x3}}{8} +\\frac{-3c_{x2}}{8}+\\frac{3c_{x1}}{8}+\\frac{-c_{x0}}{8} +\\frac{3c_{x2}}{4}+\\frac{-6c_{x1}}{4} + \\frac{3c_{x0}}{4} +\\frac{3c_{x1}}{2}+\\frac{-3c_{x0}}{2}+c_{x0} $$"
   ]
  },
  {
   "cell_type": "markdown",
   "metadata": {},
   "source": [
    "$$x_1 = \\frac{c_{x3}}{8} +\\frac{-3c_{x2}}{8} +\\frac{3c_{x2}}{4}  +\\frac{3c_{x1}}{8}+\\frac{-6c_{x1}}{4}+\\frac{3c_{x1}}{2}+ \\frac{-c_{x0}}{8}+\\frac{3c_{x0}}{4}+\\frac{-3c_{x0}}{2}+c_{x0} $$\n",
    "\n"
   ]
  },
  {
   "cell_type": "markdown",
   "metadata": {},
   "source": [
    "$$x_1 = \\frac{c_{x3}}{8} +\\frac{-3c_{x2}}{8} +\\frac{6c_{x2}}{8}  +\\frac{3c_{x1}}{8}+\\frac{-12c_{x1}}{8}+\\frac{12c_{x1}}{8}+ \\frac{-c_{x0}}{8}+\\frac{6c_{x0}}{8}+\\frac{-12c_{x0}}{8}+\\frac{8c_{x0}}{8} $$"
   ]
  },
  {
   "cell_type": "markdown",
   "metadata": {},
   "source": [
    "$$x_1 = \\frac{c_{x3}}{8} +\\frac{3c_{x2}}{8} +\\frac{3c_{x1}}{8}+ \\frac{c_{x0}}{8} $$"
   ]
  },
  {
   "cell_type": "markdown",
   "metadata": {},
   "source": [
    "#### By simularity"
   ]
  },
  {
   "cell_type": "markdown",
   "metadata": {},
   "source": [
    "$$y_1 = \\frac{c_{y3}}{8} +\\frac{3c_{y2}}{8} +\\frac{3c_{y1}}{8}+ \\frac{c_{y0}}{8} $$"
   ]
  },
  {
   "cell_type": "markdown",
   "metadata": {},
   "source": [
    "### Simplifying $x_2$"
   ]
  },
  {
   "cell_type": "markdown",
   "metadata": {},
   "source": [
    "$$x_2 = c_{x3} -3c_{x2}+3c_{x1}-c_{x0}+3c_{x2} -6c_{x1} + 3c_{x0}+3c_{x1}-3c_{x0}+c_{x0} $$"
   ]
  },
  {
   "cell_type": "markdown",
   "metadata": {},
   "source": [
    "$$x_2 = c_{x3} -3c_{x2}+3c_{x2}+3c_{x1}-6c_{x1}+3c_{x1}-c_{x0} + 3c_{x0}-3c_{x0}+c_{x0} $$\n",
    "\n",
    "$$x_2 = c_{x3}$$"
   ]
  },
  {
   "cell_type": "markdown",
   "metadata": {},
   "source": [
    "#### By simularity"
   ]
  },
  {
   "cell_type": "markdown",
   "metadata": {},
   "source": [
    "$$y_2 = c_{y3}$$"
   ]
  },
  {
   "cell_type": "markdown",
   "metadata": {},
   "source": [
    "##Summerizing"
   ]
  },
  {
   "cell_type": "markdown",
   "metadata": {},
   "source": [
    "$$k_0 = \\frac{c_{y1}-c_{y0}}{c_{x1}-c_{x0}} $$\n",
    "\n",
    "$$k_1 = \\frac{c_{y3}+c_{y2}-c_{y1}-c_{y0}}{c_{x3}+c_{x2}-c_{x1}-c_{x0}} $$\n",
    "\n",
    "$$k_2 = \\frac{c_{y3}-c_{y2}}{c_{x3}-c_{x2}} $$\n",
    "\n",
    "$$x_0 = c_{x0} \\qquad y_0 = c_{y0}$$\n",
    "\n",
    "$$x_1 = \\frac{c_{x3}}{8} +\\frac{3c_{x2}}{8} +\\frac{3c_{x1}}{8}+ \\frac{c_{x0}}{8} \\qquad y_1 = \\frac{c_{y3}}{8} +\\frac{3c_{y2}}{8} +\\frac{3c_{y1}}{8}+ \\frac{c_{y0}}{8} $$\n",
    "\n",
    "$$x_2 = c_{x3} \\qquad y_2 = c_{y3}$$"
   ]
  },
  {
   "cell_type": "markdown",
   "metadata": {},
   "source": [
    "## Manipulating slopes"
   ]
  },
  {
   "cell_type": "markdown",
   "metadata": {},
   "source": [
    "$$k_2 \\left(c_{x3}-c_{x2} \\right)= c_{y3}-c_{y2} $$\n",
    "\n",
    "$$k_2 c_{x3}- k_2 c_{x2} = c_{y3}-c_{y2} $$\n",
    "\n",
    "$$c_{y3} = - k_2 c_{x2}+ k_2 c_{x3} + c_{y2} = y_2$$\n",
    "\n",
    "and \n",
    "\n",
    "$$k_0\\left(c_{x1}-c_{x0}\\right) = c_{y1}-c_{y0} $$\n",
    "\n",
    "$$k_0 c_{x1}- k_0 c_{x0} = c_{y1}-c_{y0} $$\n",
    "\n",
    "$$ c_{y0} =  k_0 c_{x0} -k_0 c_{x1}+c_{y1}= y_0$$"
   ]
  },
  {
   "cell_type": "markdown",
   "metadata": {},
   "source": [
    "$$[C] = \\begin{bmatrix}c_{x0}\\\\c_{x1}\\\\c_{x2}\\\\c_{x3}\\\\ c_{y0}\\\\c_{y1}\\\\c_{y2}\\\\c_{y3}\\end{bmatrix} \\qquad [X] = \\begin{bmatrix}x_0 \\\\ x_1 \\\\ x_2 \\\\ y_0 \\\\ y_1 \\\\ y_2 \\\\ y_0 \\\\ y_2 \\end{bmatrix} \\qquad [E]=\\begin{bmatrix}1&0&0&0&0&0&0&0\\\\1/8&3/8&3/8&1/8&0&0&0&0\\\\0&0&0&1&0&0&0&0\\\\0&0&0&0&1&0&0&0\\\\0&0&0&0&1/8&3/8&3/8&1/8\\\\0&0&0&0&0&0&0&1\\\\k_0&-k_0&0&0&0&1&0&0\\\\0&0&-k_2&k_2&0&0&1&0\\end{bmatrix}$$"
   ]
  },
  {
   "cell_type": "markdown",
   "metadata": {},
   "source": [
    "$$[X]=[E][C]$$"
   ]
  },
  {
   "cell_type": "code",
   "execution_count": 17,
   "metadata": {
    "collapsed": true
   },
   "outputs": [],
   "source": [
    "from numpy import matrix, array\n",
    "from numpy.linalg import inv\n",
    "from numpy import transpose as T\n",
    "from collections import namedtuple\n",
    "\n",
    "def control_points(X,Y,K):\n",
    "    k0, k1, k2 = K\n",
    "    x0,x1,x2 = X\n",
    "    y0,y1,y2 = Y\n",
    "    X_M = T(matrix(array([x0,x1,x2,y0,y1,y2,y0,y2])))\n",
    "    E = matrix(((1,0,0,0,0,0,0,0),\n",
    "                (1/8,3/8,3/8,1/8,0,0,0,0),\n",
    "                (0,0,0,1,0,0,0,0),\n",
    "                (0,0,0,0,1,0,0,0),\n",
    "                (0,0,0,0,1/8,3/8,3/8,1/8),\n",
    "                (0,0,0,0,0,0,0,1),\n",
    "                (k0,-k0,0,0,0,1,0,0),\n",
    "                (0,0,-k2,k2,0,0,1,0)))\n",
    "    C = inv(E)*X_M\n",
    "    cx0,cx1,cx2,cx3,cy0,cy1,cy2,cy3 = C\n",
    "    Coords = namedtuple('Coords','C0 C1 C2 C3')\n",
    "    coords = Coords((close_(cx0),close_(cy0)),\n",
    "                    (close_(cx1),close_(cy1)),\n",
    "                    (close_(cx2),close_(cy2)),\n",
    "                    (close_(cx3),close_(cy3)))\n",
    "    return coords\n",
    "\n",
    "def close_(num):\n",
    "    num= round(float(num)*10**11)/10**11\n",
    "    return num\n",
    "    "
   ]
  },
  {
   "cell_type": "code",
   "execution_count": 18,
   "metadata": {
    "collapsed": false
   },
   "outputs": [
    {
     "data": {
      "text/plain": [
       "Coords(C0=(100.0, 500.0), C1=(250.0, 250.0), C2=(450.0, 200.0), C3=(500.0, 500.0))"
      ]
     },
     "execution_count": 18,
     "metadata": {},
     "output_type": "execute_result"
    }
   ],
   "source": [
    "X = [100,337.5,500]\n",
    "Y = [500,293.75,500]\n",
    "K = [-1.6666666666666667,-0.08333333333333333, 6.0]\n",
    "control_points(X,Y,K)"
   ]
  },
  {
   "cell_type": "markdown",
   "metadata": {},
   "source": [
    "#Old approach below (wrong)"
   ]
  },
  {
   "cell_type": "markdown",
   "metadata": {},
   "source": [
    "## Substituting  for $c_{x}$ and $c_{y}$"
   ]
  },
  {
   "cell_type": "markdown",
   "metadata": {},
   "source": [
    "$$k_0 = \\frac{H+G+F+E-\\left(H +\\frac{2 \\cdot G}{3}+ \\frac{F}{3}\\right)}{D +C +B +A-\\left(D + \\frac{2 \\cdot C}{3} +\\frac{B}{3}\\right)}$$"
   ]
  },
  {
   "cell_type": "markdown",
   "metadata": {},
   "source": [
    "$$k_0 = \\frac{H+G+F+E-H -\\frac{2 \\cdot G}{3}- \\frac{F}{3}}{D +C +B +A-D - \\frac{2 \\cdot C}{3} -\\frac{B}{3}}$$\n",
    "\n",
    "$$k_0 = \\frac{G+F+E -\\frac{2 \\cdot G}{3}- \\frac{F}{3}}{C +B +A - \\frac{2 \\cdot C}{3} -\\frac{B}{3}}$$\n",
    "\n",
    "$$k_0 = \\frac{E +\\frac{G}{3}+ \\frac{2 \\cdot F}{3}}{A +\\frac{C}{3} +\\frac{2 \\cdot B}{3}}$$"
   ]
  },
  {
   "cell_type": "markdown",
   "metadata": {},
   "source": [
    "$$k_0 = \\frac{3 E +G+ 2  F}{3 A +C +2  B}$$"
   ]
  },
  {
   "cell_type": "markdown",
   "metadata": {},
   "source": [
    "$$c_{x0} = D \\qquad c_{y0} = H$$\n",
    "\n",
    "$$c_{x1} = D + \\frac{C}{3} \\qquad c_{y1} = H +\\frac{G}{3}$$\n",
    "\n",
    "$$ k_1= \\frac{c_{y1}-c_{y0}}{c_{x1}-c_{x0}}$$\n",
    "\n",
    "$$ k_1= \\frac{ H +\\frac{G}{3}-H}{D + \\frac{C}{3}-D}$$\n",
    "\n",
    "$$ k_1= \\frac{\\frac{G}{3}}{\\frac{C}{3}}$$\n",
    "\n",
    "$$ k_1= \\frac{G}{C}$$\n",
    "\n"
   ]
  },
  {
   "cell_type": "markdown",
   "metadata": {},
   "source": [
    "$$c_{x0} = D \\qquad c_{y0} = H$$\n",
    "\n",
    "$$c_{x1} = D + \\frac{C}{3} \\qquad c_{y1} = H +\\frac{G}{3}$$\n",
    "\n",
    "$$c_{x2} = D + \\frac{2 \\cdot C}{3} +\\frac{B}{3}\\qquad c_{y2} = H +\\frac{2 \\cdot G}{3}+ \\frac{F}{3}$$\n",
    "\n",
    "$$c_{x3} = D +C +B +A \\qquad c_{y3} = H+G+F+E$$\n",
    "\n",
    "$$k_2 = \\frac{c_{y3}+c_{y2}-c_{y1}-c_{y0}}{c_{x3}+c_{x2}-c_{x1}-c_{x0}} $$\n",
    "\n",
    "$$k_2 = \\frac{H+G+F+E+ H +\\frac{2 \\cdot G}{3}+ \\frac{F}{3}-\\left(H +\\frac{G}{3}\\right)-H}{D +C +B +A +D + \\frac{2 \\cdot C}{3} +\\frac{B}{3}-\\left(D + \\frac{C}{3}\\right)-D} $$"
   ]
  },
  {
   "cell_type": "markdown",
   "metadata": {},
   "source": [
    "$$k_2 = \\frac{G+F+E +\\frac{2 \\cdot G}{3}+ \\frac{F}{3}-\\left(\\frac{G}{3}\\right)}{C +B +A + \\frac{2 \\cdot C}{3} +\\frac{B}{3}-\\left( \\frac{C}{3}\\right)} $$"
   ]
  },
  {
   "cell_type": "markdown",
   "metadata": {},
   "source": [
    "$$k_2 = \\frac{G+F+E +\\frac{ G}{3}+ \\frac{F}{3}}{C +B +A + \\frac{C}{3} +\\frac{B}{3}} $$"
   ]
  },
  {
   "cell_type": "markdown",
   "metadata": {},
   "source": [
    "$$k_2 = \\frac{E +\\frac{4 G}{3}+ \\frac{4F}{3}}{A + \\frac{4C}{3} +\\frac{4B}{3}} $$"
   ]
  },
  {
   "cell_type": "markdown",
   "metadata": {},
   "source": [
    "$$k_2 = \\frac{3E +4 G+ 4F}{3A + 4C +4B} $$"
   ]
  },
  {
   "cell_type": "markdown",
   "metadata": {},
   "source": [
    "# Summary"
   ]
  },
  {
   "cell_type": "markdown",
   "metadata": {},
   "source": [
    "$$x_0 = D \\qquad y_0 = H$$\n",
    "\n",
    "$$x_1 = \\frac{A}{8} +\\frac{B}{4} +\\frac{C}{2}+D \\qquad y_1 = \\frac{E}{8} +\\frac{F}{4} +\\frac{G}{2}+H$$\n",
    "\n",
    "$$x_2 = A+B+C+D \\qquad y_2 = E+F+G+H$$\n",
    "\n",
    "$$k_0 = \\frac{3 E +G+ 2  F}{3 A +C +2  B}$$\n",
    "\n",
    "$$ k_1= \\frac{G}{C}$$\n",
    "\n",
    "$$k_2 = \\frac{3E +4 G+ 4F}{3A + 4C +4B} $$"
   ]
  },
  {
   "cell_type": "markdown",
   "metadata": {},
   "source": [
    "$$x_0 = D \\qquad y_0 = H$$\n",
    "\n",
    "$$x_1 = \\frac{A}{8} +\\frac{B}{4} +\\frac{C}{2}+D \\qquad y_1 = \\frac{E}{8} +\\frac{F}{4} +\\frac{k_1 C}{2}+H$$\n",
    "\n",
    "$$x_2 = A+B+C+D \\qquad y_2 = E+F+k_1 C+H$$\n",
    "\n",
    "$$k_0 = \\frac{3 E +k_1 C+ 2  F}{3 A +C +2  B}$$\n",
    "\n",
    "\n",
    "$$k_2 = \\frac{3E +4 k_1 C+ 4F}{3A + 4C +4B} $$"
   ]
  },
  {
   "cell_type": "markdown",
   "metadata": {},
   "source": [
    "\n",
    "$$ 3 k_0 A +k_0 C +2 k_0 B= 3 E +k_1 C+ 2  F$$\n",
    "\n",
    "$$ 3 k_0 A +(k_0 -k_1) C +2 k_0 B= 3 E + 2  F$$\n",
    "\n",
    "$$ F = \\frac{ 3 k_0 A +(k_0 -k_1) C +2 k_0 B - 3 E}{2} $$\n"
   ]
  },
  {
   "cell_type": "markdown",
   "metadata": {},
   "source": [
    "$$x_0 = D \\qquad y_0 = H$$\n",
    "\n",
    "$$x_1 = \\frac{A}{8} +\\frac{B}{4} +\\frac{C}{2}+D \\qquad y_1 = \\frac{E}{8} +\\frac{ 3 k_0 A +(k_0 -k_1) C +2 k_0 B - 3 E}{8} +\\frac{k_1 C}{2}+H$$\n",
    "\n",
    "$$x_2 = A+B+C+D \\qquad y_2 = E+\\frac{ 3 k_0 A +(k_0 -k_1) C +2 k_0 B - 3 E}{2}+k_1 C+H$$\n",
    "\n",
    "$$k_2 = \\frac{3E +4 k_1 C+ 2\\left( 3 k_0 A +(k_0 -k_1) C +2 k_0 B - 3 E \\right)}{3A + 4C +4B} $$"
   ]
  },
  {
   "cell_type": "markdown",
   "metadata": {},
   "source": [
    "$$3 k_2 A + 4 k_2 C +4 k_2 B = 3E +4 k_1 C+ 2\\left( 3 k_0 A +(k_0 -k_1) C +2 k_0 B - 3 E \\right) $$\n",
    "\n",
    "$$3 k_2 A + 4 k_2 C +4 k_2 B = 3E +4 k_1 C+  6 k_0 A +2 (k_0 -k_1) C +4 k_0 B - 6 E  $$"
   ]
  },
  {
   "cell_type": "markdown",
   "metadata": {},
   "source": [
    "$$3 k_2 A + 4 k_2 C +4 k_2 B = 4 k_1 C+  6 k_0 A +2 (k_0 -k_1) C +4 k_0 B - 3 E  $$\n",
    "\n",
    "$$E = \\frac{3 k_2 A + 4 k_2 C +4 k_2 B - 4 k_1 C-  6 k_0 A -2 (k_0 -k_1) C -4 k_0 B}{3} $$"
   ]
  },
  {
   "cell_type": "markdown",
   "metadata": {},
   "source": [
    "$$E = \\frac{(3 k_2 - 6 k_0)A + (4 k_2 - 4 k_1 -2 (k_0 -k_1))C +(4 k_2 -4 k_0)B}{3} $$"
   ]
  },
  {
   "cell_type": "markdown",
   "metadata": {},
   "source": [
    "$$E = \\frac{(3 k_2 - 6 k_0)A + (4 k_2 - 4 k_1 -2k_0 +2k_1)C +(4 k_2 -4 k_0)B}{3} $$\n",
    "\n",
    "$$E = \\frac{3(k_2 - 2k_0)A + 2(2 k_2 -k_1 -k_0 )C +4(k_2-k_0)B}{3} $$"
   ]
  },
  {
   "cell_type": "markdown",
   "metadata": {},
   "source": [
    "$$E = (k_2 - 2k_0)A + \\frac{2}{3}(2 k_2 -k_1 -k_0 )C +\\frac{4}{3}(k_2-k_0)B $$"
   ]
  },
  {
   "cell_type": "markdown",
   "metadata": {},
   "source": [
    "$$E = \\left((k_2 - 2k_0)A + \\frac{2}{3}(2 k_2 -k_1 -k_0 )C +\\frac{4}{3}(k_2-k_0)B \\right)$$\n",
    "\n",
    "$$x_0 = D \\qquad y_0 = H$$\n",
    "\n",
    "$$x_1 = \\frac{A}{8} +\\frac{B}{4} +\\frac{C}{2}+D \\qquad y_1 = \\frac{E}{8} +\\frac{ 3 k_0 A +(k_0 -k_1) C +2 k_0 B - 3 E}{8} +\\frac{k_1 C}{2}+H$$\n",
    "\n",
    "$$x_2 = A+B+C+D \\qquad y_2 = E+\\frac{ 3 k_0 A +(k_0 -k_1) C +2 k_0 B - 3 E}{2}+k_1 C+H$$\n",
    "\n",
    "or\n",
    "\n",
    "$$x_0 = D \\qquad y_0 = H$$\n",
    "\n",
    "$$x_1 = \\frac{A}{8} +\\frac{B}{4} +\\frac{C}{2}+D \\qquad y_1 = -\\frac{E}{4} +\\frac{ 3 k_0 A}{8} +\\frac{(k_0 -k_1) C}{8} +\\frac{2 k_0 B}{8} +\\frac{k_1 C}{2}+H$$\n",
    "\n",
    "$$x_2 = A+B+C+D \\qquad y_2 = \\frac{ 3 k_0 A}{2} +\\frac{(k_0 -k_1) C}{2} +\\frac{2 k_0 B}{2} - \\frac{E}{2}+k_1 C+H$$"
   ]
  },
  {
   "cell_type": "markdown",
   "metadata": {},
   "source": [
    "or\n",
    "\n",
    "$$x_0 = D \\qquad y_0 = H$$\n",
    "\n",
    "$$x_1 = \\frac{A}{8} +\\frac{B}{4} +\\frac{C}{2}+D \\qquad y_1 = -\\frac{E}{4} +\\frac{ 3 k_0 A}{8} +\\frac{(k_0 -3 k_1) C}{8} +\\frac{2 k_0 B}{8} +H$$\n",
    "\n",
    "$$x_2 = A+B+C+D \\qquad y_2 = \\frac{ 3 k_0 A}{2} +\\frac{(k_0 +k_1) C}{2} +\\frac{2 k_0 B}{2} - \\frac{E}{2}+H$$"
   ]
  },
  {
   "cell_type": "markdown",
   "metadata": {},
   "source": [
    "\n",
    "$$x_0 = D \\qquad y_0 = H$$\n",
    "\n",
    "$$x_1 = \\frac{A}{8} +\\frac{B}{4} +\\frac{C}{2}+D \\qquad y_1 = -\\frac{\\left((k_2 - 2k_0)A + \\frac{2}{3}(2 k_2 -k_1 -k_0 )C +\\frac{4}{3}(k_2-k_0)B \\right)}{4} +\\frac{ 3 k_0 A}{8} +\\frac{(k_0 -3 k_1) C}{8} +\\frac{2 k_0 B}{8} +H$$\n",
    "\n",
    "$$x_2 = A+B+C+D \\qquad y_2 = \\frac{ 3 k_0 A}{2} +\\frac{(k_0 +k_1) C}{2} +\\frac{2 k_0 B}{2} - \\frac{\\left((k_2 - 2k_0)A + \\frac{2}{3}(2 k_2 -k_1 -k_0 )C +\\frac{4}{3}(k_2-k_0)B \\right)}{2}+H$$"
   ]
  },
  {
   "cell_type": "markdown",
   "metadata": {},
   "source": [
    "$$y_1 = -\\frac{(k_2 - 2k_0)A}{4} + \\frac{(2 k_2 -k_1 -k_0 )C}{6} +\\frac{(k_2-k_0)B}{3} +\\frac{ 3 k_0 A}{8} +\\frac{(k_0 -3 k_1) C}{8} +\\frac{2 k_0 B}{8} +H$$\n",
    "\n",
    "$$y_1 = -\\frac{(k_2 - 2k_0)A}{4} +\\frac{ 3 k_0 A}{8} +\\frac{(k_2-k_0)B}{3} +\\frac{2 k_0 B}{8} +\\frac{(k_0 -3 k_1) C}{8} + \\frac{(2 k_2 -k_1 -k_0 )C}{6} +H$$\n",
    "\n",
    "$$y_1 = \\frac{(-2 k_2 + 4k_0)A}{8} +\\frac{ 3 k_0 A}{8} +\\frac{(8 k_2-8 k_0)B}{24} +\\frac{6 k_0 B}{24} +\\frac{(3k_0 -9 k_1) C}{24} + \\frac{(8 k_2 -4k_1 -4k_0 )C}{24} +H$$"
   ]
  },
  {
   "cell_type": "markdown",
   "metadata": {},
   "source": [
    "$$y_1 = \\frac{(-2 k_2 + 7 k_0)A}{8}+\\frac{(8k_2-2k_0)B}{24} +\\frac{(-k_0 -13 k_1+ 8 k_2) C}{24}+H$$"
   ]
  },
  {
   "cell_type": "markdown",
   "metadata": {},
   "source": [
    "$$y_2 = \\frac{ 3 k_0 A}{2} +\\frac{(k_0 +k_1) C}{2} +\\frac{2 k_0 B}{2} - \\frac{\\left((k_2 - 2k_0)A + \\frac{2}{3}(2 k_2 -k_1 -k_0 )C +\\frac{4}{3}(k_2-k_0)B \\right)}{2}+H$$\n",
    "\n",
    "$$y_2 = \\frac{ 3 k_0 A}{2} +\\frac{(k_0 +k_1) C}{2} +\\frac{2 k_0 B}{2} - \\frac{(k_2 - 2k_0)A}{2} + \\frac{(2 k_2 -k_1 -k_0 )C}{3} +\\frac{(2k_2-2k_0)B}{3}+H$$"
   ]
  },
  {
   "cell_type": "markdown",
   "metadata": {},
   "source": [
    "$$y_2 = \\frac{ 3 k_0 A}{2}- \\frac{(k_2 - 2k_0)A}{2}  +\\frac{2 k_0 B}{2} +\\frac{(2k_2-2k_0)B}{3} +\\frac{(k_0 +k_1) C}{2}+\\frac{(2 k_2 -k_1 -k_0 )C}{3} +H$$\n",
    "\n",
    "$$y_2 = \\frac{ 3 k_0 A}{2}- \\frac{(k_2 - 2k_0)A}{2}  +\\frac{3 k_0 B}{3} +\\frac{(2k_2-2k_0)B}{3} +\\frac{(3k_0 +3k_1) C}{6}+\\frac{(4 k_2 -2k_1 -2k_0 )C}{6} +H$$"
   ]
  },
  {
   "cell_type": "markdown",
   "metadata": {},
   "source": [
    "$$y_2 = \\frac{ 3 k_0 A}{2}+ \\frac{(-k_2 +2k_0)A}{2}  +\\frac{3 k_0 B}{3} +\\frac{(2k_2-2k_0)B}{3} +\\frac{(3k_0 +3k_1) C}{6}+\\frac{(4 k_2 -2k_1 -2k_0 )C}{6} +H$$\n",
    "\n",
    "$$y_2 =  \\frac{(-k_2 +5k_0)A}{2}   +\\frac{(2k_2+k_0)B}{3} +\\frac{(4 k_2 +k_1 +k_0 )C}{6} +H$$"
   ]
  },
  {
   "cell_type": "markdown",
   "metadata": {},
   "source": [
    "$$x_0 = D \\qquad y_0 = H$$\n",
    "\n",
    "$$x_1 = \\frac{A}{8} +\\frac{B}{4} +\\frac{C}{2}+D \\qquad y_1 = \\frac{(-2 k_2 + 7 k_0)A}{8}+\\frac{(8k_2-2k_0)B}{24} +\\frac{(-k_0 -13 k_1+ 8 k_2) C}{24}+H$$\n",
    "\n",
    "$$x_2 = A+B+C+D \\qquad y_2 = \\frac{(-k_2 +5k_0)A}{2} +\\frac{(2k_2+k_0)B}{3} +\\frac{(4 k_2 +k_1 +k_0)C}{6} +H$$"
   ]
  },
  {
   "cell_type": "markdown",
   "metadata": {},
   "source": [
    "$$x_0 = D \\qquad y_0 = H$$\n",
    "\n",
    "$$x_1 = \\frac{1}{8}A +\\frac{1}{4}B +\\frac{1}{2}C+x_0 \\qquad y_1 = \\frac{(-2 k_2 + 7 k_0)}{8}A+\\frac{(8k_2-2k_0)}{24}B +\\frac{(-k_0 -13 k_1+ 8 k_2)}{24}C+y_0$$\n",
    "\n",
    "$$x_2 = A+B+C+x_0 \\qquad y_2 = \\frac{(-k_2 +5k_0)}{2}A +\\frac{(2k_2+k_0)}{3}A +\\frac{(4 k_2 +k_1 +k_0)}{6}C +y_0$$"
   ]
  },
  {
   "cell_type": "code",
   "execution_count": null,
   "metadata": {
    "collapsed": true
   },
   "outputs": [],
   "source": []
  }
 ],
 "metadata": {
  "kernelspec": {
   "display_name": "Python 3",
   "language": "python",
   "name": "python3"
  },
  "language_info": {
   "codemirror_mode": {
    "name": "ipython",
    "version": 3
   },
   "file_extension": ".py",
   "mimetype": "text/x-python",
   "name": "python",
   "nbconvert_exporter": "python",
   "pygments_lexer": "ipython3",
   "version": "3.4.0"
  }
 },
 "nbformat": 4,
 "nbformat_minor": 0
}
