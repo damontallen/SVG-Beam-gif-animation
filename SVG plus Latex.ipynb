{
 "metadata": {
  "name": "",
  "signature": "sha256:9e23256246748494ebdd79f8ce4082593a8b51fb05bb3fa9bfea6442e6bc1633"
 },
 "nbformat": 3,
 "nbformat_minor": 0,
 "worksheets": [
  {
   "cells": [
    {
     "cell_type": "code",
     "collapsed": false,
     "input": [
      "from IPython.display import SVG"
     ],
     "language": "python",
     "metadata": {},
     "outputs": [],
     "prompt_number": 1
    },
    {
     "cell_type": "code",
     "collapsed": false,
     "input": [
      "bit=\"\"\"<svg \n",
      "  version=\"1.1\" \n",
      "  width=\"400px\" \n",
      "  height=\"80\"  \n",
      "  xmlns=\"http://www.w3.org/2000/svg\" \n",
      "  xmlns:xlink=\"http://www.w3.org/1999/xlink\"  \n",
      "  xmlns:ev=\"http://www.w3.org/2001/xml-events\"\n",
      " >\n",
      " <g transform=\"translate(75,60)\">\n",
      "  <g fill=\"deepskyblue\" stroke=\"black\" stroke-width=\"1px\">\n",
      "   <desc>Marble</desc>\n",
      "   <a xlink:href=\"../statistics/s81/marblerace.html\" xlink:title=\"Marble race\">\n",
      "   <circle cx=\"0\" cy=\"0\" r=\"15\" /> \n",
      "   </a>\n",
      "  </g>\n",
      " </g>\n",
      "\n",
      " <g transform=\"translate(100,50)\">\n",
      " <switch>\n",
      " <foreignObject width=\"100\" height=\"40\">\n",
      "  <math xmlns=\"http://www.w3.org/1998/Math/MathML\">\n",
      "  <mtext>KE</mtext>\n",
      "  <mo>=</mo>\n",
      "  <mfrac>\n",
      "   <mrow><mn>1</mn></mrow>\n",
      "   <mrow><mn>2</mn></mrow>\n",
      "  </mfrac>\n",
      "  <mi>m</mi><msup><mi>v</mi><mn>2</mn></msup>\n",
      " </math>\n",
      " </foreignObject>\n",
      " </switch>\n",
      " </g>\n",
      " \n",
      " <g transform=\"translate(200,40)\">\n",
      "  <g stroke=\"black\" stroke-width=\"1\" fill=\"lavender\">\n",
      "   <desc>Linear arrow for kinetic energy</desc>\n",
      "   <a xlink:href=\"../physci/ps81/q03.xhtml\" xlink:title=\"Kinetic energy on a quiz\">\n",
      "   <polygon points=\"0,10 30,10 30,0 50,20 30,40 30,30 0,30\" />\n",
      "   </a>\n",
      "  </g>\n",
      " </g> \n",
      " \n",
      " <g transform=\"translate(0,0)\">\n",
      " <switch>\n",
      " <foreignObject width=\"100\" height=\"50\">\n",
      " <math xmlns=\"http://www.w3.org/1998/Math/MathML\">\n",
      "  <mtext>RE</mtext>\n",
      "  <mo>=</mo>\n",
      "  <mrow>\n",
      "  <mfrac>\n",
      "   <mrow><mn>1</mn></mrow>\n",
      "   <mrow><mn>2</mn></mrow>\n",
      "  </mfrac>\n",
      "  <mi>I</mi><msup><mi>&#x03C9;</mi><mn>2</mn></msup>\n",
      "  </mrow>\n",
      " </math>\n",
      " </foreignObject>\n",
      " </switch>\n",
      " </g>\n",
      " \n",
      " <!-- Again, SVG after MathMl label -->\n",
      " <g transform=\"translate(65,20) scale(2.0)\">\n",
      "  <g stroke=\"black\" stroke-width=\"1\" fill=\"lime\">\n",
      "   <desc>Curved arrow for rotational energy</desc>\n",
      "   <a xlink:href=\"../physci/ps73/lab04_2008.html#rotational_notes\" xlink:title=\"Rotational end notes\">\n",
      "   <path \n",
      "   d=\"M 0,0 A 25,25 0 0,1 17.68,7.32 l 1.41,-1.41 v 6.36 h -6.36 l 1.41,-1.41 A 20,20 0 0,0 0,5 L 0,0 z\" \n",
      "   />\n",
      "   </a>\n",
      "  </g>\n",
      " </g>\n",
      "\n",
      "</svg>\"\"\""
     ],
     "language": "python",
     "metadata": {},
     "outputs": [],
     "prompt_number": 2
    },
    {
     "cell_type": "code",
     "collapsed": false,
     "input": [
      "SVG(bit)"
     ],
     "language": "python",
     "metadata": {},
     "outputs": [
      {
       "metadata": {},
       "output_type": "pyout",
       "prompt_number": 3,
       "svg": [
        "<svg height=\"80\" version=\"1.1\" width=\"400px\" xmlns=\"http://www.w3.org/2000/svg\" xmlns:ev=\"http://www.w3.org/2001/xml-events\" xmlns:xlink=\"http://www.w3.org/1999/xlink\">\n",
        " <g transform=\"translate(75,60)\">\n",
        "  <g fill=\"deepskyblue\" stroke=\"black\" stroke-width=\"1px\">\n",
        "   <desc>Marble</desc>\n",
        "   <a xlink:href=\"../statistics/s81/marblerace.html\" xlink:title=\"Marble race\">\n",
        "   <circle cx=\"0\" cy=\"0\" r=\"15\"/> \n",
        "   </a>\n",
        "  </g>\n",
        " </g>\n",
        "\n",
        " <g transform=\"translate(100,50)\">\n",
        " <switch>\n",
        " <foreignObject height=\"40\" width=\"100\">\n",
        "  <math xmlns=\"http://www.w3.org/1998/Math/MathML\">\n",
        "  <mtext>KE</mtext>\n",
        "  <mo>=</mo>\n",
        "  <mfrac>\n",
        "   <mrow><mn>1</mn></mrow>\n",
        "   <mrow><mn>2</mn></mrow>\n",
        "  </mfrac>\n",
        "  <mi>m</mi><msup><mi>v</mi><mn>2</mn></msup>\n",
        " </math>\n",
        " </foreignObject>\n",
        " </switch>\n",
        " </g>\n",
        " \n",
        " <g transform=\"translate(200,40)\">\n",
        "  <g fill=\"lavender\" stroke=\"black\" stroke-width=\"1\">\n",
        "   <desc>Linear arrow for kinetic energy</desc>\n",
        "   <a xlink:href=\"../physci/ps81/q03.xhtml\" xlink:title=\"Kinetic energy on a quiz\">\n",
        "   <polygon points=\"0,10 30,10 30,0 50,20 30,40 30,30 0,30\"/>\n",
        "   </a>\n",
        "  </g>\n",
        " </g> \n",
        " \n",
        " <g transform=\"translate(0,0)\">\n",
        " <switch>\n",
        " <foreignObject height=\"50\" width=\"100\">\n",
        " <math xmlns=\"http://www.w3.org/1998/Math/MathML\">\n",
        "  <mtext>RE</mtext>\n",
        "  <mo>=</mo>\n",
        "  <mrow>\n",
        "  <mfrac>\n",
        "   <mrow><mn>1</mn></mrow>\n",
        "   <mrow><mn>2</mn></mrow>\n",
        "  </mfrac>\n",
        "  <mi>I</mi><msup><mi>\u03c9</mi><mn>2</mn></msup>\n",
        "  </mrow>\n",
        " </math>\n",
        " </foreignObject>\n",
        " </switch>\n",
        " </g>\n",
        " \n",
        " <!-- Again, SVG after MathMl label -->\n",
        " <g transform=\"translate(65,20) scale(2.0)\">\n",
        "  <g fill=\"lime\" stroke=\"black\" stroke-width=\"1\">\n",
        "   <desc>Curved arrow for rotational energy</desc>\n",
        "   <a xlink:href=\"../physci/ps73/lab04_2008.html#rotational_notes\" xlink:title=\"Rotational end notes\">\n",
        "   <path d=\"M 0,0 A 25,25 0 0,1 17.68,7.32 l 1.41,-1.41 v 6.36 h -6.36 l 1.41,-1.41 A 20,20 0 0,0 0,5 L 0,0 z\"/>\n",
        "   </a>\n",
        "  </g>\n",
        " </g>\n",
        "\n",
        "</svg>"
       ],
       "text": [
        "<IPython.core.display.SVG at 0x7f71ac0c3d30>"
       ]
      }
     ],
     "prompt_number": 3
    },
    {
     "cell_type": "code",
     "collapsed": false,
     "input": [],
     "language": "python",
     "metadata": {},
     "outputs": [],
     "prompt_number": 3
    },
    {
     "cell_type": "markdown",
     "metadata": {},
     "source": [
      "[SVG source (from page inspection](http://www.comfsm.fm/%7Edleeling/tech/mathml-in-svg.xhtml)\n",
      "\n",
      "[Found in reddit](http://www.reddit.com/r/learnpython/comments/1btm0f/how_can_i_dynamically_reproduce_this_image_in/)"
     ]
    },
    {
     "cell_type": "markdown",
     "metadata": {},
     "source": [
      "<img src=\"http://i.imgur.com/LB7Tl7H.jpg\" />"
     ]
    },
    {
     "cell_type": "code",
     "collapsed": false,
     "input": [
      "from collections import OrderedDict as Dict"
     ],
     "language": "python",
     "metadata": {},
     "outputs": [],
     "prompt_number": 4
    },
    {
     "cell_type": "code",
     "collapsed": false,
     "input": [
      "class point(object):\n",
      "    def __init__(self, x = 0, y = 0):\n",
      "        self.x = x\n",
      "        self.y = y\n",
      "    \n",
      "    def __repr__(self):\n",
      "        txt = 'class: point(x = %d, y = %d)'%(self.x, self.y)\n",
      "        return txt\n",
      "\n",
      "P0 = point(0,0)\n",
      "P1 = point(100,100)\n",
      "\n",
      "\n",
      "colors = Dict()\n",
      "with open('SVG_colors.txt','r') as f:\n",
      "    for i, line in enumerate(f):\n",
      "        if i==0:\n",
      "            continue\n",
      "        line = line.strip()\n",
      "        parts = line.split('\\t')\n",
      "        pieces = []\n",
      "        for part in parts:\n",
      "            p = part.strip()\n",
      "            if len(p)==0:\n",
      "                continue\n",
      "            pieces.append(part)\n",
      "        colors[pieces[0].strip()]=pieces\n",
      "\n",
      "class line(object):\n",
      "    def __init__(self, p0=P0, p1=P1):\n",
      "        \"\"\"p0, and p1 must be passed in as point class memebers or named tuples with x and y\"\"\"\n",
      "        self.p0 = p0\n",
      "        self.p1 = p1\n",
      "        self.color = 'black'\n",
      "        self.width = 2\n",
      "\n",
      "    @property\n",
      "    def svg(self):\n",
      "        txt = '<svg>'\n",
      "        txt += '<line x1=\"%d\" y1=\"%d\" '%(self.p0.x, self.p0.y)\n",
      "        txt += 'x2=\"%d\" y2=\"%d\" '%(self.p1.x, self.p1.y)\n",
      "        txt += 'style=\"stroke:%s;'%self.color\n",
      "        txt += 'stroke-width:%d\" />'%self.width\n",
      "        txt += '</svg>'\n",
      "        return txt\n",
      "    \n",
      "    def _repr_svg_(self):\n",
      "        return self.svg\n",
      "    \n",
      "    @property\n",
      "    def color(self):\n",
      "        return self._color\n",
      "    @color.setter\n",
      "    def color(self, value):\n",
      "        value = value.lower()\n",
      "        check = False\n",
      "        if value in colors.keys():\n",
      "            #name\n",
      "            self._color = '\"%s\"'%value\n",
      "            check = True\n",
      "        elif ',' in value:\n",
      "            #rgb\n",
      "            try:\n",
      "                r,g,b = value.split(',')\n",
      "                self._color = 'rgb(%d,%d,%d)'%(r,g,b)\n",
      "                check = True\n",
      "            except:\n",
      "                pass\n",
      "        elif 6<=len(value)<=7:\n",
      "            #hex\n",
      "            value = value.strip('#')\n",
      "            try:\n",
      "                r = int(value[0:2],16)\n",
      "                g = int(value[2:4],16)\n",
      "                b = int(value[4:6],16)\n",
      "                self._color = 'rgb(%d,%d,%d)'%(r,g,b)\n",
      "                check = True\n",
      "            except:\n",
      "                pass\n",
      "        if not check:\n",
      "            er = '%s is not a valid SVG color'%value\n",
      "            raise(ValueError(er))\n",
      "    \n",
      "    @property\n",
      "    def colors(self):\n",
      "        print(', '.join(colors.keys()))\n",
      "\n",
      "class arrow(line):\n",
      "    def __init__(self, p0=P0, p1=P1):\n",
      "        line.__init__(self, p0, p1)\n",
      "    \n",
      "    @property\n",
      "    def svg(self):\n",
      "        txt = '<svg viewBox = \"0 0 400 200\"> '\n",
      "        txt += '  <defs>'\n",
      "        txt += '    <marker id=\"head\" orient=\"auto\" markerWidth=\"50\" markerHeight=\"100\"'\n",
      "        txt += '            refX=\"0.25\" refY=\"5\">'\n",
      "        txt += '      <path d=\"M0,0 V10 L5,5 \" fill=\"red\" />'\n",
      "        txt += '    </marker>'\n",
      "        txt += '  </defs>    '\n",
      "        txt += '  <path'\n",
      "        txt += '    marker-end=\"url(#head)\"'\n",
      "        txt += '    stroke-width=\"%d\" fill=\"none\" stroke=%s  '%(self.width, self.color)\n",
      "        txt += '    d=\"M%d,%d '%(self.p0.x, self.p0.y)\n",
      "        txt += 'L%d,%d\"'%(self.p1.x, self.p1.y)\n",
      "        txt += '    />    '\n",
      "#         txt += '<line x1=\"%d\" y1=\"%d\" '%(self.p0.x, self.p0.y)\n",
      "#         txt += 'x2=\"%d\" y2=\"%d\" '%(self.p1.x, self.p1.y)\n",
      "#         txt += 'marker-end=url(#head); '\n",
      "#         txt += 'style=\"stroke:%s;'%self.color\n",
      "#         txt += 'stroke-width:%d\" />'%self.width\n",
      "        txt += '</svg>'\n",
      "        return txt\n",
      "    \n",
      "    def _repr_svg_(self):\n",
      "        return self.svg\n"
     ],
     "language": "python",
     "metadata": {},
     "outputs": [],
     "prompt_number": 5
    },
    {
     "cell_type": "code",
     "collapsed": false,
     "input": [
      "P0"
     ],
     "language": "python",
     "metadata": {},
     "outputs": [
      {
       "metadata": {},
       "output_type": "pyout",
       "prompt_number": 6,
       "text": [
        "class: point(x = 0, y = 0)"
       ]
      }
     ],
     "prompt_number": 6
    },
    {
     "cell_type": "code",
     "collapsed": false,
     "input": [
      "aa = arrow()\n",
      "# aa.svg.split(' ')\n",
      "SVG(aa.svg)\n",
      "# print(aa.svg.replace('>','>\\n'))"
     ],
     "language": "python",
     "metadata": {},
     "outputs": [
      {
       "metadata": {},
       "output_type": "pyout",
       "prompt_number": 7,
       "svg": [
        "<svg viewBox=\"0 0 400 200\">   <defs>    <marker id=\"head\" markerHeight=\"100\" markerWidth=\"50\" orient=\"auto\" refX=\"0.25\" refY=\"5\">      <path d=\"M0,0 V10 L5,5 \" fill=\"red\"/>    </marker>  </defs>      <path d=\"M0,0 L100,100\" fill=\"none\" marker-end=\"url(#head)\" stroke=\"black\" stroke-width=\"2\"/>    </svg>"
       ],
       "text": [
        "<IPython.core.display.SVG at 0x7f71a5ac8668>"
       ]
      }
     ],
     "prompt_number": 7
    },
    {
     "cell_type": "code",
     "collapsed": false,
     "input": [
      "ttt=\"\"\"<svg viewBox = \"0 0 400 200\">\n",
      "      <path d = \"M 0 0 L 100 100 \" fill = \"none\" stroke = \"black\" stroke-width = \"2\" />\n",
      "</svg>\"\"\"\n",
      "SVG(aa.svg)"
     ],
     "language": "python",
     "metadata": {},
     "outputs": [
      {
       "metadata": {},
       "output_type": "pyout",
       "prompt_number": 8,
       "svg": [
        "<svg viewBox=\"0 0 400 200\">   <defs>    <marker id=\"head\" markerHeight=\"100\" markerWidth=\"50\" orient=\"auto\" refX=\"0.25\" refY=\"5\">      <path d=\"M0,0 V10 L5,5 \" fill=\"red\"/>    </marker>  </defs>      <path d=\"M0,0 L100,100\" fill=\"none\" marker-end=\"url(#head)\" stroke=\"black\" stroke-width=\"2\"/>    </svg>"
       ],
       "text": [
        "<IPython.core.display.SVG at 0x7f71a5ac8208>"
       ]
      }
     ],
     "prompt_number": 8
    },
    {
     "cell_type": "code",
     "collapsed": false,
     "input": [],
     "language": "python",
     "metadata": {},
     "outputs": [],
     "prompt_number": 8
    },
    {
     "cell_type": "code",
     "collapsed": false,
     "input": [
      "tx = \"\"\"<svg xmlns=\"http://www.w3.org/2000/svg\" viewBox=\"-500 -1000 2000 2000\">\n",
      "  <defs>\n",
      "    <marker id='head' orient='auto' markerWidth='2' markerHeight='4'\n",
      "            refX='0.1' refY='2'>\n",
      "      <path d='M0,0 V4 L2,2 Z' fill='red' />\n",
      "    </marker>\n",
      "  </defs>    \n",
      "  <path\n",
      "    marker-end='url(#head)'\n",
      "    stroke-width='5' fill='none' stroke='black'  \n",
      "    d='M0,0 C45,45 45,-45 90,0'\n",
      "    />    \n",
      "</svg>\n",
      "\"\"\"\n",
      "# SVG(tx)\n",
      "lines = tx.split('\\n')\n",
      "for line in lines:\n",
      "    print(\"txt += '\" + line.replace(\"'\",'\"') +\"'\")\n",
      "    "
     ],
     "language": "python",
     "metadata": {},
     "outputs": [
      {
       "output_type": "stream",
       "stream": "stdout",
       "text": [
        "txt += '<svg xmlns=\"http://www.w3.org/2000/svg\" viewBox=\"-500 -1000 2000 2000\">'\n",
        "txt += '  <defs>'\n",
        "txt += '    <marker id=\"head\" orient=\"auto\" markerWidth=\"2\" markerHeight=\"4\"'\n",
        "txt += '            refX=\"0.1\" refY=\"2\">'\n",
        "txt += '      <path d=\"M0,0 V4 L2,2 Z\" fill=\"red\" />'\n",
        "txt += '    </marker>'\n",
        "txt += '  </defs>    '\n",
        "txt += '  <path'\n",
        "txt += '    marker-end=\"url(#head)\"'\n",
        "txt += '    stroke-width=\"5\" fill=\"none\" stroke=\"black\"  '\n",
        "txt += '    d=\"M0,0 C45,45 45,-45 90,0\"'\n",
        "txt += '    />    '\n",
        "txt += '</svg>'\n",
        "txt += ''\n"
       ]
      }
     ],
     "prompt_number": 9
    },
    {
     "cell_type": "markdown",
     "metadata": {},
     "source": [
      "tx = \"\"\"<svg xmlns=\"http://www.w3.org/2000/svg\" viewBox=\"-500 -1000 2000 2000\">\n",
      "  <defs>\n",
      "    <marker id='head' orient='auto' markerWidth='2' markerHeight='4'\n",
      "            refX='0.1' refY='2'>\n",
      "      <path d='M0,0 V4 L2,2 Z' fill='red' />\n",
      "    </marker>\n",
      "  </defs>    \n",
      "  <path\n",
      "    marker-end='url(#head)'\n",
      "    stroke-width='5' fill='none' stroke='black'  \n",
      "    d='M0,0 C45,45 45,-45 90,0'\n",
      "    />    \n",
      "</svg>\n",
      "\"\"\""
     ]
    },
    {
     "cell_type": "code",
     "collapsed": false,
     "input": [
      "SVG(aa.svg)"
     ],
     "language": "python",
     "metadata": {},
     "outputs": [
      {
       "metadata": {},
       "output_type": "pyout",
       "prompt_number": 10,
       "svg": [
        "<svg viewBox=\"0 0 400 200\">   <defs>    <marker id=\"head\" markerHeight=\"100\" markerWidth=\"50\" orient=\"auto\" refX=\"0.25\" refY=\"5\">      <path d=\"M0,0 V10 L5,5 \" fill=\"red\"/>    </marker>  </defs>      <path d=\"M0,0 L100,100\" fill=\"none\" marker-end=\"url(#head)\" stroke=\"black\" stroke-width=\"2\"/>    </svg>"
       ],
       "text": [
        "<IPython.core.display.SVG at 0x7f71a5962cf8>"
       ]
      }
     ],
     "prompt_number": 10
    },
    {
     "cell_type": "code",
     "collapsed": false,
     "input": [],
     "language": "python",
     "metadata": {},
     "outputs": [],
     "prompt_number": 10
    },
    {
     "cell_type": "code",
     "collapsed": false,
     "input": [],
     "language": "python",
     "metadata": {},
     "outputs": [],
     "prompt_number": 10
    },
    {
     "cell_type": "code",
     "collapsed": false,
     "input": [
      "r_line= line()\n",
      "r_line.color = 'ff0fff'\n",
      "SVG(r_line.svg)"
     ],
     "language": "python",
     "metadata": {},
     "outputs": [
      {
       "ename": "TypeError",
       "evalue": "'str' object is not callable",
       "output_type": "pyerr",
       "traceback": [
        "\u001b[1;31m---------------------------------------------------------------------------\u001b[0m\n\u001b[1;31mTypeError\u001b[0m                                 Traceback (most recent call last)",
        "\u001b[1;32m<ipython-input-11-2c5cd02450ca>\u001b[0m in \u001b[0;36m<module>\u001b[1;34m()\u001b[0m\n\u001b[1;32m----> 1\u001b[1;33m \u001b[0mr_line\u001b[0m\u001b[1;33m=\u001b[0m \u001b[0mline\u001b[0m\u001b[1;33m(\u001b[0m\u001b[1;33m)\u001b[0m\u001b[1;33m\u001b[0m\u001b[0m\n\u001b[0m\u001b[0;32m      2\u001b[0m \u001b[0mr_line\u001b[0m\u001b[1;33m.\u001b[0m\u001b[0mcolor\u001b[0m \u001b[1;33m=\u001b[0m \u001b[1;34m'ff0fff'\u001b[0m\u001b[1;33m\u001b[0m\u001b[0m\n\u001b[0;32m      3\u001b[0m \u001b[0mSVG\u001b[0m\u001b[1;33m(\u001b[0m\u001b[0mr_line\u001b[0m\u001b[1;33m.\u001b[0m\u001b[0msvg\u001b[0m\u001b[1;33m)\u001b[0m\u001b[1;33m\u001b[0m\u001b[0m\n",
        "\u001b[1;31mTypeError\u001b[0m: 'str' object is not callable"
       ]
      }
     ],
     "prompt_number": 11
    },
    {
     "cell_type": "code",
     "collapsed": false,
     "input": [
      "print(r_line.svg)"
     ],
     "language": "python",
     "metadata": {},
     "outputs": []
    },
    {
     "cell_type": "code",
     "collapsed": false,
     "input": [
      "r_line.colors"
     ],
     "language": "python",
     "metadata": {},
     "outputs": []
    },
    {
     "cell_type": "code",
     "collapsed": false,
     "input": [
      "r_line.p0"
     ],
     "language": "python",
     "metadata": {},
     "outputs": []
    },
    {
     "cell_type": "code",
     "collapsed": false,
     "input": [],
     "language": "python",
     "metadata": {},
     "outputs": []
    }
   ],
   "metadata": {}
  }
 ]
}