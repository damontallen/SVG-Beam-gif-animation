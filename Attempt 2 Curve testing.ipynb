{
 "cells": [
  {
   "cell_type": "code",
   "execution_count": 61,
   "metadata": {
    "collapsed": true
   },
   "outputs": [],
   "source": [
    "from numpy import matrix, array\n",
    "from numpy.linalg import pinv, inv\n",
    "from collections import namedtuple\n",
    "from numpy import transpose as T\n",
    "\n",
    "\n",
    "def curve(X=[0,50,100],Y=[0,10,0]):\n",
    "    x0,x1,x2 = X\n",
    "    y0,y1,y2 = Y\n",
    "    A = 1/(x1-x0)\n",
    "    B = 1/(x2-x1)\n",
    "    A_ = y1-y0\n",
    "    B_ = y2-y1\n",
    "    a = matrix(([2*A, A , 0], [A, 2*(A+B), B], [0, B, 2*B]))\n",
    "    b_ = matrix(((3*A_*A**2), (3*(A_*A**2 + B_*B**2)), (3*(B_*B**2))))\n",
    "    b = T(b_)\n",
    "    a_inv = inv(a)\n",
    "    k = a_inv * b\n",
    "    k = [float(K) for K in k]\n",
    "    k0, k1, k2 = k\n",
    "    cx0 = x0 + x1/2\n",
    "    cy0 = (x2-x0)*float(k0)/2.25\n",
    "    cx2 = x2 + x1/2\n",
    "    cy2 = (x0-x2)*float(k2)/2.25\n",
    "    a__ = k0*(x1-x0)-(y1-y0)\n",
    "    b__ = -k1*(x1-x0)+(y1-y0)\n",
    "    K0 = (y1-y0)/(x1-x0) + a__/(x1-x0)\n",
    "    a__ = k1*(x2-x1)-(y2-y1)\n",
    "    b__ = -k2*(x2-x1)+(y2-y1)\n",
    "    K2 = (y2-y1)/(x2-x1) - b__/(x2-x1)\n",
    "    \n",
    "#     K0 = (cy0-y0)/(cx0-x0)\n",
    "    K1 = (cy2-cy0)/(cx2-cx0)\n",
    "#     K2 = (y2-cy2)/(x2-cx2)\n",
    "    Slopes = namedtuple('Slopes','k0 k1 k2')\n",
    "    slopes = Slopes(k0,k1,k2)\n",
    "    alt_slopes = Slopes(K0,K1,K2)\n",
    "    print(alt_slopes)\n",
    "    return slopes\n",
    "\n",
    "def control_points(X,Y,K):\n",
    "    k0, k1, k2 = K\n",
    "    x0,x1,x2 = X\n",
    "    y0,y1,y2 = Y\n",
    "    X_M = T(matrix(array([x0,x1,x2,y0,y1,y2,y0,y2])))\n",
    "    E = matrix(((1,0,0,0,0,0,0,0),\n",
    "                (1/8,3/8,3/8,1/8,0,0,0,0),\n",
    "                (0,0,0,1,0,0,0,0),\n",
    "                (0,0,0,0,1,0,0,0),\n",
    "                (0,0,0,0,1/8,3/8,3/8,1/8),\n",
    "                (0,0,0,0,0,0,0,1),\n",
    "                (k0,-k0,0,0,0,1,0,0),\n",
    "                (0,0,-k2,k2,0,0,1,0)))\n",
    "    C = inv(E)*X_M\n",
    "    cx0,cx1,cx2,cx3,cy0,cy1,cy2,cy3 = C\n",
    "    Coords = namedtuple('Coords','C0 C1 C2 C3')\n",
    "    coords = Coords((close_(cx0),close_(cy0)),\n",
    "                    (close_(cx1),close_(cy1)),\n",
    "                    (close_(cx2),close_(cy2)),\n",
    "                    (close_(cx3),close_(cy3)))\n",
    "    return coords\n",
    "\n",
    "def close_(num):\n",
    "    num= round(float(num)*10**11)/10**11\n",
    "    return num\n",
    "\n",
    "def arb_spline(X=[0,0,0],Y=[0,0,0],K=[0,0,0],rot_angle=0,sag=0,\n",
    "               fill='none', stroke='black', stroke_width='2',\n",
    "               DEBUG=False):\n",
    "    \"\"\"Returns the information necessary to draw a spline through three points\n",
    "    \"\"\"\n",
    "    x0,x1,x2 = X\n",
    "    y0,y1,y2 = Y\n",
    "    k0,k1,k2 = K\n",
    "    print((X,Y,K))\n",
    "    angle = rot_angle\n",
    "    Sag_alt = y1 - (y2-y0)/(x2-x0)*(x1-x0)+y0\n",
    "    if sag ==0 and Sag_alt!=0:\n",
    "        sag = Sag_alt\n",
    "    if sag!=0:\n",
    "        CP = control_points(X,Y,K)\n",
    "        print(CP)\n",
    "        cx0 = CP.C1[0]\n",
    "        cy0 = CP.C1[1]\n",
    "        cx2 = CP.C2[0]\n",
    "        cy2 = CP.C2[1]\n",
    "    else:\n",
    "        # Control Points\n",
    "        cx0 = x0 + x1/2\n",
    "        cy0 = (x2-x0)*float(k0)/2.25\n",
    "        cx2 = x2 - x1/2\n",
    "        cy2 = (x0-x2)*float(k2)/2.25\n",
    "    \n",
    "    p0 = [x0,y0]\n",
    "    p1 = [x1,y1]\n",
    "    p2 = [x2,y2]\n",
    "#     if angle !=0:\n",
    "#         p1 = rotate(p1,p0,angle,DEBUG=DEBUG)\n",
    "#         p2 = rotate(p2,p0,angle,DEBUG=DEBUG)\n",
    "#         if DEBUG:\n",
    "#             print('\\ncx2,cy2 = {},{}'.format(cx2,cy2))\n",
    "#         cx0,cy0 = rotate([cx0,cy0],p0,angle,DEBUG=DEBUG)\n",
    "#         cx0,cy0 = float(cx0),float(cy0)\n",
    "#         cx2,cy2 = rotate([cx2,cy2],p0,angle,DEBUG=DEBUG)\n",
    "#         cx2,cy2 = float(cx2),float(cy2)\n",
    "    x0,y0 = p0\n",
    "    x1,y1 = p1\n",
    "    x1,y1 = float(x1),float(y1)\n",
    "    x2,y2 = p2\n",
    "    x2,y2 = float(x2),float(y2)\n",
    "\n",
    "    dx = x2\n",
    "    dy = y2\n",
    "    Coords = namedtuple(\"Coords\", \"x0 y0 x1 y1 x2 y2\")\n",
    "    SVG_values = namedtuple(\"SVG_values\",\"x0 y0 cx0 cy0 cx2 cy2 dx dy\")\n",
    "    coords = Coords(x0,y0,x1,y1,x2,y2)\n",
    "    svg_values = SVG_values(x0, y0, cx0, cy0, cx2, cy2, dx, dy)\n",
    "    style = 'fill:%s;stroke:%s;stroke-width:%spx'%(fill, stroke, stroke_width)\n",
    "    svg_path_txt = '<path style=\"%s\" d=\"M %f,%f C %f,%f %f,%f %f,%f\"/>'%(style,x0,y0,cx0,cy0,cx2,cy2,dx,dy)\n",
    "    \n",
    "    Results = namedtuple(\"Results\",\"coords svg_values svg_path_txt\")\n",
    "    results = Results(coords, svg_values, svg_path_txt)\n",
    "    return results"
   ]
  },
  {
   "cell_type": "code",
   "execution_count": 62,
   "metadata": {
    "collapsed": false
   },
   "outputs": [],
   "source": [
    "import numpy as np\n",
    "\n",
    "def inter(P0,P1,P2,P3):\n",
    "    m1 = (P1[1]-P0[1])/(P1[0]-P0[0])\n",
    "    m2 = (P3[1]-P2[1])/(P3[0]-P2[0])\n",
    "    x = (P2[1]-P0[1] + P0[0]*m1 - P2[0]*m2)/(m1-m2)\n",
    "    y = m1*(x-P0[0])+P0[1]\n",
    "    print(\"\\nm1, m2 = {}\".format([m1,m2]))\n",
    "    print((x,y))\n",
    "    print()\n",
    "    I = [x,y]\n",
    "    line(P0,I)\n",
    "    line(P3,I)\n",
    "    t_1 = np.arctan2(m1,1)+np.pi\n",
    "    t_2 = np.arctan2(m2,1)\n",
    "    print()\n",
    "    print(np.degrees(t_1),np.degrees(t_2))\n",
    "    t_b = (t_2-t_1)/2+t_1\n",
    "    m_b = np.tan(t_b)\n",
    "    print(\"Bisector slope m_b = {}\".format(m_b))\n",
    "    print()\n",
    "    x_b = (P0[1]-y)*1/m_b+x\n",
    "    B = [x_b,P0[1]]\n",
    "    line(I,B)\n",
    "    \n",
    "def mid(x0,y0,x1,y1):\n",
    "    x = (x0+x1)/2\n",
    "    y = (y0+y1)/2\n",
    "    print('<circle cx=\"%g\" cy=\"%g\" r=\"4\" stroke=\"black\" stroke-width=\"3\" fill=\"none\" />'%(x,y))\n",
    "    return(x,y)\n",
    "\n",
    "def line(p0,p1):\n",
    "    x0,y0 = p0\n",
    "    x1,y1 = p1\n",
    "    print('<line x1=\"%f\" y1=\"%f\" x2=\"%f\" y2=\"%f\" style=\"stroke:rgb(255,0,0);stroke-width:1\" />'%(x0,y0,x1,y1))\n",
    "\n",
    "def points(p0,p1,p2,p3):\n",
    "    print(('<path\\n'\n",
    "           '    style=\"fill:none;fill-rule:evenodd;stroke'\n",
    "           ':#000000;stroke-width:1px;stroke-linecap:butt;'\n",
    "           'stroke-linejoin:miter;stroke-opacity:1\"'))\n",
    "    print('d=\"M {} C {} {} {}\"'.format(p0,p1,p2,p3))\n",
    "    print('inkscape:connector-curvature=\"0\" />')\n",
    "    line(p0,p1)\n",
    "    line(p1,p2)\n",
    "    line(p2,p3)\n",
    "    line(p0,p3)\n",
    "    x0,y0 = p0\n",
    "    x1,y1 = p1\n",
    "    x2,y2 = p2\n",
    "    x3,y3 = p3\n",
    "     \n",
    "    M = mid(x0,y0,x3,y3)\n",
    "    #print('a')\n",
    "    a = mid(x0,y0,x1,y1)\n",
    "#     print('b')\n",
    "    b = mid(x1,y1,x2,y2)\n",
    "#     print('c')\n",
    "    c = mid(x2,y2,x3,y3)\n",
    "    line(a,b)\n",
    "    line(b,c)\n",
    "#     print('e')\n",
    "    e = mid(a[0],a[1],b[0],b[1])\n",
    "#     print('f')\n",
    "    f = mid(c[0],c[1],b[0],b[1])\n",
    "    line(e,f)\n",
    "#     print('g')\n",
    "    g = mid(e[0],e[1],f[0],f[1])\n",
    "    line(M,b)\n",
    "    k0 = m(p0,p1)\n",
    "    k1 = m(e,f)\n",
    "    k2 = m(p2,p3)\n",
    "    print('\\nk0 = {}'.format(k0))\n",
    "    print('k1 = {}\\n'.format(k1))\n",
    "    yM = q(M[0],x0,g[0],y0,g[1],k0,k1)\n",
    "    qM = [M[0],yM]\n",
    "    line(M,qM)\n",
    "    print('\\n{}\\n'.format(m(M,g)))\n",
    "    print('<circle cx=\"%f\" cy=\"%f\" r=\"4\" stroke=\"black\" stroke-width=\"3\" fill=\"none\" />'%(qM[0],qM[1]))\n",
    "#     x_L = (M[0]+x0)/2\n",
    "#     yL = q(x_L,x0,g[0],y0,g[1],k0,k1)\n",
    "#     qL = [x_L,yL]\n",
    "#     print('<circle cx=\"%f\" cy=\"%f\" r=\"4\" stroke=\"black\" stroke-width=\"3\" fill=\"none\" />'%(qL[0],qL[1]))\n",
    "    inter(p0,p1,p2,p3)\n",
    "    Points = namedtuple(\"Points\",'X Y K')\n",
    "    points = Points((x0,g[0],x3),(y0,g[1],y3),(k0,k1,k2))\n",
    "    print()\n",
    "    print((p0,p1,p2,p3))\n",
    "    return points\n",
    "\n",
    "def dist(x0,y0,x1,y1):\n",
    "    return ((x1-x0)**2+(y1-y0)**2)**0.5\n",
    "\n",
    "def m(P0,P1):\n",
    "    slope = (P1[1]-P0[1])/(P1[0]-P0[0]) if P1[0]-P0[0]!=0 else 0\n",
    "    return slope\n",
    "\n",
    "def q_(x,x0,x1,y0,y1, k0, k1):\n",
    "    \"Returns the slope on a cubic spline at x\"\n",
    "    t = (x-x0)/(x1-x0)\n",
    "    a = k0*(x1-x0)-(y1-y0)\n",
    "    b = -k1*(x1-x0)+(y1-y0)\n",
    "    q__val = (y1-y0)/(x1-x0)+(1-2*t)*(a*(1-t)+b*t)/(x1-x0)+t*(1-t)*((b-a)/(x1-x0))\n",
    "    return q__val\n",
    "\n",
    "def q(x,x0,x1,y0,y1, k0, k1):\n",
    "    \"Returns y coordinate at x between two points on a cubic spline\"\n",
    "    t = (x-x0)/(x1-x0)\n",
    "    a = k0*(x1-x0)-(y1-y0)\n",
    "    b = -k1*(x1-x0)+(y1-y0)\n",
    "    q_val = (1-t)*y0+t*y1+t*(1-t)*(a*(1-t)+b*t)\n",
    "    return q_val\n"
   ]
  },
  {
   "cell_type": "code",
   "execution_count": 63,
   "metadata": {
    "collapsed": false
   },
   "outputs": [
    {
     "name": "stdout",
     "output_type": "stream",
     "text": [
      "<path\n",
      "    style=\"fill:none;fill-rule:evenodd;stroke:#000000;stroke-width:1px;stroke-linecap:butt;stroke-linejoin:miter;stroke-opacity:1\"\n",
      "d=\"M [100, 450] C [250, 100] [350, 100] [500, 450]\"\n",
      "inkscape:connector-curvature=\"0\" />\n",
      "<line x1=\"100.000000\" y1=\"450.000000\" x2=\"250.000000\" y2=\"100.000000\" style=\"stroke:rgb(255,0,0);stroke-width:1\" />\n",
      "<line x1=\"250.000000\" y1=\"100.000000\" x2=\"350.000000\" y2=\"100.000000\" style=\"stroke:rgb(255,0,0);stroke-width:1\" />\n",
      "<line x1=\"350.000000\" y1=\"100.000000\" x2=\"500.000000\" y2=\"450.000000\" style=\"stroke:rgb(255,0,0);stroke-width:1\" />\n",
      "<line x1=\"100.000000\" y1=\"450.000000\" x2=\"500.000000\" y2=\"450.000000\" style=\"stroke:rgb(255,0,0);stroke-width:1\" />\n",
      "<circle cx=\"300\" cy=\"450\" r=\"4\" stroke=\"black\" stroke-width=\"3\" fill=\"none\" />\n",
      "<circle cx=\"175\" cy=\"275\" r=\"4\" stroke=\"black\" stroke-width=\"3\" fill=\"none\" />\n",
      "<circle cx=\"300\" cy=\"100\" r=\"4\" stroke=\"black\" stroke-width=\"3\" fill=\"none\" />\n",
      "<circle cx=\"425\" cy=\"275\" r=\"4\" stroke=\"black\" stroke-width=\"3\" fill=\"none\" />\n",
      "<line x1=\"175.000000\" y1=\"275.000000\" x2=\"300.000000\" y2=\"100.000000\" style=\"stroke:rgb(255,0,0);stroke-width:1\" />\n",
      "<line x1=\"300.000000\" y1=\"100.000000\" x2=\"425.000000\" y2=\"275.000000\" style=\"stroke:rgb(255,0,0);stroke-width:1\" />\n",
      "<circle cx=\"237.5\" cy=\"187.5\" r=\"4\" stroke=\"black\" stroke-width=\"3\" fill=\"none\" />\n",
      "<circle cx=\"362.5\" cy=\"187.5\" r=\"4\" stroke=\"black\" stroke-width=\"3\" fill=\"none\" />\n",
      "<line x1=\"237.500000\" y1=\"187.500000\" x2=\"362.500000\" y2=\"187.500000\" style=\"stroke:rgb(255,0,0);stroke-width:1\" />\n",
      "<circle cx=\"300\" cy=\"187.5\" r=\"4\" stroke=\"black\" stroke-width=\"3\" fill=\"none\" />\n",
      "<line x1=\"300.000000\" y1=\"450.000000\" x2=\"300.000000\" y2=\"100.000000\" style=\"stroke:rgb(255,0,0);stroke-width:1\" />\n",
      "\n",
      "k0 = -2.3333333333333335\n",
      "k1 = 0.0\n",
      "\n",
      "<line x1=\"300.000000\" y1=\"450.000000\" x2=\"300.000000\" y2=\"187.500000\" style=\"stroke:rgb(255,0,0);stroke-width:1\" />\n",
      "\n",
      "0\n",
      "\n",
      "<circle cx=\"300.000000\" cy=\"187.500000\" r=\"4\" stroke=\"black\" stroke-width=\"3\" fill=\"none\" />\n",
      "\n",
      "m1, m2 = [-2.3333333333333335, 2.3333333333333335]\n",
      "(300.0, -16.666666666666686)\n",
      "\n",
      "<line x1=\"100.000000\" y1=\"450.000000\" x2=\"300.000000\" y2=\"-16.666667\" style=\"stroke:rgb(255,0,0);stroke-width:1\" />\n",
      "<line x1=\"500.000000\" y1=\"450.000000\" x2=\"300.000000\" y2=\"-16.666667\" style=\"stroke:rgb(255,0,0);stroke-width:1\" />\n",
      "\n",
      "113.198590514 66.8014094864\n",
      "Bisector slope m_b = 1.633123935319537e+16\n",
      "\n",
      "<line x1=\"300.000000\" y1=\"-16.666667\" x2=\"300.000000\" y2=\"450.000000\" style=\"stroke:rgb(255,0,0);stroke-width:1\" />\n",
      "\n",
      "([100, 450], [250, 100], [350, 100], [500, 450])\n"
     ]
    },
    {
     "data": {
      "text/plain": [
       "Points(X=(100, 300.0, 500), Y=(450, 187.5, 450), K=(-2.3333333333333335, 0.0, 2.3333333333333335))"
      ]
     },
     "execution_count": 63,
     "metadata": {},
     "output_type": "execute_result"
    }
   ],
   "source": [
    "p = points([100,450],[250,100],[350,100],[500,450])\n",
    "p"
   ]
  },
  {
   "cell_type": "code",
   "execution_count": 64,
   "metadata": {
    "collapsed": false
   },
   "outputs": [
    {
     "data": {
      "text/plain": [
       "Coords(C0=(100.0, 450.0), C1=(250.0, 100.0), C2=(350.0, 100.0), C3=(500.0, 450.0))"
      ]
     },
     "execution_count": 64,
     "metadata": {},
     "output_type": "execute_result"
    }
   ],
   "source": [
    "control_points(p.X,p.Y,p.K)"
   ]
  },
  {
   "cell_type": "code",
   "execution_count": 65,
   "metadata": {
    "collapsed": false
   },
   "outputs": [
    {
     "name": "stdout",
     "output_type": "stream",
     "text": [
      "Slopes(k0=-1.96875, k1=-2.842170943040401e-16, k2=1.9687500000000004)\n"
     ]
    },
    {
     "data": {
      "text/plain": [
       "Slopes(k0=-1.96875, k1=0.0, k2=1.9687500000000004)"
      ]
     },
     "execution_count": 65,
     "metadata": {},
     "output_type": "execute_result"
    }
   ],
   "source": [
    "k = curve(p.X,p.Y)\n",
    "k"
   ]
  },
  {
   "cell_type": "code",
   "execution_count": 66,
   "metadata": {
    "collapsed": false
   },
   "outputs": [
    {
     "data": {
      "text/plain": [
       "1.1851851851851853"
      ]
     },
     "execution_count": 66,
     "metadata": {},
     "output_type": "execute_result"
    }
   ],
   "source": [
    "p.K[0]/k.k0"
   ]
  },
  {
   "cell_type": "code",
   "execution_count": 34,
   "metadata": {
    "collapsed": false
   },
   "outputs": [
    {
     "data": {
      "text/plain": [
       "3.5555555555555554"
      ]
     },
     "execution_count": 34,
     "metadata": {},
     "output_type": "execute_result"
    }
   ],
   "source": [
    "-5/k.k0"
   ]
  },
  {
   "cell_type": "code",
   "execution_count": 22,
   "metadata": {
    "collapsed": false
   },
   "outputs": [
    {
     "name": "stdout",
     "output_type": "stream",
     "text": [
      "((100, 300.0, 500), (450, 262.5, 450), Slopes(k0=-1.40625, k1=1.6653345369377348e-16, k2=1.4062499999999998))\n",
      "Coords(C0=(100.0, 450.0), C1=(277.77777777778, 200.0), C2=(322.22222222222, 200.0), C3=(500.0, 450.0))\n"
     ]
    },
    {
     "data": {
      "text/plain": [
       "Results(coords=Coords(x0=100, y0=450, x1=300.0, y1=262.5, x2=500.0, y2=450.0), svg_values=SVG_values(x0=100, y0=450, cx0=277.77777777778, cy0=200.0, cx2=322.22222222222, cy2=200.0, dx=500.0, dy=450.0), svg_path_txt='<path style=\"fill:none;stroke:black;stroke-width:2px\" d=\"m 100.000000,450.000000 c 277.777778,200.000000 322.222222,200.000000 500.000000,450.000000\"/>')"
      ]
     },
     "execution_count": 22,
     "metadata": {},
     "output_type": "execute_result"
    }
   ],
   "source": [
    "arb_spline(p.X,p.Y,k)"
   ]
  },
  {
   "cell_type": "code",
   "execution_count": null,
   "metadata": {
    "collapsed": true
   },
   "outputs": [],
   "source": []
  }
 ],
 "metadata": {
  "kernelspec": {
   "display_name": "Python 3",
   "language": "python",
   "name": "python3"
  },
  "language_info": {
   "codemirror_mode": {
    "name": "ipython",
    "version": 3
   },
   "file_extension": ".py",
   "mimetype": "text/x-python",
   "name": "python",
   "nbconvert_exporter": "python",
   "pygments_lexer": "ipython3",
   "version": "3.4.0"
  }
 },
 "nbformat": 4,
 "nbformat_minor": 0
}
