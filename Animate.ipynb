{
 "cells": [
  {
   "cell_type": "code",
   "execution_count": 1,
   "metadata": {
    "collapsed": false
   },
   "outputs": [
    {
     "data": {
      "text/plain": [
       "0"
      ]
     },
     "execution_count": 1,
     "metadata": {},
     "output_type": "execute_result"
    }
   ],
   "source": [
    "import subprocess\n",
    "import os\n",
    "\n",
    "path = './Bending_failure'\n",
    "files = os.listdir(path)\n",
    "if 'png' not in files:\n",
    "    os.makedirs(path+'/png')\n",
    "dest_path = path+'/png/'\n",
    "for file in files:\n",
    "    name_parts = file.split('.')\n",
    "    if name_parts[-1]=='svg':\n",
    "        orig = path+'/'+file\n",
    "        dest = dest_path+name_parts[0]+'.png'\n",
    "        cmd = 'rsvg-convert {} > {}'.format(orig,dest)\n",
    "        subprocess.call(cmd,shell=True)\n",
    "cmd = 'convert -delay 2 -loop 0 {}*.png {}animation.gif'.format(dest_path,dest_path)\n",
    "subprocess.call(cmd,shell=True)\n",
    "cmd = ('convert {}animation.gif \\( +clone -set delay 200 \\) '\n",
    "       '+swap +delete  {}animation_with_pause.gif'.format(dest_path,dest_path))\n",
    "subprocess.call(cmd,shell=True)"
   ]
  },
  {
   "cell_type": "markdown",
   "metadata": {},
   "source": [
    "References:\n",
    "\n",
    "[Batch convert svg file to pngs](http://stackoverflow.com/questions/9853325/how-to-convert-a-svg-to-a-png-with-image-magick)\n",
    "\n",
    "[Create gif from pngs](http://unix.stackexchange.com/questions/24014/creating-a-gif-animation-from-png-files)\n",
    "\n",
    "[Create pause at end](http://www.imagemagick.org/discourse-server/viewtopic.php?t=16876)"
   ]
  }
 ],
 "metadata": {
  "kernelspec": {
   "display_name": "Python 3",
   "language": "python",
   "name": "python3"
  },
  "language_info": {
   "codemirror_mode": {
    "name": "ipython",
    "version": 3
   },
   "file_extension": ".py",
   "mimetype": "text/x-python",
   "name": "python",
   "nbconvert_exporter": "python",
   "pygments_lexer": "ipython3",
   "version": "3.4.0"
  }
 },
 "nbformat": 4,
 "nbformat_minor": 0
}
