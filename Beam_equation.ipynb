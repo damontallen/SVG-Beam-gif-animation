{
 "cells": [
  {
   "cell_type": "markdown",
   "metadata": {},
   "source": [
    "$$V(X) = -w (X) + \\frac{w L}{2}$$\n",
    "\n",
    "Where:\n",
    "\n",
    "* $X = x-x_0$\n",
    "* $x$ - is relative to the end of the beam\n",
    "* $x_0$ - is the absolute position\n",
    "\n",
    "$$V(X) = -w X + \\frac{w L}{2}$$\n",
    "\n",
    "$$M(X) = -\\frac{w}{2} X^2 + \\frac{w L}{2} X$$\n",
    "\n",
    "$$M(X) = \\frac{w}{2}\\left(-X^2  + L X\\right)$$\n",
    "\n",
    "$$\\theta(X) = \\frac{-w}{2 E I}\\left(-\\frac{X^3}{3}  +L \\frac{X^2}{2} - C\\right)$$\n",
    "\n",
    "$$\\theta(X) = \\frac{w}{2 E I}\\left(\\frac{X^3}{3} - L \\frac{X^2}{2} + C\\right)$$\n",
    "\n",
    "$$\\Delta(X) = \\frac{w}{2 E I}\\left(\\frac{X^4}{12} - L \\frac{X^3}{6} +C X + D\\right)$$\n",
    "\n",
    "$$\\Delta(0) = \\frac{w}{2 E I}\\left(\\frac{0^4}{12} - L \\frac{0^3}{6} +C\\cdot 0 + D\\right) = y_0$$\n",
    "\n",
    "$$\\frac{w}{2 E I} D = y_0$$\n",
    "\n",
    "$$\\text{therefore:}\\quad D = \\frac{ y_0 2 E  I}{w}$$\n",
    "\n",
    "$$\\Delta(L) = \\frac{w}{2 E I}\\left(\\frac{L^4}{12} - L \\frac{L^3}{6} +C \\cdot L + \\frac{2 y_0 E  I}{w}\\right) = y_0$$\n",
    "\n",
    "$$\\frac{w}{2 E I}\\left(\\frac{L^4}{12} - L \\frac{L^3}{6} +C \\cdot L\\right) + y_0 = y_0$$\n",
    "\n",
    "$$ \\frac{w}{2 E I}\\left(\\frac{L^4}{12} - L \\frac{L^3}{6} +C \\cdot L \\right) = 0$$\n",
    "\n",
    "$$ \\frac{L^4}{12} - L \\frac{L^3}{6} +C \\cdot L  = 0$$\n",
    "\n",
    "$$ \\frac{L^3}{12} -  \\frac{L^3}{6} +C   = 0$$\n",
    "\n",
    "$$C = \\frac{L^3}{6} - \\frac{L^3}{12}$$\n",
    "\n",
    "$$C = \\frac{L^3}{12}$$"
   ]
  },
  {
   "cell_type": "markdown",
   "metadata": {},
   "source": [
    "$$\\Delta(X) = \\frac{w}{2 E I}\\left(\\frac{X^4}{12} - L \\frac{X^3}{6} +\\frac{L^3}{12} X + \\frac{2 y_0 E  I}{w}\\right)$$\n",
    "\n",
    "$$X = x-x_0$$\n",
    "\n",
    "$$\\Delta(x) = \\frac{w}{2 E I}\\left(\\frac{(x-x_0)^4}{12} - L \\frac{(x-x_0)^3}{6} +\\frac{L^3}{12} (x-x_0) + \\frac{2 y_0 E  I}{w}\\right)$$"
   ]
  },
  {
   "cell_type": "code",
   "execution_count": 13,
   "metadata": {
    "collapsed": false
   },
   "outputs": [
    {
     "data": {
      "image/png": "[encoded data removed]",
      "text/latex": [
       "$$\\frac{w}{2 E I} \\left(\\frac{2 E}{w} I y_{0} + \\frac{L^{3}}{12} \\left(x - x_{0}\\right) - \\frac{L}{6} \\left(x - x_{0}\\right)^{3} + \\frac{1}{12} \\left(x - x_{0}\\right)^{4}\\right)$$"
      ],
      "text/plain": [
       "  ⎛            3                      3           4⎞\n",
       "  ⎜2⋅E⋅I⋅y₀   L ⋅(x - x₀)   L⋅(x - x₀)    (x - x₀) ⎟\n",
       "w⋅⎜──────── + ─────────── - ─────────── + ─────────⎟\n",
       "  ⎝   w            12            6            12   ⎠\n",
       "────────────────────────────────────────────────────\n",
       "                       2⋅E⋅I                        "
      ]
     },
     "execution_count": 13,
     "metadata": {},
     "output_type": "execute_result"
    }
   ],
   "source": [
    "from sympy import symbols, collect, expand, latex\n",
    "D, x, x_0, E, I, w, y_0, L = symbols('Delta x x_0 E I w y_0 L')\n",
    "from sympy import init_printing \n",
    "init_printing(use_unicode=True)\n",
    "\n",
    "D = w/(2*E*I)*((x-x_0)**4/12-L*(x-x_0)**3/6+L**3/12*(x-x_0)+2*y_0*E*I/w)\n",
    "D"
   ]
  },
  {
   "cell_type": "code",
   "execution_count": 16,
   "metadata": {
    "collapsed": false
   },
   "outputs": [
    {
     "data": {
      "image/png": "[encoded data removed]",
      "text/latex": [
       "$$y_{0} + \\frac{L^{3} w x}{24 E I} - \\frac{L^{3} w x_{0}}{24 E I} - \\frac{L w x^{3}}{12 E I} + \\frac{L w x^{2} x_{0}}{4 E I} - \\frac{L w x x_{0}^{2}}{4 E I} + \\frac{L w x_{0}^{3}}{12 E I} + \\frac{w x^{4}}{24 E I} - \\frac{w x^{3} x_{0}}{6 E I} + \\frac{w x^{2} x_{0}^{2}}{4 E I} - \\frac{w x x_{0}^{3}}{6 E I} + \\frac{w x_{0}^{4}}{24 E I}$$"
      ],
      "text/plain": [
       "      3        3             3        2              2         3       4      \n",
       "     L ⋅w⋅x   L ⋅w⋅x₀   L⋅w⋅x    L⋅w⋅x ⋅x₀   L⋅w⋅x⋅x₀    L⋅w⋅x₀     w⋅x     w⋅\n",
       "y₀ + ────── - ─────── - ────── + ───────── - ───────── + ─────── + ────── - ──\n",
       "     24⋅E⋅I    24⋅E⋅I   12⋅E⋅I     4⋅E⋅I       4⋅E⋅I      12⋅E⋅I   24⋅E⋅I    6\n",
       "\n",
       " 3         2   2         3       4 \n",
       "x ⋅x₀   w⋅x ⋅x₀    w⋅x⋅x₀    w⋅x₀  \n",
       "───── + ──────── - ─────── + ──────\n",
       "⋅E⋅I     4⋅E⋅I      6⋅E⋅I    24⋅E⋅I"
      ]
     },
     "execution_count": 16,
     "metadata": {},
     "output_type": "execute_result"
    }
   ],
   "source": [
    "E = expand(D)\n",
    "E"
   ]
  },
  {
   "cell_type": "code",
   "execution_count": 18,
   "metadata": {
    "collapsed": false
   },
   "outputs": [
    {
     "data": {
      "image/png": "[encoded data removed]",
      "text/latex": [
       "$$x^{3} \\left(- \\frac{L w}{12 E I} - \\frac{w x_{0}}{6 E I}\\right) + x^{2} \\left(\\frac{L w x_{0}}{4 E I} + \\frac{w x_{0}^{2}}{4 E I}\\right) + x \\left(\\frac{L^{3} w}{24 E I} - \\frac{L w x_{0}^{2}}{4 E I} - \\frac{w x_{0}^{3}}{6 E I}\\right) + y_{0} - \\frac{L^{3} w x_{0}}{24 E I} + \\frac{L w x_{0}^{3}}{12 E I} + \\frac{w x^{4}}{24 E I} + \\frac{w x_{0}^{4}}{24 E I}$$"
      ],
      "text/plain": [
       "                           ⎛             2⎞     ⎛  3            2       3⎞    \n",
       " 3 ⎛   L⋅w      w⋅x₀⎞    2 ⎜L⋅w⋅x₀   w⋅x₀ ⎟     ⎜ L ⋅w    L⋅w⋅x₀    w⋅x₀ ⎟    \n",
       "x ⋅⎜- ────── - ─────⎟ + x ⋅⎜────── + ─────⎟ + x⋅⎜────── - ─────── - ─────⎟ + y\n",
       "   ⎝  12⋅E⋅I   6⋅E⋅I⎠      ⎝4⋅E⋅I    4⋅E⋅I⎠     ⎝24⋅E⋅I    4⋅E⋅I    6⋅E⋅I⎠    \n",
       "\n",
       "     3              3       4        4 \n",
       "    L ⋅w⋅x₀   L⋅w⋅x₀     w⋅x     w⋅x₀  \n",
       "₀ - ─────── + ─────── + ────── + ──────\n",
       "     24⋅E⋅I    12⋅E⋅I   24⋅E⋅I   24⋅E⋅I"
      ]
     },
     "execution_count": 18,
     "metadata": {},
     "output_type": "execute_result"
    }
   ],
   "source": [
    "F = collect(E,x)\n",
    "F"
   ]
  },
  {
   "cell_type": "code",
   "execution_count": 19,
   "metadata": {
    "collapsed": false
   },
   "outputs": [
    {
     "data": {
      "text/plain": [
       "'x^{3} \\\\left(- \\\\frac{L w}{12 E I} - \\\\frac{w x_{0}}{6 E I}\\\\right) + x^{2} \\\\left(\\\\frac{L w x_{0}}{4 E I} + \\\\frac{w x_{0}^{2}}{4 E I}\\\\right) + x \\\\left(\\\\frac{L^{3} w}{24 E I} - \\\\frac{L w x_{0}^{2}}{4 E I} - \\\\frac{w x_{0}^{3}}{6 E I}\\\\right) + y_{0} - \\\\frac{L^{3} w x_{0}}{24 E I} + \\\\frac{L w x_{0}^{3}}{12 E I} + \\\\frac{w x^{4}}{24 E I} + \\\\frac{w x_{0}^{4}}{24 E I}'"
      ]
     },
     "execution_count": 19,
     "metadata": {},
     "output_type": "execute_result"
    }
   ],
   "source": [
    "latex(F)"
   ]
  },
  {
   "cell_type": "markdown",
   "metadata": {},
   "source": [
    "$$\\Delta(x) = x^{3} \\left(- \\frac{L w}{12 E I} - \\frac{w x_{0}}{6 E I}\\right) + x^{2} \\left(\\frac{L w x_{0}}{4 E I} + \\frac{w x_{0}^{2}}{4 E I}\\right) + x \\left(\\frac{L^{3} w}{24 E I} - \\frac{L w x_{0}^{2}}{4 E I} - \\frac{w x_{0}^{3}}{6 E I}\\right) + y_{0} - \\frac{L^{3} w x_{0}}{24 E I} + \\frac{L w x_{0}^{3}}{12 E I} + \\frac{w x^{4}}{24 E I} + \\frac{w x_{0}^{4}}{24 E I}$$"
   ]
  },
  {
   "cell_type": "markdown",
   "metadata": {},
   "source": [
    "$$\\Delta(x) = \\frac{w}{2 EI}\\left(\\frac{x^{4}}{12} - \\left(\\frac{L}{6 } + \\frac{x_{0}}{3}\\right)x^{3}  + \\left(\\frac{L  x_{0}}{2} + \\frac{x_{0}^{2}}{2}\\right) x^{2}  + \\left(\\frac{L^{3}}{12} - \\frac{L x_{0}^{2}}{2} - \\frac{x_{0}^{3}}{3}\\right) x \\right)  +\\frac{w}{2 E I}\\left(- \\frac{L^{3}  x_{0}}{12} + \\frac{L x_{0}^{3}}{6}  + \\frac{ x_{0}^{4}}{12}\\right)+ y_{0}$$"
   ]
  },
  {
   "cell_type": "markdown",
   "metadata": {},
   "source": [
    "$$\\Delta(x) = \\frac{w}{2 EI}\\left(\\frac{x^{4}}{12} - \\frac{1}{3}\\left(\\frac{L}{2} + x_{0}\\right)x^{3}  + \\frac{1}{2}\\left(L  x_{0} + x_{0}^{2}\\right) x^{2}  + \\left(\\frac{L^{3}}{12} - \\frac{L x_{0}^{2}}{2} - \\frac{x_{0}^{3}}{3}\\right) x \\right)  +\\frac{w}{2 E I}\\frac{1}{6}\\left(- \\frac{L^{3}  x_{0}}{2} + L x_{0}^{3}  + \\frac{ x_{0}^{4}}{2}\\right)+ y_{0}$$"
   ]
  },
  {
   "cell_type": "code",
   "execution_count": 20,
   "metadata": {
    "collapsed": false
   },
   "outputs": [
    {
     "data": {
      "image/png": "[encoded data removed]",
      "text/latex": [
       "$$\\frac{1}{24 E I} \\left(24 E I y_{0} - L^{3} w x_{0} + 2 L w x_{0}^{3} + w x^{4} - 2 w x^{3} \\left(L + 2 x_{0}\\right) + 6 w x^{2} x_{0} \\left(L + x_{0}\\right) - w x \\left(- L^{3} + 6 L x_{0}^{2} + 4 x_{0}^{3}\\right) + w x_{0}^{4}\\right)$$"
      ],
      "text/plain": [
       "             3                3      4        3                   2           \n",
       "24⋅E⋅I⋅y₀ - L ⋅w⋅x₀ + 2⋅L⋅w⋅x₀  + w⋅x  - 2⋅w⋅x ⋅(L + 2⋅x₀) + 6⋅w⋅x ⋅x₀⋅(L + x₀\n",
       "──────────────────────────────────────────────────────────────────────────────\n",
       "                                                        24⋅E⋅I                \n",
       "\n",
       "        ⎛   3         2       3⎞       4\n",
       ") - w⋅x⋅⎝- L  + 6⋅L⋅x₀  + 4⋅x₀ ⎠ + w⋅x₀ \n",
       "────────────────────────────────────────\n",
       "                                        "
      ]
     },
     "execution_count": 20,
     "metadata": {},
     "output_type": "execute_result"
    }
   ],
   "source": [
    "simplify(F)"
   ]
  }
 ],
 "metadata": {
  "kernelspec": {
   "display_name": "Python 3",
   "language": "python",
   "name": "python3"
  },
  "language_info": {
   "codemirror_mode": {
    "name": "ipython",
    "version": 3
   },
   "file_extension": ".py",
   "mimetype": "text/x-python",
   "name": "python",
   "nbconvert_exporter": "python",
   "pygments_lexer": "ipython3",
   "version": "3.4.0"
  }
 },
 "nbformat": 4,
 "nbformat_minor": 0
}
